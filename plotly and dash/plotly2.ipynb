{
 "cells": [
  {
   "cell_type": "code",
   "execution_count": 1,
   "metadata": {
    "collapsed": true
   },
   "outputs": [],
   "source": [
    "import os.path\n",
    "from jupyter_core.paths import jupyter_path\n",
    "\n",
    "def find_extension(ext_path):\n",
    "    for base in jupyter_path():\n",
    "        curr_path = os.path.join(base, 'nbextensions', ext_path)\n",
    "        if os.path.exists(curr_path):\n",
    "            print('found extension at {!r}'.format(curr_path))\n",
    "\n",
    "find_extension('config/main.js')"
   ]
  }
 ],
 "metadata": {
  "kernelspec": {
   "display_name": "Python 3",
   "language": "python",
   "name": "python3"
  },
  "language_info": {
   "codemirror_mode": {
    "name": "ipython",
    "version": 3
   },
   "file_extension": ".py",
   "mimetype": "text/x-python",
   "name": "python",
   "nbconvert_exporter": "python",
   "pygments_lexer": "ipython3",
   "version": "3.5.2"
  }
 },
 "nbformat": 4,
 "nbformat_minor": 2
}
