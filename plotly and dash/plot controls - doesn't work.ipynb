{
 "cells": [
  {
   "cell_type": "code",
   "execution_count": 5,
   "metadata": {},
   "outputs": [
    {
     "data": {
      "text/html": [
       "<script>requirejs.config({paths: { 'plotly': ['https://cdn.plot.ly/plotly-latest.min']},});if(!window.Plotly) {{require(['plotly'],function(plotly) {window.Plotly=plotly;});}}</script>"
      ],
      "text/vnd.plotly.v1+html": [
       "<script>requirejs.config({paths: { 'plotly': ['https://cdn.plot.ly/plotly-latest.min']},});if(!window.Plotly) {{require(['plotly'],function(plotly) {window.Plotly=plotly;});}}</script>"
      ]
     },
     "metadata": {},
     "output_type": "display_data"
    }
   ],
   "source": [
    "#https://plot.ly/python/ipython-notebook-tutorial\n",
    "# Plot Controls & IPython widgets\n",
    "import plotly.offline as py\n",
    "py.init_notebook_mode(connected=True)\n",
    "import numpy as np\n",
    "\n",
    "data = [dict(\n",
    "        visible = True,\n",
    "        line=dict(color='00CED1', width=6),\n",
    "        name = '𝜈 = '+str(step),\n",
    "        x = np.arange(0,10,0.01),\n",
    "        y = np.sin(step*np.arange(0,10,0.01))) for step in np.arange(0,5,0.1)]\n",
    "data[10]['visible'] = True\n",
    "\n",
    "steps = []\n"
   ]
  },
  {
   "cell_type": "code",
   "execution_count": 6,
   "metadata": {
    "collapsed": true
   },
   "outputs": [],
   "source": [
    "for i in range(len(data)):\n",
    "    step = dict(\n",
    "        method = 'restyle',\n",
    "        args = ['visible', [False] * len(data)],\n",
    "    )\n",
    "    step['args'][1][i] = True # Toggle i'th trace to \"visible\"\n",
    "    steps.append(step)\n",
    "\n",
    "sliders = [dict(\n",
    "    active = 10,\n",
    "    currentvalue = {\"prefix\": \"Frequency: \"},\n",
    "    pad = {\"t\": 50},\n",
    "    steps = steps\n",
    ")]\n",
    "\n",
    "layout = dict(sliders=sliders)\n",
    "fig = dict(data=data, layout=layout)\n"
   ]
  },
  {
   "cell_type": "code",
   "execution_count": 7,
   "metadata": {},
   "outputs": [
    {
     "name": "stderr",
     "output_type": "stream",
     "text": [
      "IOPub data rate exceeded.\n",
      "The notebook server will temporarily stop sending output\n",
      "to the client in order to avoid crashing it.\n",
      "To change this limit, set the config variable\n",
      "`--NotebookApp.iopub_data_rate_limit`.\n"
     ]
    }
   ],
   "source": [
    "py.iplot(fig, filename='Sine Wave Slider')"
   ]
  },
  {
   "cell_type": "code",
   "execution_count": null,
   "metadata": {
    "collapsed": true
   },
   "outputs": [],
   "source": []
  }
 ],
 "metadata": {
  "kernelspec": {
   "display_name": "Python 3",
   "language": "python",
   "name": "python3"
  },
  "language_info": {
   "codemirror_mode": {
    "name": "ipython",
    "version": 3
   },
   "file_extension": ".py",
   "mimetype": "text/x-python",
   "name": "python",
   "nbconvert_exporter": "python",
   "pygments_lexer": "ipython3",
   "version": "3.5.2"
  }
 },
 "nbformat": 4,
 "nbformat_minor": 2
}
