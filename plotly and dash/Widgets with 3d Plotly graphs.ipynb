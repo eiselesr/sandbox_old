{
 "cells": [
  {
   "cell_type": "code",
   "execution_count": 3,
   "metadata": {},
   "outputs": [],
   "source": [
    "#http://nbviewer.jupyter.org/gist/jackparmer/239c00f721097deb11fd\n",
    "from plotly.widgets import GraphWidget\n",
    "\n",
    "from ipywidgets import widgets \n",
    "from IPython.display import display, clear_output\n",
    "import numpy as np"
   ]
  },
  {
   "cell_type": "code",
   "execution_count": 4,
   "metadata": {},
   "outputs": [],
   "source": [
    "g = GraphWidget('https://plot.ly/~jackp/2590')\n",
    "x = y = np.arange(-5,5,0.1)\n",
    "yt = x[:,np.newaxis]\n",
    "\n",
    "class z_data:\n",
    "    def __init__(self):\n",
    "        self.z = np.cos(x*yt)+np.sin(x*yt)\n",
    "    \n",
    "    def on_z_change(self, name, old_value, new_value):\n",
    "        self.z = np.cos(x*yt*(new_value+1)/100)+np.sin(x*yt*(new_value+1/100))\n",
    "        self.replot()\n",
    "        \n",
    "    def replot(self):\n",
    "        g.restyle({ 'z': [self.z] })\n",
    "\n",
    "z_slider = widgets.FloatSlider(min=0,max=3,value=1,step=0.05)\n",
    "z_slider.description = 'Frequency'\n",
    "z_slider.value = 1\n",
    "\n",
    "z_state = z_data()\n",
    "z_slider.observe(z_state.on_z_change, 'value')"
   ]
  },
  {
   "cell_type": "code",
   "execution_count": 5,
   "metadata": {},
   "outputs": [
    {
     "data": {
      "application/vnd.jupyter.widget-view+json": {
       "model_id": "f1ac09265fda40548eb88d36b5814e3f"
      }
     },
     "metadata": {},
     "output_type": "display_data"
    },
    {
     "data": {
      "application/vnd.jupyter.widget-view+json": {
       "model_id": "dfe660cb5bb64a3398239fead990d627"
      }
     },
     "metadata": {},
     "output_type": "display_data"
    }
   ],
   "source": [
    "display(z_slider)\n",
    "display(g)"
   ]
  },
  {
   "cell_type": "code",
   "execution_count": null,
   "metadata": {},
   "outputs": [],
   "source": [
    "# CSS styling within IPython notebook - feel free to re-use\n",
    "from IPython.core.display import HTML\n",
    "import urllib.request\n",
    "\n",
    "#urllib.request.urlopen('http://bit.ly/1Bf5Hft').read()\n",
    "\n",
    "url = 'http://bit.ly/1Bf5Hft/'\n",
    "request = urllib.request.Request('http://bit.ly/1Bf5Hft')\n",
    "response = urllib.request.urlopen(request)\n",
    "#print (response.read().decode('utf-8'))\n",
    "HTML(response.read().decode('utf-8'))"
   ]
  },
  {
   "cell_type": "code",
   "execution_count": null,
   "metadata": {
    "collapsed": true
   },
   "outputs": [],
   "source": []
  }
 ],
 "metadata": {
  "kernelspec": {
   "display_name": "Python 3",
   "language": "python",
   "name": "python3"
  },
  "language_info": {
   "codemirror_mode": {
    "name": "ipython",
    "version": 3
   },
   "file_extension": ".py",
   "mimetype": "text/x-python",
   "name": "python",
   "nbconvert_exporter": "python",
   "pygments_lexer": "ipython3",
   "version": "3.5.2"
  }
 },
 "nbformat": 4,
 "nbformat_minor": 2
}
