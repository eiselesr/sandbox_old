{
 "cells": [
  {
   "cell_type": "code",
   "execution_count": 1,
   "metadata": {},
   "outputs": [
    {
     "name": "stderr",
     "output_type": "stream",
     "text": [
      "/usr/local/lib/python3.5/dist-packages/IPython/html.py:14: ShimWarning:\n",
      "\n",
      "The `IPython.html` package has been deprecated since IPython 4.0. You should import from `notebook` instead. `IPython.html.widgets` has moved to `ipywidgets`.\n",
      "\n",
      "/usr/local/lib/python3.5/dist-packages/plotly/widgets/graph_widget.py:13: UserWarning:\n",
      "\n",
      "IPython.utils.traitlets has moved to a top-level traitlets package.\n",
      "\n"
     ]
    },
    {
     "data": {
      "application/javascript": [
       "window.genUID = function() {\n",
       "    return 'xxxxxxxx-xxxx-4xxx-yxxx-xxxxxxxxxxxx'.replace(/[xy]/g, function(c) {\n",
       "        var r = Math.random()*16|0, v = c == 'x' ? r : (r&0x3|0x8);\n",
       "        return v.toString(16);\n",
       "    });\n",
       "};\n",
       "\n",
       "var IPYTHON_VERSION = '3';\n",
       "\n",
       "require([\"widgets/js/widget\", \"widgets/js/manager\"], function (widget, manager) {\n",
       "    if (!('DOMWidgetView' in widget)) {\n",
       "\n",
       "        // we're in IPython2, things moved a bit from 2 --> 3.\n",
       "        // construct the expected IPython3 widget API\n",
       "        IPYTHON_VERSION = '2';\n",
       "        manager = {WidgetManager: widget};\n",
       "        widget = {DOMWidgetView: IPython.DOMWidgetView};\n",
       "    }\n",
       "\n",
       "    var GraphView = widget.DOMWidgetView.extend({\n",
       "        render: function(){\n",
       "            var that = this;\n",
       "\n",
       "            var graphId = window.genUID();\n",
       "            var loadingId = 'loading-'+graphId;\n",
       "\n",
       "\n",
       "            var _graph_url = that.model.get('_graph_url');\n",
       "\n",
       "            // variable plotlyDomain in the case of enterprise\n",
       "            var url_parts = _graph_url.split('/');\n",
       "            var plotlyDomain = url_parts[0] + '//' + url_parts[2];\n",
       "\n",
       "            if(!('plotlyDomains' in window)){\n",
       "                window.plotlyDomains = {};\n",
       "            }\n",
       "            window.plotlyDomains[graphId] = plotlyDomain;\n",
       "\n",
       "            // Place IFrame in output cell div `$el`\n",
       "            that.$el.css('width', '100%');\n",
       "            that.$graph = $(['<iframe id=\"'+graphId+'\"',\n",
       "                             'src=\"'+_graph_url+'.embed\"',\n",
       "                             'seamless',\n",
       "                             'style=\"border: none;\"',\n",
       "                             'width=\"100%\"',\n",
       "                             'height=\"600\">',\n",
       "                             '</iframe>'].join(' '));\n",
       "            that.$graph.appendTo(that.$el);\n",
       "\n",
       "            that.$loading = $('<div id=\"'+loadingId+'\">Initializing...</div>')\n",
       "                            .appendTo(that.$el);\n",
       "\n",
       "            // for some reason the 'width' is being changed in IPython 3.0.0\n",
       "            // for the containing `div` element. There's a flicker here, but\n",
       "            // I was unable to fix it otherwise.\n",
       "            setTimeout(function ()  {\n",
       "                if (IPYTHON_VERSION === '3') {\n",
       "                    $('#' + graphId)[0].parentElement.style.width = '100%';\n",
       "                }\n",
       "            }, 500);\n",
       "\n",
       "            // initialize communication with the iframe\n",
       "            if(!('pingers' in window)){\n",
       "                window.pingers = {};\n",
       "            }\n",
       "\n",
       "            window.pingers[graphId] = setInterval(function() {\n",
       "                that.graphContentWindow = $('#'+graphId)[0].contentWindow;\n",
       "                that.graphContentWindow.postMessage({task: 'ping'}, plotlyDomain);\n",
       "            }, 200);\n",
       "\n",
       "            // Assign a message listener to the 'message' events\n",
       "            // from iframe's postMessage protocol.\n",
       "            // Filter the messages by iframe src so that the right message\n",
       "            // gets passed to the right widget\n",
       "            if(!('messageListeners' in window)){\n",
       "                 window.messageListeners = {};\n",
       "            }\n",
       "\n",
       "            window.messageListeners[graphId] = function(e) {\n",
       "                if(_graph_url.indexOf(e.origin)>-1) {\n",
       "                    var frame = document.getElementById(graphId);\n",
       "\n",
       "                    if(frame === null){\n",
       "                        // frame doesn't exist in the dom anymore, clean up it's old event listener\n",
       "                        window.removeEventListener('message', window.messageListeners[graphId]);\n",
       "                        clearInterval(window.pingers[graphId]);\n",
       "                    } else if(frame.contentWindow === e.source) {\n",
       "                        // TODO: Stop event propagation, so each frame doesn't listen and filter\n",
       "                        var frameContentWindow = $('#'+graphId)[0].contentWindow;\n",
       "                        var message = e.data;\n",
       "\n",
       "                        if('pong' in message && message.pong) {\n",
       "                            $('#loading-'+graphId).hide();\n",
       "                            clearInterval(window.pingers[graphId]);\n",
       "                            that.send({event: 'pong', graphId: graphId});\n",
       "                        } else if (message.type==='hover' ||\n",
       "                                   message.type==='zoom'  ||\n",
       "                                   message.type==='click' ||\n",
       "                                   message.type==='unhover') {\n",
       "\n",
       "                            // click and hover events contain all of the data in the traces,\n",
       "                            // which can be a very large object and may take a ton of time\n",
       "                            // to pass to the python backend. Strip out the data, and require\n",
       "                            // the user to call get_figure if they need trace information\n",
       "                            if(message.type !== 'zoom') {\n",
       "                                for(var i in message.points) {\n",
       "                                    delete message.points[i].data;\n",
       "                                    delete message.points[i].fullData;\n",
       "                                }\n",
       "                            }\n",
       "                            that.send({event: message.type, message: message, graphId: graphId});\n",
       "                        } else if (message.task === 'getAttributes') {\n",
       "                            that.send({event: 'getAttributes', response: message.response});\n",
       "                        }\n",
       "                    }\n",
       "                }\n",
       "            };\n",
       "\n",
       "            window.removeEventListener('message', window.messageListeners[graphId]);\n",
       "            window.addEventListener('message', window.messageListeners[graphId]);\n",
       "\n",
       "        },\n",
       "\n",
       "        update: function() {\n",
       "            // Listen for messages from the graph widget in python\n",
       "            var jmessage = this.model.get('_message');\n",
       "            var message = JSON.parse(jmessage);\n",
       "\n",
       "            // check for duplicate messages\n",
       "            if(!('messageIds' in window)){\n",
       "                window.messageIds = {};\n",
       "            }\n",
       "\n",
       "            if(!(message.uid in window.messageIds)){\n",
       "                // message hasn't been received yet, do stuff\n",
       "                window.messageIds[message.uid] = true;\n",
       "\n",
       "                if (message.fadeTo) {\n",
       "                    this.fadeTo(message);\n",
       "                } else {\n",
       "                    var plot = $('#' + message.graphId)[0].contentWindow;\n",
       "                    plot.postMessage(message, window.plotlyDomains[message.graphId]);\n",
       "                }\n",
       "            }\n",
       "\n",
       "            return GraphView.__super__.update.apply(this);\n",
       "        },\n",
       "\n",
       "        /**\n",
       "         * Wrapper for jquery's `fadeTo` function.\n",
       "         *\n",
       "         * @param message Contains the id we need to find the element.\n",
       "         */\n",
       "        fadeTo: function (message) {\n",
       "            var plot = $('#' + message.graphId);\n",
       "            plot.fadeTo(message.duration, message.opacity);\n",
       "        }\n",
       "    });\n",
       "\n",
       "    // Register the GraphView with the widget manager.\n",
       "    manager.WidgetManager.register_widget_view('GraphView', GraphView);\n",
       "\n",
       "});\n",
       "\n",
       "//@ sourceURL=graphWidget.js\n"
      ],
      "text/plain": [
       "<IPython.core.display.Javascript object>"
      ]
     },
     "metadata": {},
     "output_type": "display_data"
    },
    {
     "data": {
      "text/html": [
       "<script>requirejs.config({paths: { 'plotly': ['https://cdn.plot.ly/plotly-latest.min']},});if(!window.Plotly) {{require(['plotly'],function(plotly) {window.Plotly=plotly;});}}</script>"
      ],
      "text/vnd.plotly.v1+html": [
       "<script>requirejs.config({paths: { 'plotly': ['https://cdn.plot.ly/plotly-latest.min']},});if(!window.Plotly) {{require(['plotly'],function(plotly) {window.Plotly=plotly;});}}</script>"
      ]
     },
     "metadata": {},
     "output_type": "display_data"
    },
    {
     "data": {
      "text/plain": [
       "'6.1.0'"
      ]
     },
     "execution_count": 1,
     "metadata": {},
     "output_type": "execute_result"
    }
   ],
   "source": [
    "import IPython\n",
    "from math import pi as PI\n",
    "from math import sin, cos\n",
    "import random\n",
    "\n",
    "from plotly.widgets import GraphWidget\n",
    "from plotly.graph_objs import *\n",
    "import plotly.offline as py\n",
    "py.init_notebook_mode(connected=True)\n",
    "import plotly.tools as tls\n",
    "\n",
    "from ipywidgets import widgets \n",
    "from IPython.display import display, clear_output\n",
    "\n",
    "root = 12\n",
    "IPython.__version__"
   ]
  },
  {
   "cell_type": "code",
   "execution_count": 8,
   "metadata": {
    "collapsed": true
   },
   "outputs": [],
   "source": [
    "# color the tree with a gradient from root_col to tip_col\n",
    "# interpolate linearly to get color at a given position in the gradient\n",
    "def get_col(root_col, tip_col, iterat):\n",
    "    r = ((iterat*1.0/root)*(root_col[0]-tip_col[0]))+tip_col[0]\n",
    "    g = ((iterat*1.0/root)*(root_col[1]-tip_col[1]))+tip_col[1]\n",
    "    b = ((iterat*1.0/root)*(root_col[2]-tip_col[2]))+tip_col[2]\n",
    "    return '#%02f%02f%02f' % (r,g,b)\n",
    "    \n",
    "def tree_graph(iterat=12, branch_angle=18.0):\n",
    "    # angle to radian factor\n",
    "    ang2rad = PI/180.0\n",
    "    # experiment with trunk length (try 120)\n",
    "    t = 120\n",
    "    # experiment with factor to contract the trunk each iteratation (try 0.7)\n",
    "    r = 0.7\n",
    "    # starting orientation (initial 90 deg)\n",
    "    theta = 90.0 * ang2rad\n",
    "    # experiment with angle of the branch (try 18 deg)\n",
    "    dtheta = branch_angle * ang2rad\n",
    "    # experiment with gradient color choices\n",
    "    root_col = (40,40,40)\n",
    "    tip_col = (250,250,250)\n",
    "    # experiment with factor to increase random angle variation as child branches get smaller\n",
    "    iterscale = 6.0\n",
    "    # center of bottom\n",
    "    origin = (250, 500)\n",
    "    root=iterat\n",
    "    # make the tree\n",
    "    \n",
    "    def fractal_tree(lines, iterat, origin, t, r, theta, dtheta, root_col, tip_col, randomize=False):\n",
    "        \"\"\"\n",
    "        draws branches\n",
    "        iterat:     iteratation number, stop when iterat == 0\n",
    "        origin:   x,y coordinates of the start of this branch\n",
    "        t:        current trunk length\n",
    "        r:        factor to contract the trunk each iteratation\n",
    "        theta:    starting orientation\n",
    "        dtheta:   angle of the branch\n",
    "        \"\"\"\n",
    "        if iterat == 0:\n",
    "            return lines\n",
    "        # render the branch\n",
    "        x0, y0 = origin\n",
    "\n",
    "        # randomize the length\n",
    "        randt = random.random()*t\n",
    "        if randomize:\n",
    "            x, y = x0 + randt * cos(theta), y0 - randt * sin(theta)\n",
    "        else:\n",
    "            x, y = x0 + cos(theta), y0 - sin(theta)\n",
    "        # color the branch according to its position in the tree\n",
    "        col = get_col(root_col, tip_col, iterat)\n",
    "        # add to traces\n",
    "        lines.append(Scatter(x=[x0, x], y=[y0, y], mode='lines', line=Line(color=col, width=1)))\n",
    "        # recursive calls\n",
    "        if randomize:\n",
    "            fractal_tree(lines, iterat-1, (x,y), t * r, r, theta + (random.random())*(iterscale/(iterat+1))*dtheta, dtheta, root_col, tip_col, randomize)\n",
    "            fractal_tree(lines, iterat-1, (x,y), t * r, r, theta - (random.random())*(iterscale/(iterat+1))*dtheta, dtheta, root_col, tip_col, randomize) \n",
    "        else: \n",
    "            fractal_tree(lines, iterat-1, (x,y), t * r, r, theta + dtheta, dtheta, root_col, tip_col, randomize)\n",
    "            fractal_tree(lines, iterat-1, (x,y), t * r, r, theta - dtheta, dtheta, root_col, tip_col, randomize)\n",
    "    \n",
    "    lines = []\n",
    "    fractal_tree(lines, iterat, origin, t, r, theta, dtheta, root_col, tip_col, True)\n",
    "    \n",
    "    # group the lines by similar color\n",
    "    branches = {}\n",
    "    for line in lines:\n",
    "        color = line['line']['color']\n",
    "        if color not in branches:\n",
    "            branches[color] = line\n",
    "        else:\n",
    "            branches[color]['x'].extend(line['x'])\n",
    "            branches[color]['y'].extend(line['y'])\n",
    "            branches[color]['x'].append(None)\n",
    "            branches[color]['y'].append(None)\n",
    "            \n",
    "    \n",
    "    branch_data = [branches[c] for c in branches]\n",
    "    \n",
    "    return branch_data"
   ]
  },
  {
   "cell_type": "code",
   "execution_count": 9,
   "metadata": {},
   "outputs": [
    {
     "name": "stdout",
     "output_type": "stream",
     "text": [
      "iterations.value=<class 'int'> branch_angle.value=<class 'int'>\n"
     ]
    },
    {
     "data": {
      "application/vnd.jupyter.widget-view+json": {
       "model_id": "b1ab770df116422f8374f0b16c0d764c"
      }
     },
     "metadata": {},
     "output_type": "display_data"
    },
    {
     "data": {
      "application/vnd.jupyter.widget-view+json": {
       "model_id": "44013f6f02a14b6e9d65e61a2ddcf819"
      }
     },
     "metadata": {},
     "output_type": "display_data"
    },
    {
     "data": {
      "application/vnd.jupyter.widget-view+json": {
       "model_id": "54723bf976284b0da43f4a2113cb306f"
      }
     },
     "metadata": {},
     "output_type": "display_data"
    },
    {
     "data": {
      "application/vnd.jupyter.widget-view+json": {
       "model_id": "5b0f73322ff5427f91fdb5827aa9dbd4"
      }
     },
     "metadata": {},
     "output_type": "display_data"
    },
    {
     "name": "stdout",
     "output_type": "stream",
     "text": [
      "iterations.value=<class 'int'> branch_angle.value=<class 'int'>\n"
     ]
    }
   ],
   "source": [
    "g = GraphWidget('https://plot.ly/~chris/4103')\n",
    "\n",
    "iterations = widgets.IntSlider()\n",
    "iterations.min= 2\n",
    "iterations.max= 14\n",
    "iterations.value = 12\n",
    "iterations.description = 'iterations'\n",
    "\n",
    "branch_angle = widgets.IntSlider()\n",
    "branch_angle.min = 5\n",
    "branch_angle.max = 90\n",
    "branch_angle.value = 18\n",
    "branch_angle.description = 'branch angle'\n",
    "\n",
    "seed = widgets.Button()\n",
    "seed.description = 'Grow a new tree'\n",
    "print(\"iterations.value=%s branch_angle.value=%s\" %(type(iterations.value), type(branch_angle.value)))\n",
    "\n",
    "def regraph_tree(value):\n",
    "    print(\"iterations.value=%s branch_angle.value=%s\" %(type(iterations.value), type(branch_angle.value)))\n",
    "    branch_data = tree_graph(iterations.value, branch_angle.value)\n",
    "    g.restyle({'x': [[]], 'y': [[]]})\n",
    "    g.add_traces(branch_data)\n",
    "\n",
    "iterations.observe(regraph_tree, 'value')\n",
    "branch_angle.observe(regraph_tree, 'value')\n",
    "seed.on_click(regraph_tree)\n",
    "    \n",
    "display(iterations)\n",
    "display(branch_angle)\n",
    "display(seed)\n",
    "display(g)"
   ]
  },
  {
   "cell_type": "code",
   "execution_count": null,
   "metadata": {
    "collapsed": true
   },
   "outputs": [],
   "source": []
  }
 ],
 "metadata": {
  "kernelspec": {
   "display_name": "Python 3",
   "language": "python",
   "name": "python3"
  },
  "language_info": {
   "codemirror_mode": {
    "name": "ipython",
    "version": 3
   },
   "file_extension": ".py",
   "mimetype": "text/x-python",
   "name": "python",
   "nbconvert_exporter": "python",
   "pygments_lexer": "ipython3",
   "version": "3.5.2"
  }
 },
 "nbformat": 4,
 "nbformat_minor": 2
}
