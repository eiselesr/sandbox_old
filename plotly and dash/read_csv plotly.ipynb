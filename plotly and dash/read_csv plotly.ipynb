{
 "cells": [
  {
   "cell_type": "code",
   "execution_count": 1,
   "metadata": {
    "collapsed": true
   },
   "outputs": [],
   "source": [
    "#sudo env https_proxy=http://194.138.0.9:9400 pip install scipy\n",
    "#help for jupyter\n",
    "#%quickref\n",
    "#https://www.jayakumar.org/linux/how-to-configure-httphttps-proxy-for-ipython-notebook-server/\n",
    "# need to add environment variables described ^ to work at siemens\n",
    "# OR JUST USE NAT AND WIFIGHTER\n",
    "#%env "
   ]
  },
  {
   "cell_type": "code",
   "execution_count": 2,
   "metadata": {},
   "outputs": [
    {
     "data": {
      "text/html": [
       "<script>requirejs.config({paths: { 'plotly': ['https://cdn.plot.ly/plotly-latest.min']},});if(!window.Plotly) {{require(['plotly'],function(plotly) {window.Plotly=plotly;});}}</script>"
      ],
      "text/vnd.plotly.v1+html": [
       "<script>requirejs.config({paths: { 'plotly': ['https://cdn.plot.ly/plotly-latest.min']},});if(!window.Plotly) {{require(['plotly'],function(plotly) {window.Plotly=plotly;});}}</script>"
      ]
     },
     "metadata": {},
     "output_type": "display_data"
    },
    {
     "name": "stdout",
     "output_type": "stream",
     "text": [
      "        School  Women  Men  gap\n",
      "0          MIT     94  152   58\n",
      "1     Stanford     96  151   55\n",
      "2      Harvard    112  165   53\n",
      "3       U.Penn     92  141   49\n",
      "4    Princeton     90  137   47\n",
      "5      Chicago     78  118   40\n",
      "6   Georgetown     94  131   37\n",
      "7        Tufts     76  112   36\n",
      "8         Yale     79  114   35\n",
      "9     Columbia     86  119   33\n",
      "10        Duke     93  124   31\n",
      "11   Dartmouth     84  114   30\n",
      "12         NYU     67   94   27\n",
      "13  Notre Dame     73  100   27\n",
      "14     Cornell     80  107   27\n",
      "15    Michigan     62   84   22\n",
      "16       Brown     72   92   20\n",
      "17    Berkeley     71   88   17\n",
      "18       Emory     68   82   14\n",
      "19        UCLA     64   78   14\n",
      "20       SoCal     72   81    9\n"
     ]
    }
   ],
   "source": [
    "import plotly\n",
    "plotly.offline.init_notebook_mode(connected=True)\n",
    "import plotly.figure_factory as ff\n",
    "import pandas as pd\n",
    "\n",
    "df = pd.read_csv(\"https://raw.githubusercontent.com/plotly/datasets/master/school_earnings.csv\")\n",
    "print(df)\n",
    "#df.set_index('index', drop=True, inplace=True)\n",
    "\n",
    "#import plotly.offline as py\n",
    "#import plotly.figure_factory as ff\n",
    "#py.init_notebook_mode(connected=True)\n",
    "\n",
    "#import pandas as pd"
   ]
  },
  {
   "cell_type": "code",
   "execution_count": 3,
   "metadata": {},
   "outputs": [
    {
     "data": {
      "application/vnd.plotly.v1+json": {
       "data": [
        {
         "colorscale": [
          [
           0,
           "#00083e"
          ],
          [
           0.5,
           "#ededee"
          ],
          [
           1,
           "#ffffff"
          ]
         ],
         "hoverinfo": "none",
         "opacity": 0.75,
         "showscale": false,
         "type": "heatmap",
         "z": [
          [
           0,
           0,
           0,
           0
          ],
          [
           0.5,
           0.5,
           0.5,
           0.5
          ],
          [
           1,
           1,
           1,
           1
          ],
          [
           0.5,
           0.5,
           0.5,
           0.5
          ],
          [
           1,
           1,
           1,
           1
          ],
          [
           0.5,
           0.5,
           0.5,
           0.5
          ],
          [
           1,
           1,
           1,
           1
          ],
          [
           0.5,
           0.5,
           0.5,
           0.5
          ],
          [
           1,
           1,
           1,
           1
          ],
          [
           0.5,
           0.5,
           0.5,
           0.5
          ],
          [
           1,
           1,
           1,
           1
          ],
          [
           0.5,
           0.5,
           0.5,
           0.5
          ],
          [
           1,
           1,
           1,
           1
          ],
          [
           0.5,
           0.5,
           0.5,
           0.5
          ],
          [
           1,
           1,
           1,
           1
          ],
          [
           0.5,
           0.5,
           0.5,
           0.5
          ],
          [
           1,
           1,
           1,
           1
          ],
          [
           0.5,
           0.5,
           0.5,
           0.5
          ],
          [
           1,
           1,
           1,
           1
          ],
          [
           0.5,
           0.5,
           0.5,
           0.5
          ],
          [
           1,
           1,
           1,
           1
          ],
          [
           0.5,
           0.5,
           0.5,
           0.5
          ]
         ]
        }
       ],
       "layout": {
        "annotations": [
         {
          "align": "left",
          "font": {
           "color": "#ffffff"
          },
          "showarrow": false,
          "text": "<b>School</b>",
          "x": -0.45,
          "xanchor": "left",
          "xref": "x1",
          "y": 0,
          "yref": "y1"
         },
         {
          "align": "left",
          "font": {
           "color": "#ffffff"
          },
          "showarrow": false,
          "text": "<b>Women</b>",
          "x": 0.55,
          "xanchor": "left",
          "xref": "x1",
          "y": 0,
          "yref": "y1"
         },
         {
          "align": "left",
          "font": {
           "color": "#ffffff"
          },
          "showarrow": false,
          "text": "<b>Men</b>",
          "x": 1.55,
          "xanchor": "left",
          "xref": "x1",
          "y": 0,
          "yref": "y1"
         },
         {
          "align": "left",
          "font": {
           "color": "#ffffff"
          },
          "showarrow": false,
          "text": "<b>gap</b>",
          "x": 2.55,
          "xanchor": "left",
          "xref": "x1",
          "y": 0,
          "yref": "y1"
         },
         {
          "align": "left",
          "font": {
           "color": "#000000"
          },
          "showarrow": false,
          "text": "MIT",
          "x": -0.45,
          "xanchor": "left",
          "xref": "x1",
          "y": 1,
          "yref": "y1"
         },
         {
          "align": "left",
          "font": {
           "color": "#000000"
          },
          "showarrow": false,
          "text": "94",
          "x": 0.55,
          "xanchor": "left",
          "xref": "x1",
          "y": 1,
          "yref": "y1"
         },
         {
          "align": "left",
          "font": {
           "color": "#000000"
          },
          "showarrow": false,
          "text": "152",
          "x": 1.55,
          "xanchor": "left",
          "xref": "x1",
          "y": 1,
          "yref": "y1"
         },
         {
          "align": "left",
          "font": {
           "color": "#000000"
          },
          "showarrow": false,
          "text": "58",
          "x": 2.55,
          "xanchor": "left",
          "xref": "x1",
          "y": 1,
          "yref": "y1"
         },
         {
          "align": "left",
          "font": {
           "color": "#000000"
          },
          "showarrow": false,
          "text": "Stanford",
          "x": -0.45,
          "xanchor": "left",
          "xref": "x1",
          "y": 2,
          "yref": "y1"
         },
         {
          "align": "left",
          "font": {
           "color": "#000000"
          },
          "showarrow": false,
          "text": "96",
          "x": 0.55,
          "xanchor": "left",
          "xref": "x1",
          "y": 2,
          "yref": "y1"
         },
         {
          "align": "left",
          "font": {
           "color": "#000000"
          },
          "showarrow": false,
          "text": "151",
          "x": 1.55,
          "xanchor": "left",
          "xref": "x1",
          "y": 2,
          "yref": "y1"
         },
         {
          "align": "left",
          "font": {
           "color": "#000000"
          },
          "showarrow": false,
          "text": "55",
          "x": 2.55,
          "xanchor": "left",
          "xref": "x1",
          "y": 2,
          "yref": "y1"
         },
         {
          "align": "left",
          "font": {
           "color": "#000000"
          },
          "showarrow": false,
          "text": "Harvard",
          "x": -0.45,
          "xanchor": "left",
          "xref": "x1",
          "y": 3,
          "yref": "y1"
         },
         {
          "align": "left",
          "font": {
           "color": "#000000"
          },
          "showarrow": false,
          "text": "112",
          "x": 0.55,
          "xanchor": "left",
          "xref": "x1",
          "y": 3,
          "yref": "y1"
         },
         {
          "align": "left",
          "font": {
           "color": "#000000"
          },
          "showarrow": false,
          "text": "165",
          "x": 1.55,
          "xanchor": "left",
          "xref": "x1",
          "y": 3,
          "yref": "y1"
         },
         {
          "align": "left",
          "font": {
           "color": "#000000"
          },
          "showarrow": false,
          "text": "53",
          "x": 2.55,
          "xanchor": "left",
          "xref": "x1",
          "y": 3,
          "yref": "y1"
         },
         {
          "align": "left",
          "font": {
           "color": "#000000"
          },
          "showarrow": false,
          "text": "U.Penn",
          "x": -0.45,
          "xanchor": "left",
          "xref": "x1",
          "y": 4,
          "yref": "y1"
         },
         {
          "align": "left",
          "font": {
           "color": "#000000"
          },
          "showarrow": false,
          "text": "92",
          "x": 0.55,
          "xanchor": "left",
          "xref": "x1",
          "y": 4,
          "yref": "y1"
         },
         {
          "align": "left",
          "font": {
           "color": "#000000"
          },
          "showarrow": false,
          "text": "141",
          "x": 1.55,
          "xanchor": "left",
          "xref": "x1",
          "y": 4,
          "yref": "y1"
         },
         {
          "align": "left",
          "font": {
           "color": "#000000"
          },
          "showarrow": false,
          "text": "49",
          "x": 2.55,
          "xanchor": "left",
          "xref": "x1",
          "y": 4,
          "yref": "y1"
         },
         {
          "align": "left",
          "font": {
           "color": "#000000"
          },
          "showarrow": false,
          "text": "Princeton",
          "x": -0.45,
          "xanchor": "left",
          "xref": "x1",
          "y": 5,
          "yref": "y1"
         },
         {
          "align": "left",
          "font": {
           "color": "#000000"
          },
          "showarrow": false,
          "text": "90",
          "x": 0.55,
          "xanchor": "left",
          "xref": "x1",
          "y": 5,
          "yref": "y1"
         },
         {
          "align": "left",
          "font": {
           "color": "#000000"
          },
          "showarrow": false,
          "text": "137",
          "x": 1.55,
          "xanchor": "left",
          "xref": "x1",
          "y": 5,
          "yref": "y1"
         },
         {
          "align": "left",
          "font": {
           "color": "#000000"
          },
          "showarrow": false,
          "text": "47",
          "x": 2.55,
          "xanchor": "left",
          "xref": "x1",
          "y": 5,
          "yref": "y1"
         },
         {
          "align": "left",
          "font": {
           "color": "#000000"
          },
          "showarrow": false,
          "text": "Chicago",
          "x": -0.45,
          "xanchor": "left",
          "xref": "x1",
          "y": 6,
          "yref": "y1"
         },
         {
          "align": "left",
          "font": {
           "color": "#000000"
          },
          "showarrow": false,
          "text": "78",
          "x": 0.55,
          "xanchor": "left",
          "xref": "x1",
          "y": 6,
          "yref": "y1"
         },
         {
          "align": "left",
          "font": {
           "color": "#000000"
          },
          "showarrow": false,
          "text": "118",
          "x": 1.55,
          "xanchor": "left",
          "xref": "x1",
          "y": 6,
          "yref": "y1"
         },
         {
          "align": "left",
          "font": {
           "color": "#000000"
          },
          "showarrow": false,
          "text": "40",
          "x": 2.55,
          "xanchor": "left",
          "xref": "x1",
          "y": 6,
          "yref": "y1"
         },
         {
          "align": "left",
          "font": {
           "color": "#000000"
          },
          "showarrow": false,
          "text": "Georgetown",
          "x": -0.45,
          "xanchor": "left",
          "xref": "x1",
          "y": 7,
          "yref": "y1"
         },
         {
          "align": "left",
          "font": {
           "color": "#000000"
          },
          "showarrow": false,
          "text": "94",
          "x": 0.55,
          "xanchor": "left",
          "xref": "x1",
          "y": 7,
          "yref": "y1"
         },
         {
          "align": "left",
          "font": {
           "color": "#000000"
          },
          "showarrow": false,
          "text": "131",
          "x": 1.55,
          "xanchor": "left",
          "xref": "x1",
          "y": 7,
          "yref": "y1"
         },
         {
          "align": "left",
          "font": {
           "color": "#000000"
          },
          "showarrow": false,
          "text": "37",
          "x": 2.55,
          "xanchor": "left",
          "xref": "x1",
          "y": 7,
          "yref": "y1"
         },
         {
          "align": "left",
          "font": {
           "color": "#000000"
          },
          "showarrow": false,
          "text": "Tufts",
          "x": -0.45,
          "xanchor": "left",
          "xref": "x1",
          "y": 8,
          "yref": "y1"
         },
         {
          "align": "left",
          "font": {
           "color": "#000000"
          },
          "showarrow": false,
          "text": "76",
          "x": 0.55,
          "xanchor": "left",
          "xref": "x1",
          "y": 8,
          "yref": "y1"
         },
         {
          "align": "left",
          "font": {
           "color": "#000000"
          },
          "showarrow": false,
          "text": "112",
          "x": 1.55,
          "xanchor": "left",
          "xref": "x1",
          "y": 8,
          "yref": "y1"
         },
         {
          "align": "left",
          "font": {
           "color": "#000000"
          },
          "showarrow": false,
          "text": "36",
          "x": 2.55,
          "xanchor": "left",
          "xref": "x1",
          "y": 8,
          "yref": "y1"
         },
         {
          "align": "left",
          "font": {
           "color": "#000000"
          },
          "showarrow": false,
          "text": "Yale",
          "x": -0.45,
          "xanchor": "left",
          "xref": "x1",
          "y": 9,
          "yref": "y1"
         },
         {
          "align": "left",
          "font": {
           "color": "#000000"
          },
          "showarrow": false,
          "text": "79",
          "x": 0.55,
          "xanchor": "left",
          "xref": "x1",
          "y": 9,
          "yref": "y1"
         },
         {
          "align": "left",
          "font": {
           "color": "#000000"
          },
          "showarrow": false,
          "text": "114",
          "x": 1.55,
          "xanchor": "left",
          "xref": "x1",
          "y": 9,
          "yref": "y1"
         },
         {
          "align": "left",
          "font": {
           "color": "#000000"
          },
          "showarrow": false,
          "text": "35",
          "x": 2.55,
          "xanchor": "left",
          "xref": "x1",
          "y": 9,
          "yref": "y1"
         },
         {
          "align": "left",
          "font": {
           "color": "#000000"
          },
          "showarrow": false,
          "text": "Columbia",
          "x": -0.45,
          "xanchor": "left",
          "xref": "x1",
          "y": 10,
          "yref": "y1"
         },
         {
          "align": "left",
          "font": {
           "color": "#000000"
          },
          "showarrow": false,
          "text": "86",
          "x": 0.55,
          "xanchor": "left",
          "xref": "x1",
          "y": 10,
          "yref": "y1"
         },
         {
          "align": "left",
          "font": {
           "color": "#000000"
          },
          "showarrow": false,
          "text": "119",
          "x": 1.55,
          "xanchor": "left",
          "xref": "x1",
          "y": 10,
          "yref": "y1"
         },
         {
          "align": "left",
          "font": {
           "color": "#000000"
          },
          "showarrow": false,
          "text": "33",
          "x": 2.55,
          "xanchor": "left",
          "xref": "x1",
          "y": 10,
          "yref": "y1"
         },
         {
          "align": "left",
          "font": {
           "color": "#000000"
          },
          "showarrow": false,
          "text": "Duke",
          "x": -0.45,
          "xanchor": "left",
          "xref": "x1",
          "y": 11,
          "yref": "y1"
         },
         {
          "align": "left",
          "font": {
           "color": "#000000"
          },
          "showarrow": false,
          "text": "93",
          "x": 0.55,
          "xanchor": "left",
          "xref": "x1",
          "y": 11,
          "yref": "y1"
         },
         {
          "align": "left",
          "font": {
           "color": "#000000"
          },
          "showarrow": false,
          "text": "124",
          "x": 1.55,
          "xanchor": "left",
          "xref": "x1",
          "y": 11,
          "yref": "y1"
         },
         {
          "align": "left",
          "font": {
           "color": "#000000"
          },
          "showarrow": false,
          "text": "31",
          "x": 2.55,
          "xanchor": "left",
          "xref": "x1",
          "y": 11,
          "yref": "y1"
         },
         {
          "align": "left",
          "font": {
           "color": "#000000"
          },
          "showarrow": false,
          "text": "Dartmouth",
          "x": -0.45,
          "xanchor": "left",
          "xref": "x1",
          "y": 12,
          "yref": "y1"
         },
         {
          "align": "left",
          "font": {
           "color": "#000000"
          },
          "showarrow": false,
          "text": "84",
          "x": 0.55,
          "xanchor": "left",
          "xref": "x1",
          "y": 12,
          "yref": "y1"
         },
         {
          "align": "left",
          "font": {
           "color": "#000000"
          },
          "showarrow": false,
          "text": "114",
          "x": 1.55,
          "xanchor": "left",
          "xref": "x1",
          "y": 12,
          "yref": "y1"
         },
         {
          "align": "left",
          "font": {
           "color": "#000000"
          },
          "showarrow": false,
          "text": "30",
          "x": 2.55,
          "xanchor": "left",
          "xref": "x1",
          "y": 12,
          "yref": "y1"
         },
         {
          "align": "left",
          "font": {
           "color": "#000000"
          },
          "showarrow": false,
          "text": "NYU",
          "x": -0.45,
          "xanchor": "left",
          "xref": "x1",
          "y": 13,
          "yref": "y1"
         },
         {
          "align": "left",
          "font": {
           "color": "#000000"
          },
          "showarrow": false,
          "text": "67",
          "x": 0.55,
          "xanchor": "left",
          "xref": "x1",
          "y": 13,
          "yref": "y1"
         },
         {
          "align": "left",
          "font": {
           "color": "#000000"
          },
          "showarrow": false,
          "text": "94",
          "x": 1.55,
          "xanchor": "left",
          "xref": "x1",
          "y": 13,
          "yref": "y1"
         },
         {
          "align": "left",
          "font": {
           "color": "#000000"
          },
          "showarrow": false,
          "text": "27",
          "x": 2.55,
          "xanchor": "left",
          "xref": "x1",
          "y": 13,
          "yref": "y1"
         },
         {
          "align": "left",
          "font": {
           "color": "#000000"
          },
          "showarrow": false,
          "text": "Notre Dame",
          "x": -0.45,
          "xanchor": "left",
          "xref": "x1",
          "y": 14,
          "yref": "y1"
         },
         {
          "align": "left",
          "font": {
           "color": "#000000"
          },
          "showarrow": false,
          "text": "73",
          "x": 0.55,
          "xanchor": "left",
          "xref": "x1",
          "y": 14,
          "yref": "y1"
         },
         {
          "align": "left",
          "font": {
           "color": "#000000"
          },
          "showarrow": false,
          "text": "100",
          "x": 1.55,
          "xanchor": "left",
          "xref": "x1",
          "y": 14,
          "yref": "y1"
         },
         {
          "align": "left",
          "font": {
           "color": "#000000"
          },
          "showarrow": false,
          "text": "27",
          "x": 2.55,
          "xanchor": "left",
          "xref": "x1",
          "y": 14,
          "yref": "y1"
         },
         {
          "align": "left",
          "font": {
           "color": "#000000"
          },
          "showarrow": false,
          "text": "Cornell",
          "x": -0.45,
          "xanchor": "left",
          "xref": "x1",
          "y": 15,
          "yref": "y1"
         },
         {
          "align": "left",
          "font": {
           "color": "#000000"
          },
          "showarrow": false,
          "text": "80",
          "x": 0.55,
          "xanchor": "left",
          "xref": "x1",
          "y": 15,
          "yref": "y1"
         },
         {
          "align": "left",
          "font": {
           "color": "#000000"
          },
          "showarrow": false,
          "text": "107",
          "x": 1.55,
          "xanchor": "left",
          "xref": "x1",
          "y": 15,
          "yref": "y1"
         },
         {
          "align": "left",
          "font": {
           "color": "#000000"
          },
          "showarrow": false,
          "text": "27",
          "x": 2.55,
          "xanchor": "left",
          "xref": "x1",
          "y": 15,
          "yref": "y1"
         },
         {
          "align": "left",
          "font": {
           "color": "#000000"
          },
          "showarrow": false,
          "text": "Michigan",
          "x": -0.45,
          "xanchor": "left",
          "xref": "x1",
          "y": 16,
          "yref": "y1"
         },
         {
          "align": "left",
          "font": {
           "color": "#000000"
          },
          "showarrow": false,
          "text": "62",
          "x": 0.55,
          "xanchor": "left",
          "xref": "x1",
          "y": 16,
          "yref": "y1"
         },
         {
          "align": "left",
          "font": {
           "color": "#000000"
          },
          "showarrow": false,
          "text": "84",
          "x": 1.55,
          "xanchor": "left",
          "xref": "x1",
          "y": 16,
          "yref": "y1"
         },
         {
          "align": "left",
          "font": {
           "color": "#000000"
          },
          "showarrow": false,
          "text": "22",
          "x": 2.55,
          "xanchor": "left",
          "xref": "x1",
          "y": 16,
          "yref": "y1"
         },
         {
          "align": "left",
          "font": {
           "color": "#000000"
          },
          "showarrow": false,
          "text": "Brown",
          "x": -0.45,
          "xanchor": "left",
          "xref": "x1",
          "y": 17,
          "yref": "y1"
         },
         {
          "align": "left",
          "font": {
           "color": "#000000"
          },
          "showarrow": false,
          "text": "72",
          "x": 0.55,
          "xanchor": "left",
          "xref": "x1",
          "y": 17,
          "yref": "y1"
         },
         {
          "align": "left",
          "font": {
           "color": "#000000"
          },
          "showarrow": false,
          "text": "92",
          "x": 1.55,
          "xanchor": "left",
          "xref": "x1",
          "y": 17,
          "yref": "y1"
         },
         {
          "align": "left",
          "font": {
           "color": "#000000"
          },
          "showarrow": false,
          "text": "20",
          "x": 2.55,
          "xanchor": "left",
          "xref": "x1",
          "y": 17,
          "yref": "y1"
         },
         {
          "align": "left",
          "font": {
           "color": "#000000"
          },
          "showarrow": false,
          "text": "Berkeley",
          "x": -0.45,
          "xanchor": "left",
          "xref": "x1",
          "y": 18,
          "yref": "y1"
         },
         {
          "align": "left",
          "font": {
           "color": "#000000"
          },
          "showarrow": false,
          "text": "71",
          "x": 0.55,
          "xanchor": "left",
          "xref": "x1",
          "y": 18,
          "yref": "y1"
         },
         {
          "align": "left",
          "font": {
           "color": "#000000"
          },
          "showarrow": false,
          "text": "88",
          "x": 1.55,
          "xanchor": "left",
          "xref": "x1",
          "y": 18,
          "yref": "y1"
         },
         {
          "align": "left",
          "font": {
           "color": "#000000"
          },
          "showarrow": false,
          "text": "17",
          "x": 2.55,
          "xanchor": "left",
          "xref": "x1",
          "y": 18,
          "yref": "y1"
         },
         {
          "align": "left",
          "font": {
           "color": "#000000"
          },
          "showarrow": false,
          "text": "Emory",
          "x": -0.45,
          "xanchor": "left",
          "xref": "x1",
          "y": 19,
          "yref": "y1"
         },
         {
          "align": "left",
          "font": {
           "color": "#000000"
          },
          "showarrow": false,
          "text": "68",
          "x": 0.55,
          "xanchor": "left",
          "xref": "x1",
          "y": 19,
          "yref": "y1"
         },
         {
          "align": "left",
          "font": {
           "color": "#000000"
          },
          "showarrow": false,
          "text": "82",
          "x": 1.55,
          "xanchor": "left",
          "xref": "x1",
          "y": 19,
          "yref": "y1"
         },
         {
          "align": "left",
          "font": {
           "color": "#000000"
          },
          "showarrow": false,
          "text": "14",
          "x": 2.55,
          "xanchor": "left",
          "xref": "x1",
          "y": 19,
          "yref": "y1"
         },
         {
          "align": "left",
          "font": {
           "color": "#000000"
          },
          "showarrow": false,
          "text": "UCLA",
          "x": -0.45,
          "xanchor": "left",
          "xref": "x1",
          "y": 20,
          "yref": "y1"
         },
         {
          "align": "left",
          "font": {
           "color": "#000000"
          },
          "showarrow": false,
          "text": "64",
          "x": 0.55,
          "xanchor": "left",
          "xref": "x1",
          "y": 20,
          "yref": "y1"
         },
         {
          "align": "left",
          "font": {
           "color": "#000000"
          },
          "showarrow": false,
          "text": "78",
          "x": 1.55,
          "xanchor": "left",
          "xref": "x1",
          "y": 20,
          "yref": "y1"
         },
         {
          "align": "left",
          "font": {
           "color": "#000000"
          },
          "showarrow": false,
          "text": "14",
          "x": 2.55,
          "xanchor": "left",
          "xref": "x1",
          "y": 20,
          "yref": "y1"
         },
         {
          "align": "left",
          "font": {
           "color": "#000000"
          },
          "showarrow": false,
          "text": "SoCal",
          "x": -0.45,
          "xanchor": "left",
          "xref": "x1",
          "y": 21,
          "yref": "y1"
         },
         {
          "align": "left",
          "font": {
           "color": "#000000"
          },
          "showarrow": false,
          "text": "72",
          "x": 0.55,
          "xanchor": "left",
          "xref": "x1",
          "y": 21,
          "yref": "y1"
         },
         {
          "align": "left",
          "font": {
           "color": "#000000"
          },
          "showarrow": false,
          "text": "81",
          "x": 1.55,
          "xanchor": "left",
          "xref": "x1",
          "y": 21,
          "yref": "y1"
         },
         {
          "align": "left",
          "font": {
           "color": "#000000"
          },
          "showarrow": false,
          "text": "9",
          "x": 2.55,
          "xanchor": "left",
          "xref": "x1",
          "y": 21,
          "yref": "y1"
         }
        ],
        "height": 710,
        "margin": {
         "b": 0,
         "l": 0,
         "r": 0,
         "t": 0
        },
        "xaxis": {
         "dtick": 1,
         "gridwidth": 2,
         "showticklabels": false,
         "tick0": -0.5,
         "ticks": "",
         "zeroline": false
        },
        "yaxis": {
         "autorange": "reversed",
         "dtick": 1,
         "gridwidth": 2,
         "showticklabels": false,
         "tick0": 0.5,
         "ticks": "",
         "zeroline": false
        }
       }
      },
      "text/html": [
       "<div id=\"88a48211-f698-44f6-bc12-1e6f5382cc56\" style=\"height: 710px; width: 100%;\" class=\"plotly-graph-div\"></div><script type=\"text/javascript\">require([\"plotly\"], function(Plotly) { window.PLOTLYENV=window.PLOTLYENV || {};window.PLOTLYENV.BASE_URL=\"https://plot.ly\";Plotly.newPlot(\"88a48211-f698-44f6-bc12-1e6f5382cc56\", [{\"z\": [[0, 0, 0, 0], [0.5, 0.5, 0.5, 0.5], [1, 1, 1, 1], [0.5, 0.5, 0.5, 0.5], [1, 1, 1, 1], [0.5, 0.5, 0.5, 0.5], [1, 1, 1, 1], [0.5, 0.5, 0.5, 0.5], [1, 1, 1, 1], [0.5, 0.5, 0.5, 0.5], [1, 1, 1, 1], [0.5, 0.5, 0.5, 0.5], [1, 1, 1, 1], [0.5, 0.5, 0.5, 0.5], [1, 1, 1, 1], [0.5, 0.5, 0.5, 0.5], [1, 1, 1, 1], [0.5, 0.5, 0.5, 0.5], [1, 1, 1, 1], [0.5, 0.5, 0.5, 0.5], [1, 1, 1, 1], [0.5, 0.5, 0.5, 0.5]], \"showscale\": false, \"colorscale\": [[0, \"#00083e\"], [0.5, \"#ededee\"], [1, \"#ffffff\"]], \"opacity\": 0.75, \"type\": \"heatmap\", \"hoverinfo\": \"none\"}], {\"xaxis\": {\"showticklabels\": false, \"zeroline\": false, \"dtick\": 1, \"tick0\": -0.5, \"ticks\": \"\", \"gridwidth\": 2}, \"margin\": {\"r\": 0, \"l\": 0, \"b\": 0, \"t\": 0}, \"height\": 710, \"yaxis\": {\"showticklabels\": false, \"zeroline\": false, \"dtick\": 1, \"autorange\": \"reversed\", \"tick0\": 0.5, \"ticks\": \"\", \"gridwidth\": 2}, \"annotations\": [{\"xanchor\": \"left\", \"y\": 0, \"text\": \"<b>School</b>\", \"yref\": \"y1\", \"font\": {\"color\": \"#ffffff\"}, \"xref\": \"x1\", \"align\": \"left\", \"x\": -0.45, \"showarrow\": false}, {\"xanchor\": \"left\", \"y\": 0, \"text\": \"<b>Women</b>\", \"yref\": \"y1\", \"font\": {\"color\": \"#ffffff\"}, \"xref\": \"x1\", \"align\": \"left\", \"x\": 0.55, \"showarrow\": false}, {\"xanchor\": \"left\", \"y\": 0, \"text\": \"<b>Men</b>\", \"yref\": \"y1\", \"font\": {\"color\": \"#ffffff\"}, \"xref\": \"x1\", \"align\": \"left\", \"x\": 1.55, \"showarrow\": false}, {\"xanchor\": \"left\", \"y\": 0, \"text\": \"<b>gap</b>\", \"yref\": \"y1\", \"font\": {\"color\": \"#ffffff\"}, \"xref\": \"x1\", \"align\": \"left\", \"x\": 2.55, \"showarrow\": false}, {\"xanchor\": \"left\", \"y\": 1, \"text\": \"MIT\", \"yref\": \"y1\", \"font\": {\"color\": \"#000000\"}, \"xref\": \"x1\", \"align\": \"left\", \"x\": -0.45, \"showarrow\": false}, {\"xanchor\": \"left\", \"y\": 1, \"text\": \"94\", \"yref\": \"y1\", \"font\": {\"color\": \"#000000\"}, \"xref\": \"x1\", \"align\": \"left\", \"x\": 0.55, \"showarrow\": false}, {\"xanchor\": \"left\", \"y\": 1, \"text\": \"152\", \"yref\": \"y1\", \"font\": {\"color\": \"#000000\"}, \"xref\": \"x1\", \"align\": \"left\", \"x\": 1.55, \"showarrow\": false}, {\"xanchor\": \"left\", \"y\": 1, \"text\": \"58\", \"yref\": \"y1\", \"font\": {\"color\": \"#000000\"}, \"xref\": \"x1\", \"align\": \"left\", \"x\": 2.55, \"showarrow\": false}, {\"xanchor\": \"left\", \"y\": 2, \"text\": \"Stanford\", \"yref\": \"y1\", \"font\": {\"color\": \"#000000\"}, \"xref\": \"x1\", \"align\": \"left\", \"x\": -0.45, \"showarrow\": false}, {\"xanchor\": \"left\", \"y\": 2, \"text\": \"96\", \"yref\": \"y1\", \"font\": {\"color\": \"#000000\"}, \"xref\": \"x1\", \"align\": \"left\", \"x\": 0.55, \"showarrow\": false}, {\"xanchor\": \"left\", \"y\": 2, \"text\": \"151\", \"yref\": \"y1\", \"font\": {\"color\": \"#000000\"}, \"xref\": \"x1\", \"align\": \"left\", \"x\": 1.55, \"showarrow\": false}, {\"xanchor\": \"left\", \"y\": 2, \"text\": \"55\", \"yref\": \"y1\", \"font\": {\"color\": \"#000000\"}, \"xref\": \"x1\", \"align\": \"left\", \"x\": 2.55, \"showarrow\": false}, {\"xanchor\": \"left\", \"y\": 3, \"text\": \"Harvard\", \"yref\": \"y1\", \"font\": {\"color\": \"#000000\"}, \"xref\": \"x1\", \"align\": \"left\", \"x\": -0.45, \"showarrow\": false}, {\"xanchor\": \"left\", \"y\": 3, \"text\": \"112\", \"yref\": \"y1\", \"font\": {\"color\": \"#000000\"}, \"xref\": \"x1\", \"align\": \"left\", \"x\": 0.55, \"showarrow\": false}, {\"xanchor\": \"left\", \"y\": 3, \"text\": \"165\", \"yref\": \"y1\", \"font\": {\"color\": \"#000000\"}, \"xref\": \"x1\", \"align\": \"left\", \"x\": 1.55, \"showarrow\": false}, {\"xanchor\": \"left\", \"y\": 3, \"text\": \"53\", \"yref\": \"y1\", \"font\": {\"color\": \"#000000\"}, \"xref\": \"x1\", \"align\": \"left\", \"x\": 2.55, \"showarrow\": false}, {\"xanchor\": \"left\", \"y\": 4, \"text\": \"U.Penn\", \"yref\": \"y1\", \"font\": {\"color\": \"#000000\"}, \"xref\": \"x1\", \"align\": \"left\", \"x\": -0.45, \"showarrow\": false}, {\"xanchor\": \"left\", \"y\": 4, \"text\": \"92\", \"yref\": \"y1\", \"font\": {\"color\": \"#000000\"}, \"xref\": \"x1\", \"align\": \"left\", \"x\": 0.55, \"showarrow\": false}, {\"xanchor\": \"left\", \"y\": 4, \"text\": \"141\", \"yref\": \"y1\", \"font\": {\"color\": \"#000000\"}, \"xref\": \"x1\", \"align\": \"left\", \"x\": 1.55, \"showarrow\": false}, {\"xanchor\": \"left\", \"y\": 4, \"text\": \"49\", \"yref\": \"y1\", \"font\": {\"color\": \"#000000\"}, \"xref\": \"x1\", \"align\": \"left\", \"x\": 2.55, \"showarrow\": false}, {\"xanchor\": \"left\", \"y\": 5, \"text\": \"Princeton\", \"yref\": \"y1\", \"font\": {\"color\": \"#000000\"}, \"xref\": \"x1\", \"align\": \"left\", \"x\": -0.45, \"showarrow\": false}, {\"xanchor\": \"left\", \"y\": 5, \"text\": \"90\", \"yref\": \"y1\", \"font\": {\"color\": \"#000000\"}, \"xref\": \"x1\", \"align\": \"left\", \"x\": 0.55, \"showarrow\": false}, {\"xanchor\": \"left\", \"y\": 5, \"text\": \"137\", \"yref\": \"y1\", \"font\": {\"color\": \"#000000\"}, \"xref\": \"x1\", \"align\": \"left\", \"x\": 1.55, \"showarrow\": false}, {\"xanchor\": \"left\", \"y\": 5, \"text\": \"47\", \"yref\": \"y1\", \"font\": {\"color\": \"#000000\"}, \"xref\": \"x1\", \"align\": \"left\", \"x\": 2.55, \"showarrow\": false}, {\"xanchor\": \"left\", \"y\": 6, \"text\": \"Chicago\", \"yref\": \"y1\", \"font\": {\"color\": \"#000000\"}, \"xref\": \"x1\", \"align\": \"left\", \"x\": -0.45, \"showarrow\": false}, {\"xanchor\": \"left\", \"y\": 6, \"text\": \"78\", \"yref\": \"y1\", \"font\": {\"color\": \"#000000\"}, \"xref\": \"x1\", \"align\": \"left\", \"x\": 0.55, \"showarrow\": false}, {\"xanchor\": \"left\", \"y\": 6, \"text\": \"118\", \"yref\": \"y1\", \"font\": {\"color\": \"#000000\"}, \"xref\": \"x1\", \"align\": \"left\", \"x\": 1.55, \"showarrow\": false}, {\"xanchor\": \"left\", \"y\": 6, \"text\": \"40\", \"yref\": \"y1\", \"font\": {\"color\": \"#000000\"}, \"xref\": \"x1\", \"align\": \"left\", \"x\": 2.55, \"showarrow\": false}, {\"xanchor\": \"left\", \"y\": 7, \"text\": \"Georgetown\", \"yref\": \"y1\", \"font\": {\"color\": \"#000000\"}, \"xref\": \"x1\", \"align\": \"left\", \"x\": -0.45, \"showarrow\": false}, {\"xanchor\": \"left\", \"y\": 7, \"text\": \"94\", \"yref\": \"y1\", \"font\": {\"color\": \"#000000\"}, \"xref\": \"x1\", \"align\": \"left\", \"x\": 0.55, \"showarrow\": false}, {\"xanchor\": \"left\", \"y\": 7, \"text\": \"131\", \"yref\": \"y1\", \"font\": {\"color\": \"#000000\"}, \"xref\": \"x1\", \"align\": \"left\", \"x\": 1.55, \"showarrow\": false}, {\"xanchor\": \"left\", \"y\": 7, \"text\": \"37\", \"yref\": \"y1\", \"font\": {\"color\": \"#000000\"}, \"xref\": \"x1\", \"align\": \"left\", \"x\": 2.55, \"showarrow\": false}, {\"xanchor\": \"left\", \"y\": 8, \"text\": \"Tufts\", \"yref\": \"y1\", \"font\": {\"color\": \"#000000\"}, \"xref\": \"x1\", \"align\": \"left\", \"x\": -0.45, \"showarrow\": false}, {\"xanchor\": \"left\", \"y\": 8, \"text\": \"76\", \"yref\": \"y1\", \"font\": {\"color\": \"#000000\"}, \"xref\": \"x1\", \"align\": \"left\", \"x\": 0.55, \"showarrow\": false}, {\"xanchor\": \"left\", \"y\": 8, \"text\": \"112\", \"yref\": \"y1\", \"font\": {\"color\": \"#000000\"}, \"xref\": \"x1\", \"align\": \"left\", \"x\": 1.55, \"showarrow\": false}, {\"xanchor\": \"left\", \"y\": 8, \"text\": \"36\", \"yref\": \"y1\", \"font\": {\"color\": \"#000000\"}, \"xref\": \"x1\", \"align\": \"left\", \"x\": 2.55, \"showarrow\": false}, {\"xanchor\": \"left\", \"y\": 9, \"text\": \"Yale\", \"yref\": \"y1\", \"font\": {\"color\": \"#000000\"}, \"xref\": \"x1\", \"align\": \"left\", \"x\": -0.45, \"showarrow\": false}, {\"xanchor\": \"left\", \"y\": 9, \"text\": \"79\", \"yref\": \"y1\", \"font\": {\"color\": \"#000000\"}, \"xref\": \"x1\", \"align\": \"left\", \"x\": 0.55, \"showarrow\": false}, {\"xanchor\": \"left\", \"y\": 9, \"text\": \"114\", \"yref\": \"y1\", \"font\": {\"color\": \"#000000\"}, \"xref\": \"x1\", \"align\": \"left\", \"x\": 1.55, \"showarrow\": false}, {\"xanchor\": \"left\", \"y\": 9, \"text\": \"35\", \"yref\": \"y1\", \"font\": {\"color\": \"#000000\"}, \"xref\": \"x1\", \"align\": \"left\", \"x\": 2.55, \"showarrow\": false}, {\"xanchor\": \"left\", \"y\": 10, \"text\": \"Columbia\", \"yref\": \"y1\", \"font\": {\"color\": \"#000000\"}, \"xref\": \"x1\", \"align\": \"left\", \"x\": -0.45, \"showarrow\": false}, {\"xanchor\": \"left\", \"y\": 10, \"text\": \"86\", \"yref\": \"y1\", \"font\": {\"color\": \"#000000\"}, \"xref\": \"x1\", \"align\": \"left\", \"x\": 0.55, \"showarrow\": false}, {\"xanchor\": \"left\", \"y\": 10, \"text\": \"119\", \"yref\": \"y1\", \"font\": {\"color\": \"#000000\"}, \"xref\": \"x1\", \"align\": \"left\", \"x\": 1.55, \"showarrow\": false}, {\"xanchor\": \"left\", \"y\": 10, \"text\": \"33\", \"yref\": \"y1\", \"font\": {\"color\": \"#000000\"}, \"xref\": \"x1\", \"align\": \"left\", \"x\": 2.55, \"showarrow\": false}, {\"xanchor\": \"left\", \"y\": 11, \"text\": \"Duke\", \"yref\": \"y1\", \"font\": {\"color\": \"#000000\"}, \"xref\": \"x1\", \"align\": \"left\", \"x\": -0.45, \"showarrow\": false}, {\"xanchor\": \"left\", \"y\": 11, \"text\": \"93\", \"yref\": \"y1\", \"font\": {\"color\": \"#000000\"}, \"xref\": \"x1\", \"align\": \"left\", \"x\": 0.55, \"showarrow\": false}, {\"xanchor\": \"left\", \"y\": 11, \"text\": \"124\", \"yref\": \"y1\", \"font\": {\"color\": \"#000000\"}, \"xref\": \"x1\", \"align\": \"left\", \"x\": 1.55, \"showarrow\": false}, {\"xanchor\": \"left\", \"y\": 11, \"text\": \"31\", \"yref\": \"y1\", \"font\": {\"color\": \"#000000\"}, \"xref\": \"x1\", \"align\": \"left\", \"x\": 2.55, \"showarrow\": false}, {\"xanchor\": \"left\", \"y\": 12, \"text\": \"Dartmouth\", \"yref\": \"y1\", \"font\": {\"color\": \"#000000\"}, \"xref\": \"x1\", \"align\": \"left\", \"x\": -0.45, \"showarrow\": false}, {\"xanchor\": \"left\", \"y\": 12, \"text\": \"84\", \"yref\": \"y1\", \"font\": {\"color\": \"#000000\"}, \"xref\": \"x1\", \"align\": \"left\", \"x\": 0.55, \"showarrow\": false}, {\"xanchor\": \"left\", \"y\": 12, \"text\": \"114\", \"yref\": \"y1\", \"font\": {\"color\": \"#000000\"}, \"xref\": \"x1\", \"align\": \"left\", \"x\": 1.55, \"showarrow\": false}, {\"xanchor\": \"left\", \"y\": 12, \"text\": \"30\", \"yref\": \"y1\", \"font\": {\"color\": \"#000000\"}, \"xref\": \"x1\", \"align\": \"left\", \"x\": 2.55, \"showarrow\": false}, {\"xanchor\": \"left\", \"y\": 13, \"text\": \"NYU\", \"yref\": \"y1\", \"font\": {\"color\": \"#000000\"}, \"xref\": \"x1\", \"align\": \"left\", \"x\": -0.45, \"showarrow\": false}, {\"xanchor\": \"left\", \"y\": 13, \"text\": \"67\", \"yref\": \"y1\", \"font\": {\"color\": \"#000000\"}, \"xref\": \"x1\", \"align\": \"left\", \"x\": 0.55, \"showarrow\": false}, {\"xanchor\": \"left\", \"y\": 13, \"text\": \"94\", \"yref\": \"y1\", \"font\": {\"color\": \"#000000\"}, \"xref\": \"x1\", \"align\": \"left\", \"x\": 1.55, \"showarrow\": false}, {\"xanchor\": \"left\", \"y\": 13, \"text\": \"27\", \"yref\": \"y1\", \"font\": {\"color\": \"#000000\"}, \"xref\": \"x1\", \"align\": \"left\", \"x\": 2.55, \"showarrow\": false}, {\"xanchor\": \"left\", \"y\": 14, \"text\": \"Notre Dame\", \"yref\": \"y1\", \"font\": {\"color\": \"#000000\"}, \"xref\": \"x1\", \"align\": \"left\", \"x\": -0.45, \"showarrow\": false}, {\"xanchor\": \"left\", \"y\": 14, \"text\": \"73\", \"yref\": \"y1\", \"font\": {\"color\": \"#000000\"}, \"xref\": \"x1\", \"align\": \"left\", \"x\": 0.55, \"showarrow\": false}, {\"xanchor\": \"left\", \"y\": 14, \"text\": \"100\", \"yref\": \"y1\", \"font\": {\"color\": \"#000000\"}, \"xref\": \"x1\", \"align\": \"left\", \"x\": 1.55, \"showarrow\": false}, {\"xanchor\": \"left\", \"y\": 14, \"text\": \"27\", \"yref\": \"y1\", \"font\": {\"color\": \"#000000\"}, \"xref\": \"x1\", \"align\": \"left\", \"x\": 2.55, \"showarrow\": false}, {\"xanchor\": \"left\", \"y\": 15, \"text\": \"Cornell\", \"yref\": \"y1\", \"font\": {\"color\": \"#000000\"}, \"xref\": \"x1\", \"align\": \"left\", \"x\": -0.45, \"showarrow\": false}, {\"xanchor\": \"left\", \"y\": 15, \"text\": \"80\", \"yref\": \"y1\", \"font\": {\"color\": \"#000000\"}, \"xref\": \"x1\", \"align\": \"left\", \"x\": 0.55, \"showarrow\": false}, {\"xanchor\": \"left\", \"y\": 15, \"text\": \"107\", \"yref\": \"y1\", \"font\": {\"color\": \"#000000\"}, \"xref\": \"x1\", \"align\": \"left\", \"x\": 1.55, \"showarrow\": false}, {\"xanchor\": \"left\", \"y\": 15, \"text\": \"27\", \"yref\": \"y1\", \"font\": {\"color\": \"#000000\"}, \"xref\": \"x1\", \"align\": \"left\", \"x\": 2.55, \"showarrow\": false}, {\"xanchor\": \"left\", \"y\": 16, \"text\": \"Michigan\", \"yref\": \"y1\", \"font\": {\"color\": \"#000000\"}, \"xref\": \"x1\", \"align\": \"left\", \"x\": -0.45, \"showarrow\": false}, {\"xanchor\": \"left\", \"y\": 16, \"text\": \"62\", \"yref\": \"y1\", \"font\": {\"color\": \"#000000\"}, \"xref\": \"x1\", \"align\": \"left\", \"x\": 0.55, \"showarrow\": false}, {\"xanchor\": \"left\", \"y\": 16, \"text\": \"84\", \"yref\": \"y1\", \"font\": {\"color\": \"#000000\"}, \"xref\": \"x1\", \"align\": \"left\", \"x\": 1.55, \"showarrow\": false}, {\"xanchor\": \"left\", \"y\": 16, \"text\": \"22\", \"yref\": \"y1\", \"font\": {\"color\": \"#000000\"}, \"xref\": \"x1\", \"align\": \"left\", \"x\": 2.55, \"showarrow\": false}, {\"xanchor\": \"left\", \"y\": 17, \"text\": \"Brown\", \"yref\": \"y1\", \"font\": {\"color\": \"#000000\"}, \"xref\": \"x1\", \"align\": \"left\", \"x\": -0.45, \"showarrow\": false}, {\"xanchor\": \"left\", \"y\": 17, \"text\": \"72\", \"yref\": \"y1\", \"font\": {\"color\": \"#000000\"}, \"xref\": \"x1\", \"align\": \"left\", \"x\": 0.55, \"showarrow\": false}, {\"xanchor\": \"left\", \"y\": 17, \"text\": \"92\", \"yref\": \"y1\", \"font\": {\"color\": \"#000000\"}, \"xref\": \"x1\", \"align\": \"left\", \"x\": 1.55, \"showarrow\": false}, {\"xanchor\": \"left\", \"y\": 17, \"text\": \"20\", \"yref\": \"y1\", \"font\": {\"color\": \"#000000\"}, \"xref\": \"x1\", \"align\": \"left\", \"x\": 2.55, \"showarrow\": false}, {\"xanchor\": \"left\", \"y\": 18, \"text\": \"Berkeley\", \"yref\": \"y1\", \"font\": {\"color\": \"#000000\"}, \"xref\": \"x1\", \"align\": \"left\", \"x\": -0.45, \"showarrow\": false}, {\"xanchor\": \"left\", \"y\": 18, \"text\": \"71\", \"yref\": \"y1\", \"font\": {\"color\": \"#000000\"}, \"xref\": \"x1\", \"align\": \"left\", \"x\": 0.55, \"showarrow\": false}, {\"xanchor\": \"left\", \"y\": 18, \"text\": \"88\", \"yref\": \"y1\", \"font\": {\"color\": \"#000000\"}, \"xref\": \"x1\", \"align\": \"left\", \"x\": 1.55, \"showarrow\": false}, {\"xanchor\": \"left\", \"y\": 18, \"text\": \"17\", \"yref\": \"y1\", \"font\": {\"color\": \"#000000\"}, \"xref\": \"x1\", \"align\": \"left\", \"x\": 2.55, \"showarrow\": false}, {\"xanchor\": \"left\", \"y\": 19, \"text\": \"Emory\", \"yref\": \"y1\", \"font\": {\"color\": \"#000000\"}, \"xref\": \"x1\", \"align\": \"left\", \"x\": -0.45, \"showarrow\": false}, {\"xanchor\": \"left\", \"y\": 19, \"text\": \"68\", \"yref\": \"y1\", \"font\": {\"color\": \"#000000\"}, \"xref\": \"x1\", \"align\": \"left\", \"x\": 0.55, \"showarrow\": false}, {\"xanchor\": \"left\", \"y\": 19, \"text\": \"82\", \"yref\": \"y1\", \"font\": {\"color\": \"#000000\"}, \"xref\": \"x1\", \"align\": \"left\", \"x\": 1.55, \"showarrow\": false}, {\"xanchor\": \"left\", \"y\": 19, \"text\": \"14\", \"yref\": \"y1\", \"font\": {\"color\": \"#000000\"}, \"xref\": \"x1\", \"align\": \"left\", \"x\": 2.55, \"showarrow\": false}, {\"xanchor\": \"left\", \"y\": 20, \"text\": \"UCLA\", \"yref\": \"y1\", \"font\": {\"color\": \"#000000\"}, \"xref\": \"x1\", \"align\": \"left\", \"x\": -0.45, \"showarrow\": false}, {\"xanchor\": \"left\", \"y\": 20, \"text\": \"64\", \"yref\": \"y1\", \"font\": {\"color\": \"#000000\"}, \"xref\": \"x1\", \"align\": \"left\", \"x\": 0.55, \"showarrow\": false}, {\"xanchor\": \"left\", \"y\": 20, \"text\": \"78\", \"yref\": \"y1\", \"font\": {\"color\": \"#000000\"}, \"xref\": \"x1\", \"align\": \"left\", \"x\": 1.55, \"showarrow\": false}, {\"xanchor\": \"left\", \"y\": 20, \"text\": \"14\", \"yref\": \"y1\", \"font\": {\"color\": \"#000000\"}, \"xref\": \"x1\", \"align\": \"left\", \"x\": 2.55, \"showarrow\": false}, {\"xanchor\": \"left\", \"y\": 21, \"text\": \"SoCal\", \"yref\": \"y1\", \"font\": {\"color\": \"#000000\"}, \"xref\": \"x1\", \"align\": \"left\", \"x\": -0.45, \"showarrow\": false}, {\"xanchor\": \"left\", \"y\": 21, \"text\": \"72\", \"yref\": \"y1\", \"font\": {\"color\": \"#000000\"}, \"xref\": \"x1\", \"align\": \"left\", \"x\": 0.55, \"showarrow\": false}, {\"xanchor\": \"left\", \"y\": 21, \"text\": \"81\", \"yref\": \"y1\", \"font\": {\"color\": \"#000000\"}, \"xref\": \"x1\", \"align\": \"left\", \"x\": 1.55, \"showarrow\": false}, {\"xanchor\": \"left\", \"y\": 21, \"text\": \"9\", \"yref\": \"y1\", \"font\": {\"color\": \"#000000\"}, \"xref\": \"x1\", \"align\": \"left\", \"x\": 2.55, \"showarrow\": false}]}, {\"linkText\": \"Export to plot.ly\", \"showLink\": true})});</script>"
      ],
      "text/vnd.plotly.v1+html": [
       "<div id=\"88a48211-f698-44f6-bc12-1e6f5382cc56\" style=\"height: 710px; width: 100%;\" class=\"plotly-graph-div\"></div><script type=\"text/javascript\">require([\"plotly\"], function(Plotly) { window.PLOTLYENV=window.PLOTLYENV || {};window.PLOTLYENV.BASE_URL=\"https://plot.ly\";Plotly.newPlot(\"88a48211-f698-44f6-bc12-1e6f5382cc56\", [{\"z\": [[0, 0, 0, 0], [0.5, 0.5, 0.5, 0.5], [1, 1, 1, 1], [0.5, 0.5, 0.5, 0.5], [1, 1, 1, 1], [0.5, 0.5, 0.5, 0.5], [1, 1, 1, 1], [0.5, 0.5, 0.5, 0.5], [1, 1, 1, 1], [0.5, 0.5, 0.5, 0.5], [1, 1, 1, 1], [0.5, 0.5, 0.5, 0.5], [1, 1, 1, 1], [0.5, 0.5, 0.5, 0.5], [1, 1, 1, 1], [0.5, 0.5, 0.5, 0.5], [1, 1, 1, 1], [0.5, 0.5, 0.5, 0.5], [1, 1, 1, 1], [0.5, 0.5, 0.5, 0.5], [1, 1, 1, 1], [0.5, 0.5, 0.5, 0.5]], \"showscale\": false, \"colorscale\": [[0, \"#00083e\"], [0.5, \"#ededee\"], [1, \"#ffffff\"]], \"opacity\": 0.75, \"type\": \"heatmap\", \"hoverinfo\": \"none\"}], {\"xaxis\": {\"showticklabels\": false, \"zeroline\": false, \"dtick\": 1, \"tick0\": -0.5, \"ticks\": \"\", \"gridwidth\": 2}, \"margin\": {\"r\": 0, \"l\": 0, \"b\": 0, \"t\": 0}, \"height\": 710, \"yaxis\": {\"showticklabels\": false, \"zeroline\": false, \"dtick\": 1, \"autorange\": \"reversed\", \"tick0\": 0.5, \"ticks\": \"\", \"gridwidth\": 2}, \"annotations\": [{\"xanchor\": \"left\", \"y\": 0, \"text\": \"<b>School</b>\", \"yref\": \"y1\", \"font\": {\"color\": \"#ffffff\"}, \"xref\": \"x1\", \"align\": \"left\", \"x\": -0.45, \"showarrow\": false}, {\"xanchor\": \"left\", \"y\": 0, \"text\": \"<b>Women</b>\", \"yref\": \"y1\", \"font\": {\"color\": \"#ffffff\"}, \"xref\": \"x1\", \"align\": \"left\", \"x\": 0.55, \"showarrow\": false}, {\"xanchor\": \"left\", \"y\": 0, \"text\": \"<b>Men</b>\", \"yref\": \"y1\", \"font\": {\"color\": \"#ffffff\"}, \"xref\": \"x1\", \"align\": \"left\", \"x\": 1.55, \"showarrow\": false}, {\"xanchor\": \"left\", \"y\": 0, \"text\": \"<b>gap</b>\", \"yref\": \"y1\", \"font\": {\"color\": \"#ffffff\"}, \"xref\": \"x1\", \"align\": \"left\", \"x\": 2.55, \"showarrow\": false}, {\"xanchor\": \"left\", \"y\": 1, \"text\": \"MIT\", \"yref\": \"y1\", \"font\": {\"color\": \"#000000\"}, \"xref\": \"x1\", \"align\": \"left\", \"x\": -0.45, \"showarrow\": false}, {\"xanchor\": \"left\", \"y\": 1, \"text\": \"94\", \"yref\": \"y1\", \"font\": {\"color\": \"#000000\"}, \"xref\": \"x1\", \"align\": \"left\", \"x\": 0.55, \"showarrow\": false}, {\"xanchor\": \"left\", \"y\": 1, \"text\": \"152\", \"yref\": \"y1\", \"font\": {\"color\": \"#000000\"}, \"xref\": \"x1\", \"align\": \"left\", \"x\": 1.55, \"showarrow\": false}, {\"xanchor\": \"left\", \"y\": 1, \"text\": \"58\", \"yref\": \"y1\", \"font\": {\"color\": \"#000000\"}, \"xref\": \"x1\", \"align\": \"left\", \"x\": 2.55, \"showarrow\": false}, {\"xanchor\": \"left\", \"y\": 2, \"text\": \"Stanford\", \"yref\": \"y1\", \"font\": {\"color\": \"#000000\"}, \"xref\": \"x1\", \"align\": \"left\", \"x\": -0.45, \"showarrow\": false}, {\"xanchor\": \"left\", \"y\": 2, \"text\": \"96\", \"yref\": \"y1\", \"font\": {\"color\": \"#000000\"}, \"xref\": \"x1\", \"align\": \"left\", \"x\": 0.55, \"showarrow\": false}, {\"xanchor\": \"left\", \"y\": 2, \"text\": \"151\", \"yref\": \"y1\", \"font\": {\"color\": \"#000000\"}, \"xref\": \"x1\", \"align\": \"left\", \"x\": 1.55, \"showarrow\": false}, {\"xanchor\": \"left\", \"y\": 2, \"text\": \"55\", \"yref\": \"y1\", \"font\": {\"color\": \"#000000\"}, \"xref\": \"x1\", \"align\": \"left\", \"x\": 2.55, \"showarrow\": false}, {\"xanchor\": \"left\", \"y\": 3, \"text\": \"Harvard\", \"yref\": \"y1\", \"font\": {\"color\": \"#000000\"}, \"xref\": \"x1\", \"align\": \"left\", \"x\": -0.45, \"showarrow\": false}, {\"xanchor\": \"left\", \"y\": 3, \"text\": \"112\", \"yref\": \"y1\", \"font\": {\"color\": \"#000000\"}, \"xref\": \"x1\", \"align\": \"left\", \"x\": 0.55, \"showarrow\": false}, {\"xanchor\": \"left\", \"y\": 3, \"text\": \"165\", \"yref\": \"y1\", \"font\": {\"color\": \"#000000\"}, \"xref\": \"x1\", \"align\": \"left\", \"x\": 1.55, \"showarrow\": false}, {\"xanchor\": \"left\", \"y\": 3, \"text\": \"53\", \"yref\": \"y1\", \"font\": {\"color\": \"#000000\"}, \"xref\": \"x1\", \"align\": \"left\", \"x\": 2.55, \"showarrow\": false}, {\"xanchor\": \"left\", \"y\": 4, \"text\": \"U.Penn\", \"yref\": \"y1\", \"font\": {\"color\": \"#000000\"}, \"xref\": \"x1\", \"align\": \"left\", \"x\": -0.45, \"showarrow\": false}, {\"xanchor\": \"left\", \"y\": 4, \"text\": \"92\", \"yref\": \"y1\", \"font\": {\"color\": \"#000000\"}, \"xref\": \"x1\", \"align\": \"left\", \"x\": 0.55, \"showarrow\": false}, {\"xanchor\": \"left\", \"y\": 4, \"text\": \"141\", \"yref\": \"y1\", \"font\": {\"color\": \"#000000\"}, \"xref\": \"x1\", \"align\": \"left\", \"x\": 1.55, \"showarrow\": false}, {\"xanchor\": \"left\", \"y\": 4, \"text\": \"49\", \"yref\": \"y1\", \"font\": {\"color\": \"#000000\"}, \"xref\": \"x1\", \"align\": \"left\", \"x\": 2.55, \"showarrow\": false}, {\"xanchor\": \"left\", \"y\": 5, \"text\": \"Princeton\", \"yref\": \"y1\", \"font\": {\"color\": \"#000000\"}, \"xref\": \"x1\", \"align\": \"left\", \"x\": -0.45, \"showarrow\": false}, {\"xanchor\": \"left\", \"y\": 5, \"text\": \"90\", \"yref\": \"y1\", \"font\": {\"color\": \"#000000\"}, \"xref\": \"x1\", \"align\": \"left\", \"x\": 0.55, \"showarrow\": false}, {\"xanchor\": \"left\", \"y\": 5, \"text\": \"137\", \"yref\": \"y1\", \"font\": {\"color\": \"#000000\"}, \"xref\": \"x1\", \"align\": \"left\", \"x\": 1.55, \"showarrow\": false}, {\"xanchor\": \"left\", \"y\": 5, \"text\": \"47\", \"yref\": \"y1\", \"font\": {\"color\": \"#000000\"}, \"xref\": \"x1\", \"align\": \"left\", \"x\": 2.55, \"showarrow\": false}, {\"xanchor\": \"left\", \"y\": 6, \"text\": \"Chicago\", \"yref\": \"y1\", \"font\": {\"color\": \"#000000\"}, \"xref\": \"x1\", \"align\": \"left\", \"x\": -0.45, \"showarrow\": false}, {\"xanchor\": \"left\", \"y\": 6, \"text\": \"78\", \"yref\": \"y1\", \"font\": {\"color\": \"#000000\"}, \"xref\": \"x1\", \"align\": \"left\", \"x\": 0.55, \"showarrow\": false}, {\"xanchor\": \"left\", \"y\": 6, \"text\": \"118\", \"yref\": \"y1\", \"font\": {\"color\": \"#000000\"}, \"xref\": \"x1\", \"align\": \"left\", \"x\": 1.55, \"showarrow\": false}, {\"xanchor\": \"left\", \"y\": 6, \"text\": \"40\", \"yref\": \"y1\", \"font\": {\"color\": \"#000000\"}, \"xref\": \"x1\", \"align\": \"left\", \"x\": 2.55, \"showarrow\": false}, {\"xanchor\": \"left\", \"y\": 7, \"text\": \"Georgetown\", \"yref\": \"y1\", \"font\": {\"color\": \"#000000\"}, \"xref\": \"x1\", \"align\": \"left\", \"x\": -0.45, \"showarrow\": false}, {\"xanchor\": \"left\", \"y\": 7, \"text\": \"94\", \"yref\": \"y1\", \"font\": {\"color\": \"#000000\"}, \"xref\": \"x1\", \"align\": \"left\", \"x\": 0.55, \"showarrow\": false}, {\"xanchor\": \"left\", \"y\": 7, \"text\": \"131\", \"yref\": \"y1\", \"font\": {\"color\": \"#000000\"}, \"xref\": \"x1\", \"align\": \"left\", \"x\": 1.55, \"showarrow\": false}, {\"xanchor\": \"left\", \"y\": 7, \"text\": \"37\", \"yref\": \"y1\", \"font\": {\"color\": \"#000000\"}, \"xref\": \"x1\", \"align\": \"left\", \"x\": 2.55, \"showarrow\": false}, {\"xanchor\": \"left\", \"y\": 8, \"text\": \"Tufts\", \"yref\": \"y1\", \"font\": {\"color\": \"#000000\"}, \"xref\": \"x1\", \"align\": \"left\", \"x\": -0.45, \"showarrow\": false}, {\"xanchor\": \"left\", \"y\": 8, \"text\": \"76\", \"yref\": \"y1\", \"font\": {\"color\": \"#000000\"}, \"xref\": \"x1\", \"align\": \"left\", \"x\": 0.55, \"showarrow\": false}, {\"xanchor\": \"left\", \"y\": 8, \"text\": \"112\", \"yref\": \"y1\", \"font\": {\"color\": \"#000000\"}, \"xref\": \"x1\", \"align\": \"left\", \"x\": 1.55, \"showarrow\": false}, {\"xanchor\": \"left\", \"y\": 8, \"text\": \"36\", \"yref\": \"y1\", \"font\": {\"color\": \"#000000\"}, \"xref\": \"x1\", \"align\": \"left\", \"x\": 2.55, \"showarrow\": false}, {\"xanchor\": \"left\", \"y\": 9, \"text\": \"Yale\", \"yref\": \"y1\", \"font\": {\"color\": \"#000000\"}, \"xref\": \"x1\", \"align\": \"left\", \"x\": -0.45, \"showarrow\": false}, {\"xanchor\": \"left\", \"y\": 9, \"text\": \"79\", \"yref\": \"y1\", \"font\": {\"color\": \"#000000\"}, \"xref\": \"x1\", \"align\": \"left\", \"x\": 0.55, \"showarrow\": false}, {\"xanchor\": \"left\", \"y\": 9, \"text\": \"114\", \"yref\": \"y1\", \"font\": {\"color\": \"#000000\"}, \"xref\": \"x1\", \"align\": \"left\", \"x\": 1.55, \"showarrow\": false}, {\"xanchor\": \"left\", \"y\": 9, \"text\": \"35\", \"yref\": \"y1\", \"font\": {\"color\": \"#000000\"}, \"xref\": \"x1\", \"align\": \"left\", \"x\": 2.55, \"showarrow\": false}, {\"xanchor\": \"left\", \"y\": 10, \"text\": \"Columbia\", \"yref\": \"y1\", \"font\": {\"color\": \"#000000\"}, \"xref\": \"x1\", \"align\": \"left\", \"x\": -0.45, \"showarrow\": false}, {\"xanchor\": \"left\", \"y\": 10, \"text\": \"86\", \"yref\": \"y1\", \"font\": {\"color\": \"#000000\"}, \"xref\": \"x1\", \"align\": \"left\", \"x\": 0.55, \"showarrow\": false}, {\"xanchor\": \"left\", \"y\": 10, \"text\": \"119\", \"yref\": \"y1\", \"font\": {\"color\": \"#000000\"}, \"xref\": \"x1\", \"align\": \"left\", \"x\": 1.55, \"showarrow\": false}, {\"xanchor\": \"left\", \"y\": 10, \"text\": \"33\", \"yref\": \"y1\", \"font\": {\"color\": \"#000000\"}, \"xref\": \"x1\", \"align\": \"left\", \"x\": 2.55, \"showarrow\": false}, {\"xanchor\": \"left\", \"y\": 11, \"text\": \"Duke\", \"yref\": \"y1\", \"font\": {\"color\": \"#000000\"}, \"xref\": \"x1\", \"align\": \"left\", \"x\": -0.45, \"showarrow\": false}, {\"xanchor\": \"left\", \"y\": 11, \"text\": \"93\", \"yref\": \"y1\", \"font\": {\"color\": \"#000000\"}, \"xref\": \"x1\", \"align\": \"left\", \"x\": 0.55, \"showarrow\": false}, {\"xanchor\": \"left\", \"y\": 11, \"text\": \"124\", \"yref\": \"y1\", \"font\": {\"color\": \"#000000\"}, \"xref\": \"x1\", \"align\": \"left\", \"x\": 1.55, \"showarrow\": false}, {\"xanchor\": \"left\", \"y\": 11, \"text\": \"31\", \"yref\": \"y1\", \"font\": {\"color\": \"#000000\"}, \"xref\": \"x1\", \"align\": \"left\", \"x\": 2.55, \"showarrow\": false}, {\"xanchor\": \"left\", \"y\": 12, \"text\": \"Dartmouth\", \"yref\": \"y1\", \"font\": {\"color\": \"#000000\"}, \"xref\": \"x1\", \"align\": \"left\", \"x\": -0.45, \"showarrow\": false}, {\"xanchor\": \"left\", \"y\": 12, \"text\": \"84\", \"yref\": \"y1\", \"font\": {\"color\": \"#000000\"}, \"xref\": \"x1\", \"align\": \"left\", \"x\": 0.55, \"showarrow\": false}, {\"xanchor\": \"left\", \"y\": 12, \"text\": \"114\", \"yref\": \"y1\", \"font\": {\"color\": \"#000000\"}, \"xref\": \"x1\", \"align\": \"left\", \"x\": 1.55, \"showarrow\": false}, {\"xanchor\": \"left\", \"y\": 12, \"text\": \"30\", \"yref\": \"y1\", \"font\": {\"color\": \"#000000\"}, \"xref\": \"x1\", \"align\": \"left\", \"x\": 2.55, \"showarrow\": false}, {\"xanchor\": \"left\", \"y\": 13, \"text\": \"NYU\", \"yref\": \"y1\", \"font\": {\"color\": \"#000000\"}, \"xref\": \"x1\", \"align\": \"left\", \"x\": -0.45, \"showarrow\": false}, {\"xanchor\": \"left\", \"y\": 13, \"text\": \"67\", \"yref\": \"y1\", \"font\": {\"color\": \"#000000\"}, \"xref\": \"x1\", \"align\": \"left\", \"x\": 0.55, \"showarrow\": false}, {\"xanchor\": \"left\", \"y\": 13, \"text\": \"94\", \"yref\": \"y1\", \"font\": {\"color\": \"#000000\"}, \"xref\": \"x1\", \"align\": \"left\", \"x\": 1.55, \"showarrow\": false}, {\"xanchor\": \"left\", \"y\": 13, \"text\": \"27\", \"yref\": \"y1\", \"font\": {\"color\": \"#000000\"}, \"xref\": \"x1\", \"align\": \"left\", \"x\": 2.55, \"showarrow\": false}, {\"xanchor\": \"left\", \"y\": 14, \"text\": \"Notre Dame\", \"yref\": \"y1\", \"font\": {\"color\": \"#000000\"}, \"xref\": \"x1\", \"align\": \"left\", \"x\": -0.45, \"showarrow\": false}, {\"xanchor\": \"left\", \"y\": 14, \"text\": \"73\", \"yref\": \"y1\", \"font\": {\"color\": \"#000000\"}, \"xref\": \"x1\", \"align\": \"left\", \"x\": 0.55, \"showarrow\": false}, {\"xanchor\": \"left\", \"y\": 14, \"text\": \"100\", \"yref\": \"y1\", \"font\": {\"color\": \"#000000\"}, \"xref\": \"x1\", \"align\": \"left\", \"x\": 1.55, \"showarrow\": false}, {\"xanchor\": \"left\", \"y\": 14, \"text\": \"27\", \"yref\": \"y1\", \"font\": {\"color\": \"#000000\"}, \"xref\": \"x1\", \"align\": \"left\", \"x\": 2.55, \"showarrow\": false}, {\"xanchor\": \"left\", \"y\": 15, \"text\": \"Cornell\", \"yref\": \"y1\", \"font\": {\"color\": \"#000000\"}, \"xref\": \"x1\", \"align\": \"left\", \"x\": -0.45, \"showarrow\": false}, {\"xanchor\": \"left\", \"y\": 15, \"text\": \"80\", \"yref\": \"y1\", \"font\": {\"color\": \"#000000\"}, \"xref\": \"x1\", \"align\": \"left\", \"x\": 0.55, \"showarrow\": false}, {\"xanchor\": \"left\", \"y\": 15, \"text\": \"107\", \"yref\": \"y1\", \"font\": {\"color\": \"#000000\"}, \"xref\": \"x1\", \"align\": \"left\", \"x\": 1.55, \"showarrow\": false}, {\"xanchor\": \"left\", \"y\": 15, \"text\": \"27\", \"yref\": \"y1\", \"font\": {\"color\": \"#000000\"}, \"xref\": \"x1\", \"align\": \"left\", \"x\": 2.55, \"showarrow\": false}, {\"xanchor\": \"left\", \"y\": 16, \"text\": \"Michigan\", \"yref\": \"y1\", \"font\": {\"color\": \"#000000\"}, \"xref\": \"x1\", \"align\": \"left\", \"x\": -0.45, \"showarrow\": false}, {\"xanchor\": \"left\", \"y\": 16, \"text\": \"62\", \"yref\": \"y1\", \"font\": {\"color\": \"#000000\"}, \"xref\": \"x1\", \"align\": \"left\", \"x\": 0.55, \"showarrow\": false}, {\"xanchor\": \"left\", \"y\": 16, \"text\": \"84\", \"yref\": \"y1\", \"font\": {\"color\": \"#000000\"}, \"xref\": \"x1\", \"align\": \"left\", \"x\": 1.55, \"showarrow\": false}, {\"xanchor\": \"left\", \"y\": 16, \"text\": \"22\", \"yref\": \"y1\", \"font\": {\"color\": \"#000000\"}, \"xref\": \"x1\", \"align\": \"left\", \"x\": 2.55, \"showarrow\": false}, {\"xanchor\": \"left\", \"y\": 17, \"text\": \"Brown\", \"yref\": \"y1\", \"font\": {\"color\": \"#000000\"}, \"xref\": \"x1\", \"align\": \"left\", \"x\": -0.45, \"showarrow\": false}, {\"xanchor\": \"left\", \"y\": 17, \"text\": \"72\", \"yref\": \"y1\", \"font\": {\"color\": \"#000000\"}, \"xref\": \"x1\", \"align\": \"left\", \"x\": 0.55, \"showarrow\": false}, {\"xanchor\": \"left\", \"y\": 17, \"text\": \"92\", \"yref\": \"y1\", \"font\": {\"color\": \"#000000\"}, \"xref\": \"x1\", \"align\": \"left\", \"x\": 1.55, \"showarrow\": false}, {\"xanchor\": \"left\", \"y\": 17, \"text\": \"20\", \"yref\": \"y1\", \"font\": {\"color\": \"#000000\"}, \"xref\": \"x1\", \"align\": \"left\", \"x\": 2.55, \"showarrow\": false}, {\"xanchor\": \"left\", \"y\": 18, \"text\": \"Berkeley\", \"yref\": \"y1\", \"font\": {\"color\": \"#000000\"}, \"xref\": \"x1\", \"align\": \"left\", \"x\": -0.45, \"showarrow\": false}, {\"xanchor\": \"left\", \"y\": 18, \"text\": \"71\", \"yref\": \"y1\", \"font\": {\"color\": \"#000000\"}, \"xref\": \"x1\", \"align\": \"left\", \"x\": 0.55, \"showarrow\": false}, {\"xanchor\": \"left\", \"y\": 18, \"text\": \"88\", \"yref\": \"y1\", \"font\": {\"color\": \"#000000\"}, \"xref\": \"x1\", \"align\": \"left\", \"x\": 1.55, \"showarrow\": false}, {\"xanchor\": \"left\", \"y\": 18, \"text\": \"17\", \"yref\": \"y1\", \"font\": {\"color\": \"#000000\"}, \"xref\": \"x1\", \"align\": \"left\", \"x\": 2.55, \"showarrow\": false}, {\"xanchor\": \"left\", \"y\": 19, \"text\": \"Emory\", \"yref\": \"y1\", \"font\": {\"color\": \"#000000\"}, \"xref\": \"x1\", \"align\": \"left\", \"x\": -0.45, \"showarrow\": false}, {\"xanchor\": \"left\", \"y\": 19, \"text\": \"68\", \"yref\": \"y1\", \"font\": {\"color\": \"#000000\"}, \"xref\": \"x1\", \"align\": \"left\", \"x\": 0.55, \"showarrow\": false}, {\"xanchor\": \"left\", \"y\": 19, \"text\": \"82\", \"yref\": \"y1\", \"font\": {\"color\": \"#000000\"}, \"xref\": \"x1\", \"align\": \"left\", \"x\": 1.55, \"showarrow\": false}, {\"xanchor\": \"left\", \"y\": 19, \"text\": \"14\", \"yref\": \"y1\", \"font\": {\"color\": \"#000000\"}, \"xref\": \"x1\", \"align\": \"left\", \"x\": 2.55, \"showarrow\": false}, {\"xanchor\": \"left\", \"y\": 20, \"text\": \"UCLA\", \"yref\": \"y1\", \"font\": {\"color\": \"#000000\"}, \"xref\": \"x1\", \"align\": \"left\", \"x\": -0.45, \"showarrow\": false}, {\"xanchor\": \"left\", \"y\": 20, \"text\": \"64\", \"yref\": \"y1\", \"font\": {\"color\": \"#000000\"}, \"xref\": \"x1\", \"align\": \"left\", \"x\": 0.55, \"showarrow\": false}, {\"xanchor\": \"left\", \"y\": 20, \"text\": \"78\", \"yref\": \"y1\", \"font\": {\"color\": \"#000000\"}, \"xref\": \"x1\", \"align\": \"left\", \"x\": 1.55, \"showarrow\": false}, {\"xanchor\": \"left\", \"y\": 20, \"text\": \"14\", \"yref\": \"y1\", \"font\": {\"color\": \"#000000\"}, \"xref\": \"x1\", \"align\": \"left\", \"x\": 2.55, \"showarrow\": false}, {\"xanchor\": \"left\", \"y\": 21, \"text\": \"SoCal\", \"yref\": \"y1\", \"font\": {\"color\": \"#000000\"}, \"xref\": \"x1\", \"align\": \"left\", \"x\": -0.45, \"showarrow\": false}, {\"xanchor\": \"left\", \"y\": 21, \"text\": \"72\", \"yref\": \"y1\", \"font\": {\"color\": \"#000000\"}, \"xref\": \"x1\", \"align\": \"left\", \"x\": 0.55, \"showarrow\": false}, {\"xanchor\": \"left\", \"y\": 21, \"text\": \"81\", \"yref\": \"y1\", \"font\": {\"color\": \"#000000\"}, \"xref\": \"x1\", \"align\": \"left\", \"x\": 1.55, \"showarrow\": false}, {\"xanchor\": \"left\", \"y\": 21, \"text\": \"9\", \"yref\": \"y1\", \"font\": {\"color\": \"#000000\"}, \"xref\": \"x1\", \"align\": \"left\", \"x\": 2.55, \"showarrow\": false}]}, {\"linkText\": \"Export to plot.ly\", \"showLink\": true})});</script>"
      ]
     },
     "metadata": {},
     "output_type": "display_data"
    }
   ],
   "source": [
    "table = ff.create_table(df)\n",
    "plotly.offline.iplot(table, filename='jupyter/table1')"
   ]
  },
  {
   "cell_type": "code",
   "execution_count": null,
   "metadata": {
    "collapsed": true
   },
   "outputs": [],
   "source": []
  }
 ],
 "metadata": {
  "kernelspec": {
   "display_name": "Python 3",
   "language": "python",
   "name": "python3"
  },
  "language_info": {
   "codemirror_mode": {
    "name": "ipython",
    "version": 3
   },
   "file_extension": ".py",
   "mimetype": "text/x-python",
   "name": "python",
   "nbconvert_exporter": "python",
   "pygments_lexer": "ipython3",
   "version": "3.5.2"
  }
 },
 "nbformat": 4,
 "nbformat_minor": 2
}
