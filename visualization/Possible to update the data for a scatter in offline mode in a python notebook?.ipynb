{
 "cells": [
  {
   "cell_type": "code",
   "execution_count": 1,
   "metadata": {},
   "outputs": [
    {
     "data": {
      "text/html": [
       "<script>requirejs.config({paths: { 'plotly': ['https://cdn.plot.ly/plotly-latest.min']},});if(!window.Plotly) {{require(['plotly'],function(plotly) {window.Plotly=plotly;});}}</script>"
      ],
      "text/vnd.plotly.v1+html": [
       "<script>requirejs.config({paths: { 'plotly': ['https://cdn.plot.ly/plotly-latest.min']},});if(!window.Plotly) {{require(['plotly'],function(plotly) {window.Plotly=plotly;});}}</script>"
      ]
     },
     "metadata": {},
     "output_type": "display_data"
    },
    {
     "data": {
      "application/vnd.jupyter.widget-view+json": {
       "model_id": "35d56f0452b148db98d2651a3e5fc1a9"
      }
     },
     "metadata": {},
     "output_type": "display_data"
    },
    {
     "data": {
      "text/plain": [
       "<function __main__.view_image>"
      ]
     },
     "execution_count": 1,
     "metadata": {},
     "output_type": "execute_result"
    }
   ],
   "source": [
    "#https://community.plot.ly/t/possible-to-update-the-data-for-a-scatter-in-offline-mode-in-a-python-notebook/414\n",
    "\n",
    "import plotly\n",
    "from plotly.graph_objs import graph_objs as go\n",
    "from ipywidgets import interact\n",
    "\n",
    "plotly.offline.init_notebook_mode(connected=True)\n",
    "from plotly.offline import iplot\n",
    "def view_image(w):\n",
    "    x_data = [1,2,3]\n",
    "    x1 = [i+w for i in x_data]\n",
    "    fig1 = go.Scatter(x=x1,y=[4,5,6])\n",
    "    fig2 = go.Scatter(x=x_data,y=[4,5,6])\n",
    "    iplot([fig1,fig2])\n",
    "interact(view_image, w=(0,100))"
   ]
  },
  {
   "cell_type": "code",
   "execution_count": null,
   "metadata": {
    "collapsed": true
   },
   "outputs": [],
   "source": []
  }
 ],
 "metadata": {
  "kernelspec": {
   "display_name": "Python 3",
   "language": "python",
   "name": "python3"
  },
  "language_info": {
   "codemirror_mode": {
    "name": "ipython",
    "version": 3
   },
   "file_extension": ".py",
   "mimetype": "text/x-python",
   "name": "python",
   "nbconvert_exporter": "python",
   "pygments_lexer": "ipython3",
   "version": "3.5.2"
  }
 },
 "nbformat": 4,
 "nbformat_minor": 2
}
