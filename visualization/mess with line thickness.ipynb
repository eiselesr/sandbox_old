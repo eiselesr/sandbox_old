{
 "cells": [
  {
   "cell_type": "code",
   "execution_count": 11,
   "metadata": {},
   "outputs": [
    {
     "data": {
      "text/html": [
       "<script>requirejs.config({paths: { 'plotly': ['https://cdn.plot.ly/plotly-latest.min']},});if(!window.Plotly) {{require(['plotly'],function(plotly) {window.Plotly=plotly;});}}</script>"
      ],
      "text/vnd.plotly.v1+html": [
       "<script>requirejs.config({paths: { 'plotly': ['https://cdn.plot.ly/plotly-latest.min']},});if(!window.Plotly) {{require(['plotly'],function(plotly) {window.Plotly=plotly;});}}</script>"
      ]
     },
     "metadata": {},
     "output_type": "display_data"
    },
    {
     "name": "stdout",
     "output_type": "stream",
     "text": [
      "(0, 1)\n",
      "(0, 2)\n",
      "(0, 3)\n",
      "(0, 4)\n",
      "(1, 2)\n",
      "(1, 3)\n",
      "(1, 4)\n",
      "(2, 3)\n",
      "(2, 4)\n",
      "(3, 4)\n"
     ]
    }
   ],
   "source": [
    "import networkx as nx\n",
    "import plotly.offline as py\n",
    "py.init_notebook_mode(connected=True)\n",
    "import plotly.graph_objs as go\n",
    "\n",
    "def edgeTraces(G):\n",
    "    for edge in G.edges():\n",
    "        x, y = G.node[node]['pos']\n",
    "        edge_trace = go.Scatter(\n",
    "            x = x, y = G.node[node]['pos'])\n",
    "        print (edge)\n",
    "        \n",
    "G = nx.complete_graph(5)\n",
    "pos = nx.circular_layout(G)\n",
    "nx.set_node_attributes(G, 'pos', pos)\n",
    "G.nodes(data=True)\n",
    "edge_traces = edgeTraces(G)\n",
    "#traces = [edge_traces]\n",
    "#plot(G, traces)"
   ]
  },
  {
   "cell_type": "code",
   "execution_count": 6,
   "metadata": {
    "collapsed": true
   },
   "outputs": [],
   "source": [
    "def nodeTrace(G):\n",
    "    node_trace = go.Scatter(\n",
    "            x=[],\n",
    "            y=[],\n",
    "            text=[],\n",
    "            #mode='markers+text+lines',\n",
    "            mode = 'lines',\n",
    "            hoverinfo='text',\n",
    "            textposition='bottom',\n",
    "            #line=go.Line(width=0.5,color='#888'),\n",
    "            line=go.Line(width=10.5,color='#888'),\n",
    "            marker=go.Marker(\n",
    "                showscale=True,\n",
    "                # colorscale options\n",
    "                # 'Greys' | 'Greens' | 'Bluered' | 'Hot' | 'Picnic' | 'Portland' |\n",
    "                # Jet' | 'RdBu' | 'Blackbody' | 'Earth' | 'Electric' | 'YIOrRd' | 'YIGnBu'\n",
    "                colorscale='RdBu',\n",
    "                reversescale=True,\n",
    "                color=[],\n",
    "                size=[],\n",
    "                #colorbar=dict(\n",
    "                #    thickness=15,\n",
    "                #    title='Node Connections',\n",
    "                #    xanchor='left',\n",
    "                #    titleside='right'\n",
    "                #),\n",
    "                \n",
    "            )\n",
    "        )\n",
    "\n",
    "    for node in reversed(sorted(G.nodes())):\n",
    "        #print(node)\n",
    "        #print(G.node[node]['pos'])\n",
    "        x, y = G.node[node]['pos']\n",
    "        node_trace['x'].append(x)\n",
    "        node_trace['y'].append(y)\n",
    "        degree = nx.degree(G, node)\n",
    "        node_trace['marker']['size'].append(15*degree)\n",
    "        #node_trace['marker']['color'].append(G.node[node]['color'])\n",
    "    return node_trace\n",
    "\n"
   ]
  },
  {
   "cell_type": "code",
   "execution_count": 7,
   "metadata": {
    "collapsed": true
   },
   "outputs": [],
   "source": [
    "def plot(G, traces):\n",
    "    fig = go.Figure(data=go.Data(traces),\n",
    "                 layout=go.Layout(\n",
    "                     title='<br>App placement graph',\n",
    "                     titlefont=dict(size=16),\n",
    "                     showlegend=False,\n",
    "                     hovermode='closest',\n",
    "                     margin=dict(b=20,l=5,r=5,t=40),\n",
    "                     xaxis=go.XAxis(showgrid=False, zeroline=False, showticklabels=False),\n",
    "                     yaxis=go.YAxis(showgrid=False, zeroline=False, showticklabels=False)\n",
    "                 ))\n",
    "\n",
    "    py.iplot(fig, filename='networkx')"
   ]
  },
  {
   "cell_type": "code",
   "execution_count": 8,
   "metadata": {},
   "outputs": [
    {
     "data": {
      "text/plain": [
       "{'color': '#888', 'width': 0.5}"
      ]
     },
     "execution_count": 8,
     "metadata": {},
     "output_type": "execute_result"
    }
   ],
   "source": [
    "go.Line(width=0.5,color='#888')"
   ]
  },
  {
   "cell_type": "code",
   "execution_count": 9,
   "metadata": {},
   "outputs": [
    {
     "data": {
      "application/vnd.plotly.v1+json": {
       "data": [
        {
         "hoverinfo": "text",
         "line": {
          "color": "#888",
          "width": 10.5
         },
         "marker": {
          "color": [],
          "colorscale": "RdBu",
          "reversescale": true,
          "showscale": true,
          "size": [
           60,
           60,
           60,
           60,
           60
          ]
         },
         "mode": "lines",
         "text": [],
         "textposition": "bottom",
         "type": "scatter",
         "x": [
          0.30901699437494723,
          -0.8090169943749476,
          -0.8090169943749473,
          0.30901699437494745,
          1
         ],
         "y": [
          -0.9510565162951536,
          -0.587785252292473,
          0.5877852522924732,
          0.9510565162951535,
          0
         ]
        }
       ],
       "layout": {
        "hovermode": "closest",
        "margin": {
         "b": 20,
         "l": 5,
         "r": 5,
         "t": 40
        },
        "showlegend": false,
        "title": "<br>App placement graph",
        "titlefont": {
         "size": 16
        },
        "xaxis": {
         "showgrid": false,
         "showticklabels": false,
         "zeroline": false
        },
        "yaxis": {
         "showgrid": false,
         "showticklabels": false,
         "zeroline": false
        }
       }
      },
      "text/html": [
       "<div id=\"1a00c7fb-1748-44bb-bb95-709421d6b1ef\" style=\"height: 525px; width: 100%;\" class=\"plotly-graph-div\"></div><script type=\"text/javascript\">require([\"plotly\"], function(Plotly) { window.PLOTLYENV=window.PLOTLYENV || {};window.PLOTLYENV.BASE_URL=\"https://plot.ly\";Plotly.newPlot(\"1a00c7fb-1748-44bb-bb95-709421d6b1ef\", [{\"text\": [], \"marker\": {\"showscale\": true, \"color\": [], \"size\": [60, 60, 60, 60, 60], \"colorscale\": \"RdBu\", \"reversescale\": true}, \"mode\": \"lines\", \"type\": \"scatter\", \"x\": [0.30901699437494723, -0.8090169943749476, -0.8090169943749473, 0.30901699437494745, 1.0], \"textposition\": \"bottom\", \"hoverinfo\": \"text\", \"line\": {\"color\": \"#888\", \"width\": 10.5}, \"y\": [-0.9510565162951536, -0.587785252292473, 0.5877852522924732, 0.9510565162951535, 0.0]}], {\"yaxis\": {\"zeroline\": false, \"showticklabels\": false, \"showgrid\": false}, \"margin\": {\"r\": 5, \"l\": 5, \"b\": 20, \"t\": 40}, \"showlegend\": false, \"title\": \"<br>App placement graph\", \"xaxis\": {\"zeroline\": false, \"showticklabels\": false, \"showgrid\": false}, \"titlefont\": {\"size\": 16}, \"hovermode\": \"closest\"}, {\"linkText\": \"Export to plot.ly\", \"showLink\": true})});</script>"
      ],
      "text/vnd.plotly.v1+html": [
       "<div id=\"1a00c7fb-1748-44bb-bb95-709421d6b1ef\" style=\"height: 525px; width: 100%;\" class=\"plotly-graph-div\"></div><script type=\"text/javascript\">require([\"plotly\"], function(Plotly) { window.PLOTLYENV=window.PLOTLYENV || {};window.PLOTLYENV.BASE_URL=\"https://plot.ly\";Plotly.newPlot(\"1a00c7fb-1748-44bb-bb95-709421d6b1ef\", [{\"text\": [], \"marker\": {\"showscale\": true, \"color\": [], \"size\": [60, 60, 60, 60, 60], \"colorscale\": \"RdBu\", \"reversescale\": true}, \"mode\": \"lines\", \"type\": \"scatter\", \"x\": [0.30901699437494723, -0.8090169943749476, -0.8090169943749473, 0.30901699437494745, 1.0], \"textposition\": \"bottom\", \"hoverinfo\": \"text\", \"line\": {\"color\": \"#888\", \"width\": 10.5}, \"y\": [-0.9510565162951536, -0.587785252292473, 0.5877852522924732, 0.9510565162951535, 0.0]}], {\"yaxis\": {\"zeroline\": false, \"showticklabels\": false, \"showgrid\": false}, \"margin\": {\"r\": 5, \"l\": 5, \"b\": 20, \"t\": 40}, \"showlegend\": false, \"title\": \"<br>App placement graph\", \"xaxis\": {\"zeroline\": false, \"showticklabels\": false, \"showgrid\": false}, \"titlefont\": {\"size\": 16}, \"hovermode\": \"closest\"}, {\"linkText\": \"Export to plot.ly\", \"showLink\": true})});</script>"
      ]
     },
     "metadata": {},
     "output_type": "display_data"
    }
   ],
   "source": [
    "G = nx.complete_graph(5)\n",
    "pos = nx.circular_layout(G)\n",
    "nx.set_node_attributes(G, 'pos', pos)\n",
    "G.nodes(data=True)\n",
    "node_trace = nodeTrace(G)\n",
    "traces = [node_trace]\n",
    "plot(G, traces)\n",
    "#G.edges()"
   ]
  },
  {
   "cell_type": "code",
   "execution_count": null,
   "metadata": {
    "collapsed": true
   },
   "outputs": [],
   "source": []
  }
 ],
 "metadata": {
  "kernelspec": {
   "display_name": "Python 3",
   "language": "python",
   "name": "python3"
  },
  "language_info": {
   "codemirror_mode": {
    "name": "ipython",
    "version": 3
   },
   "file_extension": ".py",
   "mimetype": "text/x-python",
   "name": "python",
   "nbconvert_exporter": "python",
   "pygments_lexer": "ipython3",
   "version": "3.5.2"
  }
 },
 "nbformat": 4,
 "nbformat_minor": 2
}
