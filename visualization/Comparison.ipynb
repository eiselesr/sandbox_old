{
 "cells": [
  {
   "cell_type": "markdown",
   "metadata": {},
   "source": [
    "* sudo pip install graphviz\n",
    "* http://graphviz.readthedocs.io/en/stable/manual.html\n",
    "    * looks like the documentation is pretty solid. \n",
    "* http://www.graphviz.org/doc/info/attrs.html\n",
    "*  https://github.com/xflr6/graphviz/issues/19\n",
    "    * used for visualization \" The library is exactly for creating (rendering, etc.) the DOT code lines for a graph, not as a generic library for representing graphs (like e.g. NetworkX)\""
   ]
  },
  {
   "cell_type": "code",
   "execution_count": 125,
   "metadata": {},
   "outputs": [
    {
     "data": {
      "application/vnd.jupyter.widget-view+json": {
       "model_id": "ad825ec778634320ac5ff6f4c1021694"
      }
     },
     "metadata": {},
     "output_type": "display_data"
    },
    {
     "data": {
      "text/plain": [
       "<function __main__.viz>"
      ]
     },
     "execution_count": 125,
     "metadata": {},
     "output_type": "execute_result"
    }
   ],
   "source": [
    "import graphviz\n",
    "from ipywidgets import interact\n",
    "from ipywidgets import widgets\n",
    "\n",
    "def viz(p):\n",
    "    d = graphviz.Digraph()\n",
    "    d.attr('node', shape='circle')\n",
    "    d.attr('edge', penwidth='7')\n",
    "    d.edge('hello', 'world')\n",
    "    d.attr('edge', penwidth='2')\n",
    "    d.edge('goodbye', 'world')\n",
    "    d.edge('hello', 'goodbye', _attributes={'penwidth' : str(p)})\n",
    "    d.engine = 'circo'\n",
    "    return d\n",
    "\n",
    "p = widgets.IntSlider(min=0, max=10, step=1, value=3)\n",
    "interact(viz, p=p)"
   ]
  },
  {
   "cell_type": "code",
   "execution_count": 130,
   "metadata": {},
   "outputs": [
    {
     "data": {
      "application/vnd.jupyter.widget-view+json": {
       "model_id": "c42050a791b94a09abb53ff30be93dfa"
      }
     },
     "metadata": {},
     "output_type": "display_data"
    },
    {
     "data": {
      "text/plain": [
       "<function __main__.pygraphDraw>"
      ]
     },
     "execution_count": 130,
     "metadata": {},
     "output_type": "execute_result"
    }
   ],
   "source": [
    "#http://pygraphviz.github.io/documentation/latest/reference/agraph.html\n",
    "    # http://www.graphviz.org/doc/info/attrs.html\n",
    "# seems to be a bit faster than nxpd\n",
    "import pygraphviz\n",
    "from IPython.display import Image\n",
    "from ipywidgets import interact\n",
    "from ipywidgets import widgets\n",
    "\n",
    "def pygraphDraw(p):\n",
    "    G = pygraphviz.AGraph()#cycle_graph(4, create_using=nx.DiGraph())\n",
    "    G.add_node('FSSN1', color='red', style='filled', fillcolor='pink', shape='circle')\n",
    "    G.add_node('FSSN2')\n",
    "    G.add_node('FSSN3')\n",
    "    G.add_edge('FSSN1', 'FSSN2', penwidth=p)\n",
    "    G.add_edge('FSSN1', 'FSSN3', penwidth=2)\n",
    "    G.layout()\n",
    "    G.draw('graph.png')\n",
    "    return Image(G.draw(format='png', prog='circo'))\n",
    "    \n",
    "\n",
    "p = widgets.IntSlider(min=0, max=10, step=1, value=3)\n",
    "interact(pygraphDraw, p=p)"
   ]
  },
  {
   "cell_type": "code",
   "execution_count": 112,
   "metadata": {},
   "outputs": [
    {
     "data": {
      "application/vnd.jupyter.widget-view+json": {
       "model_id": "f9abd786dc0940f3b28a8e053602af0c"
      }
     },
     "metadata": {},
     "output_type": "display_data"
    },
    {
     "data": {
      "text/plain": [
       "<function __main__.drawNXPD>"
      ]
     },
     "execution_count": 112,
     "metadata": {},
     "output_type": "execute_result"
    }
   ],
   "source": [
    "#https://github.com/chebee7i/nxpd\n",
    "#https://stackoverflow.com/questions/32375679/ipython-notebook-plotting-transition-diagrams\n",
    "\n",
    "import networkx as nx\n",
    "import nxpd\n",
    "from ipywidgets import interact\n",
    "from ipywidgets import widgets\n",
    "\n",
    "\n",
    "\n",
    "def drawNXPD(p):\n",
    "    G = nx.Graph()#cycle_graph(4, create_using=nx.DiGraph())\n",
    "    G.add_node('FSSN1', color='red', style='filled', fillcolor='pink', shape='circle')\n",
    "    G.add_node('FSSN2')\n",
    "    G.add_node('FSSN3')\n",
    "    G.add_edge('FSSN1', 'FSSN2', penwidth=p)\n",
    "    G.add_edge('FSSN1', 'FSSN3', penwidth=2)\n",
    "    print(type(nxpd.draw(G, show='ipynb')))\n",
    "    return nxpd.draw(G, show='ipynb')\n",
    "    \n",
    "\n",
    "p = widgets.IntSlider(min=0, max=10, step=1, value=3)\n",
    "\n",
    "interact(drawNXPD, p=p)"
   ]
  },
  {
   "cell_type": "code",
   "execution_count": 119,
   "metadata": {},
   "outputs": [
    {
     "data": {
      "image/png": "[encoded data removed]",
      "text/plain": [
       "<IPython.core.display.Image object>"
      ]
     },
     "execution_count": 119,
     "metadata": {},
     "output_type": "execute_result"
    }
   ],
   "source": [
    "#https://stackoverflow.com/questions/32375679/ipython-notebook-plotting-transition-diagrams\n",
    "import pygraphviz as pgv\n",
    "from IPython.display import Image\n",
    "\n",
    "def draw(dot):\n",
    "    return Image(pgv.AGraph(dot).draw(format='png', prog='dot'))\n",
    "\n",
    "g1 = \"\"\"digraph top {\n",
    "   a -> b -> c;\n",
    "}\"\"\"\n",
    "draw(g1)"
   ]
  },
  {
   "cell_type": "code",
   "execution_count": 120,
   "metadata": {},
   "outputs": [
    {
     "data": {
      "application/vnd.jupyter.widget-view+json": {
       "model_id": "10d44b008f4e4932a9ee3824a7e80a5a"
      }
     },
     "metadata": {},
     "output_type": "display_data"
    },
    {
     "data": {
      "text/plain": [
       "<function __main__.genGraph>"
      ]
     },
     "execution_count": 120,
     "metadata": {},
     "output_type": "execute_result"
    }
   ],
   "source": [
    "import matplotlib.pyplot as plt\n",
    "from ipywidgets import interact\n",
    "from ipywidgets import widgets\n",
    "\n",
    "def genGraph(p):\n",
    "    \n",
    "    G = nx.complete_graph(p)\n",
    "    #G1 = placeStations(G)\n",
    "    nx.draw(G)\n",
    "    plt.show()\n",
    "\n",
    "p = widgets.IntSlider(min=0, max=10, step=1, value=3)\n",
    "\n",
    "interact(genGraph, p=p)"
   ]
  },
  {
   "cell_type": "code",
   "execution_count": null,
   "metadata": {
    "collapsed": true
   },
   "outputs": [],
   "source": [
    "#cytoscape\n",
    "#https://www.slideshare.net/keiono/introduction-to-biological-network-analysis-and-visualization-with-cytoscape-part-2?next_slideshow=1\n",
    "# https://github.com/idekerlab/py2cytoscape\n",
    "# http://www.cytoscape.org/what_is_cytoscape.html\n"
   ]
  }
 ],
 "metadata": {
  "kernelspec": {
   "display_name": "Python 3",
   "language": "python",
   "name": "python3"
  },
  "language_info": {
   "codemirror_mode": {
    "name": "ipython",
    "version": 3
   },
   "file_extension": ".py",
   "mimetype": "text/x-python",
   "name": "python",
   "nbconvert_exporter": "python",
   "pygments_lexer": "ipython3",
   "version": "3.5.2"
  }
 },
 "nbformat": 4,
 "nbformat_minor": 2
}
