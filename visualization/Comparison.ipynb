{
 "cells": [
  {
   "cell_type": "markdown",
   "metadata": {},
   "source": [
    "* sudo pip install graphviz\n",
    "* http://graphviz.readthedocs.io/en/stable/manual.html\n",
    "    * looks like the documentation is pretty solid. \n",
    "* http://www.graphviz.org/doc/info/attrs.html\n",
    "*  https://github.com/xflr6/graphviz/issues/19\n",
    "    * used for visualization \" The library is exactly for creating (rendering, etc.) the DOT code lines for a graph, not as a generic library for representing graphs (like e.g. NetworkX)\""
   ]
  },
  {
   "cell_type": "code",
   "execution_count": 1,
   "metadata": {},
   "outputs": [
    {
     "data": {
      "application/vnd.jupyter.widget-view+json": {
       "model_id": "622461c193874d5fa3874e2c03f96e1e"
      }
     },
     "metadata": {},
     "output_type": "display_data"
    },
    {
     "data": {
      "text/plain": [
       "<function __main__.viz>"
      ]
     },
     "execution_count": 1,
     "metadata": {},
     "output_type": "execute_result"
    }
   ],
   "source": [
    "import graphviz\n",
    "from ipywidgets import interact\n",
    "from ipywidgets import widgets\n",
    "\n",
    "def viz(p):\n",
    "    d = graphviz.Digraph()\n",
    "    d.attr('node', shape='circle')\n",
    "    d.attr('edge', penwidth='7')\n",
    "    d.edge('hello', 'world')\n",
    "    d.attr('edge', penwidth='2')\n",
    "    d.edge('goodbye', 'world')\n",
    "    d.edge('hello', 'goodbye', _attributes={'penwidth' : str(p)})\n",
    "    d.engine = 'circo'\n",
    "    return d\n",
    "\n",
    "p = widgets.IntSlider(min=0, max=10, step=1, value=3)\n",
    "interact(viz, p=p)"
   ]
  },
  {
   "cell_type": "code",
   "execution_count": 2,
   "metadata": {},
   "outputs": [
    {
     "data": {
      "application/vnd.jupyter.widget-view+json": {
       "model_id": "65ec4550ddc24a0aa0b58d299ba5a3dd"
      }
     },
     "metadata": {},
     "output_type": "display_data"
    },
    {
     "data": {
      "text/plain": [
       "<function __main__.pygraphDraw>"
      ]
     },
     "execution_count": 2,
     "metadata": {},
     "output_type": "execute_result"
    }
   ],
   "source": [
    "#http://pygraphviz.github.io/documentation/latest/reference/agraph.html\n",
    "    # http://www.graphviz.org/doc/info/attrs.html\n",
    "# seems to be a bit faster than nxpd\n",
    "import pygraphviz\n",
    "from IPython.display import Image\n",
    "from ipywidgets import interact\n",
    "from ipywidgets import widgets\n",
    "\n",
    "def pygraphDraw(p):\n",
    "    G = pygraphviz.AGraph()#cycle_graph(4, create_using=nx.DiGraph())\n",
    "    G.add_node('FSSN1', color='red', style='filled', fillcolor='pink', shape='circle')\n",
    "    G.add_node('FSSN2')\n",
    "    G.add_node('FSSN3')\n",
    "    G.add_edge('FSSN1', 'FSSN2', penwidth=p)\n",
    "    G.add_edge('FSSN1', 'FSSN3', penwidth=2)\n",
    "    G.layout()\n",
    "    G.draw('graph.png')\n",
    "    return Image(G.draw(format='png', prog='circo'))\n",
    "    \n",
    "\n",
    "p = widgets.IntSlider(min=0, max=10, step=1, value=3)\n",
    "interact(pygraphDraw, p=p)"
   ]
  },
  {
   "cell_type": "code",
   "execution_count": 3,
   "metadata": {},
   "outputs": [
    {
     "data": {
      "application/vnd.jupyter.widget-view+json": {
       "model_id": "f8add9a493244237a8332e869799522d"
      }
     },
     "metadata": {},
     "output_type": "display_data"
    },
    {
     "data": {
      "text/plain": [
       "<function __main__.drawNXPD>"
      ]
     },
     "execution_count": 3,
     "metadata": {},
     "output_type": "execute_result"
    }
   ],
   "source": [
    "#https://github.com/chebee7i/nxpd\n",
    "#https://stackoverflow.com/questions/32375679/ipython-notebook-plotting-transition-diagrams\n",
    "\n",
    "import networkx as nx\n",
    "import nxpd\n",
    "from ipywidgets import interact\n",
    "from ipywidgets import widgets\n",
    "\n",
    "\n",
    "\n",
    "def drawNXPD(p):\n",
    "    G = nx.Graph()#cycle_graph(4, create_using=nx.DiGraph())\n",
    "    G.add_node('FSSN1', color='red', style='filled', fillcolor='pink', shape='circle')\n",
    "    G.add_node('FSSN2')\n",
    "    G.add_node('FSSN3')\n",
    "    G.add_edge('FSSN1', 'FSSN2', penwidth=p)\n",
    "    G.add_edge('FSSN1', 'FSSN3', penwidth=2)\n",
    "    print(type(nxpd.draw(G, show='ipynb')))\n",
    "    return nxpd.draw(G, show='ipynb')\n",
    "    \n",
    "\n",
    "p = widgets.IntSlider(min=0, max=10, step=1, value=3)\n",
    "\n",
    "interact(drawNXPD, p=p)"
   ]
  },
  {
   "cell_type": "code",
   "execution_count": 4,
   "metadata": {},
   "outputs": [
    {
     "data": {
      "image/png": "[encoded data removed]",
      "text/plain": [
       "<IPython.core.display.Image object>"
      ]
     },
     "execution_count": 4,
     "metadata": {},
     "output_type": "execute_result"
    }
   ],
   "source": [
    "#https://stackoverflow.com/questions/32375679/ipython-notebook-plotting-transition-diagrams\n",
    "import pygraphviz as pgv\n",
    "from IPython.display import Image\n",
    "\n",
    "def draw(dot):\n",
    "    return Image(pgv.AGraph(dot).draw(format='png', prog='dot'))\n",
    "\n",
    "g1 = \"\"\"digraph top {\n",
    "   a -> b -> c;\n",
    "}\"\"\"\n",
    "draw(g1)"
   ]
  },
  {
   "cell_type": "code",
   "execution_count": 5,
   "metadata": {},
   "outputs": [
    {
     "data": {
      "application/vnd.jupyter.widget-view+json": {
       "model_id": "2dbaf3f188054ea684666a2a9803c507"
      }
     },
     "metadata": {},
     "output_type": "display_data"
    },
    {
     "data": {
      "text/plain": [
       "<function __main__.genGraph>"
      ]
     },
     "execution_count": 5,
     "metadata": {},
     "output_type": "execute_result"
    }
   ],
   "source": [
    "import matplotlib.pyplot as plt\n",
    "from ipywidgets import interact\n",
    "from ipywidgets import widgets\n",
    "\n",
    "def genGraph(p):\n",
    "    \n",
    "    G = nx.complete_graph(p)\n",
    "    #G1 = placeStations(G)\n",
    "    nx.draw(G)\n",
    "    plt.show()\n",
    "\n",
    "p = widgets.IntSlider(min=0, max=10, step=1, value=3)\n",
    "\n",
    "interact(genGraph, p=p)"
   ]
  },
  {
   "cell_type": "code",
   "execution_count": 6,
   "metadata": {
    "collapsed": true
   },
   "outputs": [],
   "source": [
    "#cytoscape\n",
    "#https://www.slideshare.net/keiono/introduction-to-biological-network-analysis-and-visualization-with-cytoscape-part-2?next_slideshow=1\n",
    "# https://github.com/idekerlab/py2cytoscape\n",
    "# http://www.cytoscape.org/what_is_cytoscape.html\n"
   ]
  },
  {
   "cell_type": "code",
   "execution_count": 7,
   "metadata": {},
   "outputs": [
    {
     "data": {
      "image/png": "[encoded data removed]",
      "text/plain": [
       "<IPython.core.display.Image object>"
      ]
     },
     "execution_count": 7,
     "metadata": {},
     "output_type": "execute_result"
    }
   ],
   "source": [
    "import pygraphviz as p\n",
    "\n",
    "G = p.AGraph(directed=True)\n",
    "\n",
    "\n",
    "G.add_node(1)\n",
    "G.add_node(2)\n",
    "G.add_node(3)\n",
    "G.add_node(4)\n",
    "G.add_node('Dummy_1')\n",
    "G.add_node('Dummy_2', shape='point', style='invis')\n",
    "\n",
    "G.add_edge(1,3)\n",
    "G.add_edge('Dummy_1', 'Dummy_2')\n",
    "\n",
    "G.node_attr['color']='red'\n",
    "G.node_attr['style']='filled'\n",
    "G.graph_attr['label']='a graph'\n",
    "\n",
    "G1 = G.subgraph(nbunch=[1,2, 'Dummy_1'],\n",
    "                name=\"cluster1\",\n",
    "                style='filled',\n",
    "                color='lightgrey',\n",
    "                label='cluster 1 label')\n",
    "\n",
    "# this doesn't work correctly\n",
    "#G1.node_attr['style']='filled'\n",
    "#G1.node_attr['color']='blue'\n",
    "\n",
    "attributes={}\n",
    "attributes.update(style='filled',\n",
    "                  color='yellow',\n",
    "                  label='cluster 2 label')\n",
    "\n",
    "G2 = G.subgraph(nbunch=[3,4, 'Dummy_2'],name=\"cluster2\",**attributes)\n",
    "#G.add_edge(G1, G2)\n",
    "\n",
    "Image(G.draw(format='png', prog='dot'))"
   ]
  },
  {
   "cell_type": "code",
   "execution_count": 13,
   "metadata": {},
   "outputs": [
    {
     "data": {
      "text/plain": [
       "[(0, {}),\n",
       " (1, {}),\n",
       " (2, {}),\n",
       " (3, {}),\n",
       " (4, {}),\n",
       " ('3app1', {}),\n",
       " ('1app2', {}),\n",
       " ('5app1', {}),\n",
       " ('2app1', {}),\n",
       " ('4app1', {}),\n",
       " ('1app1', {})]"
      ]
     },
     "metadata": {},
     "output_type": "display_data"
    },
    {
     "data": {
      "text/plain": [
       "'-0.92114,-44.512'"
      ]
     },
     "metadata": {},
     "output_type": "display_data"
    },
    {
     "data": {
      "text/plain": [
       "['height', 'pos', 'width']"
      ]
     },
     "metadata": {},
     "output_type": "display_data"
    },
    {
     "ename": "TypeError",
     "evalue": "cannot use a string pattern on a bytes-like object",
     "output_type": "error",
     "traceback": [
      "\u001b[0;31m---------------------------------------------------------------------------\u001b[0m",
      "\u001b[0;31mTypeError\u001b[0m                                 Traceback (most recent call last)",
      "\u001b[0;32m<ipython-input-13-a9da964ba375>\u001b[0m in \u001b[0;36m<module>\u001b[0;34m()\u001b[0m\n\u001b[1;32m     58\u001b[0m                 \u001b[0mcolor\u001b[0m\u001b[0;34m=\u001b[0m\u001b[0;34m'lightgrey'\u001b[0m\u001b[0;34m,\u001b[0m\u001b[0;34m\u001b[0m\u001b[0m\n\u001b[1;32m     59\u001b[0m                 label='FSSN5')\n\u001b[0;32m---> 60\u001b[0;31m \u001b[0mImage\u001b[0m\u001b[0;34m(\u001b[0m\u001b[0mAK\u001b[0m\u001b[0;34m.\u001b[0m\u001b[0mdraw\u001b[0m\u001b[0;34m(\u001b[0m\u001b[0mformat\u001b[0m\u001b[0;34m=\u001b[0m\u001b[0;34m'png'\u001b[0m\u001b[0;34m,\u001b[0m \u001b[0mprog\u001b[0m\u001b[0;34m=\u001b[0m\u001b[0;34m'fdp'\u001b[0m\u001b[0;34m)\u001b[0m\u001b[0;34m)\u001b[0m\u001b[0;34m\u001b[0m\u001b[0m\n\u001b[0m\u001b[1;32m     61\u001b[0m \u001b[0;34m\u001b[0m\u001b[0m\n",
      "\u001b[0;32m/usr/local/lib/python3.5/dist-packages/pygraphviz/agraph.py\u001b[0m in \u001b[0;36mdraw\u001b[0;34m(self, path, format, prog, args)\u001b[0m\n\u001b[1;32m   1472\u001b[0m             \u001b[0margs\u001b[0m \u001b[0;34m=\u001b[0m \u001b[0;34m' '\u001b[0m\u001b[0;34m.\u001b[0m\u001b[0mjoin\u001b[0m\u001b[0;34m(\u001b[0m\u001b[0;34m[\u001b[0m\u001b[0margs\u001b[0m\u001b[0;34m,\u001b[0m \u001b[0;34m\"-T\"\u001b[0m \u001b[0;34m+\u001b[0m \u001b[0mformat\u001b[0m\u001b[0;34m]\u001b[0m\u001b[0;34m)\u001b[0m\u001b[0;34m\u001b[0m\u001b[0m\n\u001b[1;32m   1473\u001b[0m \u001b[0;34m\u001b[0m\u001b[0m\n\u001b[0;32m-> 1474\u001b[0;31m         \u001b[0mdata\u001b[0m \u001b[0;34m=\u001b[0m \u001b[0mself\u001b[0m\u001b[0;34m.\u001b[0m\u001b[0m_run_prog\u001b[0m\u001b[0;34m(\u001b[0m\u001b[0mprog\u001b[0m\u001b[0;34m,\u001b[0m \u001b[0margs\u001b[0m\u001b[0;34m)\u001b[0m\u001b[0;34m\u001b[0m\u001b[0m\n\u001b[0m\u001b[1;32m   1475\u001b[0m \u001b[0;34m\u001b[0m\u001b[0m\n\u001b[1;32m   1476\u001b[0m         \u001b[0;32mif\u001b[0m \u001b[0mpath\u001b[0m \u001b[0;32mis\u001b[0m \u001b[0;32mnot\u001b[0m \u001b[0;32mNone\u001b[0m\u001b[0;34m:\u001b[0m\u001b[0;34m\u001b[0m\u001b[0m\n",
      "\u001b[0;32m/usr/local/lib/python3.5/dist-packages/pygraphviz/agraph.py\u001b[0m in \u001b[0;36m_run_prog\u001b[0;34m(self, prog, args)\u001b[0m\n\u001b[1;32m   1336\u001b[0m \u001b[0;34m\u001b[0m\u001b[0m\n\u001b[1;32m   1337\u001b[0m         \u001b[0;32mif\u001b[0m \u001b[0mlen\u001b[0m\u001b[0;34m(\u001b[0m\u001b[0merrors\u001b[0m\u001b[0;34m)\u001b[0m \u001b[0;34m>\u001b[0m \u001b[0;36m0\u001b[0m\u001b[0;34m:\u001b[0m\u001b[0;34m\u001b[0m\u001b[0m\n\u001b[0;32m-> 1338\u001b[0;31m             \u001b[0mwarnings\u001b[0m\u001b[0;34m.\u001b[0m\u001b[0mwarn\u001b[0m\u001b[0;34m(\u001b[0m\u001b[0;34mb\"\"\u001b[0m\u001b[0;34m.\u001b[0m\u001b[0mjoin\u001b[0m\u001b[0;34m(\u001b[0m\u001b[0merrors\u001b[0m\u001b[0;34m)\u001b[0m\u001b[0;34m,\u001b[0m \u001b[0mRuntimeWarning\u001b[0m\u001b[0;34m)\u001b[0m\u001b[0;34m\u001b[0m\u001b[0m\n\u001b[0m\u001b[1;32m   1339\u001b[0m \u001b[0;34m\u001b[0m\u001b[0m\n\u001b[1;32m   1340\u001b[0m         \u001b[0;32mreturn\u001b[0m \u001b[0;34mb\"\"\u001b[0m\u001b[0;34m.\u001b[0m\u001b[0mjoin\u001b[0m\u001b[0;34m(\u001b[0m\u001b[0mdata\u001b[0m\u001b[0;34m)\u001b[0m\u001b[0;34m\u001b[0m\u001b[0m\n",
      "\u001b[0;31mTypeError\u001b[0m: cannot use a string pattern on a bytes-like object"
     ]
    }
   ],
   "source": [
    "import pygraphviz as p\n",
    "import networkx as nx\n",
    "from networkx.drawing.nx_agraph import graphviz_layout, to_agraph\n",
    "import nxpd\n",
    "#from networkx.drawing import draw_graphviz\n",
    "\n",
    "K = nx.complete_graph(5)\n",
    "K.add_nodes_from(['1app1', '1app2', '2app1', '3app1', '4app1', '5app1'])\n",
    "K.add_edge('1app1', 1)\n",
    "K.add_edge('1app2', 1)\n",
    "K.add_edge('2app1', 2)\n",
    "K.add_edge('3app1', 3)\n",
    "K.add_edge('4app1', 4)\n",
    "K.add_edge('5app1', 0)\n",
    "\n",
    "\n",
    "pos  = graphviz_layout(K)\n",
    "#nx.set_node_attributes(K, 'pos', pos)\n",
    "display(K.nodes(data=True))\n",
    "AK = to_agraph(K)\n",
    "AK.add_node(\"colored\", color='brown')\n",
    "AK.layout()\n",
    "fssn1 = AK.get_node('1')\n",
    "\n",
    "\n",
    "display(fssn1.attr.get('pos'))\n",
    "display(fssn1.attr.keys())\n",
    "#fssn1.attr['name']='FSSN1'\n",
    "#display(fssn1.attr.keys())\n",
    "#fssn1.attr['pos']= '1,1'\n",
    "#display(fssn1.attr.get('pos'))\n",
    "\n",
    "#nxpd.draw(K)\n",
    "FSSN1 = AK.subgraph(nbunch=[1,'1app1', '1app2'],\n",
    "                name=\"cluster1\",\n",
    "                style='filled',\n",
    "                color='lightgrey',\n",
    "                label='FSSN1')\n",
    "\n",
    "FSSN2 = AK.subgraph(nbunch=[2,'2app1'],\n",
    "                name=\"cluster2\",\n",
    "                style='filled',\n",
    "                color='lightgrey',\n",
    "                label='FSSN2')\n",
    "FSSN3 = AK.subgraph(nbunch=[3,'3app1'],\n",
    "                name=\"cluster3\",\n",
    "                style='filled',\n",
    "                color='lightgrey',\n",
    "                label='FSSN3')\n",
    "FSSN4 = AK.subgraph(nbunch=[4,'4app1'],\n",
    "                name=\"cluster4\",\n",
    "                style='filled',\n",
    "                color='lightgrey',\n",
    "                label='FSSN4')\n",
    "FSSN5 = AK.subgraph(nbunch=[0,'5app1'],\n",
    "                name=\"cluster5\",\n",
    "                style='filled',\n",
    "                color='lightgrey',\n",
    "                label='FSSN5')\n",
    "Image(AK.draw(format='png', prog='fdp'))\n",
    "\n"
   ]
  },
  {
   "cell_type": "code",
   "execution_count": 9,
   "metadata": {},
   "outputs": [
    {
     "ename": "NameError",
     "evalue": "name 'addStations' is not defined",
     "output_type": "error",
     "traceback": [
      "\u001b[0;31m---------------------------------------------------------------------------\u001b[0m",
      "\u001b[0;31mNameError\u001b[0m                                 Traceback (most recent call last)",
      "\u001b[0;32m<ipython-input-9-37587aa5c61b>\u001b[0m in \u001b[0;36m<module>\u001b[0;34m()\u001b[0m\n\u001b[1;32m      5\u001b[0m \u001b[0;34m\u001b[0m\u001b[0m\n\u001b[1;32m      6\u001b[0m \u001b[0mG\u001b[0m \u001b[0;34m=\u001b[0m \u001b[0mpygraphviz\u001b[0m\u001b[0;34m.\u001b[0m\u001b[0mAGraph\u001b[0m\u001b[0;34m(\u001b[0m\u001b[0mroot\u001b[0m\u001b[0;34m=\u001b[0m\u001b[0;32mNone\u001b[0m\u001b[0;34m)\u001b[0m\u001b[0;34m\u001b[0m\u001b[0m\n\u001b[0;32m----> 7\u001b[0;31m \u001b[0maddStations\u001b[0m\u001b[0;34m(\u001b[0m\u001b[0mG\u001b[0m\u001b[0;34m)\u001b[0m\u001b[0;34m\u001b[0m\u001b[0m\n\u001b[0m\u001b[1;32m      8\u001b[0m \u001b[0mG\u001b[0m\u001b[0;34m.\u001b[0m\u001b[0mlayout\u001b[0m\u001b[0;34m(\u001b[0m\u001b[0;34m)\u001b[0m\u001b[0;34m\u001b[0m\u001b[0m\n\u001b[1;32m      9\u001b[0m \u001b[0mG\u001b[0m\u001b[0;34m.\u001b[0m\u001b[0mnodes\u001b[0m\u001b[0;34m(\u001b[0m\u001b[0;34m)\u001b[0m\u001b[0;34m\u001b[0m\u001b[0m\n",
      "\u001b[0;31mNameError\u001b[0m: name 'addStations' is not defined"
     ]
    }
   ],
   "source": [
    "import pygraphviz\n",
    "from IPython.display import Image\n",
    "from ipywidgets import interact\n",
    "from ipywidgets import widgets\n",
    "\n",
    "G = pygraphviz.AGraph(root=None)\n",
    "addStations(G)\n",
    "G.layout()\n",
    "G.nodes()\n",
    "\n",
    "fssn1 = G.get_node('FSSN1')\n",
    "display(fssn1.attr.get('pos'))\n",
    "display(fssn1.attr.keys())\n",
    "fssn1.attr['name']='FSSN1'\n",
    "display(fssn1.attr.keys())"
   ]
  },
  {
   "cell_type": "code",
   "execution_count": null,
   "metadata": {
    "collapsed": true
   },
   "outputs": [],
   "source": []
  }
 ],
 "metadata": {
  "kernelspec": {
   "display_name": "Python 3",
   "language": "python",
   "name": "python3"
  },
  "language_info": {
   "codemirror_mode": {
    "name": "ipython",
    "version": 3
   },
   "file_extension": ".py",
   "mimetype": "text/x-python",
   "name": "python",
   "nbconvert_exporter": "python",
   "pygments_lexer": "ipython3",
   "version": "3.5.2"
  }
 },
 "nbformat": 4,
 "nbformat_minor": 2
}
