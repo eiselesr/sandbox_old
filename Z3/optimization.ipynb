{
 "cells": [
  {
   "cell_type": "code",
   "execution_count": 1,
   "metadata": {
    "collapsed": true
   },
   "outputs": [],
   "source": [
    "import json\n",
    "import pprint"
   ]
  },
  {
   "cell_type": "code",
   "execution_count": 2,
   "metadata": {
    "collapsed": true
   },
   "outputs": [],
   "source": [
    "import z3\n",
    "x=z3.Int('x')\n",
    "y=z3.Int('y')\n",
    "constraints=[z3.And((x<2),(y-x)<1)]"
   ]
  },
  {
   "cell_type": "code",
   "execution_count": 3,
   "metadata": {},
   "outputs": [
    {
     "name": "stdout",
     "output_type": "stream",
     "text": [
      "sat\n",
      "[y = -1, x = 0]\n"
     ]
    }
   ],
   "source": [
    "optimizer = z3.Optimize()\n",
    "optimizer.add(constraints)\n",
    "optimizer.minimize(x+y)\n",
    "print(optimizer.check())\n",
    "print(optimizer.model())"
   ]
  },
  {
   "cell_type": "code",
   "execution_count": 4,
   "metadata": {},
   "outputs": [
    {
     "name": "stdout",
     "output_type": "stream",
     "text": [
      "sat\n",
      "[y = 1, x = 1]\n"
     ]
    }
   ],
   "source": [
    "optimizer = z3.Optimize()\n",
    "optimizer.add(constraints)\n",
    "optimizer.maximize(x+y)\n",
    "print(optimizer.check())\n",
    "print(optimizer.model())"
   ]
  },
  {
   "cell_type": "code",
   "execution_count": 5,
   "metadata": {
    "collapsed": true
   },
   "outputs": [],
   "source": [
    "with open ('dummy_km.json') as file:\n",
    "    data = json.load(file)\n",
    "    \n",
    "#pprint.pprint(data)"
   ]
  },
  {
   "cell_type": "code",
   "execution_count": 6,
   "metadata": {},
   "outputs": [
    {
     "data": {
      "text/plain": [
       "['APP2', 'APP3']"
      ]
     },
     "execution_count": 6,
     "metadata": {},
     "output_type": "execute_result"
    }
   ],
   "source": [
    "data['VG1']['dependencies']['nonlocal']"
   ]
  },
  {
   "cell_type": "markdown",
   "metadata": {},
   "source": [
    "I think there needs to be a list of all resource types. I'm not sure how to guarantee the ordering otherwise. "
   ]
  },
  {
   "cell_type": "code",
   "execution_count": 7,
   "metadata": {},
   "outputs": [
    {
     "data": {
      "text/plain": [
       "['memory',\n",
       " 'storage',\n",
       " 'memory',\n",
       " 'storage',\n",
       " 'memory',\n",
       " 'storage',\n",
       " 'memory',\n",
       " 'storage',\n",
       " 'memory',\n",
       " 'storage']"
      ]
     },
     "execution_count": 7,
     "metadata": {},
     "output_type": "execute_result"
    }
   ],
   "source": [
    "[j for i in data for j in data[i]['resources'] ]#depth first, pull all elements "
   ]
  },
  {
   "cell_type": "code",
   "execution_count": 8,
   "metadata": {},
   "outputs": [
    {
     "name": "stdout",
     "output_type": "stream",
     "text": [
      "{'memory', 'storage'}\n"
     ]
    }
   ],
   "source": [
    "resourceTypes = set([j for i in data for j in data[i]['resources'] ])\n",
    "print(resourceTypes)"
   ]
  },
  {
   "cell_type": "markdown",
   "metadata": {},
   "source": [
    "nodeList"
   ]
  },
  {
   "cell_type": "code",
   "execution_count": 9,
   "metadata": {},
   "outputs": [
    {
     "name": "stdout",
     "output_type": "stream",
     "text": [
      "['FSSN3', 'FSSN2', 'FSSN1']\n"
     ]
    }
   ],
   "source": [
    "nodeList = list()\n",
    "for i in data:\n",
    "    if data[i]['type']=='node':\n",
    "        nodeList.append(i)\n",
    "print (nodeList)"
   ]
  },
  {
   "cell_type": "code",
   "execution_count": 10,
   "metadata": {},
   "outputs": [
    {
     "name": "stdout",
     "output_type": "stream",
     "text": [
      "['VG1', 'APP2']\n"
     ]
    }
   ],
   "source": [
    "appList = list()\n",
    "for i in data:\n",
    "    if data[i]['type']=='app':\n",
    "        appList.append(i)\n",
    "print (appList)"
   ]
  },
  {
   "cell_type": "code",
   "execution_count": 11,
   "metadata": {},
   "outputs": [
    {
     "name": "stdout",
     "output_type": "stream",
     "text": [
      "[[a2n_0_0, a2n_0_1, a2n_0_2], [a2n_1_0, a2n_1_1, a2n_1_2]]\n"
     ]
    }
   ],
   "source": [
    "a2n = [ [ z3.Int(\"a2n_%s_%s\" % (i, j)) for j in range(len(nodeList)) ]\n",
    "            for i in range(len(appList)) ]\n",
    "print(a2n)"
   ]
  },
  {
   "cell_type": "code",
   "execution_count": 12,
   "metadata": {},
   "outputs": [
    {
     "name": "stdout",
     "output_type": "stream",
     "text": [
      "[[a2n_VG1onFSSN3, a2n_VG1onFSSN2, a2n_VG1onFSSN1], [a2n_APP2onFSSN3, a2n_APP2onFSSN2, a2n_APP2onFSSN1]]\n"
     ]
    }
   ],
   "source": [
    "a2n = [ [ z3.Int(\"a2n_%son%s\" % (i, j)) for j in nodeList ]\n",
    "            for i in appList]\n",
    "print(a2n)"
   ]
  },
  {
   "cell_type": "markdown",
   "metadata": {},
   "source": [
    "matrix for resource x node matrix"
   ]
  },
  {
   "cell_type": "code",
   "execution_count": 13,
   "metadata": {},
   "outputs": [
    {
     "name": "stdout",
     "output_type": "stream",
     "text": [
      "[[rpn_memory_FSSN3, rpn_memory_FSSN2, rpn_memory_FSSN1],\n",
      " [rpn_storage_FSSN3, rpn_storage_FSSN2, rpn_storage_FSSN1]]\n",
      "[[512, 256, 1512], [1024, 512, 1024]]\n",
      "index [1][0] rpn_storage_FSSN3 1024\n"
     ]
    }
   ],
   "source": [
    "#build and check format for matrix of node resources\n",
    "rsrc_per_node = [[z3.Int(\"rpn_%s_%s\" %(k, j)) for j in nodeList] for k in resourceTypes]\n",
    "rpn= [[data[j]['resources'][k] for j in nodeList] for k in resourceTypes]\n",
    "\n",
    "k = 1\n",
    "j = 0\n",
    "pprint.pprint (rsrc_per_node)\n",
    "pprint.pprint(rpn)\n",
    "print(\"index [{}][{}] {} {}\".format(k,j, rsrc_per_node[k][j], rpn[k][j]))"
   ]
  },
  {
   "cell_type": "code",
   "execution_count": 14,
   "metadata": {},
   "outputs": [
    {
     "name": "stdout",
     "output_type": "stream",
     "text": [
      "['VG1', 'APP2']\n",
      "[[rpa_memory_VG1, rpa_memory_APP2], [rpa_storage_VG1, rpa_storage_APP2]]\n",
      "index [1][1] rpa_storage_APP2 512\n"
     ]
    }
   ],
   "source": [
    "#build and check format for matrix of app resource requirements\n",
    "print ([i for i in appList])\n",
    "rsrc_per_app = [[z3.Int(\"rpa_%s_%s\" %(k, i)) for i in appList] for k in resourceTypes]\n",
    "\n",
    "k = 1\n",
    "i = 1\n",
    "\n",
    "pprint.pprint(rsrc_per_app)\n",
    "rpa= [[data[i]['resources'][k] for i in appList] for k in resourceTypes]\n",
    "print(\"index [{}][{}] {} {}\".format(k,i, rsrc_per_app[k][i], rpa[k][i]))"
   ]
  },
  {
   "cell_type": "code",
   "execution_count": 15,
   "metadata": {},
   "outputs": [
    {
     "name": "stdout",
     "output_type": "stream",
     "text": [
      "index [1][1] rpn_storage_FSSN2 512\n",
      "index [1][0] rpa_storage_VG1 512\n"
     ]
    },
    {
     "data": {
      "text/plain": [
       "True"
      ]
     },
     "execution_count": 15,
     "metadata": {},
     "output_type": "execute_result"
    }
   ],
   "source": [
    "#make sure resources match when k changes. \n",
    "\n",
    "k = 1\n",
    "i = 0\n",
    "j = 1\n",
    "print(\"index [{}][{}] {} {}\".format(k,j, rsrc_per_node[k][j], rpn[k][j]))\n",
    "print(\"index [{}][{}] {} {}\".format(k,i, rsrc_per_app[k][i], rpa[k][i]))\n",
    "\n",
    "rpn[k][j] >= rpa[k][i]"
   ]
  },
  {
   "cell_type": "code",
   "execution_count": 23,
   "metadata": {},
   "outputs": [
    {
     "name": "stdout",
     "output_type": "stream",
     "text": [
      "[Or(a2n_VG1onFSSN3 == 0,\n",
      "   a2n_VG1onFSSN3 == 1,\n",
      "   a2n_VG1onFSSN3 == 2), Or(a2n_APP2onFSSN3 == 0,\n",
      "   a2n_APP2onFSSN3 == 1,\n",
      "   a2n_APP2onFSSN3 == 2), Or(a2n_VG1onFSSN2 == 0,\n",
      "   a2n_VG1onFSSN2 == 1,\n",
      "   a2n_VG1onFSSN2 == 2), Or(a2n_APP2onFSSN2 == 0,\n",
      "   a2n_APP2onFSSN2 == 1,\n",
      "   a2n_APP2onFSSN2 == 2), Or(a2n_VG1onFSSN1 == 0,\n",
      "   a2n_VG1onFSSN1 == 1,\n",
      "   a2n_VG1onFSSN1 == 2), Or(a2n_APP2onFSSN1 == 0,\n",
      "   a2n_APP2onFSSN1 == 1,\n",
      "   a2n_APP2onFSSN1 == 2)]\n"
     ]
    }
   ],
   "source": [
    "val_a2n = [ z3.Or(a2n[i][j]==0,a2n[i][j]==1,a2n[i][j]==2) for j in range(len(nodeList))\n",
    "          for i in range(len(appList)) ]\n",
    "print(val_a2n)"
   ]
  },
  {
   "cell_type": "code",
   "execution_count": 24,
   "metadata": {
    "collapsed": true
   },
   "outputs": [],
   "source": [
    "rsrc_constraint = [rpn[k][j] >= z3.Sum([a2n[i][j]*rpa[k][i] for i in range(len(appList))]) \n",
    " for j in range(len(nodeList))\n",
    " for k in range(len(resourceTypes))]"
   ]
  },
  {
   "cell_type": "code",
   "execution_count": 25,
   "metadata": {
    "collapsed": true
   },
   "outputs": [],
   "source": [
    "solver = z3.Solver()\n",
    "solver.add(val_a2n + rsrc_constraint)"
   ]
  },
  {
   "cell_type": "code",
   "execution_count": 19,
   "metadata": {},
   "outputs": [
    {
     "data": {
      "text/plain": [
       "sat"
      ]
     },
     "execution_count": 19,
     "metadata": {},
     "output_type": "execute_result"
    }
   ],
   "source": [
    "solver.check()"
   ]
  },
  {
   "cell_type": "code",
   "execution_count": 20,
   "metadata": {},
   "outputs": [
    {
     "data": {
      "text/plain": [
       "[a2n_VG1onFSSN3 = 0,\n",
       " a2n_VG1onFSSN2 = 0,\n",
       " a2n_VG1onFSSN1 = 0,\n",
       " a2n_APP2onFSSN1 = 0,\n",
       " a2n_APP2onFSSN3 = 0,\n",
       " a2n_APP2onFSSN2 = 0]"
      ]
     },
     "execution_count": 20,
     "metadata": {},
     "output_type": "execute_result"
    }
   ],
   "source": [
    "solver.model()"
   ]
  },
  {
   "cell_type": "code",
   "execution_count": 21,
   "metadata": {},
   "outputs": [
    {
     "data": {
      "text/plain": [
       "[[a2n_VG1onFSSN3, a2n_VG1onFSSN2, a2n_VG1onFSSN1],\n",
       " [a2n_APP2onFSSN3, a2n_APP2onFSSN2, a2n_APP2onFSSN1]]"
      ]
     },
     "execution_count": 21,
     "metadata": {},
     "output_type": "execute_result"
    }
   ],
   "source": [
    "a2n"
   ]
  },
  {
   "cell_type": "code",
   "execution_count": 22,
   "metadata": {},
   "outputs": [
    {
     "name": "stdout",
     "output_type": "stream",
     "text": [
      "sat\n",
      "[a2n_VG1onFSSN3 = 1,\n",
      " a2n_APP2onFSSN3 = 1,\n",
      " a2n_VG1onFSSN2 = 0,\n",
      " a2n_APP2onFSSN2 = 1,\n",
      " a2n_VG1onFSSN1 = 1,\n",
      " a2n_APP2onFSSN1 = 1]\n"
     ]
    }
   ],
   "source": [
    "from functools import reduce\n",
    "optimizer = z3.Optimize()\n",
    "constraints = val_a2n + rsrc_constraint\n",
    "optimizer.add(constraints)\n",
    "optimizer.maximize(reduce(lambda x, y: x + sum(y), a2n, 0))\n",
    "print(optimizer.check())\n",
    "print(optimizer.model())"
   ]
  },
  {
   "cell_type": "code",
   "execution_count": null,
   "metadata": {
    "collapsed": true
   },
   "outputs": [],
   "source": []
  }
 ],
 "metadata": {
  "kernelspec": {
   "display_name": "Python 3",
   "language": "python",
   "name": "python3"
  },
  "language_info": {
   "codemirror_mode": {
    "name": "ipython",
    "version": 3
   },
   "file_extension": ".py",
   "mimetype": "text/x-python",
   "name": "python",
   "nbconvert_exporter": "python",
   "pygments_lexer": "ipython3",
   "version": "3.5.2"
  }
 },
 "nbformat": 4,
 "nbformat_minor": 2
}
