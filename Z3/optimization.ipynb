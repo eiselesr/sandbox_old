{
 "cells": [
  {
   "cell_type": "code",
   "execution_count": 1,
   "metadata": {
    "collapsed": true
   },
   "outputs": [],
   "source": [
    "import json\n",
    "import pprint"
   ]
  },
  {
   "cell_type": "code",
   "execution_count": 2,
   "metadata": {
    "collapsed": true
   },
   "outputs": [],
   "source": [
    "import z3\n",
    "#https://z3prover.github.io/api/html/z3py_8py_source.html"
   ]
  },
  {
   "cell_type": "code",
   "execution_count": 3,
   "metadata": {},
   "outputs": [
    {
     "name": "stdout",
     "output_type": "stream",
     "text": [
      "dump_benchmarks (bool) dump benchmarks for profiling (default: false)\n",
      "elim_01 (bool) eliminate 01 variables (default: true)\n",
      "enable_sat (bool) enable the new SAT core for propositional constraints (default: true)\n",
      "enable_sls (bool) enable SLS tuning during weighted maxsast (default: false)\n",
      "maxres.add_upper_bound_block (bool) restict upper bound with constraint (default: false)\n",
      "maxres.hill_climb (bool) give preference for large weight cores (default: true)\n",
      "maxres.max_core_size (unsigned int) break batch of generated cores if size reaches this number (default: 3)\n",
      "maxres.max_correction_set_size (unsigned int) allow generating correction set constraints up to maximal size (default: 3)\n",
      "maxres.max_num_cores (unsigned int) maximal number of cores per round (default: 4294967295)\n",
      "maxres.maximize_assignment (bool) find an MSS/MCS to improve current assignment (default: false)\n",
      "maxres.pivot_on_correction_set (bool) reduce soft constraints if the current correction set is smaller than current core (default: true)\n",
      "maxres.wmax (bool) use weighted theory solver to constrain upper bounds (default: false)\n",
      "maxsat_engine (symbol) select engine for maxsat: 'core_maxsat', 'wmax', 'maxres', 'pd-maxres' (default: maxres)\n",
      "optsmt_engine (symbol) select optimization engine: 'basic', 'farkas', 'symba' (default: basic)\n",
      "pb.compile_equality (bool) compile arithmetical equalities into pseudo-Boolean equality (instead of two inequalites) (default: false)\n",
      "pp.neat (bool) use neat (as opposed to less readable, but faster) pretty printer when displaying context (default: true)\n",
      "print_model (bool) display model for satisfiable constraints (default: false)\n",
      "priority (symbol) select how to priortize objectives: 'lex' (lexicographic), 'pareto', or 'box' (default: lex)\n",
      "\n"
     ]
    }
   ],
   "source": [
    "optimizer = z3.Optimize()\n",
    "optimizer.help()"
   ]
  },
  {
   "cell_type": "code",
   "execution_count": 4,
   "metadata": {},
   "outputs": [
    {
     "name": "stdout",
     "output_type": "stream",
     "text": [
      "(optsmt_engine, maxsat_engine, priority, dump_benchmarks, print_model, enable_sls, enable_sat, elim_01, pp.neat, pb.compile_equality, maxres.hill_climb, maxres.add_upper_bound_block, maxres.max_num_cores, maxres.max_core_size, maxres.maximize_assignment, maxres.max_correction_set_size, maxres.wmax, maxres.pivot_on_correction_set)\n",
      "-1*oo\n",
      "oo\n",
      "oo\n",
      "oo\n",
      "[y = 5, x = 1]\n"
     ]
    }
   ],
   "source": [
    "optimizer = z3.Optimize()\n",
    "x=z3.Int('x') # (declare-const x Int)\n",
    "y=z3.Int('y') #(declare-const y Int)\n",
    "\n",
    "print(optimizer.param_descrs())\n",
    "optimizer.assert_exprs(x < 2)#(assert (< x 2))\n",
    "optimizer.assert_exprs((y-x)>1)#(assert (> (- y x) 1))\n",
    "my_max = optimizer.maximize(x+y)#(maximize (+ x y))\n",
    "my_min = optimizer.minimize(x+y)\n",
    "#optimizer.set(\"priority\", \"box\")\n",
    "optimizer.check()#(check-sat)\n",
    "print(optimizer.lower(my_min))\n",
    "print(optimizer.lower(my_max))\n",
    "print(optimizer.upper(my_min))\n",
    "print(optimizer.upper(my_max))\n",
    "print(optimizer.model())\n",
    "#print(optimizer.statistics())"
   ]
  },
  {
   "cell_type": "code",
   "execution_count": 5,
   "metadata": {
    "collapsed": true
   },
   "outputs": [],
   "source": [
    "z3.set_param(verbose=10)\n",
    "optimizer = z3.Optimize()\n",
    "x=z3.Int('x')#(declare-const x Int)\n",
    "y=z3.Int('y')#(declare-const y Int)\n",
    "optimizer.assert_exprs(x < 4)#(assert (< x 4))\n",
    "optimizer.assert_exprs((y-x) < 1)#(assert (< (- y x) 1))\n",
    "optimizer.assert_exprs(y < 1)#(assert (< y 1))\n",
    "optimizer.assert_exprs(y>-10)"
   ]
  },
  {
   "cell_type": "code",
   "execution_count": 6,
   "metadata": {
    "collapsed": true
   },
   "outputs": [],
   "source": [
    "my_min=optimizer.minimize(x+y)#(minimize (+ x y))"
   ]
  },
  {
   "cell_type": "code",
   "execution_count": 7,
   "metadata": {},
   "outputs": [
    {
     "data": {
      "text/plain": [
       "sat"
      ]
     },
     "execution_count": 7,
     "metadata": {},
     "output_type": "execute_result"
    }
   ],
   "source": [
    "optimizer.check()#(check-sat)"
   ]
  },
  {
   "cell_type": "code",
   "execution_count": 8,
   "metadata": {},
   "outputs": [
    {
     "data": {
      "text/plain": [
       "[y = -9, x = -9]"
      ]
     },
     "execution_count": 8,
     "metadata": {},
     "output_type": "execute_result"
    }
   ],
   "source": [
    "optimizer.model()"
   ]
  },
  {
   "cell_type": "code",
   "execution_count": 9,
   "metadata": {},
   "outputs": [
    {
     "data": {
      "text/plain": [
       "-18"
      ]
     },
     "execution_count": 9,
     "metadata": {},
     "output_type": "execute_result"
    }
   ],
   "source": [
    "optimizer.lower(my_min)"
   ]
  },
  {
   "cell_type": "code",
   "execution_count": 10,
   "metadata": {},
   "outputs": [
    {
     "data": {
      "text/plain": [
       "-18"
      ]
     },
     "execution_count": 10,
     "metadata": {},
     "output_type": "execute_result"
    }
   ],
   "source": [
    "optimizer.upper(my_min)"
   ]
  },
  {
   "cell_type": "code",
   "execution_count": 11,
   "metadata": {
    "collapsed": true
   },
   "outputs": [],
   "source": [
    "with open ('dummy_km.json') as file:\n",
    "    data = json.load(file)\n",
    "    \n",
    "#pprint.pprint(data)"
   ]
  },
  {
   "cell_type": "code",
   "execution_count": 12,
   "metadata": {},
   "outputs": [
    {
     "data": {
      "text/plain": [
       "['APP2', 'APP3']"
      ]
     },
     "execution_count": 12,
     "metadata": {},
     "output_type": "execute_result"
    }
   ],
   "source": [
    "data['VG1']['dependencies']['nonlocal']"
   ]
  },
  {
   "cell_type": "markdown",
   "metadata": {},
   "source": [
    "I think there needs to be a list of all resource types. I'm not sure how to guarantee the ordering otherwise. "
   ]
  },
  {
   "cell_type": "code",
   "execution_count": 13,
   "metadata": {},
   "outputs": [
    {
     "data": {
      "text/plain": [
       "['storage',\n",
       " 'memory',\n",
       " 'storage',\n",
       " 'memory',\n",
       " 'storage',\n",
       " 'memory',\n",
       " 'storage',\n",
       " 'memory',\n",
       " 'storage',\n",
       " 'memory',\n",
       " 'storage',\n",
       " 'memory']"
      ]
     },
     "execution_count": 13,
     "metadata": {},
     "output_type": "execute_result"
    }
   ],
   "source": [
    "[j for i in data for j in data[i]['resources'] ]#depth first, pull all elements "
   ]
  },
  {
   "cell_type": "code",
   "execution_count": 14,
   "metadata": {},
   "outputs": [
    {
     "name": "stdout",
     "output_type": "stream",
     "text": [
      "{'storage', 'memory'}\n"
     ]
    }
   ],
   "source": [
    "resourceTypes = set([j for i in data for j in data[i]['resources'] ])\n",
    "print(resourceTypes)"
   ]
  },
  {
   "cell_type": "markdown",
   "metadata": {},
   "source": [
    "nodeList"
   ]
  },
  {
   "cell_type": "code",
   "execution_count": 15,
   "metadata": {},
   "outputs": [
    {
     "name": "stdout",
     "output_type": "stream",
     "text": [
      "['FSSN2', 'FSSN3', 'FSSN1']\n"
     ]
    }
   ],
   "source": [
    "nodeList = list()\n",
    "for i in data:\n",
    "    if data[i]['type']=='node':\n",
    "        nodeList.append(i)\n",
    "print (nodeList)"
   ]
  },
  {
   "cell_type": "code",
   "execution_count": 16,
   "metadata": {},
   "outputs": [
    {
     "name": "stdout",
     "output_type": "stream",
     "text": [
      "['APP2', 'VG1', 'APP3']\n"
     ]
    }
   ],
   "source": [
    "appList = list()\n",
    "for i in data:\n",
    "    if data[i]['type']=='app':\n",
    "        appList.append(i)\n",
    "print (appList)"
   ]
  },
  {
   "cell_type": "code",
   "execution_count": 17,
   "metadata": {},
   "outputs": [
    {
     "name": "stdout",
     "output_type": "stream",
     "text": [
      "[[a2n_0_0, a2n_0_1, a2n_0_2], [a2n_1_0, a2n_1_1, a2n_1_2], [a2n_2_0, a2n_2_1, a2n_2_2]]\n"
     ]
    }
   ],
   "source": [
    "a2n = [ [ z3.Int(\"a2n_%s_%s\" % (i, j)) for j in range(len(nodeList)) ]\n",
    "            for i in range(len(appList)) ]\n",
    "print(a2n)"
   ]
  },
  {
   "cell_type": "code",
   "execution_count": 18,
   "metadata": {},
   "outputs": [
    {
     "name": "stdout",
     "output_type": "stream",
     "text": [
      "[[a2n_APP2onFSSN2, a2n_APP2onFSSN3, a2n_APP2onFSSN1],\n",
      " [a2n_VG1onFSSN2, a2n_VG1onFSSN3, a2n_VG1onFSSN1],\n",
      " [a2n_APP3onFSSN2, a2n_APP3onFSSN3, a2n_APP3onFSSN1]]\n",
      "a2n_APP2onFSSN1\n"
     ]
    }
   ],
   "source": [
    "a2n = [ [ z3.Int(\"a2n_%son%s\" % (i, j)) for j in nodeList ]\n",
    "            for i in appList]\n",
    "pprint.pprint(a2n)\n",
    "print(a2n[0][2])"
   ]
  },
  {
   "cell_type": "markdown",
   "metadata": {},
   "source": [
    "matrix for resource x node matrix"
   ]
  },
  {
   "cell_type": "code",
   "execution_count": 19,
   "metadata": {},
   "outputs": [
    {
     "name": "stdout",
     "output_type": "stream",
     "text": [
      "[[rpn_storage_FSSN2, rpn_storage_FSSN3, rpn_storage_FSSN1],\n",
      " [rpn_memory_FSSN2, rpn_memory_FSSN3, rpn_memory_FSSN1]]\n",
      "[[512, 1024, 1024], [256, 512, 1024]]\n",
      "index [1][0] rpn_memory_FSSN2 256\n"
     ]
    }
   ],
   "source": [
    "#build and check format for matrix of node resources\n",
    "rsrc_per_node = [[z3.Int(\"rpn_%s_%s\" %(k, j)) for j in nodeList] for k in resourceTypes]\n",
    "rpn= [[data[j]['resources'][k] for j in nodeList] for k in resourceTypes]\n",
    "\n",
    "k = 1\n",
    "j = 0\n",
    "pprint.pprint (rsrc_per_node)\n",
    "pprint.pprint(rpn)\n",
    "print(\"index [{}][{}] {} {}\".format(k,j, rsrc_per_node[k][j], rpn[k][j]))"
   ]
  },
  {
   "cell_type": "code",
   "execution_count": 20,
   "metadata": {},
   "outputs": [
    {
     "name": "stdout",
     "output_type": "stream",
     "text": [
      "['APP2', 'VG1', 'APP3']\n",
      "[[rpa_storage_APP2, rpa_storage_VG1, rpa_storage_APP3],\n",
      " [rpa_memory_APP2, rpa_memory_VG1, rpa_memory_APP3]]\n",
      "index [1][1] rpa_memory_VG1 128\n"
     ]
    }
   ],
   "source": [
    "#build and check format for matrix of app resource requirements\n",
    "print ([i for i in appList])\n",
    "rsrc_per_app = [[z3.Int(\"rpa_%s_%s\" %(k, i)) for i in appList] for k in resourceTypes]\n",
    "\n",
    "k = 1\n",
    "i = 1\n",
    "\n",
    "pprint.pprint(rsrc_per_app)\n",
    "rpa= [[data[i]['resources'][k] for i in appList] for k in resourceTypes]\n",
    "print(\"index [{}][{}] {} {}\".format(k,i, rsrc_per_app[k][i], rpa[k][i]))"
   ]
  },
  {
   "cell_type": "code",
   "execution_count": 21,
   "metadata": {},
   "outputs": [
    {
     "name": "stdout",
     "output_type": "stream",
     "text": [
      "FSSN2\n",
      "n22 : 0\n",
      "n21 : 1\n",
      "n23 : 1\n",
      "FSSN3\n",
      "n33 : 0\n",
      "n32 : 1\n",
      "n31 : 1\n",
      "FSSN1\n",
      "n12 : 1\n",
      "n11 : 0\n",
      "n13 : 1\n",
      "[[0, 1, 1], [0, 1, 1], [1, 0, 1]]\n"
     ]
    }
   ],
   "source": [
    "# two ways to build latency matrix. The first way does not guarantee the order of the first index when\n",
    "#reading from the json, but does the second. The second way gurantees nothing. \n",
    "# We could do a third way that ensures the FSSNs are in order too. \n",
    "#latency = []\n",
    "#for node in nodeList:\n",
    "#    print(node)\n",
    "#    id = data[node]['id']\n",
    "#    temp = []\n",
    "#    for index in range(len(data[node]['latencies'])):\n",
    "        #print (index)\n",
    "#        lat = data[node]['latencies']['n%s%s' %(id, index+1)]\n",
    "#        print (lat)\n",
    "#        temp.append(lat)\n",
    "#    latency.append(temp)\n",
    "#    print (latency)\n",
    "    \n",
    "latency = []\n",
    "for node in nodeList:\n",
    "    print(node)\n",
    "    id = data[node]['id']\n",
    "    temp = []\n",
    "    for target in data[node]['latencies']:\n",
    "        lat = data[node]['latencies'][target]\n",
    "        print (\"%s : %s\" %(target, lat))\n",
    "        temp.append(lat)\n",
    "    latency.append(temp)\n",
    "print (latency)"
   ]
  },
  {
   "cell_type": "code",
   "execution_count": 22,
   "metadata": {},
   "outputs": [
    {
     "name": "stdout",
     "output_type": "stream",
     "text": [
      "index [1][1] rpn_memory_FSSN3 512\n",
      "index [1][0] rpa_memory_APP2 128\n"
     ]
    },
    {
     "data": {
      "text/plain": [
       "True"
      ]
     },
     "execution_count": 22,
     "metadata": {},
     "output_type": "execute_result"
    }
   ],
   "source": [
    "#make sure resources match when k changes. \n",
    "\n",
    "k = 1\n",
    "i = 0\n",
    "j = 1\n",
    "print(\"index [{}][{}] {} {}\".format(k,j, rsrc_per_node[k][j], rpn[k][j]))\n",
    "print(\"index [{}][{}] {} {}\".format(k,i, rsrc_per_app[k][i], rpa[k][i]))\n",
    "\n",
    "rpn[k][j] >= rpa[k][i]"
   ]
  },
  {
   "cell_type": "code",
   "execution_count": 23,
   "metadata": {},
   "outputs": [
    {
     "name": "stdout",
     "output_type": "stream",
     "text": [
      "[Or(a2n_APP2onFSSN2 == 0, a2n_APP2onFSSN2 == 1),\n",
      " Or(a2n_VG1onFSSN2 == 0, a2n_VG1onFSSN2 == 1),\n",
      " Or(a2n_APP3onFSSN2 == 0, a2n_APP3onFSSN2 == 1),\n",
      " Or(a2n_APP2onFSSN3 == 0, a2n_APP2onFSSN3 == 1),\n",
      " Or(a2n_VG1onFSSN3 == 0, a2n_VG1onFSSN3 == 1),\n",
      " Or(a2n_APP3onFSSN3 == 0, a2n_APP3onFSSN3 == 1),\n",
      " Or(a2n_APP2onFSSN1 == 0, a2n_APP2onFSSN1 == 1),\n",
      " Or(a2n_VG1onFSSN1 == 0, a2n_VG1onFSSN1 == 1),\n",
      " Or(a2n_APP3onFSSN1 == 0, a2n_APP3onFSSN1 == 1)]\n"
     ]
    }
   ],
   "source": [
    "val_a2n = [ z3.Or(a2n[i][j]==0,a2n[i][j]==1) for j in range(len(nodeList))\n",
    "          for i in range(len(appList)) ]\n",
    "pprint.pprint(val_a2n)"
   ]
  },
  {
   "cell_type": "code",
   "execution_count": 24,
   "metadata": {
    "collapsed": true
   },
   "outputs": [],
   "source": [
    "rsrc_constraint = [rpn[k][j] >= z3.Sum([a2n[i][j]*rpa[k][i] for i in range(len(appList))]) \n",
    " for j in range(len(nodeList))\n",
    " for k in range(len(resourceTypes))]"
   ]
  },
  {
   "cell_type": "code",
   "execution_count": 25,
   "metadata": {},
   "outputs": [
    {
     "name": "stdout",
     "output_type": "stream",
     "text": [
      "1\n",
      "[And(a2n_VG1onFSSN2 == 1,\n",
      "    a2n_VG1onFSSN3 == 1,\n",
      "    a2n_VG1onFSSN1 == 1)]\n"
     ]
    }
   ],
   "source": [
    "md_constraint1 = [z3.Sum(a2n[0][0], a2n[0][1], a2n[0][2])==1]\n",
    "md_constraint2 = [z3.Sum(a2n[1][0], a2n[1][1], a2n[1][2])==1]\n",
    "\n",
    "\n",
    "vg1 = appList.index('VG1')\n",
    "print(vg1)\n",
    "md_all = [z3.And([a2n[vg1][node]==1 for node in range(len(nodeList))])]\n",
    "print(md_all)"
   ]
  },
  {
   "cell_type": "code",
   "execution_count": 26,
   "metadata": {},
   "outputs": [
    {
     "name": "stdout",
     "output_type": "stream",
     "text": [
      "APP2\n",
      "does not depend on APP2\n",
      "does not depend on VG1\n",
      "does not depend on APP3\n",
      "VG1\n",
      "depends on APP2\n",
      "does not depend on VG1\n",
      "depends on APP3\n",
      "APP3\n",
      "does not depend on APP2\n",
      "does not depend on VG1\n",
      "does not depend on APP3\n",
      "a2a matrix [[0, 0, 0], [1, 0, 1], [0, 0, 0]]\n",
      "0\n",
      "1\n",
      "1\n",
      "[1, 0, 1]\n"
     ]
    }
   ],
   "source": [
    "#dependency matrix c2c\n",
    "a2a = []\n",
    "for app in appList:\n",
    "    print(app)\n",
    "    nl_deps = data[app]['dependencies']['nonlocal']\n",
    "    deps = []\n",
    "    for dep in appList:\n",
    "        if dep in nl_deps:\n",
    "            print(\"depends on %s\" %(dep))\n",
    "            deps.append(1)\n",
    "        else: \n",
    "            print(\"does not depend on %s\" %(dep))\n",
    "            deps.append(0)\n",
    "            \n",
    "    a2a.append(deps)\n",
    "print (\"a2a matrix %s\" %a2a)\n",
    "print (a2a[appList.index('VG1')][appList.index('VG1')])\n",
    "print (a2a[appList.index('VG1')][appList.index('APP2')])\n",
    "print (a2a[appList.index('VG1')][appList.index('APP3')])\n",
    "print(a2a[appList.index('VG1')])\n",
    "#latency = []\n",
    "#for node in nodeList:\n",
    "#    print(node)\n",
    "#    id = data[node]['id']\n",
    "#    temp = []\n",
    "#    for target in data[node]['latencies']:\n",
    "#        lat = data[node]['latencies'][target]\n",
    "#        print (\"%s : %s\" %(target, lat))\n",
    "#        temp.append(lat)\n",
    "#    latency.append(temp)\n",
    "#print (latency)"
   ]
  },
  {
   "cell_type": "code",
   "execution_count": 27,
   "metadata": {},
   "outputs": [
    {
     "name": "stdout",
     "output_type": "stream",
     "text": [
      "appList: ['APP2', 'VG1', 'APP3']\n",
      "APP2 non-local dependencies: []\n",
      "VG1 non-local dependencies: ['APP2', 'APP3']\n",
      "deps are [a2n_APP2onFSSN2 == 1, a2n_APP3onFSSN2 == 1]\n",
      "deps are [a2n_APP2onFSSN3 == 1, a2n_APP3onFSSN3 == 1]\n",
      "deps are [a2n_APP2onFSSN1 == 1, a2n_APP3onFSSN1 == 1]\n",
      "pre Or(a2n_VG1onFSSN2 == 1,\n",
      "   a2n_VG1onFSSN3 == 1,\n",
      "   a2n_VG1onFSSN1 == 1)\n",
      "post [Or(a2n_APP2onFSSN2 == 1,\n",
      "   a2n_APP2onFSSN3 == 1,\n",
      "   a2n_APP2onFSSN1 == 1), Or(a2n_APP3onFSSN2 == 1,\n",
      "   a2n_APP3onFSSN3 == 1,\n",
      "   a2n_APP3onFSSN1 == 1)]\n",
      "deps are [Or(a2n_APP2onFSSN2 == 1,\n",
      "   a2n_APP2onFSSN3 == 1,\n",
      "   a2n_APP2onFSSN1 == 1), Or(a2n_APP3onFSSN2 == 1,\n",
      "   a2n_APP3onFSSN3 == 1,\n",
      "   a2n_APP3onFSSN1 == 1)]\n",
      "[And(Implies(Or(a2n_VG1onFSSN2 == 1,\n",
      "               a2n_VG1onFSSN3 == 1,\n",
      "               a2n_VG1onFSSN1 == 1),\n",
      "            Or(a2n_APP2onFSSN2 == 1,\n",
      "               a2n_APP2onFSSN3 == 1,\n",
      "               a2n_APP2onFSSN1 == 1)),\n",
      "    Implies(Or(a2n_VG1onFSSN2 == 1,\n",
      "               a2n_VG1onFSSN3 == 1,\n",
      "               a2n_VG1onFSSN1 == 1),\n",
      "            Or(a2n_APP3onFSSN2 == 1,\n",
      "               a2n_APP3onFSSN3 == 1,\n",
      "               a2n_APP3onFSSN1 == 1)))]\n",
      "APP3 non-local dependencies: []\n"
     ]
    }
   ],
   "source": [
    "#dependency constraints\n",
    "dependencies = list()\n",
    "\n",
    "def DependsOn(pack, deps):\n",
    "    print(\"deps are %s\" %deps)\n",
    "    return z3.And([ z3.Implies(pack, dep) for dep in deps ])\n",
    "\n",
    "print (\"appList: %s\" % appList)\n",
    "for app in appList:\n",
    "    appi = appList.index(app)\n",
    "    nl_deps = data[app]['dependencies']['nonlocal']\n",
    "    print(\"%s non-local dependencies: %s\" %(app, nl_deps))\n",
    "    if nl_deps:\n",
    "        #depi = [appList.index(dep) for dep in nl_deps]\n",
    "        #print (\"dependency index: %s\" %depi)\n",
    "        dependencies = [DependsOn(a2n[appi][nodej]==1,[a2n[appList.index(dep)][nodej]==1 for dep in nl_deps]) for nodej in range(len(nodeList))]\n",
    "        #print (dependencies)\n",
    "        test = [[a2n[appList.index(dep)][nodej]==1 for dep in nl_deps] for nodej in range(len(nodeList))]\n",
    "        #print (test)\n",
    "        #pre = [z3.Sum([a2n[appi][nodej] for nodej in range(len(nodeList))]) > 0]\n",
    "        pre = z3.Or([a2n[appi][nodej]==1 for nodej in range(len(nodeList))])\n",
    "        print(\"pre %s\" %pre)\n",
    "        post = list()\n",
    "        for dep in nl_deps:            \n",
    "            post.append(z3.Or([a2n[appList.index(dep)][nodej]==1 for nodej in range(len(nodeList))]))\n",
    "            \n",
    "            \n",
    "        print(\"post %s\" %post)\n",
    "        dependencies = [DependsOn(pre, post)]\n",
    "        print (dependencies)\n",
    "        #z3.Or(z3.Not(pre), post)\n",
    "#a2n[appi][nodej]==1, z3.Or()\n",
    "#[ z3.Or(a2n[i][j]==0,a2n[i][j]==1) for j in range(len(nodeList)) for i in range(len(appList)) ]\n",
    "\n",
    "    "
   ]
  },
  {
   "cell_type": "code",
   "execution_count": 28,
   "metadata": {},
   "outputs": [
    {
     "name": "stdout",
     "output_type": "stream",
     "text": [
      "[Or(a2n_APP2onFSSN2 == 0, a2n_APP2onFSSN2 == 1),\n",
      " Or(a2n_VG1onFSSN2 == 0, a2n_VG1onFSSN2 == 1),\n",
      " Or(a2n_APP3onFSSN2 == 0, a2n_APP3onFSSN2 == 1),\n",
      " Or(a2n_APP2onFSSN3 == 0, a2n_APP2onFSSN3 == 1),\n",
      " Or(a2n_VG1onFSSN3 == 0, a2n_VG1onFSSN3 == 1),\n",
      " Or(a2n_APP3onFSSN3 == 0, a2n_APP3onFSSN3 == 1),\n",
      " Or(a2n_APP2onFSSN1 == 0, a2n_APP2onFSSN1 == 1),\n",
      " Or(a2n_VG1onFSSN1 == 0, a2n_VG1onFSSN1 == 1),\n",
      " Or(a2n_APP3onFSSN1 == 0, a2n_APP3onFSSN1 == 1),\n",
      " a2n_APP2onFSSN2*256 +\n",
      "a2n_VG1onFSSN2*256 +\n",
      "a2n_APP3onFSSN2*256 <=\n",
      "512,\n",
      " a2n_APP2onFSSN2*128 +\n",
      "a2n_VG1onFSSN2*128 +\n",
      "a2n_APP3onFSSN2*128 <=\n",
      "256,\n",
      " a2n_APP2onFSSN3*256 +\n",
      "a2n_VG1onFSSN3*256 +\n",
      "a2n_APP3onFSSN3*256 <=\n",
      "1024,\n",
      " a2n_APP2onFSSN3*128 +\n",
      "a2n_VG1onFSSN3*128 +\n",
      "a2n_APP3onFSSN3*128 <=\n",
      "512,\n",
      " a2n_APP2onFSSN1*256 +\n",
      "a2n_VG1onFSSN1*256 +\n",
      "a2n_APP3onFSSN1*256 <=\n",
      "1024,\n",
      " a2n_APP2onFSSN1*128 +\n",
      "a2n_VG1onFSSN1*128 +\n",
      "a2n_APP3onFSSN1*128 <=\n",
      "1024,\n",
      " And(a2n_VG1onFSSN2 == 1,\n",
      "    a2n_VG1onFSSN3 == 1,\n",
      "    a2n_VG1onFSSN1 == 1),\n",
      " And(Implies(Or(a2n_VG1onFSSN2 == 1,\n",
      "               a2n_VG1onFSSN3 == 1,\n",
      "               a2n_VG1onFSSN1 == 1),\n",
      "            Or(a2n_APP2onFSSN2 == 1,\n",
      "               a2n_APP2onFSSN3 == 1,\n",
      "               a2n_APP2onFSSN1 == 1)),\n",
      "    Implies(Or(a2n_VG1onFSSN2 == 1,\n",
      "               a2n_VG1onFSSN3 == 1,\n",
      "               a2n_VG1onFSSN1 == 1),\n",
      "            Or(a2n_APP3onFSSN2 == 1,\n",
      "               a2n_APP3onFSSN3 == 1,\n",
      "               a2n_APP3onFSSN1 == 1)))]\n"
     ]
    }
   ],
   "source": [
    "solver = z3.Solver()\n",
    "solver.add(val_a2n + rsrc_constraint + md_all+dependencies )\n",
    "pprint.pprint(val_a2n + rsrc_constraint + md_all+dependencies)"
   ]
  },
  {
   "cell_type": "code",
   "execution_count": 29,
   "metadata": {},
   "outputs": [
    {
     "data": {
      "text/plain": [
       "sat"
      ]
     },
     "execution_count": 29,
     "metadata": {},
     "output_type": "execute_result"
    }
   ],
   "source": [
    "solver.check()"
   ]
  },
  {
   "cell_type": "code",
   "execution_count": 30,
   "metadata": {},
   "outputs": [
    {
     "data": {
      "text/plain": [
       "[a2n_APP3onFSSN2 = 1,\n",
       " a2n_APP3onFSSN3 = 0,\n",
       " a2n_APP2onFSSN1 = 1,\n",
       " a2n_APP3onFSSN1 = 0,\n",
       " a2n_APP2onFSSN3 = 0,\n",
       " a2n_APP2onFSSN2 = 0,\n",
       " a2n_VG1onFSSN1 = 1,\n",
       " a2n_VG1onFSSN3 = 1,\n",
       " a2n_VG1onFSSN2 = 1]"
      ]
     },
     "execution_count": 30,
     "metadata": {},
     "output_type": "execute_result"
    }
   ],
   "source": [
    "solver.model()"
   ]
  },
  {
   "cell_type": "code",
   "execution_count": 31,
   "metadata": {},
   "outputs": [
    {
     "name": "stdout",
     "output_type": "stream",
     "text": [
      "latency on node FSSN2: {'n22': 0, 'n21': 1, 'n23': 1}\n",
      "latency on node FSSN3: {'n33': 0, 'n32': 1, 'n31': 1}\n",
      "latency on node FSSN1: {'n12': 1, 'n11': 0, 'n13': 1}\n"
     ]
    }
   ],
   "source": [
    "for node in nodeList:\n",
    "    print(\"latency on node %s: %s\" %(node, data[node]['latencies']))"
   ]
  },
  {
   "cell_type": "code",
   "execution_count": 32,
   "metadata": {},
   "outputs": [
    {
     "data": {
      "text/plain": [
       "[[a2n_APP2onFSSN2, a2n_APP2onFSSN3, a2n_APP2onFSSN1],\n",
       " [a2n_VG1onFSSN2, a2n_VG1onFSSN3, a2n_VG1onFSSN1],\n",
       " [a2n_APP3onFSSN2, a2n_APP3onFSSN3, a2n_APP3onFSSN1]]"
      ]
     },
     "execution_count": 32,
     "metadata": {},
     "output_type": "execute_result"
    }
   ],
   "source": [
    "a2n"
   ]
  },
  {
   "cell_type": "code",
   "execution_count": 33,
   "metadata": {},
   "outputs": [
    {
     "name": "stdout",
     "output_type": "stream",
     "text": [
      "[]\n",
      "['APP2', 'APP3']\n",
      "False\n",
      "False\n",
      "False\n",
      "False\n",
      "False\n",
      "False\n",
      "[]\n",
      "[]\n",
      "[]\n"
     ]
    }
   ],
   "source": [
    "#compute latency of a particular placement\n",
    "lat_s = list()\n",
    "lat_t = list()\n",
    "for app in appList:\n",
    "    nl_deps = data[app]['dependencies']['nonlocal']\n",
    "    print(nl_deps)\n",
    "    if nl_deps: # if there are non-local dependencies\n",
    "        for dep in nl_deps:\n",
    "            for node in nodeList:\n",
    "                if a2n[appList.index(app)][nodeList.index(node)]== 1 :\n",
    "                    lat_s.append(node)\n",
    "                    print (True)\n",
    "                else: print(False)\n",
    "                        \n",
    "                if a2n[appList.index(dep)][nodeList.index(node)]== 1 :\n",
    "                    lat_t.append(node)\n",
    "print (lat_s)\n",
    "print (lat_t)\n",
    "                \n",
    "                "
   ]
  },
  {
   "cell_type": "code",
   "execution_count": 34,
   "metadata": {},
   "outputs": [
    {
     "name": "stdout",
     "output_type": "stream",
     "text": [
      "0 +\n",
      "0 +\n",
      "a2n_APP2onFSSN2 +\n",
      "a2n_APP2onFSSN3 +\n",
      "a2n_APP2onFSSN1 +\n",
      "0 +\n",
      "a2n_VG1onFSSN2 +\n",
      "a2n_VG1onFSSN3 +\n",
      "a2n_VG1onFSSN1 +\n",
      "0 +\n",
      "a2n_APP3onFSSN2 +\n",
      "a2n_APP3onFSSN3 +\n",
      "a2n_APP3onFSSN1\n"
     ]
    }
   ],
   "source": [
    "from functools import reduce\n",
    "optimizer = z3.Optimize()\n",
    "constraints = val_a2n + rsrc_constraint + dependencies\n",
    "optimizer.add(constraints)\n",
    "print (reduce(lambda x, y: x + sum(y), a2n, 0))\n",
    "#optimizer.maximize(reduce(lambda x, y: x + sum(y), a2n, 0))\n",
    "#print(optimizer.check())\n",
    "#print(optimizer.model())"
   ]
  },
  {
   "cell_type": "code",
   "execution_count": 35,
   "metadata": {},
   "outputs": [
    {
     "ename": "ImportError",
     "evalue": "No module named 'numpy'",
     "output_type": "error",
     "traceback": [
      "\u001b[0;31m---------------------------------------------------------------------------\u001b[0m",
      "\u001b[0;31mImportError\u001b[0m                               Traceback (most recent call last)",
      "\u001b[0;32m<ipython-input-35-5a0bd626bb1d>\u001b[0m in \u001b[0;36m<module>\u001b[0;34m()\u001b[0m\n\u001b[0;32m----> 1\u001b[0;31m \u001b[0;32mimport\u001b[0m \u001b[0mnumpy\u001b[0m\u001b[0;34m\u001b[0m\u001b[0m\n\u001b[0m",
      "\u001b[0;31mImportError\u001b[0m: No module named 'numpy'"
     ]
    }
   ],
   "source": [
    "import numpy"
   ]
  },
  {
   "cell_type": "code",
   "execution_count": null,
   "metadata": {
    "collapsed": true
   },
   "outputs": [],
   "source": []
  }
 ],
 "metadata": {
  "kernelspec": {
   "display_name": "Python 3",
   "language": "python",
   "name": "python3"
  },
  "language_info": {
   "codemirror_mode": {
    "name": "ipython",
    "version": 3
   },
   "file_extension": ".py",
   "mimetype": "text/x-python",
   "name": "python",
   "nbconvert_exporter": "python",
   "pygments_lexer": "ipython3",
   "version": "3.5.2"
  }
 },
 "nbformat": 4,
 "nbformat_minor": 2
}
