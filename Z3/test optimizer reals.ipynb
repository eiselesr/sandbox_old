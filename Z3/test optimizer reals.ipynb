{
 "cells": [
  {
   "cell_type": "code",
   "execution_count": 8,
   "metadata": {},
   "outputs": [
    {
     "name": "stdout",
     "output_type": "stream",
     "text": [
      "res.upper: oo\n",
      "res.lower: -1*oo\n"
     ]
    },
    {
     "data": {
      "text/plain": [
       "[a35 = 1,\n",
       " a24 = 1,\n",
       " a34 = 1,\n",
       " a25 = 1,\n",
       " a31 = 1,\n",
       " a32 = 1,\n",
       " a21 = 1,\n",
       " a22 = 1,\n",
       " a33 = 1,\n",
       " a23 = 1]"
      ]
     },
     "metadata": {},
     "output_type": "display_data"
    },
    {
     "name": "stdout",
     "output_type": "stream",
     "text": [
      "BalanceCost + UtilCost = 0 + 4999999999999999/100000000000000000 = 0.04999?\n",
      "BalanceCost + UtilCost = 0 + 4999999999999999/200000000000000000 = 0.02499? \n",
      "a25\n"
     ]
    }
   ],
   "source": [
    "import z3\n",
    "import pprint\n",
    "import plotly\n",
    "\n",
    "username = 'eiselesr'\n",
    "api_key = 'Qf97n8ORXBbEpZEvD6HA'\n",
    "plotly.tools.set_credentials_file(username=username, api_key=api_key)\n",
    "\n",
    "a21, a31, a22, a32 = z3.Real('a21'), z3.Real('a31'), z3.Real('a22'), z3.Real('a32')\n",
    "a23, a33, a24, a34 = z3.Real('a23'), z3.Real('a33'), z3.Real('a24'), z3.Real('a34')\n",
    "a25, a35 = z3.Real('a25'), z3.Real('a35')\n",
    "\n",
    "def small_obj(a21):\n",
    "    uobj = 1/20*a21\n",
    "    return uobj\n",
    "\n",
    "def util_obj(a21, a31, a22, a32, a23, a33, a24, a34, a25, a35):\n",
    "    uobj = (1/20*a21 + 1/20*a31 +\n",
    "            1/20*a22 + 1/20*a32 +\n",
    "            1/20*a23 + 1/20*a33 +\n",
    "            1/20*a24 + 1/20*a34 +\n",
    "            1/20*a25 + 1/20*a35)\n",
    "    return uobj\n",
    "\n",
    "def balance_obj(a21, a31, a22, a32, a23, a33, a24, a34, a25, a35):\n",
    "    bobj = (\n",
    "    (z3.simplify((0 + a21*1024 + a31*1024)/4096 - (0 + a21*1024 + a31*1024 + 0 + a22*1024 + a32*1024 + 0 + a23*1024 + a33*1024 +\n",
    "                                       0 + a24*1024 + a34*1024 + 0 + a25*1024 + a35*1024)/ 20480))**2 +\n",
    "    (z3.simplify((0 + a22*1024.0 + a32*1024)/4096 - (0 + a21*1024 + a31*1024 + 0 + a22*1024 + a32*1024 + 0 + a23*1024 + a33*1024 +\n",
    "                                       0 + a24*1024 + a34*1024 + 0 + a25*1024 + a35*1024)/ 20480))**2 +\n",
    "    (z3.simplify((0 + a23*1024.0 + a33*1024)/4096 - (0 + a21*1024 + a31*1024 + 0 + a22*1024 + a32*1024 + 0 + a23*1024 + a33*1024 +\n",
    "                                       0 + a24*1024 + a34*1024 + 0 + a25*1024 + a35*1024)/ 20480))**2 + \n",
    "    (z3.simplify((0 + a24*1024.0 + a34*1024)/4096 - (0 + a21*1024 + a31*1024 + 0 + a22*1024 + a32*1024 + 0 + a23*1024 + a33*1024 +\n",
    "                                       0 + a24*1024 + a34*1024 + 0 + a25*1024 + a35*1024)/ 20480))**2 + \n",
    "    (z3.simplify((0 + a25*1024.0 + a35*1024)/4096 - (0 + a21*1024 + a31*1024 + 0 + a22*1024 + a32*1024 + 0 + a23*1024 + a33*1024 +\n",
    "                                       0 + a24*1024 + a34*1024 + 0 + a25*1024 + a35*1024)/ 20480))**2\n",
    "    )\n",
    "    return(bobj)\n",
    "\n",
    "constraints = z3.And([z3.Or(a21 == 0, a21 == 1),\n",
    "               z3.Or(a22 == 0, a22 == 1),\n",
    "               z3.Or(a23 == 0, a23 == 1),\n",
    "               z3.Or(a24 == 0, a24 == 1),\n",
    "               z3.Or(a25 == 0, a25 == 1),\n",
    "               z3.Or(a31 == 0, a31 == 1),\n",
    "               z3.Or(a32 == 0, a32 == 1),\n",
    "               z3.Or(a33 == 0, a33 == 1),\n",
    "               z3.Or(a34 == 0, a34 == 1),\n",
    "               z3.Or(a35 == 0, a35 == 1),\n",
    "               4096 - (0 + 1024*a21 + 1024*a31) >= 0,\n",
    "               4096 - (0 + 1024*a22 + 1024*a32) >= 0,\n",
    "               4096 - (0 + 1024*a23 + 1024*a33) >= 0,\n",
    "               4096 - (0 + 1024*a24 + 1024*a34) >= 0,\n",
    "               4096 - (0 + 1024*a25 + 1024*a35) >= 0,\n",
    "               8192 - (0 + 1024*a21 + 1024*a31) >= 0,\n",
    "               8192 - (0 + 1024*a22 + 1024*a32) >= 0,\n",
    "               16384 - (0 + 1024*a23 + 1024*a33) >= 0,\n",
    "               8192 - (0 + 1024*a24 + 1024*a34) >= 0,\n",
    "               8192 - (0 + 1024*a25 + 1024*a35) >= 0,\n",
    "               a21 + a22 + a23 + a24 + a25 > 0,\n",
    "               a31 + a32 + a33 + a34 + a35 > 0])\n",
    "\n",
    "opt = z3.Optimize()\n",
    "opt.assert_exprs(constraints)\n",
    "\n",
    "def f(q, a21, a31, a22, a32, a23, a33, a24, a34, a25, a35):\n",
    "    bal_cost = z3.simplify(q*balance_obj(a21, a31, a22, a32, a23, a33, a24, a34, a25, a35))\n",
    "    util_cost = z3.simplify((1-q)*util_obj(a21, a31, a22, a32, a23, a33, a24, a34, a25, a35))\n",
    "    return (bal_cost + util_cost)\n",
    "\n",
    "q = .9\n",
    "res = opt.minimize(f(q, a21, a31, a22, a32, a23, a33, a24, a34, a25, a35))\n",
    "\n",
    "opt.check()\n",
    "\n",
    "print(\"res.upper: %s\" %res.upper())\n",
    "print(\"res.lower: %s\" %res.lower())\n",
    "\n",
    "opt_model = opt.model()\n",
    "display(opt_model)\n",
    "\n",
    "def checkCost(q, a21, a31, a22, a32, a23, a33, a24, a34, a25, a35):\n",
    "    \n",
    "    my_util = z3.simplify(util_obj(a21=a21, a31=a31, \n",
    "                                  a22=a22, a32=a32,\n",
    "                                  a23=a23, a33=a33,\n",
    "                                  a24=a24, a34=a34,\n",
    "                                  a25=a25, a35=a35))\n",
    "    #print(\"util \\n %s \" %my_util)\n",
    "    \n",
    "    my_balance = z3.simplify(balance_obj(a21=a21, a31=a31, \n",
    "                                        a22=a22, a32=a32,\n",
    "                                        a23=a23, a33=a33,\n",
    "                                        a24=a24, a34=a34,\n",
    "                                        a25=a25, a35=a35))\n",
    "    \n",
    "    #print(\"balance \\n %s \" %my_balance)\n",
    "    \n",
    "    f_ = f(q,a21=a21, a31=a31, \n",
    "             a22=a22, a32=a32,\n",
    "             a23=a23, a33=a33,\n",
    "             a24=a24, a34=a34,\n",
    "             a25=a25, a35=a35)\n",
    "    \n",
    "    \n",
    "    #print(\"f \\n %s\" %f_)\n",
    "    #print(\"simplify f : %s\" %z3.simplify(f_))\n",
    "    return f_\n",
    "    \n",
    "\n",
    "c1 = (checkCost(q, a21=opt_model[a21], a31=opt_model[a31], \n",
    "             a22=opt_model[a22], a32=opt_model[a32], \n",
    "             a23=opt_model[a23], a33=opt_model[a33], \n",
    "             a24=opt_model[a24], a34=opt_model[a34], \n",
    "             a25=opt_model[a25], a35=opt_model[a35]))\n",
    "print(\"BalanceCost + UtilCost = %s = %s\" %(c1, z3.simplify(c1).as_decimal(5)))\n",
    "\n",
    "checkCost(q,a21=0, a31=opt_model[a31], \n",
    "            a22=opt_model[a22], a32=0, \n",
    "            a23=0, a33=opt_model[a33], \n",
    "            a24=opt_model[a24], a34=0, \n",
    "            a25=0, a35=opt_model[a35])\n",
    "\n",
    "z30 = z3.RealSort().cast(0)\n",
    "z31 = z3.RealSort().cast(1)\n",
    "\n",
    "\n",
    "c2 = (checkCost(q,a21=z30, a31=z31, \n",
    "            a22=z31, a32=z30, \n",
    "            a23=z30, a33=z31, \n",
    "            a24=z31, a34=z30, \n",
    "            a25=z30, a35=z31))\n",
    "\n",
    "print(\"BalanceCost + UtilCost = %s = %s \" %(c2, z3.simplify(c2).as_decimal(5)))\n",
    "\n",
    "print(a25)"
   ]
  },
  {
   "cell_type": "code",
   "execution_count": 4,
   "metadata": {},
   "outputs": [
    {
     "name": "stdout",
     "output_type": "stream",
     "text": [
      "q= 0.1, marking = 0000000001, balanceCost + UtilCost=1/200 + 9/200, sum = 0.05\n"
     ]
    }
   ],
   "source": [
    "\n",
    "import operator\n",
    "\n",
    "\n",
    "def bruteForce(numVars):\n",
    "    my_list = list()\n",
    "    my_marking = list()\n",
    "    for i in range(2**numVars):\n",
    "        \n",
    "        marking = format(i, 'b').zfill(numVars) # assign values to variables\n",
    "        #my_a21 = int(marking[0])\n",
    "        #print(small_obj(a21=my_a21))\n",
    "        if marking == format(0,'b').zfill(numVars):\n",
    "            continue\n",
    "        my_cost = checkCost(q,a21=z3.RealSort().cast(marking[0]), a31=z3.RealSort().cast(marking[1]), \n",
    "                           a22=z3.RealSort().cast(marking[2]), a32=z3.RealSort().cast(marking[3]), \n",
    "                           a23=z3.RealSort().cast(marking[4]), a33=z3.RealSort().cast(marking[5]), \n",
    "                           a24=z3.RealSort().cast(marking[6]), a34=z3.RealSort().cast(marking[7]), \n",
    "                           a25=z3.RealSort().cast(marking[8]), a35=z3.RealSort().cast(marking[9]))\n",
    "        my_cost_py = z3.simplify(my_cost).as_decimal(5)\n",
    "        my_list.append(my_cost_py)\n",
    "        my_marking.append(marking)\n",
    "        \n",
    "        #if (i < 20) or (i>1000):\n",
    "        #    print(my_cost_py, marking)\n",
    "        #if (i>20):\n",
    "         #   break\n",
    "        #print(my_cost_py)\n",
    "    #print(max(my_list), min(my_list))\n",
    "    max_index, max_value = max(enumerate(my_list), key=operator.itemgetter(1))\n",
    "    min_index, min_value = min(enumerate(my_list), key=operator.itemgetter(1))\n",
    "    #return(my_marking[max_index], max_value, my_marking[min_index], min_value)\n",
    "    \n",
    "    marking = my_marking[min_index]\n",
    "    my_cost = checkCost(q,a21=z3.RealSort().cast(marking[0]), a31=z3.RealSort().cast(marking[1]), \n",
    "                           a22=z3.RealSort().cast(marking[2]), a32=z3.RealSort().cast(marking[3]), \n",
    "                           a23=z3.RealSort().cast(marking[4]), a33=z3.RealSort().cast(marking[5]), \n",
    "                           a24=z3.RealSort().cast(marking[6]), a34=z3.RealSort().cast(marking[7]), \n",
    "                           a25=z3.RealSort().cast(marking[8]), a35=z3.RealSort().cast(marking[9]))\n",
    "    \n",
    "    return(my_marking[min_index], my_cost, z3.simplify(my_cost).as_decimal(5))\n",
    "\n",
    "    \n",
    "    \n",
    "\n",
    "\n",
    "marking, cost, costsum  = bruteForce(10)\n",
    "#print(\"q= %s, res= %s\" %(q, res))\n",
    "print(\"q= %s, marking = %s, balanceCost + UtilCost=%s, sum = %s\" %(q, marking, cost, costsum))\n",
    "#print(\"BalanceCost + UtilCost = %s\" %c1)"
   ]
  },
  {
   "cell_type": "code",
   "execution_count": 5,
   "metadata": {},
   "outputs": [
    {
     "name": "stdout",
     "output_type": "stream",
     "text": [
      "q= 0.0, marking = 0000000001, balanceCost + UtilCost=0 + 1/20, sum = 0.05\n",
      "q= 0.1, marking = 0000000001, balanceCost + UtilCost=1/200 + 9/200, sum = 0.05\n",
      "q= 0.2, marking = 0000000001, balanceCost + UtilCost=1/100 + 1/25, sum = 0.05\n",
      "q= 0.3, marking = 0000000001, balanceCost + UtilCost=3/200 + 7/200, sum = 0.05\n",
      "q= 0.4, marking = 0000000001, balanceCost + UtilCost=1/50 + 3/100, sum = 0.05\n",
      "q= 0.5, marking = 0000000001, balanceCost + UtilCost=1/40 + 1/40, sum = 0.05\n",
      "q= 0.6, marking = 0000000001, balanceCost + UtilCost=3/100 + 1/50, sum = 0.05\n",
      "q= 0.7, marking = 0000000001, balanceCost + UtilCost=7/200 + 7500000000000001/500000000000000000, sum = 0.05000?\n",
      "q= 0.8, marking = 0000000001, balanceCost + UtilCost=1/25 + 4999999999999999/500000000000000000, sum = 0.04999?\n",
      "q= 0.9, marking = 0101010101, balanceCost + UtilCost=0 + 4999999999999999/200000000000000000, sum = 0.02499?\n",
      "q= 1.0, marking = 0101010101, balanceCost + UtilCost=0 + 0, sum = 0\n"
     ]
    }
   ],
   "source": [
    "for x in range(0, 11):\n",
    "    q = x/10\n",
    "    marking, cost, costsum  = bruteForce(10)\n",
    "    print(\"q= %s, marking = %s, balanceCost + UtilCost=%s, sum = %s\" %(q, marking, cost, costsum))"
   ]
  },
  {
   "cell_type": "code",
   "execution_count": 12,
   "metadata": {},
   "outputs": [
    {
     "data": {
      "text/plain": [
       "And(Or(a21 == 0, a21 == 1),\n",
       "    Or(a22 == 0, a22 == 1),\n",
       "    Or(a23 == 0, a23 == 1),\n",
       "    Or(a24 == 0, a24 == 1),\n",
       "    Or(a25 == 0, a25 == 1),\n",
       "    Or(a31 == 0, a31 == 1),\n",
       "    Or(a32 == 0, a32 == 1),\n",
       "    Or(a33 == 0, a33 == 1),\n",
       "    Or(a34 == 0, a34 == 1),\n",
       "    Or(a35 == 0, a35 == 1),\n",
       "    4096 - (0 + 1024*a21 + 1024*a31) >= 0,\n",
       "    4096 - (0 + 1024*a22 + 1024*a32) >= 0,\n",
       "    4096 - (0 + 1024*a23 + 1024*a33) >= 0,\n",
       "    4096 - (0 + 1024*a24 + 1024*a34) >= 0,\n",
       "    4096 - (0 + 1024*a25 + 1024*a35) >= 0,\n",
       "    8192 - (0 + 1024*a21 + 1024*a31) >= 0,\n",
       "    8192 - (0 + 1024*a22 + 1024*a32) >= 0,\n",
       "    16384 - (0 + 1024*a23 + 1024*a33) >= 0,\n",
       "    8192 - (0 + 1024*a24 + 1024*a34) >= 0,\n",
       "    8192 - (0 + 1024*a25 + 1024*a35) >= 0,\n",
       "    a21 + a22 + a23 + a24 + a25 > 0,\n",
       "    a31 + a32 + a33 + a34 + a35 > 0)"
      ]
     },
     "execution_count": 12,
     "metadata": {},
     "output_type": "execute_result"
    }
   ],
   "source": [
    "constraints"
   ]
  },
  {
   "cell_type": "code",
   "execution_count": 100,
   "metadata": {
    "collapsed": true
   },
   "outputs": [],
   "source": [
    "#a21, a22, a23, a24, a25 = z30, z30, z30, z30, z30\n",
    "#a31, a32, a33, a34, a35 = z31, z31, z31, z31, z31\n",
    "\n",
    "a21, a31, a22, a32 = z3.Real('a21'), z3.Real('a31'), z3.Real('a22'), z3.Real('a32')\n",
    "a23, a33, a24, a34 = z3.Real('a23'), z3.Real('a33'), z3.Real('a24'), z3.Real('a34')\n",
    "a25, a35 = z3.Real('a25'), z3.Real('a35')\n",
    "\n",
    "constraints = z3.And([\n",
    "    z3.Or(a21 == 0, a21 == 1),\n",
    "    z3.Or(a22 == 1, a22 == 1),\n",
    "    z3.Or(a23 == 0, a23 == 0),\n",
    "    z3.Or(a24 == 1, a24 == 1),\n",
    "    z3.Or(a25 == 0, a25 == 0),\n",
    "    z3.Or(a31 == 1, a31 == 1),\n",
    "    z3.Or(a32 == 0, a32 == 0),\n",
    "    z3.Or(a33 == 1, a33 == 1),\n",
    "    z3.Or(a34 == 0, a34 == 0),\n",
    "    z3.Or(a35 == 1, a35 == 1),\n",
    "    4096 - (0 + 1024*a21 + 1024*a31) >= 0,\n",
    "    4096 - (0 + 1024*a22 + 1024*a32) >= 0,\n",
    "    4096 - (0 + 1024*a23 + 1024*a33) >= 0,\n",
    "    4096 - (0 + 1024*a24 + 1024*a34) >= 0,\n",
    "    4096 - (0 + 1024*a25 + 1024*a35) >= 0,\n",
    "    8192 - (0 + 1024*a21 + 1024*a31) >= 0,\n",
    "    8192 - (0 + 1024*a22 + 1024*a32) >= 0,\n",
    "    16384 - (0 + 1024*a23 + 1024*a33) >= 0,\n",
    "    8192 - (0 + 1024*a24 + 1024*a34) >= 0,\n",
    "    8192 - (0 + 1024*a25 + 1024*a35) >= 0,\n",
    "    a21 + a22 + a23 + a24 + a25 > 0,\n",
    "    a31 + a32 + a33 + a34 + a35 > 0\n",
    "])\n",
    "\n"
   ]
  },
  {
   "cell_type": "code",
   "execution_count": 101,
   "metadata": {
    "collapsed": true
   },
   "outputs": [],
   "source": [
    "s = z3.Solver()"
   ]
  },
  {
   "cell_type": "code",
   "execution_count": 102,
   "metadata": {},
   "outputs": [
    {
     "data": {
      "text/plain": [
       "sat"
      ]
     },
     "execution_count": 102,
     "metadata": {},
     "output_type": "execute_result"
    }
   ],
   "source": [
    "#opt = z3.Optimize()\n",
    "#opt.assert_exprs(constraints)\n",
    "#opt.check()\n",
    "s = z3.Solver()\n",
    "s.add(constraints)\n",
    "s.check()\n",
    "#s.unsat_core()"
   ]
  },
  {
   "cell_type": "code",
   "execution_count": 103,
   "metadata": {},
   "outputs": [
    {
     "data": {
      "text/plain": [
       "[a23 = 0,\n",
       " a32 = 0,\n",
       " a21 = 1,\n",
       " a22 = 1,\n",
       " a33 = 1,\n",
       " a35 = 1,\n",
       " a24 = 1,\n",
       " a34 = 0,\n",
       " a25 = 0,\n",
       " a31 = 1]"
      ]
     },
     "metadata": {},
     "output_type": "display_data"
    },
    {
     "name": "stdout",
     "output_type": "stream",
     "text": [
      "a21 = 1\n"
     ]
    }
   ],
   "source": [
    "m = s.model()\n",
    "display(m)\n",
    "print (\"a21 = %s\" % m[a21])"
   ]
  },
  {
   "cell_type": "code",
   "execution_count": 104,
   "metadata": {},
   "outputs": [
    {
     "name": "stdout",
     "output_type": "stream",
     "text": [
      "BalanceCost + UtilCost = 9/200 + 14999999999999997/500000000000000000 = 0.07499?\n"
     ]
    }
   ],
   "source": [
    "c1 = (checkCost(q, a21=m[a21], a31=m[a31], \n",
    "             a22=m[a22], a32=m[a32], \n",
    "             a23=m[a23], a33=m[a33], \n",
    "             a24=m[a24], a34=m[a34], \n",
    "             a25=m[a25], a35=m[a35]))\n",
    "print(\"BalanceCost + UtilCost = %s = %s\" %(c1, z3.simplify(c1).as_decimal(5)))"
   ]
  },
  {
   "cell_type": "code",
   "execution_count": 105,
   "metadata": {
    "collapsed": true
   },
   "outputs": [],
   "source": [
    "a21, a31, a22, a32 = z3.Real('a21'), z3.Real('a31'), z3.Real('a22'), z3.Real('a32')\n",
    "a23, a33, a24, a34 = z3.Real('a23'), z3.Real('a33'), z3.Real('a24'), z3.Real('a34')\n",
    "a25, a35 = z3.Real('a25'), z3.Real('a35')\n",
    "\n",
    "opt = z3.Optimize()\n",
    "opt.assert_exprs(constraints)"
   ]
  },
  {
   "cell_type": "code",
   "execution_count": 106,
   "metadata": {},
   "outputs": [
    {
     "name": "stdout",
     "output_type": "stream",
     "text": [
      "res.upper: oo\n",
      "res.lower: -1*oo\n"
     ]
    },
    {
     "data": {
      "text/plain": [
       "[a21 = 1,\n",
       " a35 = 1,\n",
       " a34 = 0,\n",
       " a33 = 1,\n",
       " a32 = 0,\n",
       " a31 = 1,\n",
       " a25 = 0,\n",
       " a24 = 1,\n",
       " a23 = 0,\n",
       " a22 = 1]"
      ]
     },
     "metadata": {},
     "output_type": "display_data"
    }
   ],
   "source": [
    "q = .9\n",
    "res = opt.minimize(f(q, a21, a31, a22, a32, a23, a33, a24, a34, a25, a35))\n",
    "\n",
    "opt.check()\n",
    "\n",
    "print(\"res.upper: %s\" %res.upper())\n",
    "print(\"res.lower: %s\" %res.lower())\n",
    "\n",
    "opt_model = opt.model()\n",
    "display(opt_model)"
   ]
  },
  {
   "cell_type": "code",
   "execution_count": 3,
   "metadata": {
    "collapsed": true
   },
   "outputs": [],
   "source": [
    "import z3\n",
    "a21 = z3.Real('a21')\n",
    "a22 = z3.Real('a22')\n",
    "constraints = z3.And([\n",
    "    z3.Or(a21 == 0, a21 == 1),\n",
    "    z3.Or(a22 == 0, a22 == 1)])"
   ]
  },
  {
   "cell_type": "code",
   "execution_count": 46,
   "metadata": {
    "collapsed": true
   },
   "outputs": [],
   "source": [
    "opt = z3.Optimize()\n",
    "opt.assert_exprs(constraints)\n",
    "opt.add((a22 + a21)>0)\n",
    "opt.add((a22 + a21)<10)\n",
    "mx = opt.maximize(a22 + a21)\n"
   ]
  },
  {
   "cell_type": "code",
   "execution_count": 47,
   "metadata": {},
   "outputs": [
    {
     "data": {
      "text/plain": [
       "sat"
      ]
     },
     "execution_count": 47,
     "metadata": {},
     "output_type": "execute_result"
    }
   ],
   "source": [
    "opt.check()"
   ]
  },
  {
   "cell_type": "code",
   "execution_count": 48,
   "metadata": {},
   "outputs": [
    {
     "name": "stdout",
     "output_type": "stream",
     "text": [
      "mx.upper: 2\n",
      "mx.lower: 2\n"
     ]
    }
   ],
   "source": [
    "print(\"mx.upper: %s\" %mx.upper())\n",
    "print(\"mx.lower: %s\" %mx.lower())\n",
    "\n"
   ]
  },
  {
   "cell_type": "code",
   "execution_count": 49,
   "metadata": {},
   "outputs": [
    {
     "data": {
      "text/plain": [
       "[a21 = 1, a22 = 1]"
      ]
     },
     "metadata": {},
     "output_type": "display_data"
    }
   ],
   "source": [
    "opt_model = opt.model()\n",
    "display(opt_model)"
   ]
  },
  {
   "cell_type": "code",
   "execution_count": 59,
   "metadata": {
    "collapsed": true
   },
   "outputs": [],
   "source": [
    "a21 = z3.Real('a21')\n",
    "a22 = z3.Real('a22')\n",
    "constraints = z3.And([\n",
    "    z3.Or(a21 == 0, a21 == 1),\n",
    "    z3.Or(a22 == 0, a22 == 1)])"
   ]
  },
  {
   "cell_type": "code",
   "execution_count": 60,
   "metadata": {
    "collapsed": true
   },
   "outputs": [],
   "source": [
    "opt = z3.Optimize()\n",
    "opt.assert_exprs(constraints)\n",
    "opt.add((a22**2 + a21**2)>0)\n",
    "opt.add((a22**2 + a21**2)<10)\n",
    "mn = opt.minimize(a22**2 + a21**2)"
   ]
  },
  {
   "cell_type": "code",
   "execution_count": 64,
   "metadata": {},
   "outputs": [
    {
     "name": "stdout",
     "output_type": "stream",
     "text": [
      "unknown\n",
      "(incomplete (theory arithmetic))\n",
      "mn.upper: oo\n",
      "mn.lower: -1*oo\n"
     ]
    }
   ],
   "source": [
    "print(opt.check())\n",
    "print(opt.reason_unknown())\n",
    "print(\"mn.upper: %s\" %mn.upper())\n",
    "print(\"mn.lower: %s\" %mn.lower())"
   ]
  },
  {
   "cell_type": "code",
   "execution_count": 62,
   "metadata": {},
   "outputs": [
    {
     "data": {
      "text/plain": [
       "[a21 = 1, a22 = 1]"
      ]
     },
     "metadata": {},
     "output_type": "display_data"
    }
   ],
   "source": [
    "opt_model = opt.model()\n",
    "display(opt_model)"
   ]
  },
  {
   "cell_type": "code",
   "execution_count": null,
   "metadata": {
    "collapsed": true
   },
   "outputs": [],
   "source": [
    "# why it won't work\n",
    "# https://stackoverflow.com/questions/38386570/z3opt-python-minimizing-square\n",
    "# https://stackoverflow.com/search?q=z3+incomplete+%28theory+arithmetic%29\n",
    "# https://github.com/Z3Prover/z3/issues?utf8=✓&q=optimize"
   ]
  },
  {
   "cell_type": "code",
   "execution_count": 4,
   "metadata": {},
   "outputs": [
    {
     "data": {
      "text/plain": [
       "sat"
      ]
     },
     "execution_count": 4,
     "metadata": {},
     "output_type": "execute_result"
    }
   ],
   "source": [
    "\n",
    "s = z3.Solver()\n",
    "s.add(constraints)\n",
    "s.add((a22**2 + a21**2)>0)\n",
    "s.add((a22**2 + a21**2)<10)\n",
    "s.check()\n"
   ]
  },
  {
   "cell_type": "code",
   "execution_count": 5,
   "metadata": {},
   "outputs": [
    {
     "data": {
      "text/plain": [
       "[a21 = 0, a22 = 1]"
      ]
     },
     "metadata": {},
     "output_type": "display_data"
    }
   ],
   "source": [
    "m = s.model()\n",
    "display(m)"
   ]
  },
  {
   "cell_type": "code",
   "execution_count": null,
   "metadata": {
    "collapsed": true
   },
   "outputs": [],
   "source": []
  }
 ],
 "metadata": {
  "kernelspec": {
   "display_name": "Python 3",
   "language": "python",
   "name": "python3"
  },
  "language_info": {
   "codemirror_mode": {
    "name": "ipython",
    "version": 3
   },
   "file_extension": ".py",
   "mimetype": "text/x-python",
   "name": "python",
   "nbconvert_exporter": "python",
   "pygments_lexer": "ipython3",
   "version": "3.5.2"
  }
 },
 "nbformat": 4,
 "nbformat_minor": 2
}
