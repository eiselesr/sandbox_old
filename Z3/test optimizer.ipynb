{
 "cells": [
  {
   "cell_type": "code",
   "execution_count": 1,
   "metadata": {
    "collapsed": true
   },
   "outputs": [],
   "source": [
    "import z3\n",
    "import pprint\n",
    "\n",
    "a21, a31, a22, a32 = z3.Int('a21'), z3.Int('a31'), z3.Int('a22'), z3.Int('a32')\n",
    "a23, a33, a24, a34 = z3.Int('a23'), z3.Int('a33'), z3.Int('a24'), z3.Int('a34')\n",
    "a25, a35 = z3.Int('a25'), z3.Int('a35')\n",
    "vs = [a21, a31, a22, a32, a23, a33, a24, a34, a25, a35]\n"
   ]
  },
  {
   "cell_type": "code",
   "execution_count": 2,
   "metadata": {},
   "outputs": [
    {
     "name": "stdout",
     "output_type": "stream",
     "text": [
      "ToReal(a21)\n",
      "Real\n",
      "Int\n"
     ]
    },
    {
     "data": {
      "text/plain": [
       "Int"
      ]
     },
     "execution_count": 2,
     "metadata": {},
     "output_type": "execute_result"
    }
   ],
   "source": [
    "a21_ = z3.RealSort().cast(a21)\n",
    "print(a21_)\n",
    "_a21_ = z3.ToReal(a21)\n",
    "print(_a21_.sort())\n",
    "print(a21.sort())\n",
    "\n",
    "a21.__div__(20).sort()"
   ]
  },
  {
   "cell_type": "code",
   "execution_count": 3,
   "metadata": {},
   "outputs": [
    {
     "data": {
      "text/plain": [
       "a21/20 +\n",
       "a31/20 +\n",
       "a22/20 +\n",
       "a32/20 +\n",
       "a23/20 +\n",
       "a33/20 +\n",
       "a24/20 +\n",
       "a34/20 +\n",
       "a25/20 +\n",
       "a35/20"
      ]
     },
     "metadata": {},
     "output_type": "display_data"
    }
   ],
   "source": [
    "def util_obj():\n",
    "    uobj = (a21.__div__(20) + a31.__div__(20) + a22.__div__(20) + a32.__div__(20) + a23.__div__(20) + \n",
    "            a33.__div__(20) + a24.__div__(20) + a34.__div__(20) + a25.__div__(20) + a35.__div__(20))\n",
    "    return uobj\n",
    "\n",
    "display(util_obj())"
   ]
  },
  {
   "cell_type": "code",
   "execution_count": 4,
   "metadata": {
    "collapsed": true
   },
   "outputs": [],
   "source": [
    "#def util_obj():\n",
    "#    uobj = (1/20*a21 + 1/20*a31 + 1/20*a22 + 1/20*a32 + 1/20*a23 + \n",
    "#            1/20*a33 + 1/20*a24 + 1/20*a34 + 1/20*a25 + 1/20*a35)\n",
    "#    return uobj\n",
    "\n",
    "#display(util_obj())\n"
   ]
  },
  {
   "cell_type": "code",
   "execution_count": 5,
   "metadata": {},
   "outputs": [
    {
     "name": "stdout",
     "output_type": "stream",
     "text": [
      "('(div (+ 0\\n'\n",
      " '        (* a21 1024)\\n'\n",
      " '        (* a31 1024)\\n'\n",
      " '        0\\n'\n",
      " '        (* a22 1024)\\n'\n",
      " '        (* a32 1024)\\n'\n",
      " '        0\\n'\n",
      " '        (* a23 1024)\\n'\n",
      " '        (* a33 1024)\\n'\n",
      " '        0\\n'\n",
      " '        (* a24 1024)\\n'\n",
      " '        (* a34 1024)\\n'\n",
      " '        0\\n'\n",
      " '        (* a25 1024)\\n'\n",
      " '        (* a35 1024))\\n'\n",
      " '     20480)')\n"
     ]
    },
    {
     "data": {
      "text/plain": [
       "(1024*a21 +\n",
       " 1024*a31 +\n",
       " 1024*a22 +\n",
       " 1024*a32 +\n",
       " 1024*a23 +\n",
       " 1024*a33 +\n",
       " 1024*a24 +\n",
       " 1024*a34 +\n",
       " 1024*a25 +\n",
       " 1024*a35)/\n",
       "20480"
      ]
     },
     "execution_count": 5,
     "metadata": {},
     "output_type": "execute_result"
    }
   ],
   "source": [
    "def total_util():\n",
    "    util = (0 + a21*1024 + a31*1024 + 0 + a22*1024 + a32*1024 + 0 + a23*1024 + a33*1024 +\n",
    "            0 + a24*1024 + a34*1024 + 0 + a25*1024 + a35*1024)/ 20480\n",
    "    return util\n",
    "\n",
    "\n",
    "pprint.pprint(total_util().sexpr())\n",
    "z3.simplify(total_util())"
   ]
  },
  {
   "cell_type": "code",
   "execution_count": 6,
   "metadata": {},
   "outputs": [
    {
     "name": "stdout",
     "output_type": "stream",
     "text": [
      "(a21*1024 + a31*1024)/4096\n"
     ]
    }
   ],
   "source": [
    "def node_util(a,b):\n",
    "    return (a * 1024 + b*1024)/4096\n",
    "\n",
    "#print(z3.simplify(node_util(a21, a31)))\n",
    "    \n",
    "print(node_util(a21, a31))\n"
   ]
  },
  {
   "cell_type": "code",
   "execution_count": 7,
   "metadata": {},
   "outputs": [
    {
     "name": "stdout",
     "output_type": "stream",
     "text": [
      "(1024*a21 + 1024*a31)/4096\n"
     ]
    }
   ],
   "source": [
    "print(z3.simplify(node_util(a21, a31)))"
   ]
  },
  {
   "cell_type": "code",
   "execution_count": 8,
   "metadata": {},
   "outputs": [
    {
     "name": "stdout",
     "output_type": "stream",
     "text": [
      "('(let ((a!1 (* (- 1)\\n'\n",
      " '              (div (+ (* 1024 a21)\\n'\n",
      " '                      (* 1024 a31)\\n'\n",
      " '                      (* 1024 a22)\\n'\n",
      " '                      (* 1024 a32)\\n'\n",
      " '                      (* 1024 a23)\\n'\n",
      " '                      (* 1024 a33)\\n'\n",
      " '                      (* 1024 a24)\\n'\n",
      " '                      (* 1024 a34)\\n'\n",
      " '                      (* 1024 a25)\\n'\n",
      " '                      (* 1024 a35))\\n'\n",
      " '                   20480))))\\n'\n",
      " '(let ((a!2 (+ (div (+ (* 1024 a21) (* 1024 a31)) 4096) a!1))\\n'\n",
      " '      (a!3 (+ (div (+ (* 1024 a22) (* 1024 a32)) 4096) a!1))\\n'\n",
      " '      (a!4 (+ (div (+ (* 1024 a23) (* 1024 a33)) 4096) a!1))\\n'\n",
      " '      (a!5 (+ (div (+ (* 1024 a24) (* 1024 a34)) 4096) a!1))\\n'\n",
      " '      (a!6 (+ (div (+ (* 1024 a25) (* 1024 a35)) 4096) a!1)))\\n'\n",
      " '  (+ (^ a!2 2) (^ a!3 2) (^ a!4 2) (^ a!5 2) (^ a!6 2))))')\n",
      "<class 'z3.ArithRef'>\n"
     ]
    },
    {
     "data": {
      "text/plain": [
       "Int"
      ]
     },
     "execution_count": 8,
     "metadata": {},
     "output_type": "execute_result"
    }
   ],
   "source": [
    "def balance_obj():\n",
    "    bobj = (\n",
    "    (z3.simplify((0 + a21*1024.0 + a31*1024)/4096 - (0 + a21*1024 + a31*1024 + 0 + a22*1024 + a32*1024 + 0 + a23*1024 + a33*1024 +\n",
    "                                       0 + a24*1024 + a34*1024 + 0 + a25*1024 + a35*1024)/ 20480))**2 +\n",
    "    (z3.simplify((0 + a22*1024.0 + a32*1024)/4096 - (0 + a21*1024 + a31*1024 + 0 + a22*1024 + a32*1024 + 0 + a23*1024 + a33*1024 +\n",
    "                                       0 + a24*1024 + a34*1024 + 0 + a25*1024 + a35*1024)/ 20480))**2 +\n",
    "    (z3.simplify((0 + a23*1024.0 + a33*1024)/4096 - (0 + a21*1024 + a31*1024 + 0 + a22*1024 + a32*1024 + 0 + a23*1024 + a33*1024 +\n",
    "                                       0 + a24*1024 + a34*1024 + 0 + a25*1024 + a35*1024)/ 20480))**2 + \n",
    "    (z3.simplify((0 + a24*1024.0 + a34*1024)/4096 - (0 + a21*1024 + a31*1024 + 0 + a22*1024 + a32*1024 + 0 + a23*1024 + a33*1024 +\n",
    "                                       0 + a24*1024 + a34*1024 + 0 + a25*1024 + a35*1024)/ 20480))**2 + \n",
    "    (z3.simplify((0 + a25*1024.0 + a35*1024)/4096 - (0 + a21*1024 + a31*1024 + 0 + a22*1024 + a32*1024 + 0 + a23*1024 + a33*1024 +\n",
    "                                       0 + a24*1024 + a34*1024 + 0 + a25*1024 + a35*1024)/ 20480))**2\n",
    "    )\n",
    "    return(bobj)\n",
    "\n",
    "\n",
    "\n",
    "pprint.pprint(balance_obj().sexpr())\n",
    "print(type(balance_obj()))\n",
    "balance_obj().sort()"
   ]
  },
  {
   "cell_type": "code",
   "execution_count": 9,
   "metadata": {
    "collapsed": true
   },
   "outputs": [],
   "source": [
    "constraints = z3.And([z3.Or(a21 == 0, a21 == 1),\n",
    "               z3.Or(a22 == 0, a22 == 1),\n",
    "               z3.Or(a23 == 0, a23 == 1),\n",
    "               z3.Or(a24 == 0, a24 == 1),\n",
    "               z3.Or(a25 == 0, a25 == 1),\n",
    "               z3.Or(a31 == 0, a31 == 1),\n",
    "               z3.Or(a32 == 0, a32 == 1),\n",
    "               z3.Or(a33 == 0, a33 == 1),\n",
    "               z3.Or(a34 == 0, a34 == 1),\n",
    "               z3.Or(a35 == 0, a35 == 1),\n",
    "               4096 - (0 + 1024*a21 + 1024*a31) >= 0,\n",
    "               4096 - (0 + 1024*a22 + 1024*a32) >= 0,\n",
    "               4096 - (0 + 1024*a23 + 1024*a33) >= 0,\n",
    "               4096 - (0 + 1024*a24 + 1024*a34) >= 0,\n",
    "               4096 - (0 + 1024*a25 + 1024*a35) >= 0,\n",
    "               8192 - (0 + 1024*a21 + 1024*a31) >= 0,\n",
    "               8192 - (0 + 1024*a22 + 1024*a32) >= 0,\n",
    "               16384 - (0 + 1024*a23 + 1024*a33) >= 0,\n",
    "               8192 - (0 + 1024*a24 + 1024*a34) >= 0,\n",
    "               8192 - (0 + 1024*a25 + 1024*a35) >= 0,\n",
    "               a21 + a22 + a23 + a24 + a25 > 0,\n",
    "               a31 + a32 + a33 + a34 + a35 > 0])\n"
   ]
  },
  {
   "cell_type": "code",
   "execution_count": null,
   "metadata": {
    "collapsed": true
   },
   "outputs": [],
   "source": []
  },
  {
   "cell_type": "code",
   "execution_count": 10,
   "metadata": {
    "collapsed": true
   },
   "outputs": [],
   "source": [
    "#z3.set_param(\"auto-config\", \"false\")\n",
    "opt = z3.Optimize()\n",
    "opt.assert_exprs(constraints)"
   ]
  },
  {
   "cell_type": "code",
   "execution_count": 11,
   "metadata": {},
   "outputs": [
    {
     "name": "stdout",
     "output_type": "stream",
     "text": [
      "dump_benchmarks (bool) dump benchmarks for profiling (default: false)\n",
      "elim_01 (bool) eliminate 01 variables (default: true)\n",
      "enable_sat (bool) enable the new SAT core for propositional constraints (default: true)\n",
      "enable_sls (bool) enable SLS tuning during weighted maxsast (default: false)\n",
      "maxres.add_upper_bound_block (bool) restict upper bound with constraint (default: false)\n",
      "maxres.hill_climb (bool) give preference for large weight cores (default: true)\n",
      "maxres.max_core_size (unsigned int) break batch of generated cores if size reaches this number (default: 3)\n",
      "maxres.max_correction_set_size (unsigned int) allow generating correction set constraints up to maximal size (default: 3)\n",
      "maxres.max_num_cores (unsigned int) maximal number of cores per round (default: 4294967295)\n",
      "maxres.maximize_assignment (bool) find an MSS/MCS to improve current assignment (default: false)\n",
      "maxres.pivot_on_correction_set (bool) reduce soft constraints if the current correction set is smaller than current core (default: true)\n",
      "maxres.wmax (bool) use weighted theory solver to constrain upper bounds (default: false)\n",
      "maxsat_engine (symbol) select engine for maxsat: 'fu_malik', 'core_maxsat', 'wmax', 'pbmax', 'maxres', 'pd-maxres', 'bcd2', 'wpm2', 'sls', 'maxhs' (default: maxres)\n",
      "optsmt_engine (symbol) select optimization engine: 'basic', 'farkas', 'symba' (default: basic)\n",
      "pb.compile_equality (bool) compile arithmetical equalities into pseudo-Boolean equality (instead of two inequalites) (default: false)\n",
      "pp.neat (bool) use neat (as opposed to less readable, but faster) pretty printer when displaying context (default: true)\n",
      "print_model (bool) display model for satisfiable constraints (default: false)\n",
      "priority (symbol) select how to priortize objectives: 'lex' (lexicographic), 'pareto', or 'box' (default: lex)\n",
      "timeout (unsigned int) set timeout (default: 4294967295)\n",
      "\n"
     ]
    }
   ],
   "source": [
    "opt.help()"
   ]
  },
  {
   "cell_type": "code",
   "execution_count": 12,
   "metadata": {
    "collapsed": true
   },
   "outputs": [],
   "source": [
    "#opt.set(optsmt_engine='symba')\n",
    "#opt.set(priority='box')"
   ]
  },
  {
   "cell_type": "code",
   "execution_count": 13,
   "metadata": {},
   "outputs": [
    {
     "name": "stdout",
     "output_type": "stream",
     "text": [
      "(timeout, optsmt_engine, maxsat_engine, priority, dump_benchmarks, print_model, enable_sls, enable_sat, elim_01, pp.neat, pb.compile_equality, maxres.hill_climb, maxres.add_upper_bound_block, maxres.max_num_cores, maxres.max_core_size, maxres.maximize_assignment, maxres.max_correction_set_size, maxres.wmax, maxres.pivot_on_correction_set)\n",
      "\n",
      " <class 'z3.ParamDescrsRef'>\n",
      "check params: (timeout, optsmt_engine, maxsat_engine, priority, dump_benchmarks, print_model, enable_sls, enable_sat, elim_01, pp.neat, pb.compile_equality, maxres.hill_climb, maxres.add_upper_bound_block, maxres.max_num_cores, maxres.max_core_size, maxres.maximize_assignment, maxres.max_correction_set_size, maxres.wmax, maxres.pivot_on_correction_set)\n"
     ]
    }
   ],
   "source": [
    "pprint.pprint(opt.param_descrs())\n",
    "print(\"\\n %s\" %type(opt.param_descrs()))\n",
    "\n",
    "print(\"check params: %s\" %opt.param_descrs().__repr__())"
   ]
  },
  {
   "cell_type": "code",
   "execution_count": 14,
   "metadata": {},
   "outputs": [
    {
     "data": {
      "text/plain": [
       "sat"
      ]
     },
     "execution_count": 14,
     "metadata": {},
     "output_type": "execute_result"
    }
   ],
   "source": [
    "opt.check()"
   ]
  },
  {
   "cell_type": "code",
   "execution_count": 15,
   "metadata": {},
   "outputs": [
    {
     "name": "stdout",
     "output_type": "stream",
     "text": [
      "('(declare-fun a35 () Int)\\n'\n",
      " '(declare-fun a34 () Int)\\n'\n",
      " '(declare-fun a33 () Int)\\n'\n",
      " '(declare-fun a32 () Int)\\n'\n",
      " '(declare-fun a31 () Int)\\n'\n",
      " '(declare-fun a25 () Int)\\n'\n",
      " '(declare-fun a24 () Int)\\n'\n",
      " '(declare-fun a23 () Int)\\n'\n",
      " '(declare-fun a22 () Int)\\n'\n",
      " '(declare-fun a21 () Int)\\n'\n",
      " '(assert (let ((a!1 (>= (- 4096 (+ 0 (* 1024 a21) (* 1024 a31))) 0))\\n'\n",
      " '      (a!2 (>= (- 4096 (+ 0 (* 1024 a22) (* 1024 a32))) 0))\\n'\n",
      " '      (a!3 (>= (- 4096 (+ 0 (* 1024 a23) (* 1024 a33))) 0))\\n'\n",
      " '      (a!4 (>= (- 4096 (+ 0 (* 1024 a24) (* 1024 a34))) 0))\\n'\n",
      " '      (a!5 (>= (- 4096 (+ 0 (* 1024 a25) (* 1024 a35))) 0))\\n'\n",
      " '      (a!6 (>= (- 8192 (+ 0 (* 1024 a21) (* 1024 a31))) 0))\\n'\n",
      " '      (a!7 (>= (- 8192 (+ 0 (* 1024 a22) (* 1024 a32))) 0))\\n'\n",
      " '      (a!8 (>= (- 16384 (+ 0 (* 1024 a23) (* 1024 a33))) 0))\\n'\n",
      " '      (a!9 (>= (- 8192 (+ 0 (* 1024 a24) (* 1024 a34))) 0))\\n'\n",
      " '      (a!10 (>= (- 8192 (+ 0 (* 1024 a25) (* 1024 a35))) 0)))\\n'\n",
      " '  (and (or (= a21 0) (= a21 1))\\n'\n",
      " '       (or (= a22 0) (= a22 1))\\n'\n",
      " '       (or (= a23 0) (= a23 1))\\n'\n",
      " '       (or (= a24 0) (= a24 1))\\n'\n",
      " '       (or (= a25 0) (= a25 1))\\n'\n",
      " '       (or (= a31 0) (= a31 1))\\n'\n",
      " '       (or (= a32 0) (= a32 1))\\n'\n",
      " '       (or (= a33 0) (= a33 1))\\n'\n",
      " '       (or (= a34 0) (= a34 1))\\n'\n",
      " '       (or (= a35 0) (= a35 1))\\n'\n",
      " '       a!1\\n'\n",
      " '       a!2\\n'\n",
      " '       a!3\\n'\n",
      " '       a!4\\n'\n",
      " '       a!5\\n'\n",
      " '       a!6\\n'\n",
      " '       a!7\\n'\n",
      " '       a!8\\n'\n",
      " '       a!9\\n'\n",
      " '       a!10\\n'\n",
      " '       (> (+ a21 a22 a23 a24 a25) 0)\\n'\n",
      " '       (> (+ a31 a32 a33 a34 a35) 0))))\\n'\n",
      " '(check-sat)\\n')\n"
     ]
    }
   ],
   "source": [
    "pprint.pprint(opt.__repr__())"
   ]
  },
  {
   "cell_type": "code",
   "execution_count": 16,
   "metadata": {
    "collapsed": true
   },
   "outputs": [],
   "source": [
    "def f(q):\n",
    "    return q*balance_obj() + (1-q)*util_obj()"
   ]
  },
  {
   "cell_type": "code",
   "execution_count": 17,
   "metadata": {
    "collapsed": true
   },
   "outputs": [],
   "source": [
    "q = .9\n",
    "res = opt.minimize(f(q))"
   ]
  },
  {
   "cell_type": "code",
   "execution_count": 18,
   "metadata": {},
   "outputs": [
    {
     "name": "stdout",
     "output_type": "stream",
     "text": [
      "('(declare-fun a35 () Int)\\n'\n",
      " '(declare-fun a34 () Int)\\n'\n",
      " '(declare-fun a33 () Int)\\n'\n",
      " '(declare-fun a32 () Int)\\n'\n",
      " '(declare-fun a31 () Int)\\n'\n",
      " '(declare-fun a25 () Int)\\n'\n",
      " '(declare-fun a24 () Int)\\n'\n",
      " '(declare-fun a23 () Int)\\n'\n",
      " '(declare-fun a22 () Int)\\n'\n",
      " '(declare-fun a21 () Int)\\n'\n",
      " '(assert (let ((a!1 (>= (- 4096 (+ 0 (* 1024 a21) (* 1024 a31))) 0))\\n'\n",
      " '      (a!2 (>= (- 4096 (+ 0 (* 1024 a22) (* 1024 a32))) 0))\\n'\n",
      " '      (a!3 (>= (- 4096 (+ 0 (* 1024 a23) (* 1024 a33))) 0))\\n'\n",
      " '      (a!4 (>= (- 4096 (+ 0 (* 1024 a24) (* 1024 a34))) 0))\\n'\n",
      " '      (a!5 (>= (- 4096 (+ 0 (* 1024 a25) (* 1024 a35))) 0))\\n'\n",
      " '      (a!6 (>= (- 8192 (+ 0 (* 1024 a21) (* 1024 a31))) 0))\\n'\n",
      " '      (a!7 (>= (- 8192 (+ 0 (* 1024 a22) (* 1024 a32))) 0))\\n'\n",
      " '      (a!8 (>= (- 16384 (+ 0 (* 1024 a23) (* 1024 a33))) 0))\\n'\n",
      " '      (a!9 (>= (- 8192 (+ 0 (* 1024 a24) (* 1024 a34))) 0))\\n'\n",
      " '      (a!10 (>= (- 8192 (+ 0 (* 1024 a25) (* 1024 a35))) 0)))\\n'\n",
      " '  (and (or (= a21 0) (= a21 1))\\n'\n",
      " '       (or (= a22 0) (= a22 1))\\n'\n",
      " '       (or (= a23 0) (= a23 1))\\n'\n",
      " '       (or (= a24 0) (= a24 1))\\n'\n",
      " '       (or (= a25 0) (= a25 1))\\n'\n",
      " '       (or (= a31 0) (= a31 1))\\n'\n",
      " '       (or (= a32 0) (= a32 1))\\n'\n",
      " '       (or (= a33 0) (= a33 1))\\n'\n",
      " '       (or (= a34 0) (= a34 1))\\n'\n",
      " '       (or (= a35 0) (= a35 1))\\n'\n",
      " '       a!1\\n'\n",
      " '       a!2\\n'\n",
      " '       a!3\\n'\n",
      " '       a!4\\n'\n",
      " '       a!5\\n'\n",
      " '       a!6\\n'\n",
      " '       a!7\\n'\n",
      " '       a!8\\n'\n",
      " '       a!9\\n'\n",
      " '       a!10\\n'\n",
      " '       (> (+ a21 a22 a23 a24 a25) 0)\\n'\n",
      " '       (> (+ a31 a32 a33 a34 a35) 0))))\\n'\n",
      " '(minimize (let ((a!1 (* (- 1)\\n'\n",
      " '              (div (+ (* 1024 a21)\\n'\n",
      " '                      (* 1024 a31)\\n'\n",
      " '                      (* 1024 a22)\\n'\n",
      " '                      (* 1024 a32)\\n'\n",
      " '                      (* 1024 a23)\\n'\n",
      " '                      (* 1024 a33)\\n'\n",
      " '                      (* 1024 a24)\\n'\n",
      " '                      (* 1024 a34)\\n'\n",
      " '                      (* 1024 a25)\\n'\n",
      " '                      (* 1024 a35))\\n'\n",
      " '                   20480))))\\n'\n",
      " '(let ((a!2 (+ (div (+ (* 1024 a21) (* 1024 a31)) 4096) a!1))\\n'\n",
      " '      (a!3 (+ (div (+ (* 1024 a22) (* 1024 a32)) 4096) a!1))\\n'\n",
      " '      (a!4 (+ (div (+ (* 1024 a23) (* 1024 a33)) 4096) a!1))\\n'\n",
      " '      (a!5 (+ (div (+ (* 1024 a24) (* 1024 a34)) 4096) a!1))\\n'\n",
      " '      (a!6 (+ (div (+ (* 1024 a25) (* 1024 a35)) 4096) a!1)))\\n'\n",
      " '  (+ (* 0 (+ (^ a!2 2) (^ a!3 2) (^ a!4 2) (^ a!5 2) (^ a!6 2)))\\n'\n",
      " '     (* 0\\n'\n",
      " '        (+ (div a21 20)\\n'\n",
      " '           (div a31 20)\\n'\n",
      " '           (div a22 20)\\n'\n",
      " '           (div a32 20)\\n'\n",
      " '           (div a23 20)\\n'\n",
      " '           (div a33 20)\\n'\n",
      " '           (div a24 20)\\n'\n",
      " '           (div a34 20)\\n'\n",
      " '           (div a25 20)\\n'\n",
      " '           (div a35 20)))))))\\n'\n",
      " '(check-sat)\\n')\n"
     ]
    }
   ],
   "source": [
    "pprint.pprint(opt.__repr__())"
   ]
  },
  {
   "cell_type": "code",
   "execution_count": 19,
   "metadata": {},
   "outputs": [
    {
     "data": {
      "text/plain": [
       "sat"
      ]
     },
     "execution_count": 19,
     "metadata": {},
     "output_type": "execute_result"
    }
   ],
   "source": [
    "opt.check()"
   ]
  },
  {
   "cell_type": "code",
   "execution_count": 20,
   "metadata": {},
   "outputs": [
    {
     "data": {
      "text/plain": [
       "'no reason given'"
      ]
     },
     "execution_count": 20,
     "metadata": {},
     "output_type": "execute_result"
    }
   ],
   "source": [
    "opt.reason_unknown()"
   ]
  },
  {
   "cell_type": "code",
   "execution_count": 21,
   "metadata": {},
   "outputs": [
    {
     "data": {
      "text/plain": [
       "0"
      ]
     },
     "execution_count": 21,
     "metadata": {},
     "output_type": "execute_result"
    }
   ],
   "source": [
    "res.lower()"
   ]
  },
  {
   "cell_type": "code",
   "execution_count": 22,
   "metadata": {},
   "outputs": [
    {
     "data": {
      "text/plain": [
       "(:decisions    16\n",
       " :max-memory   1.14\n",
       " :memory       0.86\n",
       " :mk-bool-var  10\n",
       " :mk-clause    2\n",
       " :num-allocs   78499.00\n",
       " :propagations 4\n",
       " :rlimit-count 2860)"
      ]
     },
     "execution_count": 22,
     "metadata": {},
     "output_type": "execute_result"
    }
   ],
   "source": [
    "opt.statistics()"
   ]
  },
  {
   "cell_type": "code",
   "execution_count": 23,
   "metadata": {},
   "outputs": [
    {
     "data": {
      "text/plain": [
       "[a21 = 0,\n",
       " a22 = 0,\n",
       " a23 = 0,\n",
       " a24 = 0,\n",
       " a25 = 1,\n",
       " a31 = 0,\n",
       " a32 = 0,\n",
       " a33 = 0,\n",
       " a34 = 0,\n",
       " a35 = 1]"
      ]
     },
     "execution_count": 23,
     "metadata": {},
     "output_type": "execute_result"
    }
   ],
   "source": [
    "opt_model = opt.model()\n",
    "opt_model\n",
    " "
   ]
  },
  {
   "cell_type": "code",
   "execution_count": 24,
   "metadata": {},
   "outputs": [
    {
     "name": "stdout",
     "output_type": "stream",
     "text": [
      "unsimplified\n",
      "(0*1024 + 0*1024)/4096\n",
      "simplify: 0\n",
      "simplify_cast: 0\n",
      "a21 (0*1024)/4096 \n",
      "simplify test 0\n",
      "a21 ToReal((0*1024)/4096) \n",
      "simplify testCast 0\n",
      "a21 (ToReal(0)*1024)/4096 \n",
      "simplify testCast 0\n",
      "0 + 0*1024 + 0*1024\n",
      "0 + 0*1024 + 0*1024\n",
      "0 + 0*1024 + 0*1024\n",
      "0 + 0*1024 + 0*1024\n",
      "0 + 1*1024 + 1*1024\n"
     ]
    },
    {
     "data": {
      "text/plain": [
       "0**2"
      ]
     },
     "execution_count": 24,
     "metadata": {},
     "output_type": "execute_result"
    }
   ],
   "source": [
    "(opt_model[a21]).sort()\n",
    "\n",
    "print(\"unsimplified\")\n",
    "print((opt_model[a21]*1024.0 + (opt_model[a31])*1024)/4096 )\n",
    "simplify = z3.simplify((opt_model[a21]*1024.0 + opt_model[a31]*1024)/4096)\n",
    "print(\"simplify: %s\" %simplify)\n",
    "simplify_cast = z3.simplify(z3.RealSort().cast((opt_model[a21]*1024.0 + opt_model[a31]*1024)/4096))\n",
    "print(\"simplify_cast: %s\" %simplify_cast)\n",
    "\n",
    "test = (opt_model[a21]*1024)/4096.0\n",
    "print(\"a21 %s \" %test)\n",
    "print(\"simplify test %s\" %z3.simplify(test))\n",
    "\n",
    "testCast = z3.RealSort().cast((opt_model[a21]*1024)/4096)\n",
    "print(\"a21 %s \" %testCast)\n",
    "print(\"simplify testCast %s\" %z3.simplify(testCast))\n",
    "\n",
    "testCast2 = ((z3.RealSort().cast(opt_model[a21]))*1024)/4096\n",
    "print(\"a21 %s \" %testCast2)\n",
    "print(\"simplify testCast %s\" %z3.simplify(testCast2))\n",
    "\n",
    "print(0 + (opt_model[a21])*1024 + (opt_model[a31])*1024)\n",
    "print(0 + (opt_model[a22])*1024 + (opt_model[a32])*1024) \n",
    "print(0 + (opt_model[a23])*1024 + (opt_model[a33])*1024)\n",
    "print(0 + (opt_model[a24])*1024 + (opt_model[a34])*1024)\n",
    "print(0 + (opt_model[a25])*1024 + (opt_model[a35])*1024)\n",
    "\n",
    "z3.simplify((0 + (opt_model[a21])*1024.0 + (opt_model[a31])*1024)/4096 - \n",
    "            (0 + (opt_model[a21])*1024 + (opt_model[a31])*1024 + \n",
    "             0 + (opt_model[a22])*1024 + (opt_model[a32])*1024 + \n",
    "             0 + (opt_model[a23])*1024 + (opt_model[a33])*1024 +\n",
    "             0 + (opt_model[a24])*1024 + (opt_model[a25])*1024 + \n",
    "             0 + (opt_model[a25])*1024 + (opt_model[a35])*1024)/ 20480)**2"
   ]
  },
  {
   "cell_type": "code",
   "execution_count": 25,
   "metadata": {
    "collapsed": true
   },
   "outputs": [],
   "source": [
    "#pause\n",
    "temp = list()\n",
    "for v in vs:\n",
    "    #print(v)\n",
    "    #temp.append(z3.RealSort().cast(opt_model.evaluate(v)))\n",
    "    temp.append(opt_model.evaluate(v))\n",
    "\n",
    "a21, a31, a22, a32, a23, a33, a24, a34, a25, a35 = temp"
   ]
  },
  {
   "cell_type": "code",
   "execution_count": 26,
   "metadata": {},
   "outputs": [
    {
     "data": {
      "text/plain": [
       "0"
      ]
     },
     "execution_count": 26,
     "metadata": {},
     "output_type": "execute_result"
    }
   ],
   "source": [
    "a21"
   ]
  },
  {
   "cell_type": "code",
   "execution_count": null,
   "metadata": {
    "collapsed": true
   },
   "outputs": [],
   "source": []
  },
  {
   "cell_type": "code",
   "execution_count": 27,
   "metadata": {
    "collapsed": true
   },
   "outputs": [],
   "source": [
    "util = util_obj()"
   ]
  },
  {
   "cell_type": "code",
   "execution_count": 28,
   "metadata": {},
   "outputs": [
    {
     "data": {
      "text/plain": [
       "0/20 +\n",
       "0/20 +\n",
       "0/20 +\n",
       "0/20 +\n",
       "0/20 +\n",
       "0/20 +\n",
       "0/20 +\n",
       "0/20 +\n",
       "1/20 +\n",
       "1/20"
      ]
     },
     "execution_count": 28,
     "metadata": {},
     "output_type": "execute_result"
    }
   ],
   "source": [
    "util"
   ]
  },
  {
   "cell_type": "code",
   "execution_count": 29,
   "metadata": {},
   "outputs": [
    {
     "data": {
      "text/plain": [
       "0"
      ]
     },
     "execution_count": 29,
     "metadata": {},
     "output_type": "execute_result"
    }
   ],
   "source": [
    "z3.simplify(util)"
   ]
  },
  {
   "cell_type": "code",
   "execution_count": 30,
   "metadata": {},
   "outputs": [
    {
     "name": "stdout",
     "output_type": "stream",
     "text": [
      "'(+ (^ 0 2) (^ 0 2) (^ 0 2) (^ 0 2) (^ 0 2))'\n"
     ]
    }
   ],
   "source": [
    "pprint.pprint(balance_obj().sexpr())"
   ]
  },
  {
   "cell_type": "code",
   "execution_count": 31,
   "metadata": {},
   "outputs": [
    {
     "data": {
      "text/plain": [
       "0"
      ]
     },
     "execution_count": 31,
     "metadata": {},
     "output_type": "execute_result"
    }
   ],
   "source": [
    "z3.simplify(balance_obj())"
   ]
  },
  {
   "cell_type": "code",
   "execution_count": 32,
   "metadata": {},
   "outputs": [
    {
     "data": {
      "text/plain": [
       "0"
      ]
     },
     "execution_count": 32,
     "metadata": {},
     "output_type": "execute_result"
    }
   ],
   "source": [
    "z3.simplify(util_obj() + balance_obj())"
   ]
  },
  {
   "cell_type": "code",
   "execution_count": 33,
   "metadata": {},
   "outputs": [
    {
     "name": "stdout",
     "output_type": "stream",
     "text": [
      "(0*1024 + 0*1024)/4096 - 0\n"
     ]
    },
    {
     "data": {
      "text/plain": [
       "0"
      ]
     },
     "execution_count": 33,
     "metadata": {},
     "output_type": "execute_result"
    }
   ],
   "source": [
    "print(node_util(a21, a31) - z3.simplify(util))\n",
    "\n",
    "z3.simplify((node_util(a21, a31) - util) + (node_util(a23, a33) - util))"
   ]
  },
  {
   "cell_type": "code",
   "execution_count": 34,
   "metadata": {},
   "outputs": [
    {
     "data": {
      "text/plain": [
       "0"
      ]
     },
     "execution_count": 34,
     "metadata": {},
     "output_type": "execute_result"
    }
   ],
   "source": [
    "z3.simplify(node_util(a24, a34) - util)"
   ]
  },
  {
   "cell_type": "code",
   "execution_count": 35,
   "metadata": {},
   "outputs": [
    {
     "name": "stdout",
     "output_type": "stream",
     "text": [
      "util 0\n",
      "balance 0\n",
      "util + balance = 0\n",
      "q: 0.9\n"
     ]
    },
    {
     "ename": "AttributeError",
     "evalue": "'IntNumRef' object has no attribute 'as_decimal'",
     "output_type": "error",
     "traceback": [
      "\u001b[0;31m---------------------------------------------------------------------------\u001b[0m",
      "\u001b[0;31mAttributeError\u001b[0m                            Traceback (most recent call last)",
      "\u001b[0;32m<ipython-input-35-227017f5e961>\u001b[0m in \u001b[0;36m<module>\u001b[0;34m()\u001b[0m\n\u001b[1;32m      3\u001b[0m \u001b[0mprint\u001b[0m\u001b[0;34m(\u001b[0m\u001b[0;34m\"util + balance = %s\"\u001b[0m \u001b[0;34m%\u001b[0m\u001b[0;34m(\u001b[0m\u001b[0mz3\u001b[0m\u001b[0;34m.\u001b[0m\u001b[0msimplify\u001b[0m\u001b[0;34m(\u001b[0m\u001b[0mutil_obj\u001b[0m\u001b[0;34m(\u001b[0m\u001b[0;34m)\u001b[0m \u001b[0;34m+\u001b[0m \u001b[0mbalance_obj\u001b[0m\u001b[0;34m(\u001b[0m\u001b[0;34m)\u001b[0m\u001b[0;34m)\u001b[0m\u001b[0;34m)\u001b[0m\u001b[0;34m)\u001b[0m\u001b[0;34m\u001b[0m\u001b[0m\n\u001b[1;32m      4\u001b[0m \u001b[0mprint\u001b[0m\u001b[0;34m(\u001b[0m\u001b[0;34m\"q: %s\"\u001b[0m \u001b[0;34m%\u001b[0m\u001b[0mq\u001b[0m\u001b[0;34m)\u001b[0m\u001b[0;34m\u001b[0m\u001b[0m\n\u001b[0;32m----> 5\u001b[0;31m \u001b[0mprint\u001b[0m\u001b[0;34m(\u001b[0m\u001b[0;34m\"(1-q)*util = %s\"\u001b[0m \u001b[0;34m%\u001b[0m\u001b[0;34m(\u001b[0m\u001b[0mz3\u001b[0m\u001b[0;34m.\u001b[0m\u001b[0msimplify\u001b[0m\u001b[0;34m(\u001b[0m\u001b[0;34m(\u001b[0m\u001b[0;36m1\u001b[0m\u001b[0;34m-\u001b[0m\u001b[0mq\u001b[0m\u001b[0;34m)\u001b[0m\u001b[0;34m*\u001b[0m\u001b[0mutil_obj\u001b[0m\u001b[0;34m(\u001b[0m\u001b[0;34m)\u001b[0m\u001b[0;34m)\u001b[0m\u001b[0;34m.\u001b[0m\u001b[0mas_decimal\u001b[0m\u001b[0;34m(\u001b[0m\u001b[0;36m5\u001b[0m\u001b[0;34m)\u001b[0m\u001b[0;34m)\u001b[0m\u001b[0;34m)\u001b[0m\u001b[0;34m\u001b[0m\u001b[0m\n\u001b[0m\u001b[1;32m      6\u001b[0m \u001b[0mprint\u001b[0m\u001b[0;34m(\u001b[0m\u001b[0;34m\"q*balance = %s \"\u001b[0m \u001b[0;34m%\u001b[0m\u001b[0;34m(\u001b[0m\u001b[0mz3\u001b[0m\u001b[0;34m.\u001b[0m\u001b[0msimplify\u001b[0m\u001b[0;34m(\u001b[0m\u001b[0mq\u001b[0m\u001b[0;34m*\u001b[0m\u001b[0mbalance_obj\u001b[0m\u001b[0;34m(\u001b[0m\u001b[0;34m)\u001b[0m\u001b[0;34m)\u001b[0m\u001b[0;34m.\u001b[0m\u001b[0mas_decimal\u001b[0m\u001b[0;34m(\u001b[0m\u001b[0;36m5\u001b[0m\u001b[0;34m)\u001b[0m\u001b[0;34m)\u001b[0m\u001b[0;34m)\u001b[0m\u001b[0;34m\u001b[0m\u001b[0m\n\u001b[1;32m      7\u001b[0m \u001b[0mprint\u001b[0m\u001b[0;34m(\u001b[0m\u001b[0;34m\"q*balance + (1-q)*util = %s \"\u001b[0m \u001b[0;34m%\u001b[0m\u001b[0;34m(\u001b[0m\u001b[0mz3\u001b[0m\u001b[0;34m.\u001b[0m\u001b[0msimplify\u001b[0m\u001b[0;34m(\u001b[0m\u001b[0mq\u001b[0m\u001b[0;34m*\u001b[0m\u001b[0mbalance_obj\u001b[0m\u001b[0;34m(\u001b[0m\u001b[0;34m)\u001b[0m \u001b[0;34m+\u001b[0m \u001b[0;34m(\u001b[0m\u001b[0;36m1\u001b[0m\u001b[0;34m-\u001b[0m\u001b[0mq\u001b[0m\u001b[0;34m)\u001b[0m\u001b[0;34m*\u001b[0m\u001b[0mutil_obj\u001b[0m\u001b[0;34m(\u001b[0m\u001b[0;34m)\u001b[0m\u001b[0;34m)\u001b[0m\u001b[0;34m.\u001b[0m\u001b[0mas_decimal\u001b[0m\u001b[0;34m(\u001b[0m\u001b[0;36m5\u001b[0m\u001b[0;34m)\u001b[0m\u001b[0;34m)\u001b[0m\u001b[0;34m)\u001b[0m\u001b[0;34m\u001b[0m\u001b[0m\n",
      "\u001b[0;31mAttributeError\u001b[0m: 'IntNumRef' object has no attribute 'as_decimal'"
     ]
    }
   ],
   "source": [
    "print(\"util %s\" %z3.simplify(util_obj()))\n",
    "print(\"balance %s\" %z3.simplify(balance_obj()))\n",
    "print(\"util + balance = %s\" %(z3.simplify(util_obj() + balance_obj())))\n",
    "print(\"q: %s\" %q)\n",
    "print(\"(1-q)*util = %s\" %(z3.simplify((1-q)*util_obj()).as_decimal(5)))\n",
    "print(\"q*balance = %s \" %(z3.simplify(q*balance_obj()).as_decimal(5)))\n",
    "print(\"q*balance + (1-q)*util = %s \" %(z3.simplify(q*balance_obj() + (1-q)*util_obj()).as_decimal(5)))"
   ]
  },
  {
   "cell_type": "code",
   "execution_count": null,
   "metadata": {
    "collapsed": true
   },
   "outputs": [],
   "source": [
    "#pause\n",
    "z31 = z3.RealSort().cast(1)\n",
    "z30 = z3.RealSort().cast(0)"
   ]
  },
  {
   "cell_type": "code",
   "execution_count": null,
   "metadata": {
    "collapsed": true
   },
   "outputs": [],
   "source": [
    "a21, a22, a23, a24, a25 = z30, z30, z30, z30, z30\n",
    "a31, a32, a33, a34, a35 = z31, z31, z31, z31, z31\n",
    "print(\"util %s\" %z3.simplify(util_obj()))\n",
    "print(\"balance %s\" %z3.simplify(balance_obj()))\n",
    "print(\"util + balance = %s\" %(z3.simplify(util_obj() + balance_obj())))\n",
    "print(\"q: %s\" %q)\n",
    "print(\"(1-q)*util = %s\" %(z3.simplify((1-q)*util_obj()).as_decimal(5)))\n",
    "print(\"q*balance = %s \" %(z3.simplify(q*balance_obj()).as_decimal(5)))\n",
    "print(\"q*balance + (1-q)*util = %s \" %(z3.simplify(q*balance_obj() + (1-q)*util_obj()).as_decimal(5)))"
   ]
  },
  {
   "cell_type": "code",
   "execution_count": null,
   "metadata": {
    "collapsed": true
   },
   "outputs": [],
   "source": [
    "a21, a22, a23, a24, a25 = z30, z30, z30, z30, z31\n",
    "a31, a32, a33, a34, a35 = z31, z31, z31, z31, z31\n",
    "print(\"util %s\" %z3.simplify(util_obj()))\n",
    "print(\"balance %s\" %z3.simplify(balance_obj()))\n",
    "print(\"util + balance = %s\" %(z3.simplify(util_obj() + balance_obj())))\n",
    "print(\"q: %s\" %q)\n",
    "print(\"(1-q)*util = %s\" %(z3.simplify((1-q)*util_obj()).as_decimal(5)))\n",
    "print(\"q*balance = %s \" %(z3.simplify(q*balance_obj()).as_decimal(5)))\n",
    "print(\"q*balance + (1-q)*util = %s \" %(z3.simplify(q*balance_obj() + (1-q)*util_obj()).as_decimal(5)))"
   ]
  },
  {
   "cell_type": "code",
   "execution_count": null,
   "metadata": {
    "collapsed": true
   },
   "outputs": [],
   "source": [
    "a21, a22, a23, a24, a25 = z30, z30, z30, z31, z31\n",
    "a31, a32, a33, a34, a35 = z31, z31, z31, z31, z31\n",
    "print(\"util %s\" %z3.simplify(util_obj()))\n",
    "print(\"balance %s\" %z3.simplify(balance_obj()))\n",
    "print(\"util + balance = %s\" %(z3.simplify(util_obj() + balance_obj())))\n",
    "print(\"q: %s\" %q)\n",
    "print(\"(1-q)*util = %s\" %(z3.simplify((1-q)*util_obj()).as_decimal(5)))\n",
    "print(\"q*balance = %s \" %(z3.simplify(q*balance_obj()).as_decimal(5)))\n",
    "print(\"q*balance + (1-q)*util = %s \" %(z3.simplify(q*balance_obj() + (1-q)*util_obj()).as_decimal(5)))"
   ]
  },
  {
   "cell_type": "code",
   "execution_count": null,
   "metadata": {
    "collapsed": true
   },
   "outputs": [],
   "source": [
    "a21, a22, a23, a24, a25 = z30, z30, z31, z31, z31\n",
    "a31, a32, a33, a34, a35 = z31, z31, z31, z31, z31\n",
    "print(\"util %s\" %z3.simplify(util_obj()))\n",
    "print(\"balance %s\" %z3.simplify(balance_obj()))\n",
    "print(\"util + balance = %s\" %(z3.simplify(util_obj() + balance_obj())))\n",
    "print(\"q: %s\" %q)\n",
    "print(\"(1-q)*util = %s\" %(z3.simplify((1-q)*util_obj()).as_decimal(5)))\n",
    "print(\"q*balance = %s \" %(z3.simplify(q*balance_obj()).as_decimal(5)))\n",
    "print(\"q*balance + (1-q)*util = %s \" %(z3.simplify(q*balance_obj() + (1-q)*util_obj()).as_decimal(5)))"
   ]
  },
  {
   "cell_type": "code",
   "execution_count": null,
   "metadata": {
    "collapsed": true
   },
   "outputs": [],
   "source": [
    "a21, a22, a23, a24, a25 = z30, z31, z31, z31, z31\n",
    "a31, a32, a33, a34, a35 = z31, z31, z31, z31, z31\n",
    "print(\"util %s\" %z3.simplify(util_obj()))\n",
    "print(\"balance %s\" %z3.simplify(balance_obj()))\n",
    "print(\"util + balance = %s\" %(z3.simplify(util_obj() + balance_obj())))\n",
    "print(\"q: %s\" %q)\n",
    "print(\"(1-q)*util = %s\" %(z3.simplify((1-q)*util_obj()).as_decimal(5)))\n",
    "print(\"q*balance = %s \" %(z3.simplify(q*balance_obj()).as_decimal(5)))\n",
    "print(\"q*balance + (1-q)*util = %s \" %(z3.simplify(q*balance_obj() + (1-q)*util_obj()).as_decimal(5)))"
   ]
  },
  {
   "cell_type": "code",
   "execution_count": null,
   "metadata": {
    "collapsed": true
   },
   "outputs": [],
   "source": [
    "a21, a22, a23, a24, a25 = z31, z31, z31, z31, z31\n",
    "a31, a32, a33, a34, a35 = z31, z31, z31, z31, z31\n",
    "print(\"util %s\" %z3.simplify(util_obj()))\n",
    "print(\"balance %s\" %z3.simplify(balance_obj()))\n",
    "print(\"util + balance = %s\" %(z3.simplify(util_obj() + balance_obj())))\n",
    "print(\"q: %s\" %q)\n",
    "print(\"(1-q)*util = %s\" %(z3.simplify((1-q)*util_obj()).as_decimal(5)))\n",
    "print(\"q*balance = %s \" %(z3.simplify(q*balance_obj()).as_decimal(5)))\n",
    "print(\"q*balance + (1-q)*util = %s \" %(z3.simplify(q*balance_obj() + (1-q)*util_obj()).as_decimal(5)))"
   ]
  },
  {
   "cell_type": "code",
   "execution_count": null,
   "metadata": {
    "collapsed": true
   },
   "outputs": [],
   "source": []
  },
  {
   "cell_type": "code",
   "execution_count": null,
   "metadata": {
    "collapsed": true
   },
   "outputs": [],
   "source": []
  }
 ],
 "metadata": {
  "kernelspec": {
   "display_name": "Python 3",
   "language": "python",
   "name": "python3"
  },
  "language_info": {
   "codemirror_mode": {
    "name": "ipython",
    "version": 3
   },
   "file_extension": ".py",
   "mimetype": "text/x-python",
   "name": "python",
   "nbconvert_exporter": "python",
   "pygments_lexer": "ipython3",
   "version": "3.5.2"
  }
 },
 "nbformat": 4,
 "nbformat_minor": 2
}
