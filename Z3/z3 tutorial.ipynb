{
 "cells": [
  {
   "cell_type": "code",
   "execution_count": 5,
   "metadata": {},
   "outputs": [
    {
     "name": "stdout",
     "output_type": "stream",
     "text": [
      "num args:  2\n",
      "children:  [x + y, 3]\n",
      "1st child: x + y\n",
      "2nd child: 3\n",
      "operator:  >=\n",
      "op name:   >=\n"
     ]
    }
   ],
   "source": [
    "from z3 import *\n",
    "\n",
    "x = Int('x')\n",
    "y = Int('y')\n",
    "n = x + y >= 3\n",
    "print (\"num args: \", n.num_args())\n",
    "print (\"children: \", n.children())\n",
    "print (\"1st child:\", n.arg(0))\n",
    "print (\"2nd child:\", n.arg(1))\n",
    "print (\"operator: \", n.decl())\n",
    "print (\"op name:  \", n.decl().name())"
   ]
  },
  {
   "cell_type": "code",
   "execution_count": 6,
   "metadata": {},
   "outputs": [
    {
     "name": "stdout",
     "output_type": "stream",
     "text": [
      "[x = 1/8, y = 2]\n"
     ]
    }
   ],
   "source": [
    "x = Real('x')\n",
    "y = Real('y')\n",
    "solve(x**2 + y**2 > 3, x**3 + y < 5)"
   ]
  },
  {
   "cell_type": "markdown",
   "metadata": {},
   "source": [
    "The procedure Real('x') creates the real variable x. Z3Py can represent arbitrarily large integers, rational numbers (like in the example above), and irrational algebraic numbers. An irrational algebraic number is a root of a polynomial with integer coefficients. Internally, Z3 represents all these numbers precisely. The irrational numbers are displayed in decimal notation for making it easy to read the results."
   ]
  },
  {
   "cell_type": "code",
   "execution_count": 7,
   "metadata": {},
   "outputs": [
    {
     "name": "stdout",
     "output_type": "stream",
     "text": [
      "[x = 1.2599210498?, y = -1.1885280594?]\n"
     ]
    }
   ],
   "source": [
    "x = Real('x')\n",
    "y = Real('y')\n",
    "solve(x**2 + y**2 == 3, x**3 == 2)"
   ]
  },
  {
   "cell_type": "markdown",
   "metadata": {},
   "source": [
    "The procedure set_option is used to configure the Z3 environment. It is used to set global configuration options such as how the result is displayed. The option set_option(precision=30) sets the number of decimal places used when displaying results. The ? mark in 1.2599210498? indicates the output is truncated."
   ]
  },
  {
   "cell_type": "code",
   "execution_count": 10,
   "metadata": {},
   "outputs": [
    {
     "name": "stdout",
     "output_type": "stream",
     "text": [
      "Solving, and displaying result with 30 decimal places\n",
      "[x = 1.259921049894873164767210607278?,\n",
      " y = -1.188528059421316533710369365015?]\n"
     ]
    }
   ],
   "source": [
    "set_option(precision=30)\n",
    "print (\"Solving, and displaying result with 30 decimal places\")\n",
    "solve(x**2 + y**2 == 3, x**3 == 2)"
   ]
  },
  {
   "cell_type": "markdown",
   "metadata": {},
   "source": [
    "The following example demonstrates a common mistake. The expression 3/2 is a Python integer and not a Z3 rational number. The example also shows different ways to create rational numbers in Z3Py. The procedure Q(num, den) creates a Z3 rational where num is the numerator and den is the denominator. The RealVal(1) creates a Z3 real number representing the number 1."
   ]
  },
  {
   "cell_type": "code",
   "execution_count": 11,
   "metadata": {},
   "outputs": [
    {
     "name": "stdout",
     "output_type": "stream",
     "text": [
      "0.3333333333333333\n",
      "1/3\n",
      "1/3\n",
      "x + 3333333333333333/10000000000000000\n",
      "x + 1/3\n",
      "x + 1/3\n",
      "x + 1/4\n"
     ]
    }
   ],
   "source": [
    "print (1/3)\n",
    "print (RealVal(1)/3)\n",
    "print (Q(1,3))\n",
    "\n",
    "x = Real('x')\n",
    "print (x + 1/3)\n",
    "print (x + Q(1,3))\n",
    "print (x + \"1/3\")\n",
    "print (x + 0.25)"
   ]
  },
  {
   "cell_type": "markdown",
   "metadata": {},
   "source": [
    "Rational numbers can also be displayed in decimal notation."
   ]
  },
  {
   "cell_type": "code",
   "execution_count": 12,
   "metadata": {},
   "outputs": [
    {
     "name": "stdout",
     "output_type": "stream",
     "text": [
      "[x = 1/3]\n",
      "[x = 0.333333333333333333333333333333?]\n",
      "[x = 0.333333333333333333333333333333?]\n"
     ]
    }
   ],
   "source": [
    "x = Real('x')\n",
    "solve(3*x == 1)\n",
    "\n",
    "set_option(rational_to_decimal=True)\n",
    "solve(3*x == 1)\n",
    "\n",
    "set_option(precision=30)\n",
    "solve(3*x == 1)"
   ]
  },
  {
   "cell_type": "markdown",
   "metadata": {},
   "source": [
    "A system of constraints may not have a solution. In this case, we say the system is unsatisfiable."
   ]
  },
  {
   "cell_type": "code",
   "execution_count": 13,
   "metadata": {},
   "outputs": [
    {
     "name": "stdout",
     "output_type": "stream",
     "text": [
      "no solution\n"
     ]
    }
   ],
   "source": [
    "x = Real('x')\n",
    "solve(x > 4, x < 0)"
   ]
  },
  {
   "cell_type": "markdown",
   "metadata": {},
   "source": [
    "Boolean Logic\n",
    "\n",
    "Z3 supports Boolean operators: And, Or, Not, Implies (implication), If (if-then-else). Bi-implications are represented using equality ==. The following example shows how to solve a simple set of Boolean constraints."
   ]
  },
  {
   "cell_type": "code",
   "execution_count": 16,
   "metadata": {},
   "outputs": [
    {
     "name": "stdout",
     "output_type": "stream",
     "text": [
      "[q = False, p = False, r = True]\n"
     ]
    }
   ],
   "source": [
    "p = Bool('p')\n",
    "q = Bool('q')\n",
    "r = Bool('r')\n",
    "solve(Implies(p, q), r == Not(q), Or(Not(p), r))"
   ]
  },
  {
   "cell_type": "markdown",
   "metadata": {},
   "source": [
    "The Python Boolean constants True and False can be used to build Z3 Boolean expressions."
   ]
  },
  {
   "cell_type": "code",
   "execution_count": 17,
   "metadata": {},
   "outputs": [
    {
     "name": "stdout",
     "output_type": "stream",
     "text": [
      "And(p, q, True)\n",
      "And(p, q)\n",
      "False\n"
     ]
    }
   ],
   "source": [
    "p = Bool('p')\n",
    "q = Bool('q')\n",
    "print (And(p, q, True))\n",
    "print (simplify(And(p, q, True)))\n",
    "print (simplify(And(p, False)))"
   ]
  },
  {
   "cell_type": "markdown",
   "metadata": {},
   "source": [
    "The following example uses a combination of polynomial and Boolean constraints."
   ]
  },
  {
   "cell_type": "code",
   "execution_count": 18,
   "metadata": {},
   "outputs": [
    {
     "name": "stdout",
     "output_type": "stream",
     "text": [
      "[x = -1.414213562373095048801688724209?, p = False]\n"
     ]
    }
   ],
   "source": [
    "p = Bool('p')\n",
    "x = Real('x')\n",
    "solve(Or(x < 5, x > 10), Or(p, x**2 == 2), Not(p))"
   ]
  },
  {
   "cell_type": "markdown",
   "metadata": {},
   "source": [
    "Solvers\n",
    "\n",
    "Z3 provides different solvers. The command solve, used in the previous examples, is implemented using the Z3 solver API. The implementation can be found in the file z3.py in the Z3 distribution. The following example demonstrates the basic Solver API."
   ]
  },
  {
   "cell_type": "code",
   "execution_count": 19,
   "metadata": {},
   "outputs": [
    {
     "name": "stdout",
     "output_type": "stream",
     "text": [
      "[]\n",
      "[x > 10, y == x + 2]\n",
      "Solving constraints in the solver s ...\n",
      "sat\n",
      "Create a new scope...\n",
      "[x > 10, y == x + 2, y < 11]\n",
      "Solving updated set of constraints...\n",
      "unsat\n",
      "Restoring state...\n",
      "[x > 10, y == x + 2]\n",
      "Solving restored set of constraints...\n",
      "sat\n"
     ]
    }
   ],
   "source": [
    "x = Int('x')\n",
    "y = Int('y')\n",
    "\n",
    "s = Solver()\n",
    "print( s)\n",
    "\n",
    "s.add(x > 10, y == x + 2)\n",
    "print (s)\n",
    "print (\"Solving constraints in the solver s ...\")\n",
    "print (s.check())\n",
    "\n",
    "print (\"Create a new scope...\")\n",
    "s.push()\n",
    "s.add(y < 11)\n",
    "print (s)\n",
    "print (\"Solving updated set of constraints...\")\n",
    "print (s.check())\n",
    "\n",
    "print (\"Restoring state...\")\n",
    "s.pop()\n",
    "print (s)\n",
    "print (\"Solving restored set of constraints...\")\n",
    "print (s.check())"
   ]
  },
  {
   "cell_type": "markdown",
   "metadata": {},
   "source": [
    "The command Solver() creates a general purpose solver. Constraints can be added using the method add. We say the constraints have been asserted in the solver. The method check() solves the asserted constraints. The result is sat (satisfiable) if a solution was found. The result is unsat (unsatisfiable) if no solution exists. We may also say the system of asserted constraints is infeasible. Finally, a solver may fail to solve a system of constraints and unknown is returned.\n",
    "\n",
    "In some applications, we want to explore several similar problems that share several constraints. We can use the commands push and pop for doing that. Each solver maintains a stack of assertions. The command push creates a new scope by saving the current stack size. The command pop removes any assertion performed between it and the matching push. The check method always operates on the content of solver assertion stack.\n",
    "\n",
    "The following example shows an example that Z3 cannot solve. The solver returns unknown in this case. Recall that Z3 can solve nonlinear polynomial constraints, but 2**x is not a polynomial."
   ]
  },
  {
   "cell_type": "code",
   "execution_count": 21,
   "metadata": {},
   "outputs": [
    {
     "name": "stdout",
     "output_type": "stream",
     "text": [
      "unknown\n"
     ]
    }
   ],
   "source": [
    "x = Real('x')\n",
    "s = Solver()\n",
    "s.add(2**x == 3)\n",
    "print (s.check())"
   ]
  },
  {
   "cell_type": "markdown",
   "metadata": {},
   "source": [
    "The following example shows how to traverse the constraints asserted into a solver, and how to collect performance statistics for the check method."
   ]
  },
  {
   "cell_type": "code",
   "execution_count": 23,
   "metadata": {},
   "outputs": [
    {
     "name": "stdout",
     "output_type": "stream",
     "text": [
      "asserted constraints...\n",
      "x > 1\n",
      "y > 1\n",
      "Or(x + y > 3, x - y < 2)\n",
      "sat\n",
      "statistics for the last check method...\n",
      "(:add-rows     1\n",
      " :assert-lower 4\n",
      " :decisions    2\n",
      " :final-checks 1\n",
      " :max-memory   2.73\n",
      " :memory       2.37\n",
      " :mk-bool-var  9\n",
      " :num-allocs   130087780\n",
      " :pivots       1\n",
      " :rlimit-count 4339)\n",
      "decisions : 2\n",
      "final checks : 1\n",
      "mk bool var : 5\n",
      "add rows : 1\n",
      "pivots : 1\n",
      "assert lower : 4\n",
      "mk bool var : 1\n",
      "mk bool var : 1\n",
      "mk bool var : 1\n",
      "mk bool var : 1\n",
      "num allocs : 130087780\n",
      "rlimit count : 4339\n",
      "max memory : 2.73\n",
      "memory : 2.37\n"
     ]
    }
   ],
   "source": [
    "x = Real('x')\n",
    "y = Real('y')\n",
    "s = Solver()\n",
    "s.add(x > 1, y > 1, Or(x + y > 3, x - y < 2))\n",
    "print (\"asserted constraints...\")\n",
    "for c in s.assertions():\n",
    "    print (c)\n",
    "\n",
    "print (s.check())\n",
    "print (\"statistics for the last check method...\")\n",
    "print (s.statistics())\n",
    "# Traversing statistics\n",
    "for k, v in s.statistics():\n",
    "    print (\"%s : %s\" % (k, v))"
   ]
  },
  {
   "cell_type": "markdown",
   "metadata": {},
   "source": [
    "The command check returns sat when Z3 finds a solution for the set of asserted constraints. We say Z3 satisfied the set of constraints. We say the solution is a model for the set of asserted constraints. A model is an interpretation that makes each asserted constraint true. The following example shows the basic methods for inspecting models."
   ]
  },
  {
   "cell_type": "code",
   "execution_count": 26,
   "metadata": {},
   "outputs": [
    {
     "name": "stdout",
     "output_type": "stream",
     "text": [
      "sat\n",
      "x = 2\n",
      "traversing model...\n",
      "z = 0\n",
      "y = 2\n",
      "x = 2\n"
     ]
    },
    {
     "data": {
      "text/plain": [
       "[z, y, x]"
      ]
     },
     "execution_count": 26,
     "metadata": {},
     "output_type": "execute_result"
    }
   ],
   "source": [
    "x, y, z = Reals('x y z')\n",
    "s = Solver()\n",
    "s.add(x > 1, y > 1, x + y > 3, z - x < 10)\n",
    "print (s.check())\n",
    "\n",
    "m = s.model()\n",
    "print (\"x = %s\" % m[x])\n",
    "\n",
    "print (\"traversing model...\")\n",
    "for d in m.decls():\n",
    "    print (\"%s = %s\" % (d.name(), m[d]))\n",
    "    \n",
    "m.decls()"
   ]
  },
  {
   "cell_type": "code",
   "execution_count": null,
   "metadata": {
    "collapsed": true
   },
   "outputs": [],
   "source": []
  }
 ],
 "metadata": {
  "kernelspec": {
   "display_name": "Python 3",
   "language": "python",
   "name": "python3"
  },
  "language_info": {
   "codemirror_mode": {
    "name": "ipython",
    "version": 3
   },
   "file_extension": ".py",
   "mimetype": "text/x-python",
   "name": "python",
   "nbconvert_exporter": "python",
   "pygments_lexer": "ipython3",
   "version": "3.5.2"
  }
 },
 "nbformat": 4,
 "nbformat_minor": 2
}
