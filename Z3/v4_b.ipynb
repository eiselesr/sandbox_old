{
 "cells": [
  {
   "cell_type": "code",
   "execution_count": 1,
   "metadata": {},
   "outputs": [
    {
     "name": "stdout",
     "output_type": "stream",
     "text": [
      "Dependency apps: ['APP2']\n",
      "Primary apps: ['APP1']\n",
      "256\n",
      "<class 'numpy.int64'>\n",
      "n2n: \n",
      "       FSSN3  FSSN2  FSSN4  FSSN5  FSSN1\n",
      "FSSN3      0      5      7      8      4\n",
      "FSSN2      5      0      6      7      3\n",
      "FSSN4      7      6      0      9      5\n",
      "FSSN5      8      7      9      0      6\n",
      "FSSN1      4      3      5      6      0\n",
      "a2a: \n",
      "      APP1  APP2\n",
      "APP1     0     1\n",
      "APP2     0     0\n",
      "rpn: \n",
      "        FSSN3  FSSN2  FSSN4  FSSN5  FSSN1\n",
      "memory    512    512    512    512   1024\n",
      "rpa: \n",
      "        APP1  APP2\n",
      "memory   256   128\n",
      "a2n: \n",
      "     FSSN3 FSSN2 FSSN4 FSSN5 FSSN1\n",
      "APP1   a11   a12   a13   a14   a15\n",
      "APP2   a21   a22   a23   a24   a25\n"
     ]
    }
   ],
   "source": [
    "import z3\n",
    "import json\n",
    "import pprint\n",
    "import numpy as np\n",
    "import pandas as pd\n",
    "import random\n",
    "\n",
    "with open ('simple.json') as file:\n",
    "    data = json.load(file)\n",
    "\n",
    "#------------SETUP-------------------------------\n",
    "\n",
    "# List of Resource Types\n",
    "resourceTypes = set([j for i in data for j in data[i]['resources'] ])\n",
    "\n",
    "# Initialize data structures\n",
    "nodeList = list()\n",
    "appList = list()\n",
    "nlappList = list() # List of apps that are dependencies\n",
    "prAppList = list() # List of primary apps that have dependencies\n",
    "a2a = []\n",
    "n2n = []\n",
    "\n",
    "# Node and App lists\n",
    "for i in data:\n",
    "    if data[i]['type']=='node':\n",
    "        nodeList.append(i)\n",
    "    if data[i]['type']=='app':\n",
    "        appList.append(i)\n",
    "        if data[i]['dependencies']['nonlocal']:\n",
    "            prAppList.append(i)\n",
    "            for dep in data[i]['dependencies']['nonlocal']:\n",
    "                nlappList.append(dep)\n",
    "print(\"Dependency apps: %s\" %(nlappList))\n",
    "print(\"Primary apps: %s\" %(prAppList))\n",
    "# app to app dependency matrix            \n",
    "for app in appList:\n",
    "    nl_deps = data[app]['dependencies']['nonlocal']\n",
    "    deps = []\n",
    "    for dep in appList:\n",
    "        if dep in nl_deps:\n",
    "            deps.append(1)\n",
    "        else: \n",
    "            deps.append(0)\n",
    "    a2a.append(deps)\n",
    "a2a_df = pd.DataFrame(a2a, index=appList, columns=appList)        \n",
    "\n",
    "# node to node latency matrix\n",
    "def updateLatency():    \n",
    "    n2n = []\n",
    "    for node in nodeList:\n",
    "        id = data[node]['id']\n",
    "        temp = []    \n",
    "        for n2 in nodeList:\n",
    "            id2 = data[n2]['id']\n",
    "            lat = data[node]['latencies']['n%s%s' %(id, id2)]\n",
    "            temp.append(lat)\n",
    "            #temp.append(random.randint(0,10))\n",
    "        n2n.append(temp)\n",
    "    n2n_df = pd.DataFrame(n2n, index=nodeList, columns=nodeList)  \n",
    "    return n2n, n2n_df\n",
    "    \n",
    "n2n, n2n_df = updateLatency()\n",
    "\n",
    "# node resource matrix\n",
    "rpn= [[data[j]['resources'][k] for j in nodeList] for k in resourceTypes]\n",
    "rpn_df = pd.DataFrame(rpn, index=resourceTypes, columns=nodeList)     \n",
    "    \n",
    "# app resource matrix\n",
    "rpa= [[data[i]['resources'][k] for i in appList] for k in resourceTypes]\n",
    "rpa_df = pd.DataFrame(rpa, index=resourceTypes, columns=appList)    \n",
    "print(rpa_df.loc['memory', 'APP1'])\n",
    "print(type(rpa_df.loc['memory', 'APP1']))\n",
    "\n",
    "# app to node placment matrix\n",
    "a2n = [ [ z3.Real(\"a%s%s\" % (i+1, j+1)) for j in range(len(nodeList)) ]\n",
    "            for i in range(len(appList))]\n",
    "a2n_df = pd.DataFrame(a2n, index=appList, columns=nodeList) \n",
    "\n",
    "print(\"n2n: \\n%s\" %n2n_df)\n",
    "print(\"a2a: \\n%s\" %a2a_df)\n",
    "print(\"rpn: \\n%s\" %rpn_df)\n",
    "print(\"rpa: \\n%s\" %rpa_df)\n",
    "\n",
    "print(\"a2n: \\n%s\" %a2n_df)"
   ]
  },
  {
   "cell_type": "code",
   "execution_count": 2,
   "metadata": {},
   "outputs": [
    {
     "data": {
      "text/html": [
       "<div>\n",
       "<style>\n",
       "    .dataframe thead tr:only-child th {\n",
       "        text-align: right;\n",
       "    }\n",
       "\n",
       "    .dataframe thead th {\n",
       "        text-align: left;\n",
       "    }\n",
       "\n",
       "    .dataframe tbody tr th {\n",
       "        vertical-align: top;\n",
       "    }\n",
       "</style>\n",
       "<table border=\"1\" class=\"dataframe\">\n",
       "  <thead>\n",
       "    <tr style=\"text-align: right;\">\n",
       "      <th></th>\n",
       "      <th>FSSN3</th>\n",
       "      <th>FSSN2</th>\n",
       "      <th>FSSN4</th>\n",
       "      <th>FSSN5</th>\n",
       "      <th>FSSN1</th>\n",
       "    </tr>\n",
       "  </thead>\n",
       "  <tbody>\n",
       "    <tr>\n",
       "      <th>APP1</th>\n",
       "      <td>a11</td>\n",
       "      <td>a12</td>\n",
       "      <td>a13</td>\n",
       "      <td>a14</td>\n",
       "      <td>a15</td>\n",
       "    </tr>\n",
       "    <tr>\n",
       "      <th>APP2</th>\n",
       "      <td>a21</td>\n",
       "      <td>a22</td>\n",
       "      <td>a23</td>\n",
       "      <td>a24</td>\n",
       "      <td>a25</td>\n",
       "    </tr>\n",
       "  </tbody>\n",
       "</table>\n",
       "</div>"
      ],
      "text/plain": [
       "     FSSN3 FSSN2 FSSN4 FSSN5 FSSN1\n",
       "APP1   a11   a12   a13   a14   a15\n",
       "APP2   a21   a22   a23   a24   a25"
      ]
     },
     "execution_count": 2,
     "metadata": {},
     "output_type": "execute_result"
    }
   ],
   "source": [
    "a2n_df"
   ]
  },
  {
   "cell_type": "code",
   "execution_count": 3,
   "metadata": {},
   "outputs": [
    {
     "data": {
      "text/html": [
       "<div>\n",
       "<style>\n",
       "    .dataframe thead tr:only-child th {\n",
       "        text-align: right;\n",
       "    }\n",
       "\n",
       "    .dataframe thead th {\n",
       "        text-align: left;\n",
       "    }\n",
       "\n",
       "    .dataframe tbody tr th {\n",
       "        vertical-align: top;\n",
       "    }\n",
       "</style>\n",
       "<table border=\"1\" class=\"dataframe\">\n",
       "  <thead>\n",
       "    <tr style=\"text-align: right;\">\n",
       "      <th></th>\n",
       "      <th>FSSN3</th>\n",
       "      <th>FSSN2</th>\n",
       "      <th>FSSN4</th>\n",
       "      <th>FSSN5</th>\n",
       "      <th>FSSN1</th>\n",
       "    </tr>\n",
       "  </thead>\n",
       "  <tbody>\n",
       "    <tr>\n",
       "      <th>FSSN3</th>\n",
       "      <td>0</td>\n",
       "      <td>5</td>\n",
       "      <td>7</td>\n",
       "      <td>8</td>\n",
       "      <td>4</td>\n",
       "    </tr>\n",
       "    <tr>\n",
       "      <th>FSSN2</th>\n",
       "      <td>5</td>\n",
       "      <td>0</td>\n",
       "      <td>6</td>\n",
       "      <td>7</td>\n",
       "      <td>3</td>\n",
       "    </tr>\n",
       "    <tr>\n",
       "      <th>FSSN4</th>\n",
       "      <td>7</td>\n",
       "      <td>6</td>\n",
       "      <td>0</td>\n",
       "      <td>9</td>\n",
       "      <td>5</td>\n",
       "    </tr>\n",
       "    <tr>\n",
       "      <th>FSSN5</th>\n",
       "      <td>8</td>\n",
       "      <td>7</td>\n",
       "      <td>9</td>\n",
       "      <td>0</td>\n",
       "      <td>6</td>\n",
       "    </tr>\n",
       "    <tr>\n",
       "      <th>FSSN1</th>\n",
       "      <td>4</td>\n",
       "      <td>3</td>\n",
       "      <td>5</td>\n",
       "      <td>6</td>\n",
       "      <td>0</td>\n",
       "    </tr>\n",
       "  </tbody>\n",
       "</table>\n",
       "</div>"
      ],
      "text/plain": [
       "       FSSN3  FSSN2  FSSN4  FSSN5  FSSN1\n",
       "FSSN3      0      5      7      8      4\n",
       "FSSN2      5      0      6      7      3\n",
       "FSSN4      7      6      0      9      5\n",
       "FSSN5      8      7      9      0      6\n",
       "FSSN1      4      3      5      6      0"
      ]
     },
     "execution_count": 3,
     "metadata": {},
     "output_type": "execute_result"
    }
   ],
   "source": [
    "n2n_df"
   ]
  },
  {
   "cell_type": "code",
   "execution_count": 4,
   "metadata": {},
   "outputs": [
    {
     "data": {
      "text/html": [
       "<div>\n",
       "<style>\n",
       "    .dataframe thead tr:only-child th {\n",
       "        text-align: right;\n",
       "    }\n",
       "\n",
       "    .dataframe thead th {\n",
       "        text-align: left;\n",
       "    }\n",
       "\n",
       "    .dataframe tbody tr th {\n",
       "        vertical-align: top;\n",
       "    }\n",
       "</style>\n",
       "<table border=\"1\" class=\"dataframe\">\n",
       "  <thead>\n",
       "    <tr style=\"text-align: right;\">\n",
       "      <th></th>\n",
       "      <th>APP1</th>\n",
       "      <th>APP2</th>\n",
       "    </tr>\n",
       "  </thead>\n",
       "  <tbody>\n",
       "    <tr>\n",
       "      <th>APP1</th>\n",
       "      <td>0</td>\n",
       "      <td>1</td>\n",
       "    </tr>\n",
       "    <tr>\n",
       "      <th>APP2</th>\n",
       "      <td>0</td>\n",
       "      <td>0</td>\n",
       "    </tr>\n",
       "  </tbody>\n",
       "</table>\n",
       "</div>"
      ],
      "text/plain": [
       "      APP1  APP2\n",
       "APP1     0     1\n",
       "APP2     0     0"
      ]
     },
     "execution_count": 4,
     "metadata": {},
     "output_type": "execute_result"
    }
   ],
   "source": [
    "a2a_df"
   ]
  },
  {
   "cell_type": "code",
   "execution_count": 5,
   "metadata": {},
   "outputs": [
    {
     "data": {
      "text/html": [
       "<div>\n",
       "<style>\n",
       "    .dataframe thead tr:only-child th {\n",
       "        text-align: right;\n",
       "    }\n",
       "\n",
       "    .dataframe thead th {\n",
       "        text-align: left;\n",
       "    }\n",
       "\n",
       "    .dataframe tbody tr th {\n",
       "        vertical-align: top;\n",
       "    }\n",
       "</style>\n",
       "<table border=\"1\" class=\"dataframe\">\n",
       "  <thead>\n",
       "    <tr style=\"text-align: right;\">\n",
       "      <th></th>\n",
       "      <th>FSSN3</th>\n",
       "      <th>FSSN2</th>\n",
       "      <th>FSSN4</th>\n",
       "      <th>FSSN5</th>\n",
       "      <th>FSSN1</th>\n",
       "    </tr>\n",
       "  </thead>\n",
       "  <tbody>\n",
       "    <tr>\n",
       "      <th>memory</th>\n",
       "      <td>512</td>\n",
       "      <td>512</td>\n",
       "      <td>512</td>\n",
       "      <td>512</td>\n",
       "      <td>1024</td>\n",
       "    </tr>\n",
       "  </tbody>\n",
       "</table>\n",
       "</div>"
      ],
      "text/plain": [
       "        FSSN3  FSSN2  FSSN4  FSSN5  FSSN1\n",
       "memory    512    512    512    512   1024"
      ]
     },
     "execution_count": 5,
     "metadata": {},
     "output_type": "execute_result"
    }
   ],
   "source": [
    "rpn_df"
   ]
  },
  {
   "cell_type": "code",
   "execution_count": 6,
   "metadata": {},
   "outputs": [
    {
     "data": {
      "text/html": [
       "<div>\n",
       "<style>\n",
       "    .dataframe thead tr:only-child th {\n",
       "        text-align: right;\n",
       "    }\n",
       "\n",
       "    .dataframe thead th {\n",
       "        text-align: left;\n",
       "    }\n",
       "\n",
       "    .dataframe tbody tr th {\n",
       "        vertical-align: top;\n",
       "    }\n",
       "</style>\n",
       "<table border=\"1\" class=\"dataframe\">\n",
       "  <thead>\n",
       "    <tr style=\"text-align: right;\">\n",
       "      <th></th>\n",
       "      <th>APP1</th>\n",
       "      <th>APP2</th>\n",
       "    </tr>\n",
       "  </thead>\n",
       "  <tbody>\n",
       "    <tr>\n",
       "      <th>memory</th>\n",
       "      <td>256</td>\n",
       "      <td>128</td>\n",
       "    </tr>\n",
       "  </tbody>\n",
       "</table>\n",
       "</div>"
      ],
      "text/plain": [
       "        APP1  APP2\n",
       "memory   256   128"
      ]
     },
     "execution_count": 6,
     "metadata": {},
     "output_type": "execute_result"
    }
   ],
   "source": [
    "rpa_df"
   ]
  },
  {
   "cell_type": "code",
   "execution_count": 7,
   "metadata": {},
   "outputs": [
    {
     "name": "stdout",
     "output_type": "stream",
     "text": [
      "     FSSN3 FSSN2 FSSN4 FSSN5 FSSN1\n",
      "APP1     1     1     1     1     1\n",
      "APP2   a21   a22   a23   a24   a25\n"
     ]
    },
    {
     "data": {
      "text/plain": [
       "[Or(a21 == 0, a21 == 1),\n",
       " Or(a22 == 0, a22 == 1),\n",
       " Or(a23 == 0, a23 == 1),\n",
       " Or(a24 == 0, a24 == 1),\n",
       " Or(a25 == 0, a25 == 1)]"
      ]
     },
     "execution_count": 7,
     "metadata": {},
     "output_type": "execute_result"
    }
   ],
   "source": [
    "#------------Constraints-------------------------------\n",
    "# variables in a2n matrix must be binary\n",
    "\n",
    "a2n_domain = [z3.Or(a2n_df.loc[app, node]==0, a2n_df.loc[app, node]==1) \\\n",
    " for app in nlappList \\\n",
    " for node in nodeList]\n",
    "\n",
    "# An intial deployment of apps that have dependencies\n",
    "a2n_df.loc['APP1'] = 1\n",
    "#a2n_df.loc['APP1', 'FSSN2'] = 1\n",
    "#a2n_df.loc['APP1', 'FSSN3'] = 1\n",
    "print (a2n_df)\n",
    "a2n_domain\n"
   ]
  },
  {
   "cell_type": "code",
   "execution_count": 8,
   "metadata": {},
   "outputs": [
    {
     "name": "stdout",
     "output_type": "stream",
     "text": [
      "                FSSN3          FSSN2          FSSN4          FSSN5  \\\n",
      "memory  256 + 128*a21  256 + 128*a22  256 + 128*a23  256 + 128*a24   \n",
      "\n",
      "                FSSN1  \n",
      "memory  256 + 128*a25  \n",
      "                        FSSN3                  FSSN2                  FSSN4  \\\n",
      "memory  512 - (256 + 128*a21)  512 - (256 + 128*a22)  512 - (256 + 128*a23)   \n",
      "\n",
      "                        FSSN5                   FSSN1  \n",
      "memory  512 - (256 + 128*a24)  1024 - (256 + 128*a25)  \n"
     ]
    },
    {
     "data": {
      "text/plain": [
       "[512 - (256 + 128*a21) >= 0,\n",
       " 512 - (256 + 128*a22) >= 0,\n",
       " 512 - (256 + 128*a23) >= 0,\n",
       " 512 - (256 + 128*a24) >= 0,\n",
       " 1024 - (256 + 128*a25) >= 0]"
      ]
     },
     "execution_count": 8,
     "metadata": {},
     "output_type": "execute_result"
    }
   ],
   "source": [
    "# Max capacity constraint\n",
    "# Resources required by apps deployed on a node cannot exceed that nodes resources\n",
    "app_util = rpa_df.dot(a2n_df)\n",
    "print(app_util)\n",
    "node_util = rpn_df - app_util\n",
    "print(node_util)\n",
    "rsrc_constraint = [node_util.loc[rsrc,node]>=0 \\\n",
    "                   for rsrc in resourceTypes \\\n",
    "                   for node in nodeList]\n",
    "rsrc_constraint"
   ]
  },
  {
   "cell_type": "code",
   "execution_count": 9,
   "metadata": {},
   "outputs": [
    {
     "data": {
      "text/plain": [
       "[a21 + a22 + a23 + a24 + a25 > 0]"
      ]
     },
     "execution_count": 9,
     "metadata": {},
     "output_type": "execute_result"
    }
   ],
   "source": [
    "# Must Deploy Dependencies constraint\n",
    "# Assuming the primary app is deployed, all of it's dependencies must be deployed\n",
    "mdd = [a2n_df.loc[dep].sum() > 0 for dep in nlappList]\n",
    "mdd"
   ]
  },
  {
   "cell_type": "code",
   "execution_count": 10,
   "metadata": {},
   "outputs": [
    {
     "name": "stdout",
     "output_type": "stream",
     "text": [
      "[0, 5, 7, 8, 4, 5, 0, 6, 7, 3, 7, 6, 0, 9, 5, 8, 7, 9, 0, 6, 4, 3, 5, 6, 0]\n"
     ]
    }
   ],
   "source": [
    "print([n2n_df.loc[src,dst] for src in nodeList for dst in nodeList])"
   ]
  },
  {
   "cell_type": "code",
   "execution_count": 11,
   "metadata": {},
   "outputs": [
    {
     "data": {
      "text/html": [
       "<div>\n",
       "<style>\n",
       "    .dataframe thead tr:only-child th {\n",
       "        text-align: right;\n",
       "    }\n",
       "\n",
       "    .dataframe thead th {\n",
       "        text-align: left;\n",
       "    }\n",
       "\n",
       "    .dataframe tbody tr th {\n",
       "        vertical-align: top;\n",
       "    }\n",
       "</style>\n",
       "<table border=\"1\" class=\"dataframe\">\n",
       "  <thead>\n",
       "    <tr style=\"text-align: right;\">\n",
       "      <th></th>\n",
       "      <th>FSSN3</th>\n",
       "      <th>FSSN2</th>\n",
       "      <th>FSSN4</th>\n",
       "      <th>FSSN5</th>\n",
       "      <th>FSSN1</th>\n",
       "    </tr>\n",
       "  </thead>\n",
       "  <tbody>\n",
       "    <tr>\n",
       "      <th>FSSN3</th>\n",
       "      <td>0</td>\n",
       "      <td>5</td>\n",
       "      <td>7</td>\n",
       "      <td>8</td>\n",
       "      <td>4</td>\n",
       "    </tr>\n",
       "    <tr>\n",
       "      <th>FSSN2</th>\n",
       "      <td>5</td>\n",
       "      <td>0</td>\n",
       "      <td>6</td>\n",
       "      <td>7</td>\n",
       "      <td>3</td>\n",
       "    </tr>\n",
       "    <tr>\n",
       "      <th>FSSN4</th>\n",
       "      <td>7</td>\n",
       "      <td>6</td>\n",
       "      <td>0</td>\n",
       "      <td>9</td>\n",
       "      <td>5</td>\n",
       "    </tr>\n",
       "    <tr>\n",
       "      <th>FSSN5</th>\n",
       "      <td>8</td>\n",
       "      <td>7</td>\n",
       "      <td>9</td>\n",
       "      <td>0</td>\n",
       "      <td>6</td>\n",
       "    </tr>\n",
       "    <tr>\n",
       "      <th>FSSN1</th>\n",
       "      <td>4</td>\n",
       "      <td>3</td>\n",
       "      <td>5</td>\n",
       "      <td>6</td>\n",
       "      <td>0</td>\n",
       "    </tr>\n",
       "  </tbody>\n",
       "</table>\n",
       "</div>"
      ],
      "text/plain": [
       "       FSSN3  FSSN2  FSSN4  FSSN5  FSSN1\n",
       "FSSN3      0      5      7      8      4\n",
       "FSSN2      5      0      6      7      3\n",
       "FSSN4      7      6      0      9      5\n",
       "FSSN5      8      7      9      0      6\n",
       "FSSN1      4      3      5      6      0"
      ]
     },
     "execution_count": 11,
     "metadata": {},
     "output_type": "execute_result"
    }
   ],
   "source": [
    "n2n_df"
   ]
  },
  {
   "cell_type": "code",
   "execution_count": 12,
   "metadata": {},
   "outputs": [
    {
     "data": {
      "text/plain": [
       "6"
      ]
     },
     "execution_count": 12,
     "metadata": {},
     "output_type": "execute_result"
    }
   ],
   "source": [
    "import random\n",
    "random.randint(0,10)"
   ]
  },
  {
   "cell_type": "code",
   "execution_count": 13,
   "metadata": {},
   "outputs": [
    {
     "name": "stdout",
     "output_type": "stream",
     "text": [
      "(1 - a21)*(1 - a22)*(1 - a23)*(1 - a24)*a25*4 +\n",
      "(1 - a21)*(1 - a22)*(1 - a23)*a24*(1 - a25)*8 +\n",
      "(1 - a21)*(1 - a22)*(1 - a23)*a24*a25*4 +\n",
      "(1 - a21)*(1 - a22)*a23*(1 - a24)*(1 - a25)*7 +\n",
      "(1 - a21)*(1 - a22)*a23*(1 - a24)*a25*4 +\n",
      "(1 - a21)*(1 - a22)*a23*a24*(1 - a25)*7 +\n",
      "(1 - a21)*(1 - a22)*a23*a24*a25*4 +\n",
      "(1 - a21)*a22*(1 - a23)*(1 - a24)*(1 - a25)*5 +\n",
      "(1 - a21)*a22*(1 - a23)*(1 - a24)*a25*4 +\n",
      "(1 - a21)*a22*(1 - a23)*a24*(1 - a25)*5 +\n",
      "(1 - a21)*a22*(1 - a23)*a24*a25*4 +\n",
      "(1 - a21)*a22*a23*(1 - a24)*(1 - a25)*5 +\n",
      "(1 - a21)*a22*a23*(1 - a24)*a25*4 +\n",
      "(1 - a21)*a22*a23*a24*(1 - a25)*5 +\n",
      "(1 - a21)*a22*a23*a24*a25*4 +\n",
      "a21*(1 - a22)*(1 - a23)*(1 - a24)*(1 - a25)*0 +\n",
      "a21*(1 - a22)*(1 - a23)*(1 - a24)*a25*0 +\n",
      "a21*(1 - a22)*(1 - a23)*a24*(1 - a25)*0 +\n",
      "a21*(1 - a22)*(1 - a23)*a24*a25*0 +\n",
      "a21*(1 - a22)*a23*(1 - a24)*(1 - a25)*0 +\n",
      "a21*(1 - a22)*a23*(1 - a24)*a25*0 +\n",
      "a21*(1 - a22)*a23*a24*(1 - a25)*0 +\n",
      "a21*(1 - a22)*a23*a24*a25*0 +\n",
      "a21*a22*(1 - a23)*(1 - a24)*(1 - a25)*0 +\n",
      "a21*a22*(1 - a23)*(1 - a24)*a25*0 +\n",
      "a21*a22*(1 - a23)*a24*(1 - a25)*0 +\n",
      "a21*a22*(1 - a23)*a24*a25*0 +\n",
      "a21*a22*a23*(1 - a24)*(1 - a25)*0 +\n",
      "a21*a22*a23*(1 - a24)*a25*0 +\n",
      "a21*a22*a23*a24*(1 - a25)*0 +\n",
      "a21*a22*a23*a24*a25*0 +\n",
      "(1 - a21)*(1 - a22)*(1 - a23)*(1 - a24)*a25*3 +\n",
      "(1 - a21)*(1 - a22)*(1 - a23)*a24*(1 - a25)*7 +\n",
      "(1 - a21)*(1 - a22)*(1 - a23)*a24*a25*3 +\n",
      "(1 - a21)*(1 - a22)*a23*(1 - a24)*(1 - a25)*6 +\n",
      "(1 - a21)*(1 - a22)*a23*(1 - a24)*a25*3 +\n",
      "(1 - a21)*(1 - a22)*a23*a24*(1 - a25)*6 +\n",
      "(1 - a21)*(1 - a22)*a23*a24*a25*3 +\n",
      "(1 - a21)*a22*(1 - a23)*(1 - a24)*(1 - a25)*0 +\n",
      "(1 - a21)*a22*(1 - a23)*(1 - a24)*a25*0 +\n",
      "(1 - a21)*a22*(1 - a23)*a24*(1 - a25)*0 +\n",
      "(1 - a21)*a22*(1 - a23)*a24*a25*0 +\n",
      "(1 - a21)*a22*a23*(1 - a24)*(1 - a25)*0 +\n",
      "(1 - a21)*a22*a23*(1 - a24)*a25*0 +\n",
      "(1 - a21)*a22*a23*a24*(1 - a25)*0 +\n",
      "(1 - a21)*a22*a23*a24*a25*0 +\n",
      "a21*(1 - a22)*(1 - a23)*(1 - a24)*(1 - a25)*5 +\n",
      "a21*(1 - a22)*(1 - a23)*(1 - a24)*a25*3 +\n",
      "a21*(1 - a22)*(1 - a23)*a24*(1 - a25)*5 +\n",
      "a21*(1 - a22)*(1 - a23)*a24*a25*3 +\n",
      "a21*(1 - a22)*a23*(1 - a24)*(1 - a25)*5 +\n",
      "a21*(1 - a22)*a23*(1 - a24)*a25*3 +\n",
      "a21*(1 - a22)*a23*a24*(1 - a25)*5 +\n",
      "a21*(1 - a22)*a23*a24*a25*3 +\n",
      "a21*a22*(1 - a23)*(1 - a24)*(1 - a25)*0 +\n",
      "a21*a22*(1 - a23)*(1 - a24)*a25*0 +\n",
      "a21*a22*(1 - a23)*a24*(1 - a25)*0 +\n",
      "a21*a22*(1 - a23)*a24*a25*0 +\n",
      "a21*a22*a23*(1 - a24)*(1 - a25)*0 +\n",
      "a21*a22*a23*(1 - a24)*a25*0 +\n",
      "a21*a22*a23*a24*(1 - a25)*0 +\n",
      "a21*a22*a23*a24*a25*0 +\n",
      "(1 - a21)*(1 - a22)*(1 - a23)*(1 - a24)*a25*5 +\n",
      "(1 - a21)*(1 - a22)*(1 - a23)*a24*(1 - a25)*9 +\n",
      "(1 - a21)*(1 - a22)*(1 - a23)*a24*a25*5 +\n",
      "(1 - a21)*(1 - a22)*a23*(1 - a24)*(1 - a25)*0 +\n",
      "(1 - a21)*(1 - a22)*a23*(1 - a24)*a25*0 +\n",
      "(1 - a21)*(1 - a22)*a23*a24*(1 - a25)*0 +\n",
      "(1 - a21)*(1 - a22)*a23*a24*a25*0 +\n",
      "(1 - a21)*a22*(1 - a23)*(1 - a24)*(1 - a25)*6 +\n",
      "(1 - a21)*a22*(1 - a23)*(1 - a24)*a25*5 +\n",
      "(1 - a21)*a22*(1 - a23)*a24*(1 - a25)*6 +\n",
      "(1 - a21)*a22*(1 - a23)*a24*a25*5 +\n",
      "(1 - a21)*a22*a23*(1 - a24)*(1 - a25)*0 +\n",
      "(1 - a21)*a22*a23*(1 - a24)*a25*0 +\n",
      "(1 - a21)*a22*a23*a24*(1 - a25)*0 +\n",
      "(1 - a21)*a22*a23*a24*a25*0 +\n",
      "a21*(1 - a22)*(1 - a23)*(1 - a24)*(1 - a25)*7 +\n",
      "a21*(1 - a22)*(1 - a23)*(1 - a24)*a25*5 +\n",
      "a21*(1 - a22)*(1 - a23)*a24*(1 - a25)*7 +\n",
      "a21*(1 - a22)*(1 - a23)*a24*a25*5 +\n",
      "a21*(1 - a22)*a23*(1 - a24)*(1 - a25)*0 +\n",
      "a21*(1 - a22)*a23*(1 - a24)*a25*0 +\n",
      "a21*(1 - a22)*a23*a24*(1 - a25)*0 +\n",
      "a21*(1 - a22)*a23*a24*a25*0 +\n",
      "a21*a22*(1 - a23)*(1 - a24)*(1 - a25)*6 +\n",
      "a21*a22*(1 - a23)*(1 - a24)*a25*5 +\n",
      "a21*a22*(1 - a23)*a24*(1 - a25)*6 +\n",
      "a21*a22*(1 - a23)*a24*a25*5 +\n",
      "a21*a22*a23*(1 - a24)*(1 - a25)*0 +\n",
      "a21*a22*a23*(1 - a24)*a25*0 +\n",
      "a21*a22*a23*a24*(1 - a25)*0 +\n",
      "a21*a22*a23*a24*a25*0 +\n",
      "(1 - a21)*(1 - a22)*(1 - a23)*(1 - a24)*a25*6 +\n",
      "(1 - a21)*(1 - a22)*(1 - a23)*a24*(1 - a25)*0 +\n",
      "(1 - a21)*(1 - a22)*(1 - a23)*a24*a25*0 +\n",
      "(1 - a21)*(1 - a22)*a23*(1 - a24)*(1 - a25)*9 +\n",
      "(1 - a21)*(1 - a22)*a23*(1 - a24)*a25*6 +\n",
      "(1 - a21)*(1 - a22)*a23*a24*(1 - a25)*0 +\n",
      "(1 - a21)*(1 - a22)*a23*a24*a25*0 +\n",
      "(1 - a21)*a22*(1 - a23)*(1 - a24)*(1 - a25)*7 +\n",
      "(1 - a21)*a22*(1 - a23)*(1 - a24)*a25*6 +\n",
      "(1 - a21)*a22*(1 - a23)*a24*(1 - a25)*0 +\n",
      "(1 - a21)*a22*(1 - a23)*a24*a25*0 +\n",
      "(1 - a21)*a22*a23*(1 - a24)*(1 - a25)*7 +\n",
      "(1 - a21)*a22*a23*(1 - a24)*a25*6 +\n",
      "(1 - a21)*a22*a23*a24*(1 - a25)*0 +\n",
      "(1 - a21)*a22*a23*a24*a25*0 +\n",
      "a21*(1 - a22)*(1 - a23)*(1 - a24)*(1 - a25)*8 +\n",
      "a21*(1 - a22)*(1 - a23)*(1 - a24)*a25*6 +\n",
      "a21*(1 - a22)*(1 - a23)*a24*(1 - a25)*0 +\n",
      "a21*(1 - a22)*(1 - a23)*a24*a25*0 +\n",
      "a21*(1 - a22)*a23*(1 - a24)*(1 - a25)*8 +\n",
      "a21*(1 - a22)*a23*(1 - a24)*a25*6 +\n",
      "a21*(1 - a22)*a23*a24*(1 - a25)*0 +\n",
      "a21*(1 - a22)*a23*a24*a25*0 +\n",
      "a21*a22*(1 - a23)*(1 - a24)*(1 - a25)*7 +\n",
      "a21*a22*(1 - a23)*(1 - a24)*a25*6 +\n",
      "a21*a22*(1 - a23)*a24*(1 - a25)*0 +\n",
      "a21*a22*(1 - a23)*a24*a25*0 +\n",
      "a21*a22*a23*(1 - a24)*(1 - a25)*7 +\n",
      "a21*a22*a23*(1 - a24)*a25*6 +\n",
      "a21*a22*a23*a24*(1 - a25)*0 +\n",
      "a21*a22*a23*a24*a25*0 +\n",
      "(1 - a21)*(1 - a22)*(1 - a23)*(1 - a24)*a25*0 +\n",
      "(1 - a21)*(1 - a22)*(1 - a23)*a24*(1 - a25)*6 +\n",
      "(1 - a21)*(1 - a22)*(1 - a23)*a24*a25*0 +\n",
      "(1 - a21)*(1 - a22)*a23*(1 - a24)*(1 - a25)*5 +\n",
      "(1 - a21)*(1 - a22)*a23*(1 - a24)*a25*0 +\n",
      "...\n"
     ]
    }
   ],
   "source": [
    "# Latency \n",
    "import random\n",
    "\n",
    "def genLatencyObj():\n",
    "    numNodes = len(nodeList) # number of FSSNs\n",
    "    markings = list() # The equations for each possible placement of the dependencies\n",
    "\n",
    "    for srcNode in nodeList:\n",
    "        #print (srcNode)\n",
    "        for prApp in prAppList:\n",
    "            if a2n_df.loc[app, srcNode] == 1:            \n",
    "                ### ITERATE THROUGH ALL DEPENDENCIES\n",
    "                # iterate through the 2^numNodes potential dependency placements\n",
    "                for i in range(2**numNodes):\n",
    "                    mark = format(i, 'b').zfill(numNodes) # express placment in binary    \n",
    "                    #print(mark)\n",
    "                    #if dependency is not placed skip.\n",
    "                    if mark == format(0,'b').zfill(numNodes):\n",
    "                        continue\n",
    "\n",
    "                    marking = list() # A placment equation e.g (1 - a11)*(1 - a12)*a13\n",
    "                    latency = [] # latencies between node hosting primary app and all nodes hosting the dependency for a particular placement. \n",
    "                    #print (\"-----NEW MARKING-----\")\n",
    "                    # iterate through nodes using the binary placement to generate marking equation\n",
    "                    for i, node in enumerate(nodeList):\n",
    "                        #print (\"mark %s\" %mark)\n",
    "                        #print (\"i %s \" %i)\n",
    "                        #print (\"mark[i] %s\" %type(int(mark[i]))) \n",
    "                        # add marking to list and if binary has a 1, add latency to list of possible latencies\n",
    "                        if int(mark[i]) == 1:\n",
    "                            marking.append(a2n_df.loc['APP2', node])\n",
    "                            latency.append(n2n_df.loc[srcNode, node])\n",
    "                            #latency.append(random.randint(0,10))\n",
    "                        if int(mark[i]) == 0:\n",
    "                            marking.append(1 - a2n_df.loc['APP2',node])\n",
    "                    #print(\"latency %s\" %latency)                    \n",
    "                    #print(\"min latency %s\" %min(latency).item())\n",
    "                    #print(\"min latency %s\" %min(latency))\n",
    "                    #print(\"type(min(latency)) = %s\" %type(min(latency)))\n",
    "                    #print(\"marking: %s\" %marking)\n",
    "                    #print(\"marking * latency: %s\" %(z3.Product(marking) * min(latency).item()))\n",
    "                    #print(\"marking * latency: %s\" %(z3.Product(marking) * min(latency)))\n",
    "                    #markings.append(z3.Product(marking) * min(latency).item())\n",
    "                    markings.append(z3.Product(marking) * min(latency))\n",
    "    return z3.Sum(markings)\n",
    "\n",
    "#print(markings)\n",
    "latency_obj = genLatencyObj()\n",
    "pprint.pprint(latency_obj)\n",
    "\n",
    "    \n",
    "\n"
   ]
  },
  {
   "cell_type": "code",
   "execution_count": 14,
   "metadata": {},
   "outputs": [
    {
     "name": "stdout",
     "output_type": "stream",
     "text": [
      "        APP1  APP2\n",
      "memory   256   128\n",
      "[1280, 0 + a21*128 + a22*128 + a23*128 + a24*128 + a25*128]\n",
      "<class 'z3.ArithRef'>\n",
      "True\n",
      "False\n"
     ]
    }
   ],
   "source": [
    "#minimize total resource consumption\n",
    "costs = list()\n",
    "print(rpa_df)\n",
    "for app in appList:\n",
    "    cost = a2n_df.loc[app]*(rpa_df.loc[:, app]).item()\n",
    "    #print(\"cost %s\" %cost)\n",
    "    costs.append(sum(cost))\n",
    "print(costs)\n",
    "total_cost = sum(costs)\n",
    "print(type(total_cost))\n",
    "print(total_cost.is_real())\n",
    "print(total_cost.is_int())"
   ]
  },
  {
   "cell_type": "markdown",
   "metadata": {},
   "source": [
    "# The optimizer"
   ]
  },
  {
   "cell_type": "markdown",
   "metadata": {},
   "source": [
    "## Normalize"
   ]
  },
  {
   "cell_type": "code",
   "execution_count": 15,
   "metadata": {},
   "outputs": [
    {
     "name": "stdout",
     "output_type": "stream",
     "text": [
      "scale latency: 0.0333333333333 \n",
      "scale rsrc: 0.001953125 \n"
     ]
    }
   ],
   "source": [
    "def normalize():\n",
    "\n",
    "    min_latency = 0\n",
    "    max_latency = max([sum(n2n_df.loc[node, :]) for node in nodeList])\n",
    "    scale_latency = 1/(max_latency - min_latency)\n",
    "    #print(\"max latency: %s\" %max_latency)\n",
    "    #print(\"scale latency: %s \" %scale_latency)\n",
    "    #print(max_latency * scale_latency)\n",
    "\n",
    "\n",
    "    #min_rsrc = in nlappList\n",
    "    max_rsrc = max([sum(rpa_df.loc[rsrc, :]) for rsrc in resourceTypes])*len(nodeList)\n",
    "    #print(\"max_rsrc: %s\" %max_rsrc)\n",
    "    min_rsrc = rpa_df.loc['memory', 'APP2' ] + 5*rpa_df.loc['memory', 'APP1']\n",
    "    scale_rsrc = 1/(max_rsrc - min_rsrc)\n",
    "    #print(\"min_rsrc: %s\" %min_rsrc)\n",
    "    #print(\"scale rsrc: %s \" %scale_rsrc)\n",
    "    #print(\"max_rsrc * scale = %s\" %(max_rsrc * scale_rsrc))\n",
    "    #print(\"type of scale_rsrc: %s\" %(type(scale_rsrc)))\n",
    "\n",
    "    #print(\"total_cost %s \" %(total_cost.__rmul__(scale_rsrc)))\n",
    "    return scale_latency, scale_rsrc\n",
    "\n",
    "scale_latency, scale_rsrc = normalize()\n",
    "print(\"scale latency: %s \" %scale_latency)\n",
    "print(\"scale rsrc: %s \" %scale_rsrc)"
   ]
  },
  {
   "cell_type": "code",
   "execution_count": 16,
   "metadata": {},
   "outputs": [
    {
     "name": "stdout",
     "output_type": "stream",
     "text": [
      "test\n",
      "<class 'z3.ArithRef'>\n",
      "optimization model \n",
      " [a24 = 0, a21 = 0, a23 = 0, a25 = 1, a22 = 0] \n",
      "\n",
      "     FSSN3 FSSN2 FSSN4 FSSN5 FSSN1\n",
      "APP1     1     1     1     1     1\n",
      "APP2     0     0     0     0     1\n"
     ]
    }
   ],
   "source": [
    "def run_optimize(p):    \n",
    "    opt = z3.Optimize()\n",
    "    constraints = a2n_domain + rsrc_constraint + mdd\n",
    "    #opt.add(constraints)\n",
    "    opt.assert_exprs(constraints)\n",
    "    p = p\n",
    "\n",
    "    opt.minimize(p*latency_obj*scale_latency + (1-p)*total_cost*scale_rsrc)\n",
    "    print(\"test\")\n",
    "    print(type(total_cost))\n",
    "    #opt.minimize(total_cost)\n",
    "    #opt.maximize(m)\n",
    "    opt.check()\n",
    "\n",
    "    opt_model = opt.model()\n",
    "    print(\"optimization model \\n %s \\n\" %opt_model)\n",
    "\n",
    "    a2n_df_r = a2n_df.copy()\n",
    "    for app in nlappList:\n",
    "        #print('App %s' %app)\n",
    "        for node in nodeList:\n",
    "            #print('Node %s' %node)\n",
    "            a2n_df_r.loc[app, node] = opt_model.eval(a2n_df.loc[app, node])\n",
    "    #for app in appList:\n",
    "    #    for node in nodeList:\n",
    "    #        if a2n_df.loc[app,node] in opt_model:\n",
    "    #            print (a2n_df.loc[app,node])\n",
    "\n",
    "    #print(\"app placement \\n %s \\n\" %a2n_df_r)  \n",
    "\n",
    "    #Verify the results. \n",
    "    #print(\"latency cost: %s\" %opt_model.eval(latency_obj*p))\n",
    "    #print(\"resource cost: %s\" %opt_model.eval(total_cost))\n",
    "    return a2n_df_r\n",
    "    \n",
    "\n",
    "a2n_df_r = run_optimize(.5)\n",
    "pprint.pprint(a2n_df_r)"
   ]
  },
  {
   "cell_type": "code",
   "execution_count": 17,
   "metadata": {},
   "outputs": [
    {
     "data": {
      "text/html": [
       "<script>requirejs.config({paths: { 'plotly': ['https://cdn.plot.ly/plotly-latest.min']},});if(!window.Plotly) {{require(['plotly'],function(plotly) {window.Plotly=plotly;});}}</script>"
      ],
      "text/vnd.plotly.v1+html": [
       "<script>requirejs.config({paths: { 'plotly': ['https://cdn.plot.ly/plotly-latest.min']},});if(!window.Plotly) {{require(['plotly'],function(plotly) {window.Plotly=plotly;});}}</script>"
      ]
     },
     "metadata": {},
     "output_type": "display_data"
    }
   ],
   "source": [
    "# Compare alternative to networkx\n",
    "#https://plot.ly/python/igraph-networkx-comparison/\n",
    "import networkx as nx\n",
    "import plotly.offline as py\n",
    "py.init_notebook_mode(connected=True)\n",
    "import plotly.graph_objs as go\n",
    "from ipywidgets import interact, interactive\n",
    "from ipywidgets import widgets"
   ]
  },
  {
   "cell_type": "code",
   "execution_count": 18,
   "metadata": {
    "collapsed": true
   },
   "outputs": [],
   "source": [
    "def placeStations(G):    \n",
    "    for node1 in nodeList:\n",
    "        #print(\"node1 is %s\" %node1)\n",
    "        G.add_node(node1, attr_dict=dict(rpn_df.loc[:, node1]))\n",
    "        #print(\"G.nodes: %s\" %G.nodes())\n",
    "        id1 = data[node1]['id']\n",
    "        for node2 in nodeList:\n",
    "            id2 = data[node2]['id']\n",
    "            if id1 != id2:            \n",
    "                G.add_edge(node1, node2)  \n",
    "    #circular_layout(G, dim=2, scale=1, center=None)\n",
    "    pos = nx.circular_layout(G)\n",
    "    #https://networkx.github.io/documentation/networkx-1.10/reference/generated/networkx.classes.function.set_node_attributes.html\n",
    "    nx.set_node_attributes(G, 'pos', pos)\n",
    "    nx.set_node_attributes(G, 'color', 65)\n",
    "    return G"
   ]
  },
  {
   "cell_type": "code",
   "execution_count": 19,
   "metadata": {},
   "outputs": [
    {
     "name": "stdout",
     "output_type": "stream",
     "text": [
      "\n",
      "Graph Nodes:\n",
      "[('FSSN3', {'color': 65, 'memory': 512, 'pos': array([ 1.,  0.])}),\n",
      " ('FSSN2', {'color': 65, 'memory': 512, 'pos': array([ 0.30901699,  0.95105652])}),\n",
      " ('FSSN5', {'color': 65, 'memory': 512, 'pos': array([-0.80901699,  0.58778525])}),\n",
      " ('FSSN1', {'color': 65, 'memory': 1024, 'pos': array([-0.80901699, -0.58778525])}),\n",
      " ('FSSN4', {'color': 65, 'memory': 512, 'pos': array([ 0.30901699, -0.95105652])})]\n",
      "\n",
      "G.edges: \n",
      "[('FSSN3', 'FSSN4'),\n",
      " ('FSSN3', 'FSSN2'),\n",
      " ('FSSN3', 'FSSN5'),\n",
      " ('FSSN3', 'FSSN1'),\n",
      " ('FSSN2', 'FSSN5'),\n",
      " ('FSSN2', 'FSSN1'),\n",
      " ('FSSN2', 'FSSN4'),\n",
      " ('FSSN5', 'FSSN1'),\n",
      " ('FSSN5', 'FSSN4'),\n",
      " ('FSSN1', 'FSSN4')]\n"
     ]
    }
   ],
   "source": [
    "G = nx.Graph()\n",
    "G = placeStations(G)\n",
    "\n",
    "print(\"\\nGraph Nodes:\")\n",
    "pprint.pprint(G.nodes(data=True), width=90)\n",
    "print(\"\\nG.edges: \")\n",
    "pprint.pprint(G.edges())"
   ]
  },
  {
   "cell_type": "code",
   "execution_count": 20,
   "metadata": {
    "collapsed": true
   },
   "outputs": [],
   "source": [
    "def annotateEdges(G):    \n",
    "    # The normal edge annotations are on one of the edge endpoints\n",
    "    # This is to place an annotation on the middle of the each edge\n",
    "    edge_annotations = go.Annotations()\n",
    "    for edge in G.edges():\n",
    "        x0, y0 = G.node[edge[0]]['pos']\n",
    "        x1, y1 = G.node[edge[1]]['pos']\n",
    "        mx, my = [(x1+x0)*.5,(y1+y0)*.5]\n",
    "        edge_annotations.append(go.Annotation(\n",
    "            x = mx,\n",
    "            y = my, \n",
    "            xref='x',\n",
    "            yref='y',\n",
    "            text = n2n_df.loc[edge]))\n",
    "        #print(\"edge: %s lat: %s\" %(edge, n2n_df.loc[edge]))\n",
    "        #print(\"mx: %s, my: %s\" %(mx, my))\n",
    "        #print(\"mx: %s, my: %s\" %(mx, my))  \n",
    "    return(edge_annotations)\n",
    "\n",
    "edge_annotations = annotateEdges(G)"
   ]
  },
  {
   "cell_type": "code",
   "execution_count": 21,
   "metadata": {},
   "outputs": [
    {
     "name": "stdout",
     "output_type": "stream",
     "text": [
      "test\n",
      "<class 'z3.ArithRef'>\n",
      "optimization model \n",
      " [a24 = 0, a21 = 0, a23 = 0, a25 = 1, a22 = 0] \n",
      "\n"
     ]
    }
   ],
   "source": [
    "def placeApps(G, a2n_df_r):\n",
    "    appColor = {}\n",
    "    for node in nodeList:\n",
    "        #print(\"\\n before app Graph Edges:\")\n",
    "        #pprint.pprint(G.edges())\n",
    "        appG = nx.Graph()\n",
    "        numApps = 1 #used to increment color when there is a new app\n",
    "        \n",
    "        for app in appList:\n",
    "            #---- Check type of a2n matrix entries. If they are a z3 type convert to an int.----\n",
    "            if type(a2n_df_r.loc[app, node]) ==z3.RatNumRef:\n",
    "                val = (a2n_df_r.loc[app, node]).as_fraction()\n",
    "            else:\n",
    "                val = a2n_df_r.loc[app, node]\n",
    "            #---COLOR APPS UNIQUELY---\n",
    "            if val == 1:\n",
    "                if app in appColor:\n",
    "                    color = appColor[app]\n",
    "                else:\n",
    "                    color = 65+10*numApps\n",
    "                    appColor[app] = color\n",
    "                #---Add appnodes their edges to the station node---\n",
    "                appG.add_node(app+node, attr_dict=dict(rpa_df.loc[:, app]), color=color)\n",
    "                appG.add_edge(node, app+node) #adding the edge also adds the node\n",
    "            numApps += 1\n",
    "        #---Place apps---            \n",
    "        app_pos = nx.circular_layout(appG, scale=.05, center=G.node[node]['pos'])\n",
    "        nx.set_node_attributes(appG, 'pos', app_pos)\n",
    "        #---combine app graph with station graph            \n",
    "        G = nx.compose(appG, G) # Attributes from H take precedent over attributes from G.             \n",
    "        #print(\"\\n node %s\" %node)\n",
    "        #pprint.pprint(G.nodes(data=True), width=120)\n",
    "    return G\n",
    "\n",
    "G = nx.Graph()\n",
    "G = placeStations(G)\n",
    "edge_annotations = annotateEdges(G)\n",
    "G = placeApps(G, run_optimize(.5))\n",
    "#print(\"\\nGraph Nodes:\")\n",
    "#pprint.pprint(G.nodes(data=True), width=100)\n",
    "#print(\"\\n number of Graph Edges:\")\n",
    "#pprint.pprint(len(G.edges()))"
   ]
  },
  {
   "cell_type": "code",
   "execution_count": 22,
   "metadata": {},
   "outputs": [
    {
     "name": "stdout",
     "output_type": "stream",
     "text": [
      "test\n",
      "<class 'z3.ArithRef'>\n",
      "optimization model \n",
      " [a24 = 0, a21 = 0, a23 = 0, a25 = 1, a22 = 0] \n",
      "\n",
      "{'hoverinfo': 'text',\n",
      " 'marker': {'color': [65, 65, 65, 65, 65, 85, 75, 75, 75, 75, 75],\n",
      "            'colorscale': 'RdBu',\n",
      "            'reversescale': True,\n",
      "            'showscale': True,\n",
      "            'size': [75, 75, 75, 75, 90, 15, 15, 15, 15, 15, 15]},\n",
      " 'mode': 'markers',\n",
      " 'text': ['FSSN5: 512',\n",
      "          'FSSN4: 512',\n",
      "          'FSSN3: 512',\n",
      "          'FSSN2: 512',\n",
      "          'FSSN1: 1024',\n",
      "          'APP2FSSN1: 128',\n",
      "          'APP1FSSN5: 256',\n",
      "          'APP1FSSN4: 256',\n",
      "          'APP1FSSN3: 256',\n",
      "          'APP1FSSN2: 256',\n",
      "          'APP1FSSN1: 256'],\n",
      " 'textposition': 'bottom',\n",
      " 'type': 'scatter',\n",
      " 'x': [-0.80901699437494734,\n",
      "       0.30901699437494723,\n",
      "       1.0,\n",
      "       0.30901699437494745,\n",
      "       -0.80901699437494756,\n",
      "       -0.83401699437494758,\n",
      "       -0.7590169943749473,\n",
      "       0.25901699437494724,\n",
      "       0.94999999999999996,\n",
      "       0.25901699437494746,\n",
      "       -0.75901699437494752],\n",
      " 'y': [0.58778525229247325,\n",
      "       -0.95105651629515364,\n",
      "       0.0,\n",
      "       0.95105651629515353,\n",
      "       -0.58778525229247303,\n",
      "       -0.63108652248169494,\n",
      "       0.58778525229247325,\n",
      "       -0.95105651629515364,\n",
      "       6.1232339957367663e-18,\n",
      "       0.95105651629515353,\n",
      "       -0.58778525229247303]}\n"
     ]
    }
   ],
   "source": [
    "def nodeTrace(G):\n",
    "    node_trace = go.Scatter(\n",
    "            x=[],\n",
    "            y=[],\n",
    "            text=[],\n",
    "            mode='markers',\n",
    "            hoverinfo='text',\n",
    "            textposition='bottom',\n",
    "            marker=go.Marker(\n",
    "                showscale=True,\n",
    "                # colorscale options\n",
    "                # 'Greys' | 'Greens' | 'Bluered' | 'Hot' | 'Picnic' | 'Portland' |\n",
    "                # Jet' | 'RdBu' | 'Blackbody' | 'Earth' | 'Electric' | 'YIOrRd' | 'YIGnBu'\n",
    "                colorscale='RdBu',\n",
    "                reversescale=True,\n",
    "                color=[],\n",
    "                size=[],\n",
    "                #colorbar=dict(\n",
    "                #    thickness=15,\n",
    "                #    title='Node Connections',\n",
    "                #    xanchor='left',\n",
    "                #    titleside='right'\n",
    "                #),\n",
    "                #line={'width':10}\n",
    "            )\n",
    "        )\n",
    "\n",
    "    #thickness = 1\n",
    "    for node in reversed(sorted(G.nodes())):\n",
    "        #print(node)\n",
    "        #print(G.node[node]['pos'])\n",
    "        x, y = G.node[node]['pos']\n",
    "        node_trace['x'].append(x)\n",
    "        node_trace['y'].append(y)\n",
    "        degree = nx.degree(G, node)\n",
    "        node_info = node + \": \" + str(G.node[node]['memory'])\n",
    "        node_trace['text'].append(node_info)\n",
    "        node_trace['marker']['size'].append(15*degree)\n",
    "        node_trace['marker']['color'].append(G.node[node]['color'])\n",
    "        #node_trace['marker']['line'].append(thickness)\n",
    "        #thickness = thickness + 1\n",
    "    return node_trace\n",
    "    \n",
    "G = nx.Graph()\n",
    "G = placeStations(G)\n",
    "edge_annotations = annotateEdges(G)\n",
    "G = placeApps(G, run_optimize(.5))\n",
    "node_trace = nodeTrace(G)\n",
    "pprint.pprint(node_trace, width=100)"
   ]
  },
  {
   "cell_type": "code",
   "execution_count": 23,
   "metadata": {},
   "outputs": [
    {
     "name": "stdout",
     "output_type": "stream",
     "text": [
      "('FSSN3', 'FSSN4')\n",
      "True\n",
      "{'hoverinfo': 'text',\n",
      " 'line': {'color': '#888', 'width': 7},\n",
      " 'mode': 'lines',\n",
      " 'text': [],\n",
      " 'type': 'scatter',\n",
      " 'x': [],\n",
      " 'y': []}\n",
      "('FSSN3', 'FSSN2')\n",
      "True\n",
      "{'hoverinfo': 'text',\n",
      " 'line': {'color': '#888', 'width': 5},\n",
      " 'mode': 'lines',\n",
      " 'text': [],\n",
      " 'type': 'scatter',\n",
      " 'x': [],\n",
      " 'y': []}\n",
      "('FSSN3', 'FSSN5')\n",
      "True\n",
      "{'hoverinfo': 'text',\n",
      " 'line': {'color': '#888', 'width': 8},\n",
      " 'mode': 'lines',\n",
      " 'text': [],\n",
      " 'type': 'scatter',\n",
      " 'x': [],\n",
      " 'y': []}\n",
      "('FSSN3', 'FSSN1')\n",
      "True\n",
      "{'hoverinfo': 'text',\n",
      " 'line': {'color': '#888', 'width': 4},\n",
      " 'mode': 'lines',\n",
      " 'text': [],\n",
      " 'type': 'scatter',\n",
      " 'x': [],\n",
      " 'y': []}\n",
      "('FSSN2', 'FSSN5')\n",
      "True\n",
      "{'hoverinfo': 'text',\n",
      " 'line': {'color': '#888', 'width': 7},\n",
      " 'mode': 'lines',\n",
      " 'text': [],\n",
      " 'type': 'scatter',\n",
      " 'x': [],\n",
      " 'y': []}\n",
      "('FSSN2', 'FSSN1')\n",
      "True\n",
      "{'hoverinfo': 'text',\n",
      " 'line': {'color': '#888', 'width': 3},\n",
      " 'mode': 'lines',\n",
      " 'text': [],\n",
      " 'type': 'scatter',\n",
      " 'x': [],\n",
      " 'y': []}\n",
      "('FSSN2', 'FSSN4')\n",
      "True\n",
      "{'hoverinfo': 'text',\n",
      " 'line': {'color': '#888', 'width': 6},\n",
      " 'mode': 'lines',\n",
      " 'text': [],\n",
      " 'type': 'scatter',\n",
      " 'x': [],\n",
      " 'y': []}\n",
      "('FSSN5', 'FSSN1')\n",
      "True\n",
      "{'hoverinfo': 'text',\n",
      " 'line': {'color': '#888', 'width': 6},\n",
      " 'mode': 'lines',\n",
      " 'text': [],\n",
      " 'type': 'scatter',\n",
      " 'x': [],\n",
      " 'y': []}\n",
      "('FSSN5', 'FSSN4')\n",
      "True\n",
      "{'hoverinfo': 'text',\n",
      " 'line': {'color': '#888', 'width': 9},\n",
      " 'mode': 'lines',\n",
      " 'text': [],\n",
      " 'type': 'scatter',\n",
      " 'x': [],\n",
      " 'y': []}\n",
      "('FSSN1', 'FSSN4')\n",
      "True\n",
      "{'hoverinfo': 'text',\n",
      " 'line': {'color': '#888', 'width': 5},\n",
      " 'mode': 'lines',\n",
      " 'text': [],\n",
      " 'type': 'scatter',\n",
      " 'x': [],\n",
      " 'y': []}\n",
      "True\n"
     ]
    }
   ],
   "source": [
    "def edgeTrace(width):\n",
    "    edge_trace = go.Scatter(\n",
    "        x=[],\n",
    "        y=[],\n",
    "        line=go.Line(width=width,color='#888'),\n",
    "        hoverinfo='text',\n",
    "        mode='lines',\n",
    "        text=[],\n",
    "        #textposition='middleright'\n",
    "        )\n",
    "    return edge_trace\n",
    "\n",
    "G = nx.Graph()\n",
    "G = placeStations(G)    \n",
    "for edge in G.edges():\n",
    "    print(edge)\n",
    "    latency = n2n_df.loc[edge]\n",
    "    print(edge[0] and edge[1] in n2n_df)\n",
    "    edge_trace = edgeTrace(latency)\n",
    "    pprint.pprint(edge_trace)\n",
    "    \n",
    "print('FSSN3' in n2n_df)"
   ]
  },
  {
   "cell_type": "code",
   "execution_count": 24,
   "metadata": {},
   "outputs": [
    {
     "name": "stdout",
     "output_type": "stream",
     "text": [
      "test\n",
      "<class 'z3.ArithRef'>\n",
      "optimization model \n",
      " [a24 = 1, a21 = 1, a23 = 1, a25 = 1, a22 = 1] \n",
      "\n",
      "\n",
      " number of edges 20\n",
      "\n",
      "[{'hoverinfo': 'text',\n",
      "  'line': {'color': '#888', 'width': 7},\n",
      "  'mode': 'lines',\n",
      "  'text': [('FSSN3', 'FSSN4')],\n",
      "  'type': 'scatter',\n",
      "  'x': [1.0, 0.30901699437494723],\n",
      "  'y': [0.0, -0.95105651629515364]},\n",
      " {'hoverinfo': 'text',\n",
      "  'line': {'color': '#888', 'width': 5},\n",
      "  'mode': 'lines',\n",
      "  'text': [('FSSN3', 'FSSN2')],\n",
      "  'type': 'scatter',\n",
      "  'x': [1.0, 0.30901699437494745],\n",
      "  'y': [0.0, 0.95105651629515353]},\n",
      " {'hoverinfo': 'text',\n",
      "  'line': {'color': '#888', 'width': 0},\n",
      "  'mode': 'lines',\n",
      "  'text': [('FSSN3', 'APP2FSSN3')],\n",
      "  'type': 'scatter',\n",
      "  'x': [1.0, 0.97499999999999998],\n",
      "  'y': [0.0, 0.04330127018922194]},\n",
      " {'hoverinfo': 'text',\n",
      "  'line': {'color': '#888', 'width': 0},\n",
      "  'mode': 'lines',\n",
      "  'text': [('FSSN3', 'APP1FSSN3')],\n",
      "  'type': 'scatter',\n",
      "  'x': [1.0, 0.97499999999999998],\n",
      "  'y': [0.0, -0.043301270189221919]},\n",
      " {'hoverinfo': 'text',\n",
      "  'line': {'color': '#888', 'width': 8},\n",
      "  'mode': 'lines',\n",
      "  'text': [('FSSN3', 'FSSN5')],\n",
      "  'type': 'scatter',\n",
      "  'x': [1.0, -0.80901699437494734],\n",
      "  'y': [0.0, 0.58778525229247325]},\n",
      " {'hoverinfo': 'text',\n",
      "  'line': {'color': '#888', 'width': 4},\n",
      "  'mode': 'lines',\n",
      "  'text': [('FSSN3', 'FSSN1')],\n",
      "  'type': 'scatter',\n",
      "  'x': [1.0, -0.80901699437494756],\n",
      "  'y': [0.0, -0.58778525229247303]},\n",
      " {'hoverinfo': 'text',\n",
      "  'line': {'color': '#888', 'width': 0},\n",
      "  'mode': 'lines',\n",
      "  'text': [('APP1FSSN2', 'FSSN2')],\n",
      "  'type': 'scatter',\n",
      "  'x': [0.28401699437494748, 0.30901699437494745],\n",
      "  'y': [0.99435778648437545, 0.95105651629515353]},\n",
      " {'hoverinfo': 'text',\n",
      "  'line': {'color': '#888', 'width': 0},\n",
      "  'mode': 'lines',\n",
      "  'text': [('APP2FSSN2', 'FSSN2')],\n",
      "  'type': 'scatter',\n",
      "  'x': [0.28401699437494743, 0.30901699437494745],\n",
      "  'y': [0.90775524610593161, 0.95105651629515353]},\n",
      " {'hoverinfo': 'text',\n",
      "  'line': {'color': '#888', 'width': 0},\n",
      "  'mode': 'lines',\n",
      "  'text': [('APP2FSSN1', 'FSSN1')],\n",
      "  'type': 'scatter',\n",
      "  'x': [-0.83401699437494758, -0.80901699437494756],\n",
      "  'y': [-0.63108652248169494, -0.58778525229247303]},\n",
      " {'hoverinfo': 'text',\n",
      "  'line': {'color': '#888', 'width': 0},\n",
      "  'mode': 'lines',\n",
      "  'text': [('APP1FSSN4', 'FSSN4')],\n",
      "  'type': 'scatter',\n",
      "  'x': [0.28401699437494726, 0.30901699437494723],\n",
      "  'y': [-0.90775524610593172, -0.95105651629515364]},\n",
      " {'hoverinfo': 'text',\n",
      "  'line': {'color': '#888', 'width': 7},\n",
      "  'mode': 'lines',\n",
      "  'text': [('FSSN5', 'FSSN2')],\n",
      "  'type': 'scatter',\n",
      "  'x': [-0.80901699437494734, 0.30901699437494745],\n",
      "  'y': [0.58778525229247325, 0.95105651629515353]},\n",
      " {'hoverinfo': 'text',\n",
      "  'line': {'color': '#888', 'width': 0},\n",
      "  'mode': 'lines',\n",
      "  'text': [('FSSN5', 'APP2FSSN5')],\n",
      "  'type': 'scatter',\n",
      "  'x': [-0.80901699437494734, -0.83401699437494736],\n",
      "  'y': [0.58778525229247325, 0.54448398210325133]},\n",
      " {'hoverinfo': 'text',\n",
      "  'line': {'color': '#888', 'width': 9},\n",
      "  'mode': 'lines',\n",
      "  'text': [('FSSN5', 'FSSN4')],\n",
      "  'type': 'scatter',\n",
      "  'x': [-0.80901699437494734, 0.30901699437494723],\n",
      "  'y': [0.58778525229247325, -0.95105651629515364]},\n",
      " {'hoverinfo': 'text',\n",
      "  'line': {'color': '#888', 'width': 0},\n",
      "  'mode': 'lines',\n",
      "  'text': [('FSSN5', 'APP1FSSN5')],\n",
      "  'type': 'scatter',\n",
      "  'x': [-0.80901699437494734, -0.7590169943749473],\n",
      "  'y': [0.58778525229247325, 0.58778525229247325]},\n",
      " {'hoverinfo': 'text',\n",
      "  'line': {'color': '#888', 'width': 6},\n",
      "  'mode': 'lines',\n",
      "  'text': [('FSSN5', 'FSSN1')],\n",
      "  'type': 'scatter',\n",
      "  'x': [-0.80901699437494734, -0.80901699437494756],\n",
      "  'y': [0.58778525229247325, -0.58778525229247303]},\n",
      " {'hoverinfo': 'text',\n",
      "  'line': {'color': '#888', 'width': 3},\n",
      "  'mode': 'lines',\n",
      "  'text': [('FSSN1', 'FSSN2')],\n",
      "  'type': 'scatter',\n",
      "  'x': [-0.80901699437494756, 0.30901699437494745],\n",
      "  'y': [-0.58778525229247303, 0.95105651629515353]},\n",
      " {'hoverinfo': 'text',\n",
      "  'line': {'color': '#888', 'width': 0},\n",
      "  'mode': 'lines',\n",
      "  'text': [('FSSN1', 'APP1FSSN1')],\n",
      "  'type': 'scatter',\n",
      "  'x': [-0.80901699437494756, -0.75901699437494752],\n",
      "  'y': [-0.58778525229247303, -0.58778525229247303]},\n",
      " {'hoverinfo': 'text',\n",
      "  'line': {'color': '#888', 'width': 5},\n",
      "  'mode': 'lines',\n",
      "  'text': [('FSSN1', 'FSSN4')],\n",
      "  'type': 'scatter',\n",
      "  'x': [-0.80901699437494756, 0.30901699437494723],\n",
      "  'y': [-0.58778525229247303, -0.95105651629515364]},\n",
      " {'hoverinfo': 'text',\n",
      "  'line': {'color': '#888', 'width': 6},\n",
      "  'mode': 'lines',\n",
      "  'text': [('FSSN4', 'FSSN2')],\n",
      "  'type': 'scatter',\n",
      "  'x': [0.30901699437494723, 0.30901699437494745],\n",
      "  'y': [-0.95105651629515364, 0.95105651629515353]},\n",
      " {'hoverinfo': 'text',\n",
      "  'line': {'color': '#888', 'width': 0},\n",
      "  'mode': 'lines',\n",
      "  'text': [('FSSN4', 'APP2FSSN4')],\n",
      "  'type': 'scatter',\n",
      "  'x': [0.30901699437494723, 0.28401699437494721],\n",
      "  'y': [-0.95105651629515364, -0.99435778648437556]}]\n"
     ]
    }
   ],
   "source": [
    "def edgeTraces(G):\n",
    "    edge_traces = []\n",
    "    #---Build edge traces to put in figure.--- \n",
    "    for edge in G.edges():\n",
    "        #print(edge)\n",
    "        if edge[0] in n2n_df and edge[1] in n2n_df:\n",
    "            #print(\"%s in n2n\" %str(edge))\n",
    "            latency = n2n_df.loc[edge]\n",
    "            edge_trace = edgeTrace(latency)\n",
    "        else:\n",
    "            edge_trace = edgeTrace(0)                \n",
    "        \n",
    "        x0, y0 = G.node[edge[0]]['pos']\n",
    "        x1, y1 = G.node[edge[1]]['pos']\n",
    "        edge_info = edge\n",
    "        edge_trace['text'].append(edge_info)\n",
    "        edge_trace['x'] += [x0, x1]\n",
    "        edge_trace['y'] += [y0, y1]\n",
    "        edge_traces.append(edge_trace)\n",
    "    return edge_traces\n",
    "\n",
    "G = nx.Graph()\n",
    "G = placeStations(G)\n",
    "edge_annotations = annotateEdges(G)\n",
    "G = placeApps(G, run_optimize(.9))\n",
    "node_trace = nodeTrace(G)\n",
    "edge_traces = edgeTraces(G)\n",
    "print(\"\\n number of edges %s\\n\" %len(edge_traces))\n",
    "pprint.pprint(edge_traces, width=150)"
   ]
  },
  {
   "cell_type": "code",
   "execution_count": 25,
   "metadata": {
    "collapsed": true
   },
   "outputs": [],
   "source": [
    "def plot(G, edgeAnnotations, traces):\n",
    "    fig = go.Figure(data=go.Data(traces),\n",
    "                 layout=go.Layout(\n",
    "                     title='<br>App placement graph',\n",
    "                     titlefont=dict(size=16),\n",
    "                     showlegend=False,\n",
    "                     hovermode='closest',\n",
    "                     margin=dict(b=20,l=5,r=5,t=40),\n",
    "                     #annotations=[ dict(\n",
    "                     #    text=\"Python code: <a href='https://plot.ly/ipython-notebooks/network-graphs/'> https://plot.ly/ipython-notebooks/network-graphs/</a>\",\n",
    "                     #    showarrow=False,\n",
    "                     #    xref=\"paper\", yref=\"paper\",\n",
    "                     #    x=0.005, y=-0.002 ) ],\n",
    "                     annotations=edgeAnnotations,\n",
    "                     xaxis=go.XAxis(showgrid=False, zeroline=False, showticklabels=False),\n",
    "                     yaxis=go.YAxis(showgrid=False, zeroline=False, showticklabels=False),\n",
    "                     #sliders = sliders\n",
    "                 ))\n",
    "\n",
    "    py.iplot(fig, filename='networkx')\n",
    "    \n"
   ]
  },
  {
   "cell_type": "code",
   "execution_count": 26,
   "metadata": {},
   "outputs": [
    {
     "name": "stdout",
     "output_type": "stream",
     "text": [
      "test\n",
      "<class 'z3.ArithRef'>\n",
      "optimization model \n",
      " [a24 = 0, a21 = 0, a23 = 0, a25 = 1, a22 = 0] \n",
      "\n",
      "solution: \n",
      "     FSSN3 FSSN2 FSSN4 FSSN5 FSSN1\n",
      "APP1     1     1     1     1     1\n",
      "APP2     0     0     0     0     1\n"
     ]
    },
    {
     "data": {
      "application/vnd.plotly.v1+json": {
       "data": [
        {
         "hoverinfo": "text",
         "line": {
          "color": "#888",
          "width": 7
         },
         "mode": "lines",
         "text": [
          [
           "FSSN3",
           "FSSN4"
          ]
         ],
         "type": "scatter",
         "x": [
          1,
          0.30901699437494723
         ],
         "y": [
          0,
          -0.9510565162951536
         ]
        },
        {
         "hoverinfo": "text",
         "line": {
          "color": "#888",
          "width": 5
         },
         "mode": "lines",
         "text": [
          [
           "FSSN3",
           "FSSN2"
          ]
         ],
         "type": "scatter",
         "x": [
          1,
          0.30901699437494745
         ],
         "y": [
          0,
          0.9510565162951535
         ]
        },
        {
         "hoverinfo": "text",
         "line": {
          "color": "#888",
          "width": 8
         },
         "mode": "lines",
         "text": [
          [
           "FSSN3",
           "FSSN5"
          ]
         ],
         "type": "scatter",
         "x": [
          1,
          -0.8090169943749473
         ],
         "y": [
          0,
          0.5877852522924732
         ]
        },
        {
         "hoverinfo": "text",
         "line": {
          "color": "#888",
          "width": 4
         },
         "mode": "lines",
         "text": [
          [
           "FSSN3",
           "FSSN1"
          ]
         ],
         "type": "scatter",
         "x": [
          1,
          -0.8090169943749476
         ],
         "y": [
          0,
          -0.587785252292473
         ]
        },
        {
         "hoverinfo": "text",
         "line": {
          "color": "#888",
          "width": 7
         },
         "mode": "lines",
         "text": [
          [
           "FSSN2",
           "FSSN5"
          ]
         ],
         "type": "scatter",
         "x": [
          0.30901699437494745,
          -0.8090169943749473
         ],
         "y": [
          0.9510565162951535,
          0.5877852522924732
         ]
        },
        {
         "hoverinfo": "text",
         "line": {
          "color": "#888",
          "width": 3
         },
         "mode": "lines",
         "text": [
          [
           "FSSN2",
           "FSSN1"
          ]
         ],
         "type": "scatter",
         "x": [
          0.30901699437494745,
          -0.8090169943749476
         ],
         "y": [
          0.9510565162951535,
          -0.587785252292473
         ]
        },
        {
         "hoverinfo": "text",
         "line": {
          "color": "#888",
          "width": 6
         },
         "mode": "lines",
         "text": [
          [
           "FSSN2",
           "FSSN4"
          ]
         ],
         "type": "scatter",
         "x": [
          0.30901699437494745,
          0.30901699437494723
         ],
         "y": [
          0.9510565162951535,
          -0.9510565162951536
         ]
        },
        {
         "hoverinfo": "text",
         "line": {
          "color": "#888",
          "width": 6
         },
         "mode": "lines",
         "text": [
          [
           "FSSN5",
           "FSSN1"
          ]
         ],
         "type": "scatter",
         "x": [
          -0.8090169943749473,
          -0.8090169943749476
         ],
         "y": [
          0.5877852522924732,
          -0.587785252292473
         ]
        },
        {
         "hoverinfo": "text",
         "line": {
          "color": "#888",
          "width": 9
         },
         "mode": "lines",
         "text": [
          [
           "FSSN5",
           "FSSN4"
          ]
         ],
         "type": "scatter",
         "x": [
          -0.8090169943749473,
          0.30901699437494723
         ],
         "y": [
          0.5877852522924732,
          -0.9510565162951536
         ]
        },
        {
         "hoverinfo": "text",
         "line": {
          "color": "#888",
          "width": 5
         },
         "mode": "lines",
         "text": [
          [
           "FSSN1",
           "FSSN4"
          ]
         ],
         "type": "scatter",
         "x": [
          -0.8090169943749476,
          0.30901699437494723
         ],
         "y": [
          -0.587785252292473,
          -0.9510565162951536
         ]
        },
        {
         "hoverinfo": "text",
         "marker": {
          "color": [
           65,
           65,
           65,
           65,
           65,
           85,
           75,
           75,
           75,
           75,
           75
          ],
          "colorscale": "RdBu",
          "reversescale": true,
          "showscale": true,
          "size": [
           75,
           75,
           75,
           75,
           90,
           15,
           15,
           15,
           15,
           15,
           15
          ]
         },
         "mode": "markers",
         "text": [
          "FSSN5: 512",
          "FSSN4: 512",
          "FSSN3: 512",
          "FSSN2: 512",
          "FSSN1: 1024",
          "APP2FSSN1: 128",
          "APP1FSSN5: 256",
          "APP1FSSN4: 256",
          "APP1FSSN3: 256",
          "APP1FSSN2: 256",
          "APP1FSSN1: 256"
         ],
         "textposition": "bottom",
         "type": "scatter",
         "x": [
          -0.8090169943749473,
          0.30901699437494723,
          1,
          0.30901699437494745,
          -0.8090169943749476,
          -0.8340169943749476,
          -0.7590169943749473,
          0.25901699437494724,
          0.95,
          0.25901699437494746,
          -0.7590169943749475
         ],
         "y": [
          0.5877852522924732,
          -0.9510565162951536,
          0,
          0.9510565162951535,
          -0.587785252292473,
          -0.631086522481695,
          0.5877852522924732,
          -0.9510565162951536,
          6.123233995736766e-18,
          0.9510565162951535,
          -0.587785252292473
         ]
        }
       ],
       "layout": {
        "annotations": [
         {
          "text": 7,
          "x": 0.6545084971874736,
          "xref": "x",
          "y": -0.4755282581475768,
          "yref": "y"
         },
         {
          "text": 5,
          "x": 0.6545084971874737,
          "xref": "x",
          "y": 0.47552825814757677,
          "yref": "y"
         },
         {
          "text": 8,
          "x": 0.09549150281252633,
          "xref": "x",
          "y": 0.2938926261462366,
          "yref": "y"
         },
         {
          "text": 4,
          "x": 0.09549150281252622,
          "xref": "x",
          "y": -0.2938926261462365,
          "yref": "y"
         },
         {
          "text": 7,
          "x": -0.24999999999999994,
          "xref": "x",
          "y": 0.7694208842938134,
          "yref": "y"
         },
         {
          "text": 3,
          "x": -0.25000000000000006,
          "xref": "x",
          "y": 0.18163563200134025,
          "yref": "y"
         },
         {
          "text": 6,
          "x": 0.30901699437494734,
          "xref": "x",
          "y": -5.551115123125783e-17,
          "yref": "y"
         },
         {
          "text": 6,
          "x": -0.8090169943749475,
          "xref": "x",
          "y": 1.1102230246251565e-16,
          "yref": "y"
         },
         {
          "text": 9,
          "x": -0.25000000000000006,
          "xref": "x",
          "y": -0.1816356320013402,
          "yref": "y"
         },
         {
          "text": 5,
          "x": -0.25000000000000017,
          "xref": "x",
          "y": -0.7694208842938133,
          "yref": "y"
         }
        ],
        "hovermode": "closest",
        "margin": {
         "b": 20,
         "l": 5,
         "r": 5,
         "t": 40
        },
        "showlegend": false,
        "title": "<br>App placement graph",
        "titlefont": {
         "size": 16
        },
        "xaxis": {
         "showgrid": false,
         "showticklabels": false,
         "zeroline": false
        },
        "yaxis": {
         "showgrid": false,
         "showticklabels": false,
         "zeroline": false
        }
       }
      },
      "text/html": [
       "<div id=\"099431f0-210e-491a-830f-6977cc10c9f3\" style=\"height: 525px; width: 100%;\" class=\"plotly-graph-div\"></div><script type=\"text/javascript\">require([\"plotly\"], function(Plotly) { window.PLOTLYENV=window.PLOTLYENV || {};window.PLOTLYENV.BASE_URL=\"https://plot.ly\";Plotly.newPlot(\"099431f0-210e-491a-830f-6977cc10c9f3\", [{\"type\": \"scatter\", \"line\": {\"width\": 7, \"color\": \"#888\"}, \"hoverinfo\": \"text\", \"y\": [0.0, -0.9510565162951536], \"mode\": \"lines\", \"x\": [1.0, 0.30901699437494723], \"text\": [[\"FSSN3\", \"FSSN4\"]]}, {\"type\": \"scatter\", \"line\": {\"width\": 5, \"color\": \"#888\"}, \"hoverinfo\": \"text\", \"y\": [0.0, 0.9510565162951535], \"mode\": \"lines\", \"x\": [1.0, 0.30901699437494745], \"text\": [[\"FSSN3\", \"FSSN2\"]]}, {\"type\": \"scatter\", \"line\": {\"width\": 8, \"color\": \"#888\"}, \"hoverinfo\": \"text\", \"y\": [0.0, 0.5877852522924732], \"mode\": \"lines\", \"x\": [1.0, -0.8090169943749473], \"text\": [[\"FSSN3\", \"FSSN5\"]]}, {\"type\": \"scatter\", \"line\": {\"width\": 4, \"color\": \"#888\"}, \"hoverinfo\": \"text\", \"y\": [0.0, -0.587785252292473], \"mode\": \"lines\", \"x\": [1.0, -0.8090169943749476], \"text\": [[\"FSSN3\", \"FSSN1\"]]}, {\"type\": \"scatter\", \"line\": {\"width\": 7, \"color\": \"#888\"}, \"hoverinfo\": \"text\", \"y\": [0.9510565162951535, 0.5877852522924732], \"mode\": \"lines\", \"x\": [0.30901699437494745, -0.8090169943749473], \"text\": [[\"FSSN2\", \"FSSN5\"]]}, {\"type\": \"scatter\", \"line\": {\"width\": 3, \"color\": \"#888\"}, \"hoverinfo\": \"text\", \"y\": [0.9510565162951535, -0.587785252292473], \"mode\": \"lines\", \"x\": [0.30901699437494745, -0.8090169943749476], \"text\": [[\"FSSN2\", \"FSSN1\"]]}, {\"type\": \"scatter\", \"line\": {\"width\": 6, \"color\": \"#888\"}, \"hoverinfo\": \"text\", \"y\": [0.9510565162951535, -0.9510565162951536], \"mode\": \"lines\", \"x\": [0.30901699437494745, 0.30901699437494723], \"text\": [[\"FSSN2\", \"FSSN4\"]]}, {\"type\": \"scatter\", \"line\": {\"width\": 6, \"color\": \"#888\"}, \"hoverinfo\": \"text\", \"y\": [0.5877852522924732, -0.587785252292473], \"mode\": \"lines\", \"x\": [-0.8090169943749473, -0.8090169943749476], \"text\": [[\"FSSN5\", \"FSSN1\"]]}, {\"type\": \"scatter\", \"line\": {\"width\": 9, \"color\": \"#888\"}, \"hoverinfo\": \"text\", \"y\": [0.5877852522924732, -0.9510565162951536], \"mode\": \"lines\", \"x\": [-0.8090169943749473, 0.30901699437494723], \"text\": [[\"FSSN5\", \"FSSN4\"]]}, {\"type\": \"scatter\", \"line\": {\"width\": 5, \"color\": \"#888\"}, \"hoverinfo\": \"text\", \"y\": [-0.587785252292473, -0.9510565162951536], \"mode\": \"lines\", \"x\": [-0.8090169943749476, 0.30901699437494723], \"text\": [[\"FSSN1\", \"FSSN4\"]]}, {\"type\": \"scatter\", \"marker\": {\"size\": [75, 75, 75, 75, 90, 15, 15, 15, 15, 15, 15], \"showscale\": true, \"color\": [65, 65, 65, 65, 65, 85, 75, 75, 75, 75, 75], \"reversescale\": true, \"colorscale\": \"RdBu\"}, \"textposition\": \"bottom\", \"hoverinfo\": \"text\", \"text\": [\"FSSN5: 512\", \"FSSN4: 512\", \"FSSN3: 512\", \"FSSN2: 512\", \"FSSN1: 1024\", \"APP2FSSN1: 128\", \"APP1FSSN5: 256\", \"APP1FSSN4: 256\", \"APP1FSSN3: 256\", \"APP1FSSN2: 256\", \"APP1FSSN1: 256\"], \"x\": [-0.8090169943749473, 0.30901699437494723, 1.0, 0.30901699437494745, -0.8090169943749476, -0.8340169943749476, -0.7590169943749473, 0.25901699437494724, 0.95, 0.25901699437494746, -0.7590169943749475], \"mode\": \"markers\", \"y\": [0.5877852522924732, -0.9510565162951536, 0.0, 0.9510565162951535, -0.587785252292473, -0.631086522481695, 0.5877852522924732, -0.9510565162951536, 6.123233995736766e-18, 0.9510565162951535, -0.587785252292473]}], {\"title\": \"<br>App placement graph\", \"margin\": {\"r\": 5, \"t\": 40, \"b\": 20, \"l\": 5}, \"hovermode\": \"closest\", \"xaxis\": {\"zeroline\": false, \"showgrid\": false, \"showticklabels\": false}, \"annotations\": [{\"yref\": \"y\", \"text\": 7, \"xref\": \"x\", \"x\": 0.6545084971874736, \"y\": -0.4755282581475768}, {\"yref\": \"y\", \"text\": 5, \"xref\": \"x\", \"x\": 0.6545084971874737, \"y\": 0.47552825814757677}, {\"yref\": \"y\", \"text\": 8, \"xref\": \"x\", \"x\": 0.09549150281252633, \"y\": 0.2938926261462366}, {\"yref\": \"y\", \"text\": 4, \"xref\": \"x\", \"x\": 0.09549150281252622, \"y\": -0.2938926261462365}, {\"yref\": \"y\", \"text\": 7, \"xref\": \"x\", \"x\": -0.24999999999999994, \"y\": 0.7694208842938134}, {\"yref\": \"y\", \"text\": 3, \"xref\": \"x\", \"x\": -0.25000000000000006, \"y\": 0.18163563200134025}, {\"yref\": \"y\", \"text\": 6, \"xref\": \"x\", \"x\": 0.30901699437494734, \"y\": -5.551115123125783e-17}, {\"yref\": \"y\", \"text\": 6, \"xref\": \"x\", \"x\": -0.8090169943749475, \"y\": 1.1102230246251565e-16}, {\"yref\": \"y\", \"text\": 9, \"xref\": \"x\", \"x\": -0.25000000000000006, \"y\": -0.1816356320013402}, {\"yref\": \"y\", \"text\": 5, \"xref\": \"x\", \"x\": -0.25000000000000017, \"y\": -0.7694208842938133}], \"showlegend\": false, \"yaxis\": {\"zeroline\": false, \"showgrid\": false, \"showticklabels\": false}, \"titlefont\": {\"size\": 16}}, {\"showLink\": true, \"linkText\": \"Export to plot.ly\"})});</script>"
      ],
      "text/vnd.plotly.v1+html": [
       "<div id=\"099431f0-210e-491a-830f-6977cc10c9f3\" style=\"height: 525px; width: 100%;\" class=\"plotly-graph-div\"></div><script type=\"text/javascript\">require([\"plotly\"], function(Plotly) { window.PLOTLYENV=window.PLOTLYENV || {};window.PLOTLYENV.BASE_URL=\"https://plot.ly\";Plotly.newPlot(\"099431f0-210e-491a-830f-6977cc10c9f3\", [{\"type\": \"scatter\", \"line\": {\"width\": 7, \"color\": \"#888\"}, \"hoverinfo\": \"text\", \"y\": [0.0, -0.9510565162951536], \"mode\": \"lines\", \"x\": [1.0, 0.30901699437494723], \"text\": [[\"FSSN3\", \"FSSN4\"]]}, {\"type\": \"scatter\", \"line\": {\"width\": 5, \"color\": \"#888\"}, \"hoverinfo\": \"text\", \"y\": [0.0, 0.9510565162951535], \"mode\": \"lines\", \"x\": [1.0, 0.30901699437494745], \"text\": [[\"FSSN3\", \"FSSN2\"]]}, {\"type\": \"scatter\", \"line\": {\"width\": 8, \"color\": \"#888\"}, \"hoverinfo\": \"text\", \"y\": [0.0, 0.5877852522924732], \"mode\": \"lines\", \"x\": [1.0, -0.8090169943749473], \"text\": [[\"FSSN3\", \"FSSN5\"]]}, {\"type\": \"scatter\", \"line\": {\"width\": 4, \"color\": \"#888\"}, \"hoverinfo\": \"text\", \"y\": [0.0, -0.587785252292473], \"mode\": \"lines\", \"x\": [1.0, -0.8090169943749476], \"text\": [[\"FSSN3\", \"FSSN1\"]]}, {\"type\": \"scatter\", \"line\": {\"width\": 7, \"color\": \"#888\"}, \"hoverinfo\": \"text\", \"y\": [0.9510565162951535, 0.5877852522924732], \"mode\": \"lines\", \"x\": [0.30901699437494745, -0.8090169943749473], \"text\": [[\"FSSN2\", \"FSSN5\"]]}, {\"type\": \"scatter\", \"line\": {\"width\": 3, \"color\": \"#888\"}, \"hoverinfo\": \"text\", \"y\": [0.9510565162951535, -0.587785252292473], \"mode\": \"lines\", \"x\": [0.30901699437494745, -0.8090169943749476], \"text\": [[\"FSSN2\", \"FSSN1\"]]}, {\"type\": \"scatter\", \"line\": {\"width\": 6, \"color\": \"#888\"}, \"hoverinfo\": \"text\", \"y\": [0.9510565162951535, -0.9510565162951536], \"mode\": \"lines\", \"x\": [0.30901699437494745, 0.30901699437494723], \"text\": [[\"FSSN2\", \"FSSN4\"]]}, {\"type\": \"scatter\", \"line\": {\"width\": 6, \"color\": \"#888\"}, \"hoverinfo\": \"text\", \"y\": [0.5877852522924732, -0.587785252292473], \"mode\": \"lines\", \"x\": [-0.8090169943749473, -0.8090169943749476], \"text\": [[\"FSSN5\", \"FSSN1\"]]}, {\"type\": \"scatter\", \"line\": {\"width\": 9, \"color\": \"#888\"}, \"hoverinfo\": \"text\", \"y\": [0.5877852522924732, -0.9510565162951536], \"mode\": \"lines\", \"x\": [-0.8090169943749473, 0.30901699437494723], \"text\": [[\"FSSN5\", \"FSSN4\"]]}, {\"type\": \"scatter\", \"line\": {\"width\": 5, \"color\": \"#888\"}, \"hoverinfo\": \"text\", \"y\": [-0.587785252292473, -0.9510565162951536], \"mode\": \"lines\", \"x\": [-0.8090169943749476, 0.30901699437494723], \"text\": [[\"FSSN1\", \"FSSN4\"]]}, {\"type\": \"scatter\", \"marker\": {\"size\": [75, 75, 75, 75, 90, 15, 15, 15, 15, 15, 15], \"showscale\": true, \"color\": [65, 65, 65, 65, 65, 85, 75, 75, 75, 75, 75], \"reversescale\": true, \"colorscale\": \"RdBu\"}, \"textposition\": \"bottom\", \"hoverinfo\": \"text\", \"text\": [\"FSSN5: 512\", \"FSSN4: 512\", \"FSSN3: 512\", \"FSSN2: 512\", \"FSSN1: 1024\", \"APP2FSSN1: 128\", \"APP1FSSN5: 256\", \"APP1FSSN4: 256\", \"APP1FSSN3: 256\", \"APP1FSSN2: 256\", \"APP1FSSN1: 256\"], \"x\": [-0.8090169943749473, 0.30901699437494723, 1.0, 0.30901699437494745, -0.8090169943749476, -0.8340169943749476, -0.7590169943749473, 0.25901699437494724, 0.95, 0.25901699437494746, -0.7590169943749475], \"mode\": \"markers\", \"y\": [0.5877852522924732, -0.9510565162951536, 0.0, 0.9510565162951535, -0.587785252292473, -0.631086522481695, 0.5877852522924732, -0.9510565162951536, 6.123233995736766e-18, 0.9510565162951535, -0.587785252292473]}], {\"title\": \"<br>App placement graph\", \"margin\": {\"r\": 5, \"t\": 40, \"b\": 20, \"l\": 5}, \"hovermode\": \"closest\", \"xaxis\": {\"zeroline\": false, \"showgrid\": false, \"showticklabels\": false}, \"annotations\": [{\"yref\": \"y\", \"text\": 7, \"xref\": \"x\", \"x\": 0.6545084971874736, \"y\": -0.4755282581475768}, {\"yref\": \"y\", \"text\": 5, \"xref\": \"x\", \"x\": 0.6545084971874737, \"y\": 0.47552825814757677}, {\"yref\": \"y\", \"text\": 8, \"xref\": \"x\", \"x\": 0.09549150281252633, \"y\": 0.2938926261462366}, {\"yref\": \"y\", \"text\": 4, \"xref\": \"x\", \"x\": 0.09549150281252622, \"y\": -0.2938926261462365}, {\"yref\": \"y\", \"text\": 7, \"xref\": \"x\", \"x\": -0.24999999999999994, \"y\": 0.7694208842938134}, {\"yref\": \"y\", \"text\": 3, \"xref\": \"x\", \"x\": -0.25000000000000006, \"y\": 0.18163563200134025}, {\"yref\": \"y\", \"text\": 6, \"xref\": \"x\", \"x\": 0.30901699437494734, \"y\": -5.551115123125783e-17}, {\"yref\": \"y\", \"text\": 6, \"xref\": \"x\", \"x\": -0.8090169943749475, \"y\": 1.1102230246251565e-16}, {\"yref\": \"y\", \"text\": 9, \"xref\": \"x\", \"x\": -0.25000000000000006, \"y\": -0.1816356320013402}, {\"yref\": \"y\", \"text\": 5, \"xref\": \"x\", \"x\": -0.25000000000000017, \"y\": -0.7694208842938133}], \"showlegend\": false, \"yaxis\": {\"zeroline\": false, \"showgrid\": false, \"showticklabels\": false}, \"titlefont\": {\"size\": 16}}, {\"showLink\": true, \"linkText\": \"Export to plot.ly\"})});</script>"
      ]
     },
     "metadata": {},
     "output_type": "display_data"
    }
   ],
   "source": [
    "def test(p):\n",
    "    n2n, n2n_df = updateLatency()\n",
    "    latency_obj = genLatencyObj()\n",
    "    #scale_latency, scale_rsrc = normalize()\n",
    "    solution = run_optimize(p)\n",
    "    print(\"solution: \\n%s\" %solution)\n",
    "    G = nx.Graph()\n",
    "    G1 = placeStations(G)\n",
    "    #print(\"G1:\")\n",
    "    #pprint.pprint(sorted(G1.nodes(data=True)), width=120)\n",
    "    edgeAnnotations = annotateEdges(G1)\n",
    "    #print(\" \\n edgeAnnotations\")\n",
    "    #pprint.pprint(edgeAnnotations, width=150)    \n",
    "    G2 = placeApps(G1, solution)\n",
    "    #print(\"G2: \")\n",
    "    #pprint.pprint(sorted(G2.nodes(data=True)), width=120)\n",
    "    nt = nodeTrace(G2)\n",
    "    #pprint.pprint(nt)\n",
    "    ets = edgeTraces(G1)\n",
    "    #pprint.pprint(ets)\n",
    "    traces = ets\n",
    "    traces.append(nt)\n",
    "    #print(traces)\n",
    "    G2.remove_edges_from(G2.edges())\n",
    "    plot(G2, edgeAnnotations, traces)\n",
    "    \n",
    "    #print(\"\\nG.edges: \")\n",
    "    #pprint.pprint(sorted(G2.edges()))\n",
    "\n",
    "test(.5)"
   ]
  },
  {
   "cell_type": "code",
   "execution_count": 27,
   "metadata": {},
   "outputs": [
    {
     "data": {
      "application/vnd.jupyter.widget-view+json": {
       "model_id": "2be4e5547169488c8ee3c653155820e6"
      }
     },
     "metadata": {},
     "output_type": "display_data"
    }
   ],
   "source": [
    "p = widgets.FloatSlider(min=0, max=1, step=0.1, value=.6, continuous_update=False)\n",
    "\n",
    "# In case we want to try different interact parameters. \n",
    "#https://ipywidgets.readthedocs.io/en/stable/examples/Using%20Interact.html\n",
    "#interact(test, p=p)\n",
    "interactive_plot = interactive(test, p=p)\n",
    "interactive_plot.layout.height = '700px'\n",
    "interactive_plot"
   ]
  },
  {
   "cell_type": "code",
   "execution_count": 28,
   "metadata": {
    "collapsed": true
   },
   "outputs": [],
   "source": [
    "#http://ipnetwork.windstream.net"
   ]
  }
 ],
 "metadata": {
  "kernelspec": {
   "display_name": "Python 3",
   "language": "python",
   "name": "python3"
  },
  "language_info": {
   "codemirror_mode": {
    "name": "ipython",
    "version": 3
   },
   "file_extension": ".py",
   "mimetype": "text/x-python",
   "name": "python",
   "nbconvert_exporter": "python",
   "pygments_lexer": "ipython3",
   "version": "3.5.2"
  }
 },
 "nbformat": 4,
 "nbformat_minor": 2
}
