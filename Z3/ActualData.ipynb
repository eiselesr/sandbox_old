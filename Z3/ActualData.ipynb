{
 "cells": [
  {
   "cell_type": "markdown",
   "metadata": {},
   "source": [
    "SSN resources\n",
    "node2node latencies\n",
    "\n",
    " \n",
    "machine parameters for our four simulated FSSNs\n",
    "their geographic coordinates (as a proxy for latencies…)\n",
    "names\n",
    "etc\n",
    "their initial configuration\n",
    "The load factors in there are of course also made up\n",
    "Add machines, ideally add a cluster “Princeton” \n",
    "\n",
    "In the final deployment, this data would come from our knowledge models that are managed via OSF and can be accessed over REST (see https://code.siemens.com/z003envj/opensemanticframework)\n",
    "\n",
    "•\tApps and app cost estimates\n",
    "•\tApp dependencies\n",
    "•\tInitial deployment\n",
    "\n",
    "\n",
    "You can see all the interesting apps from the FSSN Manager report, including their dependencies\n",
    "* Voltage Guard I (VG1) - local\n",
    "    * Java Stack - local\n",
    "* Voltage Guard II (VG2) - local\n",
    "    * Java Stack\n",
    "* Voltage Guard III (VG3) - local\n",
    "    * Java Stack\n",
    "    * Storage / Archiver - nonlocal\n",
    "* Grid Representation Module (GRM) - non-local\n",
    "    * Java Stack\n",
    "    * Storage/Archiver\n",
    "* Topology Verification Module (TOV) - non-local\n",
    "    * Java Stack\n",
    "    * GRM\n",
    "* Gridlink Flexop Building Energy Agent (BEA) - non-local\n",
    "    * Java Stack\n",
    "    * Gridlink3 XMPP - local\n",
    "* Building Energy Agent (BEA) - non-local\n",
    "    * Java Stack\n",
    "    * Storage/Archiver    \n",
    "* Building Representation Module (BRM) - non-local\n",
    "    * Java Stack\n",
    "* Adaptive Assignment Module (AAM) - non-local\n",
    "    * Java Stack\n",
    "    * BRM\n",
    "    * GRM\n",
    "\n",
    "\n",
    "  \n",
    "    "
   ]
  },
  {
   "cell_type": "code",
   "execution_count": 2,
   "metadata": {},
   "outputs": [
    {
     "data": {
      "text/html": [
       "<script>requirejs.config({paths: { 'plotly': ['https://cdn.plot.ly/plotly-latest.min']},});if(!window.Plotly) {{require(['plotly'],function(plotly) {window.Plotly=plotly;});}}</script>"
      ],
      "text/vnd.plotly.v1+html": [
       "<script>requirejs.config({paths: { 'plotly': ['https://cdn.plot.ly/plotly-latest.min']},});if(!window.Plotly) {{require(['plotly'],function(plotly) {window.Plotly=plotly;});}}</script>"
      ]
     },
     "metadata": {},
     "output_type": "display_data"
    }
   ],
   "source": [
    "import z3\n",
    "import json\n",
    "import pprint\n",
    "import networkx as nx\n",
    "import plotly.offline as py\n",
    "py.init_notebook_mode(connected=True)\n",
    "import plotly.graph_objs as go\n",
    "from ipywidgets import interact\n",
    "from ipywidgets import widgets"
   ]
  },
  {
   "cell_type": "code",
   "execution_count": 10,
   "metadata": {},
   "outputs": [
    {
     "name": "stdout",
     "output_type": "stream",
     "text": [
      "West Berkeley\n",
      "North Berkeley\n",
      "Berkeley Hills\n",
      "Berkeley Cal\n"
     ]
    }
   ],
   "source": [
    "with open ('simulationDevices.json') as file:\n",
    "    data = json.load(file)\n",
    "    \n",
    "#display(data['Alameda']['device_id'])\n",
    "for thing in data['Alameda']:\n",
    "    print (thing['device_id'])"
   ]
  },
  {
   "cell_type": "code",
   "execution_count": 3,
   "metadata": {},
   "outputs": [
    {
     "ename": "NameError",
     "evalue": "name 'tbd' is not defined",
     "output_type": "error",
     "traceback": [
      "\u001b[0;31m---------------------------------------------------------------------------\u001b[0m",
      "\u001b[0;31mNameError\u001b[0m                                 Traceback (most recent call last)",
      "\u001b[0;32m<ipython-input-3-e78228a3a63b>\u001b[0m in \u001b[0;36m<module>\u001b[0;34m()\u001b[0m\n\u001b[1;32m     14\u001b[0m     \u001b[0;32mreturn\u001b[0m \u001b[0mG\u001b[0m\u001b[0;34m\u001b[0m\u001b[0m\n\u001b[1;32m     15\u001b[0m \u001b[0;34m\u001b[0m\u001b[0m\n\u001b[0;32m---> 16\u001b[0;31m \u001b[0mG\u001b[0m \u001b[0;34m=\u001b[0m \u001b[0mtbd\u001b[0m\u001b[0;34m(\u001b[0m\u001b[0;34m)\u001b[0m\u001b[0;34m\u001b[0m\u001b[0m\n\u001b[0m\u001b[1;32m     17\u001b[0m \u001b[0mpprint\u001b[0m\u001b[0;34m.\u001b[0m\u001b[0mpprint\u001b[0m\u001b[0;34m(\u001b[0m\u001b[0mG\u001b[0m\u001b[0;34m.\u001b[0m\u001b[0mnodes\u001b[0m\u001b[0;34m(\u001b[0m\u001b[0mdata\u001b[0m\u001b[0;34m=\u001b[0m\u001b[0;32mTrue\u001b[0m\u001b[0;34m)\u001b[0m\u001b[0;34m)\u001b[0m\u001b[0;34m\u001b[0m\u001b[0m\n\u001b[1;32m     18\u001b[0m \u001b[0mpprint\u001b[0m\u001b[0;34m.\u001b[0m\u001b[0mpprint\u001b[0m\u001b[0;34m(\u001b[0m\u001b[0mG\u001b[0m\u001b[0;34m.\u001b[0m\u001b[0medges\u001b[0m\u001b[0;34m(\u001b[0m\u001b[0;34m)\u001b[0m\u001b[0;34m)\u001b[0m\u001b[0;34m\u001b[0m\u001b[0m\n",
      "\u001b[0;31mNameError\u001b[0m: name 'tbd' is not defined"
     ]
    }
   ],
   "source": [
    "def FSSN_GRAPH():\n",
    "    with open ('simulationDevices.json') as file:\n",
    "        data = json.load(file)\n",
    "    nodeList = list()\n",
    "        \n",
    "    for dev in data['Alameda']:\n",
    "        nodeList.append(dev['device_id'])        \n",
    "    \n",
    "    G = nx.complete_graph(len(nodeList))\n",
    "    nx.relabel_nodes(G, dict(enumerate(nodeList)), copy=False)\n",
    "    #G.add_node(dev['device_id'], machine=dev['machine'])\n",
    "    #G.node[dev['device_id']]['coord'] = dev['geo']['geometry']['coordinates']\n",
    "    \n",
    "    return G\n",
    "    \n",
    "G = tbd()\n",
    "pprint.pprint(G.nodes(data=True))\n",
    "pprint.pprint(G.edges())\n",
    "#G.node['North Berkeley']['machine'] + G.node['Berkeley Cal']['machine']"
   ]
  },
  {
   "cell_type": "code",
   "execution_count": null,
   "metadata": {
    "collapsed": true
   },
   "outputs": [],
   "source": [
    "def read_JSON(nodeList):\n",
    "    with open ('simulationDevices.json') as file:\n",
    "        data = json.load(file)\n",
    "    \n",
    "    \n",
    "   \n",
    "setup(list())"
   ]
  },
  {
   "cell_type": "code",
   "execution_count": null,
   "metadata": {
    "collapsed": true
   },
   "outputs": [],
   "source": []
  }
 ],
 "metadata": {
  "kernelspec": {
   "display_name": "Python 3",
   "language": "python",
   "name": "python3"
  },
  "language_info": {
   "codemirror_mode": {
    "name": "ipython",
    "version": 3
   },
   "file_extension": ".py",
   "mimetype": "text/x-python",
   "name": "python",
   "nbconvert_exporter": "python",
   "pygments_lexer": "ipython3",
   "version": "3.5.2"
  }
 },
 "nbformat": 4,
 "nbformat_minor": 2
}
