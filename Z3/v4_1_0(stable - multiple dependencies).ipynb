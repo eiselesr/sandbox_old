{
 "cells": [
  {
   "cell_type": "code",
   "execution_count": 1,
   "metadata": {
    "collapsed": true
   },
   "outputs": [],
   "source": [
    "import z3\n",
    "import json\n",
    "import pprint\n",
    "import numpy as np\n",
    "import pandas as pd\n",
    "import random\n",
    "\n"
   ]
  },
  {
   "cell_type": "code",
   "execution_count": 2,
   "metadata": {},
   "outputs": [
    {
     "data": {
      "text/html": [
       "<div>\n",
       "<style>\n",
       "    .dataframe thead tr:only-child th {\n",
       "        text-align: right;\n",
       "    }\n",
       "\n",
       "    .dataframe thead th {\n",
       "        text-align: left;\n",
       "    }\n",
       "\n",
       "    .dataframe tbody tr th {\n",
       "        vertical-align: top;\n",
       "    }\n",
       "</style>\n",
       "<table border=\"1\" class=\"dataframe\">\n",
       "  <thead>\n",
       "    <tr style=\"text-align: right;\">\n",
       "      <th></th>\n",
       "      <th>FSSN1</th>\n",
       "      <th>FSSN2</th>\n",
       "      <th>FSSN3</th>\n",
       "      <th>FSSN4</th>\n",
       "      <th>FSSN5</th>\n",
       "    </tr>\n",
       "  </thead>\n",
       "  <tbody>\n",
       "    <tr>\n",
       "      <th>APP1</th>\n",
       "      <td>1</td>\n",
       "      <td>1</td>\n",
       "      <td>1</td>\n",
       "      <td>1</td>\n",
       "      <td>1</td>\n",
       "    </tr>\n",
       "    <tr>\n",
       "      <th>APP2</th>\n",
       "      <td>1</td>\n",
       "      <td>1</td>\n",
       "      <td>1</td>\n",
       "      <td>1</td>\n",
       "      <td>1</td>\n",
       "    </tr>\n",
       "    <tr>\n",
       "      <th>APP3</th>\n",
       "      <td>1</td>\n",
       "      <td>1</td>\n",
       "      <td>1</td>\n",
       "      <td>1</td>\n",
       "      <td>1</td>\n",
       "    </tr>\n",
       "  </tbody>\n",
       "</table>\n",
       "</div>"
      ],
      "text/plain": [
       "     FSSN1 FSSN2 FSSN3 FSSN4 FSSN5\n",
       "APP1     1     1     1     1     1\n",
       "APP2     1     1     1     1     1\n",
       "APP3     1     1     1     1     1"
      ]
     },
     "metadata": {},
     "output_type": "display_data"
    },
    {
     "name": "stdout",
     "output_type": "stream",
     "text": [
      "edge: ['FSSN1', 'FSSN2'] type: <class 'list'>\n",
      "before lat update 3\n",
      "after lat update 10\n"
     ]
    },
    {
     "data": {
      "text/plain": [
       "None"
      ]
     },
     "metadata": {},
     "output_type": "display_data"
    }
   ],
   "source": [
    "class a2n_solver(object):\n",
    "    def __init__(self, raw):\n",
    "        self.data = self.loadRaw(raw)\n",
    "        self.resourceTypes = set([j for i in self.data for j in self.data[i]['resources'] ])\n",
    "        #--Lists--\n",
    "        self.nodeList = list()\n",
    "        self.appList = list()\n",
    "        self.nlappList = list() # List of apps that are dependencies\n",
    "        self.prAppList = list() # List of primary apps that have dependencies\n",
    "        self.init_lists() # provides values for previous 4 lists\n",
    "        #--Matrices--\n",
    "        self.a2a = self.init_a2a()\n",
    "        self.a2a_df = pd.DataFrame(self.a2a, index=self.appList, columns=self.appList) \n",
    "        self.n2n = self.init_n2n()\n",
    "        self.n2n_df = pd.DataFrame(self.n2n, index=self.nodeList, columns=self.nodeList) \n",
    "        # resources per node matrix\n",
    "        self.rpn= [[self.data[j]['resources'][k] for j in self.nodeList] for k in self.resourceTypes]\n",
    "        self.rpn_df = pd.DataFrame(self.rpn, index=self.resourceTypes, columns=self.nodeList)  \n",
    "        # resources per app matrix\n",
    "        self.rpa= [[self.data[i]['resources'][k] for i in self.appList] for k in self.resourceTypes]\n",
    "        self.rpa_df = pd.DataFrame(self.rpa, index=self.resourceTypes, columns=self.appList)    \n",
    "        # Placement matrix\n",
    "        self.a2n = [ [ z3.Real(\"a%s%s\" % (i+1, j+1)) for j in range(len(self.nodeList)) ]\n",
    "                                                     for i in range(len(self.appList))]\n",
    "        self.a2n_df = pd.DataFrame(self.a2n, index=self.appList, columns=self.nodeList)  \n",
    "        self.initial_deployment() # this must happen before the cost_obj, otherwise the variables are used.\n",
    "        #--------- CONSTRAINTS------------------\n",
    "        self.a2n_domain = [z3.Or(self.a2n_df.loc[app, node]==0, self.a2n_df.loc[app, node]==1) \\\n",
    "                      for app in self.nlappList \\\n",
    "                      for node in self.nodeList]\n",
    "        # Max capacity constraint\n",
    "        # Resources required by apps deployed on a node cannot exceed that nodes resources\n",
    "        self.app_util = self.rpa_df.dot(self.a2n_df)\n",
    "        self.node_util = self.rpn_df - self.app_util\n",
    "        self.rsrc_constraint = [self.node_util.loc[rsrc,node]>=0 \\\n",
    "                                       for rsrc in self.resourceTypes \\\n",
    "                                       for node in self.nodeList]\n",
    "        # Must Deploy Dependencies constraint\n",
    "        # Assuming the primary app is deployed, all of it's dependencies must be deployed\n",
    "        self.mdd = [self.a2n_df.loc[dep].sum() > 0 for dep in self.nlappList]\n",
    "        #--------- OPTIMIZATION OBJECTIVES------------------\n",
    "        \n",
    "        self.lat_obj = self.genLatencyObj(self.a2n_df)        \n",
    "        self.cost_obj = self.genCostObj(self.a2n_df)\n",
    "        \n",
    "        self.scale_latency = None\n",
    "        self.scale_rsrc = None\n",
    "        self.max_edge_latency = 10\n",
    "        self.normalize()\n",
    "        self.p = .9\n",
    "        # -------- Solution ---------------------------\n",
    "        self.a2n_df_r = None\n",
    "        self.optimize(self.p)\n",
    "         \n",
    "        \n",
    "    def loadRaw(self, raw):\n",
    "        with open(raw) as file:\n",
    "            data = json.load(file)\n",
    "        return data\n",
    "    \n",
    "    def init_lists(self):        \n",
    "        for i in self.data:\n",
    "            if self.data[i]['type']=='node':\n",
    "                self.nodeList.append(i)\n",
    "            if self.data[i]['type']=='app':\n",
    "                self.appList.append(i)\n",
    "                if self.data[i]['dependencies']['nonlocal']:\n",
    "                    self.prAppList.append(i)\n",
    "                    for dep in self.data[i]['dependencies']['nonlocal']:\n",
    "                        self.nlappList.append(dep)\n",
    "        self.nodeList = sorted(self.nodeList)\n",
    "        self.appList = sorted(self.appList)\n",
    "        self.prAppList = sorted(self.prAppList)\n",
    "        self.nlappList = sorted(self.nlappList)\n",
    "                        \n",
    "    def init_a2a(self):\n",
    "        a2a = []\n",
    "        for app in self.appList:\n",
    "            nl_deps = self.data[app]['dependencies']['nonlocal']\n",
    "            deps = []\n",
    "            for dep in self.appList:\n",
    "                if dep in nl_deps:\n",
    "                    deps.append(1)\n",
    "                else: \n",
    "                    deps.append(0)\n",
    "            a2a.append(deps)\n",
    "        return a2a\n",
    "    \n",
    "    def init_n2n(self):\n",
    "        n2n = []\n",
    "        for node in self.nodeList:\n",
    "            id = self.data[node]['id']\n",
    "            temp = []    \n",
    "            for n2 in self.nodeList:\n",
    "                id2 = self.data[n2]['id']\n",
    "                lat = self.data[node]['latencies']['n%s%s' %(id, id2)]\n",
    "                temp.append(lat)\n",
    "            n2n.append(temp)  \n",
    "        return n2n        \n",
    "    \n",
    "    def initial_deployment(self):\n",
    "        self.a2n_df.loc['APP1'] = 1\n",
    "        \n",
    "    def genLatencyObj(self, a2n_df):\n",
    "        numNodes = len(self.nodeList) # number of FSSNs\n",
    "        markings = list() # The equations for each possible placement of the dependencies\n",
    "\n",
    "        for srcNode in self.nodeList:\n",
    "            #print (srcNode)\n",
    "            # -- Check all nodes for all primary apps.--\n",
    "            for prApp in self.prAppList:\n",
    "                if a2n_df.loc[prApp, srcNode] == 1:   ### If a primary app is present \n",
    "                    ## ANOTHER FOR LOOP IF THERE ARE MULTIPLE DEPENDENCIES\n",
    "                    primaryDeps = [dep for dep in self.appList if self.a2a_df.loc[prApp, dep]==1]\n",
    "                    for dep in primaryDeps:\n",
    "                        # iterate through the 2^numNodes potential dependency placements\n",
    "                        # and save them as binary representation to look up when running the optimizer\n",
    "                        for i in range(2**numNodes):\n",
    "                            mark = format(i, 'b').zfill(numNodes) # express placment in binary    \n",
    "                            #print(mark)\n",
    "                            # The dependency must be place somewhere. So this skips the case where i=0\n",
    "                            # This may not be necessary thanks to the constraint. \n",
    "                            if mark == format(0,'b').zfill(numNodes):\n",
    "                                continue\n",
    "\n",
    "                            marking = list() # list for placment equations e.g (1 - a11)*(1 - a12)*a13\n",
    "                            latency = [] # latencies between node hosting primary app and all nodes hosting the dependency for a particular placement. \n",
    "                            #print (\"-----NEW MARKING-----\")\n",
    "                            # iterate through nodes using the binary placement to generate marking equation\n",
    "                            for i, node in enumerate(self.nodeList):\n",
    "                                #print (\"mark %s\" %mark)\n",
    "                                #print (\"i %s \" %i)\n",
    "                                #print (\"mark[i] %s\" %type(int(mark[i]))) \n",
    "                                # add marking to list and if binary has a 1, add latency to list of possible latencies\n",
    "                                if int(mark[i]) == 1:\n",
    "                                    marking.append(a2n_df.loc[dep, node]) #a_ij\n",
    "                                    latency.append(self.n2n_df.loc[srcNode, node])\n",
    "                                    #latency.append(random.randint(0,10))\n",
    "                                if int(mark[i]) == 0:\n",
    "                                    marking.append(1 - a2n_df.loc[dep,node]) # 1- a_ij\n",
    "                            #print(\"latency %s\" %latency)                    \n",
    "                            #print(\"min latency %s\" %min(latency).item())\n",
    "                            #print(\"min latency %s\" %min(latency))\n",
    "                            #print(\"type(min(latency)) = %s\" %type(min(latency)))\n",
    "                            #print(\"marking: %s\" %marking)\n",
    "                            #print(\"marking * latency: %s\" %(z3.Product(marking) * min(latency).item()))\n",
    "                            #print(\"marking * latency: %s\" %(z3.Product(marking) * min(latency)))\n",
    "                            #markings.append(z3.Product(marking) * min(latency).item())\n",
    "                            markings.append(z3.Product(marking) * min(latency))\n",
    "            \n",
    "        lat_obj = z3.Sum(markings)\n",
    "        return lat_obj\n",
    "    \n",
    "    def genCostObj(self, a2n_df):\n",
    "        costs = list()\n",
    "        for app in self.appList:\n",
    "            cost = a2n_df.loc[app]*(self.rpa_df.loc[:, app]).item()\n",
    "            #print(\"cost %s\" %cost)\n",
    "            costs.append(sum(cost))\n",
    "        total_cost = sum(costs)\n",
    "        #print(type(total_cost))\n",
    "        #print(total_cost.is_real())\n",
    "        #print(total_cost.is_int())\n",
    "        return total_cost\n",
    "   \n",
    "    def normalize(self):\n",
    "        min_latency = 0 #app is deployed everywhere\n",
    "        #max_latency = max([sum(self.n2n_df.loc[node, :]) for node in self.nodeList]) #app is deployed on node with highest total latency\n",
    "        max_latency = self.max_edge_latency * (len(self.nodeList)-1)\n",
    "        self.scale_latency = 1/(max_latency - min_latency)\n",
    "\n",
    "        #min_rsrc = in nlappList\n",
    "        # every app deployed on every node [(sum of apps costs) * num of nodes]\n",
    "        max_rsrc = max([sum(self.rpa_df.loc[rsrc, :]) for rsrc in self.resourceTypes])*len(self.nodeList)\n",
    "        #print(\"max_rsrc: %s\" %max_rsrc)\n",
    "        min_rsrc = 0 #self.rpa_df.loc['memory', 'APP2' ] + 5*self.rpa_df.loc['memory', 'APP1']\n",
    "        self.scale_rsrc = 1/(max_rsrc - min_rsrc)\n",
    "          \n",
    "    def optimize(self, p):\n",
    "        self.p = p\n",
    "        opt = z3.Optimize()\n",
    "        constraints = self.a2n_domain + self.rsrc_constraint + self.mdd\n",
    "        #opt.add(constraints)\n",
    "        opt.assert_exprs(constraints)\n",
    "        #print(\"test\")\n",
    "        #pprint.pprint(type(self.cost_obj))\n",
    "        #pprint.pprint(self.cost_obj)\n",
    "           \n",
    "        opt.minimize(p*self.lat_obj*self.scale_latency + (1-p)*self.cost_obj*self.scale_rsrc)\n",
    "        #opt.minimize(total_cost)\n",
    "        #opt.maximize(m)\n",
    "        opt.check()\n",
    "\n",
    "        opt_model = opt.model()\n",
    "        #print(\"optimization model \\n %s \\n\" %opt_model)\n",
    "\n",
    "        a2n_df_r = self.a2n_df.copy()\n",
    "        for app in self.nlappList:\n",
    "            #print('App %s' %app)\n",
    "            for node in self.nodeList:\n",
    "                #print('Node %s' %node)\n",
    "                a2n_df_r.loc[app, node] = opt_model.eval(self.a2n_df.loc[app, node])\n",
    "        self.a2n_df_r = a2n_df_r\n",
    "        #return a2n_df_r        \n",
    "    \n",
    "    def updateLatency(self, edge, latency):\n",
    "        print(\"edge: %s type: %s\" %(edge, type(edge)))\n",
    "        print(\"before lat update %s\" %self.n2n_df.loc[tuple(edge)])\n",
    "        self.n2n_df.loc[tuple(edge)] = latency\n",
    "        self.n2n_df.loc[edge[1], edge[0]] = latency\n",
    "        print(\"after lat update %s\" %self.n2n_df.loc[tuple(edge)])\n",
    "        #print(\"edge in n2n %\" %self.n2n_df.loc[edge])\n",
    "        #for i, edge in enumerate(edges):\n",
    "        #    print(i)\n",
    "        #    print(\"update latency %s\" %edge)\n",
    "        #    self.n2n_df.loc[edge] = latency[i]\n",
    "        #    self.n2n_df.loc[edge[1], edge[0]] = latency[i]\n",
    "        self.lat_obj = self.genLatencyObj(self.a2n_df)\n",
    "        #self.normalize()\n",
    "        self.optimize(self.p)\n",
    "    \n",
    "    def printCostFunction(self):\n",
    "        rsrc_cost = z3.simplify(self.genCostObj(self.a2n_df_r))\n",
    "        latency_cost = z3.simplify(self.genLatencyObj(self.a2n_df_r))\n",
    "        print(\"rsrc cost: %s latency cost:%s\" %(rsrc_cost, latency_cost))\n",
    "        print(\"p*latency*scale_latency + (1-p)*resource*scale_rsrc\")\n",
    "        \n",
    "        result = self.p*latency_cost*self.scale_latency + (1-self.p)*rsrc_cost*self.scale_rsrc\n",
    "        display(result)\n",
    "        print(\"simplify: lat=%s + rsrc=%s\" %(z3.simplify(self.p*latency_cost*self.scale_latency).as_decimal(5),\n",
    "                                             z3.simplify((1-self.p)*rsrc_cost*self.scale_rsrc).as_decimal(5)))\n",
    "        print(\"Result %s\" %z3.simplify(result).as_decimal(5))\n",
    "        \n",
    "        \n",
    "    def printDebug(self):\n",
    "        print(\"latency objective. Should be symbolic. \")\n",
    "        pprint.pprint(z3.simplify(s.lat_obj)) \n",
    "        \n",
    "    \n",
    "s = a2n_solver('simple.json')\n",
    "display(s.a2n_df_r)\n",
    "\n",
    "#display(s.nodeList, s.appList, s.nlappList, s.prAppList, s.a2a_df, s.n2n_df, s.rpn_df, s.rpa_df, s.a2n_df)\n",
    "#display(s.a2n_domain)\n",
    "#display(s.a2n_df, s.rsrc_constraint, s.mdd, s.cost_obj)\n",
    "#display(s.lat_obj)\n",
    "#display(s.scale_latency, s.scale_rsrc)\n",
    "#display(s.a2n_df_r)\n",
    "#new_a2n_df_r = s.updateLatency([('FSSN1', 'FSSN2'), ('FSSN1', 'FSSN5'), ('FSSN2', 'FSSN5')], [10, 11, 12])\n",
    "new_a2n_df_r = s.updateLatency(['FSSN1', 'FSSN2'], 10)\n",
    "display(new_a2n_df_r)\n",
    "#display(s.n2n_df)\n",
    "#display(z3.simplify(s.genCostObj(new_a2n_df_r)))\n",
    "#display(s.genLatencyObj(new_a2n_df_r))\n",
    "#display(z3.simplify(s.genLatencyObj(new_a2n_df_r)))\n",
    "#s.printCostFunction(self.p)\n",
    "#s.lat_obj"
   ]
  },
  {
   "cell_type": "code",
   "execution_count": 3,
   "metadata": {},
   "outputs": [
    {
     "name": "stdout",
     "output_type": "stream",
     "text": [
      "30*a25*(1 + -1*a21)*(1 + -1*a22)*(1 + -1*a23)*(1 + -1*a24) +\n",
      "27*a24*(1 + -1*a21)*(1 + -1*a22)*(1 + -1*a23)*(1 + -1*a25) +\n",
      "18*a24*a25*(1 + -1*a21)*(1 + -1*a22)*(1 + -1*a23) +\n",
      "24*a23*(1 + -1*a21)*(1 + -1*a22)*(1 + -1*a24)*(1 + -1*a25) +\n",
      "16*a23*a25*(1 + -1*a21)*(1 + -1*a22)*(1 + -1*a24) +\n",
      "17*a23*a24*(1 + -1*a21)*(1 + -1*a22)*(1 + -1*a25) +\n",
      "9*a23*a24*a25*(1 + -1*a21)*(1 + -1*a22) +\n",
      "28*a22*(1 + -1*a21)*(1 + -1*a23)*(1 + -1*a24)*(1 + -1*a25) +\n",
      "17*a22*a25*(1 + -1*a21)*(1 + -1*a23)*(1 + -1*a24) +\n",
      "17*a22*a24*(1 + -1*a21)*(1 + -1*a23)*(1 + -1*a25) +\n",
      "10*a22*a24*a25*(1 + -1*a21)*(1 + -1*a23) +\n",
      "17*a22*a23*(1 + -1*a21)*(1 + -1*a24)*(1 + -1*a25) +\n",
      "10*a22*a23*a25*(1 + -1*a21)*(1 + -1*a24) +\n",
      "11*a22*a23*a24*(1 + -1*a21)*(1 + -1*a25) +\n",
      "4*a22*a23*a24*a25*(1 + -1*a21) +\n",
      "30*a35*(1 + -1*a31)*(1 + -1*a32)*(1 + -1*a33)*(1 + -1*a34) +\n",
      "27*a34*(1 + -1*a31)*(1 + -1*a32)*(1 + -1*a33)*(1 + -1*a35) +\n",
      "18*a34*a35*(1 + -1*a31)*(1 + -1*a32)*(1 + -1*a33) +\n",
      "24*a33*(1 + -1*a31)*(1 + -1*a32)*(1 + -1*a34)*(1 + -1*a35) +\n",
      "16*a33*a35*(1 + -1*a31)*(1 + -1*a32)*(1 + -1*a34) +\n",
      "17*a33*a34*(1 + -1*a31)*(1 + -1*a32)*(1 + -1*a35) +\n",
      "9*a33*a34*a35*(1 + -1*a31)*(1 + -1*a32) +\n",
      "28*a32*(1 + -1*a31)*(1 + -1*a33)*(1 + -1*a34)*(1 + -1*a35) +\n",
      "17*a32*a35*(1 + -1*a31)*(1 + -1*a33)*(1 + -1*a34) +\n",
      "17*a32*a34*(1 + -1*a31)*(1 + -1*a33)*(1 + -1*a35) +\n",
      "10*a32*a34*a35*(1 + -1*a31)*(1 + -1*a33) +\n",
      "17*a32*a33*(1 + -1*a31)*(1 + -1*a34)*(1 + -1*a35) +\n",
      "10*a32*a33*a35*(1 + -1*a31)*(1 + -1*a34) +\n",
      "11*a32*a33*a34*(1 + -1*a31)*(1 + -1*a35) +\n",
      "4*a32*a33*a34*a35*(1 + -1*a31) +\n",
      "25*a21*(1 + -1*a22)*(1 + -1*a23)*(1 + -1*a24)*(1 + -1*a25) +\n",
      "16*a21*a25*(1 + -1*a22)*(1 + -1*a23)*(1 + -1*a24) +\n",
      "16*a21*a24*(1 + -1*a22)*(1 + -1*a23)*(1 + -1*a25) +\n",
      "10*a21*a24*a25*(1 + -1*a22)*(1 + -1*a23) +\n",
      "16*a21*a23*(1 + -1*a22)*(1 + -1*a24)*(1 + -1*a25) +\n",
      "10*a21*a23*a25*(1 + -1*a22)*(1 + -1*a24) +\n",
      "11*a21*a23*a24*(1 + -1*a22)*(1 + -1*a25) +\n",
      "5*a21*a23*a24*a25*(1 + -1*a22) +\n",
      "25*a31*(1 + -1*a32)*(1 + -1*a33)*(1 + -1*a34)*(1 + -1*a35) +\n",
      "16*a31*a35*(1 + -1*a32)*(1 + -1*a33)*(1 + -1*a34) +\n",
      "16*a31*a34*(1 + -1*a32)*(1 + -1*a33)*(1 + -1*a35) +\n",
      "10*a31*a34*a35*(1 + -1*a32)*(1 + -1*a33) +\n",
      "16*a31*a33*(1 + -1*a32)*(1 + -1*a34)*(1 + -1*a35) +\n",
      "10*a31*a33*a35*(1 + -1*a32)*(1 + -1*a34) +\n",
      "11*a31*a33*a34*(1 + -1*a32)*(1 + -1*a35) +\n",
      "5*a31*a33*a34*a35*(1 + -1*a32) +\n",
      "15*a21*a22*(1 + -1*a23)*(1 + -1*a24)*(1 + -1*a25) +\n",
      "9*a21*a22*a25*(1 + -1*a23)*(1 + -1*a24) +\n",
      "10*a21*a22*a24*(1 + -1*a23)*(1 + -1*a25) +\n",
      "4*a21*a22*a24*a25*(1 + -1*a23) +\n",
      "15*a31*a32*(1 + -1*a33)*(1 + -1*a34)*(1 + -1*a35) +\n",
      "9*a31*a32*a35*(1 + -1*a33)*(1 + -1*a34) +\n",
      "10*a31*a32*a34*(1 + -1*a33)*(1 + -1*a35) +\n",
      "4*a31*a32*a34*a35*(1 + -1*a33) +\n",
      "11*a21*a22*a23*(1 + -1*a24)*(1 + -1*a25) +\n",
      "5*a21*a22*a23*a25*(1 + -1*a24) +\n",
      "11*a31*a32*a33*(1 + -1*a34)*(1 + -1*a35) +\n",
      "5*a31*a32*a33*a35*(1 + -1*a34) +\n",
      "6*a21*a22*a23*a24*(1 + -1*a25) +\n",
      "6*a31*a32*a33*a34*(1 + -1*a35)\n"
     ]
    }
   ],
   "source": [
    "pprint.pprint(z3.simplify(s.lat_obj))"
   ]
  },
  {
   "cell_type": "code",
   "execution_count": 4,
   "metadata": {},
   "outputs": [
    {
     "data": {
      "text/plain": [
       "(1, 2)"
      ]
     },
     "execution_count": 4,
     "metadata": {},
     "output_type": "execute_result"
    }
   ],
   "source": [
    "a = (1 ,2 )\n",
    "type(a)\n",
    "b = [1, 2]\n",
    "type(b)\n",
    "tuple(b)"
   ]
  },
  {
   "cell_type": "code",
   "execution_count": 5,
   "metadata": {},
   "outputs": [
    {
     "data": {
      "text/plain": [
       "10"
      ]
     },
     "execution_count": 5,
     "metadata": {},
     "output_type": "execute_result"
    }
   ],
   "source": [
    "s.n2n_df.loc[tuple(['FSSN1', 'FSSN2'])]\n"
   ]
  },
  {
   "cell_type": "code",
   "execution_count": 6,
   "metadata": {},
   "outputs": [
    {
     "data": {
      "text/html": [
       "<script>requirejs.config({paths: { 'plotly': ['https://cdn.plot.ly/plotly-latest.min']},});if(!window.Plotly) {{require(['plotly'],function(plotly) {window.Plotly=plotly;});}}</script>"
      ],
      "text/vnd.plotly.v1+html": [
       "<script>requirejs.config({paths: { 'plotly': ['https://cdn.plot.ly/plotly-latest.min']},});if(!window.Plotly) {{require(['plotly'],function(plotly) {window.Plotly=plotly;});}}</script>"
      ]
     },
     "metadata": {},
     "output_type": "display_data"
    }
   ],
   "source": [
    "# Compare alternative to networkx\n",
    "#https://plot.ly/python/igraph-networkx-comparison/\n",
    "import networkx as nx\n",
    "import plotly.offline as py\n",
    "py.init_notebook_mode(connected=True)\n",
    "import plotly.graph_objs as go\n",
    "from ipywidgets import interact, interactive\n",
    "from ipywidgets import widgets"
   ]
  },
  {
   "cell_type": "code",
   "execution_count": 7,
   "metadata": {},
   "outputs": [
    {
     "data": {
      "application/vnd.jupyter.widget-view+json": {
       "model_id": "f5951faed50848a388d81d5af08d6f96"
      }
     },
     "metadata": {},
     "output_type": "display_data"
    }
   ],
   "source": [
    "s = a2n_solver('simple.json')\n",
    "def test(p):\n",
    "    print(p)\n",
    "    s.optimize(p)     \n",
    "    display(s.a2n_df_r)\n",
    "    print(\"scale resource: %s \\n scale latency: %s\" %(s.scale_rsrc, s.scale_latency))\n",
    "\n",
    "    s.printCostFunction()\n",
    "    \n",
    "\n",
    "p = widgets.FloatSlider(min=0, max=1, step=0.1, value=.6, continuous_update=False)\n",
    "\n",
    "interactive_plot = interactive(test, p=p)\n",
    "interactive_plot"
   ]
  },
  {
   "cell_type": "code",
   "execution_count": 8,
   "metadata": {},
   "outputs": [
    {
     "data": {
      "application/vnd.plotly.v1+json": {
       "data": [
        {
         "hoverinfo": "text",
         "line": {
          "color": "#888",
          "width": 8
         },
         "mode": "lines",
         "text": [
          [
           "FSSN3",
           "FSSN5"
          ]
         ],
         "type": "scatter",
         "x": [
          1,
          0.30901699437494745
         ],
         "y": [
          0,
          0.9510565162951535
         ]
        },
        {
         "hoverinfo": "text",
         "line": {
          "color": "#888",
          "width": 5
         },
         "mode": "lines",
         "text": [
          [
           "FSSN3",
           "FSSN2"
          ]
         ],
         "type": "scatter",
         "x": [
          1,
          -0.8090169943749473
         ],
         "y": [
          0,
          0.5877852522924732
         ]
        },
        {
         "hoverinfo": "text",
         "line": {
          "color": "#888",
          "width": 4
         },
         "mode": "lines",
         "text": [
          [
           "FSSN3",
           "FSSN1"
          ]
         ],
         "type": "scatter",
         "x": [
          1,
          -0.8090169943749476
         ],
         "y": [
          0,
          -0.587785252292473
         ]
        },
        {
         "hoverinfo": "text",
         "line": {
          "color": "#888",
          "width": 7
         },
         "mode": "lines",
         "text": [
          [
           "FSSN3",
           "FSSN4"
          ]
         ],
         "type": "scatter",
         "x": [
          1,
          0.30901699437494723
         ],
         "y": [
          0,
          -0.9510565162951536
         ]
        },
        {
         "hoverinfo": "text",
         "line": {
          "color": "#888",
          "width": 7
         },
         "mode": "lines",
         "text": [
          [
           "FSSN5",
           "FSSN2"
          ]
         ],
         "type": "scatter",
         "x": [
          0.30901699437494745,
          -0.8090169943749473
         ],
         "y": [
          0.9510565162951535,
          0.5877852522924732
         ]
        },
        {
         "hoverinfo": "text",
         "line": {
          "color": "#888",
          "width": 6
         },
         "mode": "lines",
         "text": [
          [
           "FSSN5",
           "FSSN1"
          ]
         ],
         "type": "scatter",
         "x": [
          0.30901699437494745,
          -0.8090169943749476
         ],
         "y": [
          0.9510565162951535,
          -0.587785252292473
         ]
        },
        {
         "hoverinfo": "text",
         "line": {
          "color": "#888",
          "width": 9
         },
         "mode": "lines",
         "text": [
          [
           "FSSN5",
           "FSSN4"
          ]
         ],
         "type": "scatter",
         "x": [
          0.30901699437494745,
          0.30901699437494723
         ],
         "y": [
          0.9510565162951535,
          -0.9510565162951536
         ]
        },
        {
         "hoverinfo": "text",
         "line": {
          "color": "#888",
          "width": 6
         },
         "mode": "lines",
         "text": [
          [
           "FSSN2",
           "FSSN4"
          ]
         ],
         "type": "scatter",
         "x": [
          -0.8090169943749473,
          0.30901699437494723
         ],
         "y": [
          0.5877852522924732,
          -0.9510565162951536
         ]
        },
        {
         "hoverinfo": "text",
         "line": {
          "color": "#888",
          "width": 3
         },
         "mode": "lines",
         "text": [
          [
           "FSSN2",
           "FSSN1"
          ]
         ],
         "type": "scatter",
         "x": [
          -0.8090169943749473,
          -0.8090169943749476
         ],
         "y": [
          0.5877852522924732,
          -0.587785252292473
         ]
        },
        {
         "hoverinfo": "text",
         "line": {
          "color": "#888",
          "width": 5
         },
         "mode": "lines",
         "text": [
          [
           "FSSN1",
           "FSSN4"
          ]
         ],
         "type": "scatter",
         "x": [
          -0.8090169943749476,
          0.30901699437494723
         ],
         "y": [
          -0.587785252292473,
          -0.9510565162951536
         ]
        },
        {
         "hoverinfo": "text",
         "marker": {
          "color": [
           65,
           65,
           65,
           65,
           65,
           95,
           95,
           95,
           95,
           95,
           85,
           85,
           85,
           85,
           85,
           75,
           75,
           75,
           75,
           75
          ],
          "colorscale": "RdBu",
          "reversescale": true,
          "showscale": true,
          "size": [
           105,
           105,
           105,
           105,
           105,
           15,
           15,
           15,
           15,
           15,
           15,
           15,
           15,
           15,
           15,
           15,
           15,
           15,
           15,
           15
          ]
         },
         "mode": "markers",
         "text": [
          "FSSN5: 512",
          "FSSN4: 512",
          "FSSN3: 512",
          "FSSN2: 512",
          "FSSN1: 1024",
          "APP3FSSN5: 128",
          "APP3FSSN4: 128",
          "APP3FSSN3: 128",
          "APP3FSSN2: 128",
          "APP3FSSN1: 128",
          "APP2FSSN5: 128",
          "APP2FSSN4: 128",
          "APP2FSSN3: 128",
          "APP2FSSN2: 128",
          "APP2FSSN1: 128",
          "APP1FSSN5: 256",
          "APP1FSSN4: 256",
          "APP1FSSN3: 256",
          "APP1FSSN2: 256",
          "APP1FSSN1: 256"
         ],
         "textposition": "bottom",
         "type": "scatter",
         "x": [
          0.30901699437494745,
          0.30901699437494723,
          1,
          -0.8090169943749473,
          -0.8090169943749476,
          0.35901699437494744,
          0.30901699437494723,
          0.95,
          -0.8090169943749473,
          -0.8590169943749476,
          0.25901699437494746,
          0.3590169943749472,
          1,
          -0.8090169943749473,
          -0.8090169943749476,
          0.30901699437494745,
          0.30901699437494723,
          1,
          -0.7590169943749473,
          -0.7590169943749475
         ],
         "y": [
          0.9510565162951535,
          -0.9510565162951536,
          0,
          0.5877852522924732,
          -0.587785252292473,
          0.9510565162951535,
          -1.0010565162951537,
          6.123233995736766e-18,
          0.6377852522924733,
          -0.587785252292473,
          0.9510565162951535,
          -0.9510565162951536,
          -0.05,
          0.5377852522924732,
          -0.537785252292473,
          1.0010565162951535,
          -0.9010565162951536,
          0.05,
          0.5877852522924732,
          -0.587785252292473
         ]
        }
       ],
       "layout": {
        "annotations": [
         {
          "text": 8,
          "x": 0.6545084971874737,
          "xref": "x",
          "y": 0.47552825814757677,
          "yref": "y"
         },
         {
          "text": 5,
          "x": 0.09549150281252633,
          "xref": "x",
          "y": 0.2938926261462366,
          "yref": "y"
         },
         {
          "text": 4,
          "x": 0.09549150281252622,
          "xref": "x",
          "y": -0.2938926261462365,
          "yref": "y"
         },
         {
          "text": 7,
          "x": 0.6545084971874736,
          "xref": "x",
          "y": -0.4755282581475768,
          "yref": "y"
         },
         {
          "text": 7,
          "x": -0.24999999999999994,
          "xref": "x",
          "y": 0.7694208842938134,
          "yref": "y"
         },
         {
          "text": 6,
          "x": -0.25000000000000006,
          "xref": "x",
          "y": 0.18163563200134025,
          "yref": "y"
         },
         {
          "text": 9,
          "x": 0.30901699437494734,
          "xref": "x",
          "y": -5.551115123125783e-17,
          "yref": "y"
         },
         {
          "text": 6,
          "x": -0.25000000000000006,
          "xref": "x",
          "y": -0.1816356320013402,
          "yref": "y"
         },
         {
          "text": 3,
          "x": -0.8090169943749475,
          "xref": "x",
          "y": 1.1102230246251565e-16,
          "yref": "y"
         },
         {
          "text": 5,
          "x": -0.25000000000000017,
          "xref": "x",
          "y": -0.7694208842938133,
          "yref": "y"
         }
        ],
        "hovermode": "closest",
        "margin": {
         "b": 20,
         "l": 5,
         "r": 5,
         "t": 40
        },
        "showlegend": false,
        "title": "<br>App placement graph",
        "titlefont": {
         "size": 16
        },
        "xaxis": {
         "showgrid": false,
         "showticklabels": false,
         "zeroline": false
        },
        "yaxis": {
         "showgrid": false,
         "showticklabels": false,
         "zeroline": false
        }
       }
      },
      "text/html": [
       "<div id=\"976e0fb2-a398-414c-b63f-075a9a3d3336\" style=\"height: 525px; width: 100%;\" class=\"plotly-graph-div\"></div><script type=\"text/javascript\">require([\"plotly\"], function(Plotly) { window.PLOTLYENV=window.PLOTLYENV || {};window.PLOTLYENV.BASE_URL=\"https://plot.ly\";Plotly.newPlot(\"976e0fb2-a398-414c-b63f-075a9a3d3336\", [{\"y\": [0.0, 0.9510565162951535], \"mode\": \"lines\", \"text\": [[\"FSSN3\", \"FSSN5\"]], \"hoverinfo\": \"text\", \"type\": \"scatter\", \"line\": {\"width\": 8, \"color\": \"#888\"}, \"x\": [1.0, 0.30901699437494745]}, {\"y\": [0.0, 0.5877852522924732], \"mode\": \"lines\", \"text\": [[\"FSSN3\", \"FSSN2\"]], \"hoverinfo\": \"text\", \"type\": \"scatter\", \"line\": {\"width\": 5, \"color\": \"#888\"}, \"x\": [1.0, -0.8090169943749473]}, {\"y\": [0.0, -0.587785252292473], \"mode\": \"lines\", \"text\": [[\"FSSN3\", \"FSSN1\"]], \"hoverinfo\": \"text\", \"type\": \"scatter\", \"line\": {\"width\": 4, \"color\": \"#888\"}, \"x\": [1.0, -0.8090169943749476]}, {\"y\": [0.0, -0.9510565162951536], \"mode\": \"lines\", \"text\": [[\"FSSN3\", \"FSSN4\"]], \"hoverinfo\": \"text\", \"type\": \"scatter\", \"line\": {\"width\": 7, \"color\": \"#888\"}, \"x\": [1.0, 0.30901699437494723]}, {\"y\": [0.9510565162951535, 0.5877852522924732], \"mode\": \"lines\", \"text\": [[\"FSSN5\", \"FSSN2\"]], \"hoverinfo\": \"text\", \"type\": \"scatter\", \"line\": {\"width\": 7, \"color\": \"#888\"}, \"x\": [0.30901699437494745, -0.8090169943749473]}, {\"y\": [0.9510565162951535, -0.587785252292473], \"mode\": \"lines\", \"text\": [[\"FSSN5\", \"FSSN1\"]], \"hoverinfo\": \"text\", \"type\": \"scatter\", \"line\": {\"width\": 6, \"color\": \"#888\"}, \"x\": [0.30901699437494745, -0.8090169943749476]}, {\"y\": [0.9510565162951535, -0.9510565162951536], \"mode\": \"lines\", \"text\": [[\"FSSN5\", \"FSSN4\"]], \"hoverinfo\": \"text\", \"type\": \"scatter\", \"line\": {\"width\": 9, \"color\": \"#888\"}, \"x\": [0.30901699437494745, 0.30901699437494723]}, {\"y\": [0.5877852522924732, -0.9510565162951536], \"mode\": \"lines\", \"text\": [[\"FSSN2\", \"FSSN4\"]], \"hoverinfo\": \"text\", \"type\": \"scatter\", \"line\": {\"width\": 6, \"color\": \"#888\"}, \"x\": [-0.8090169943749473, 0.30901699437494723]}, {\"y\": [0.5877852522924732, -0.587785252292473], \"mode\": \"lines\", \"text\": [[\"FSSN2\", \"FSSN1\"]], \"hoverinfo\": \"text\", \"type\": \"scatter\", \"line\": {\"width\": 3, \"color\": \"#888\"}, \"x\": [-0.8090169943749473, -0.8090169943749476]}, {\"y\": [-0.587785252292473, -0.9510565162951536], \"mode\": \"lines\", \"text\": [[\"FSSN1\", \"FSSN4\"]], \"hoverinfo\": \"text\", \"type\": \"scatter\", \"line\": {\"width\": 5, \"color\": \"#888\"}, \"x\": [-0.8090169943749476, 0.30901699437494723]}, {\"textposition\": \"bottom\", \"y\": [0.9510565162951535, -0.9510565162951536, 0.0, 0.5877852522924732, -0.587785252292473, 0.9510565162951535, -1.0010565162951537, 6.123233995736766e-18, 0.6377852522924733, -0.587785252292473, 0.9510565162951535, -0.9510565162951536, -0.05, 0.5377852522924732, -0.537785252292473, 1.0010565162951535, -0.9010565162951536, 0.05, 0.5877852522924732, -0.587785252292473], \"marker\": {\"colorscale\": \"RdBu\", \"reversescale\": true, \"showscale\": true, \"size\": [105, 105, 105, 105, 105, 15, 15, 15, 15, 15, 15, 15, 15, 15, 15, 15, 15, 15, 15, 15], \"color\": [65, 65, 65, 65, 65, 95, 95, 95, 95, 95, 85, 85, 85, 85, 85, 75, 75, 75, 75, 75]}, \"mode\": \"markers\", \"text\": [\"FSSN5: 512\", \"FSSN4: 512\", \"FSSN3: 512\", \"FSSN2: 512\", \"FSSN1: 1024\", \"APP3FSSN5: 128\", \"APP3FSSN4: 128\", \"APP3FSSN3: 128\", \"APP3FSSN2: 128\", \"APP3FSSN1: 128\", \"APP2FSSN5: 128\", \"APP2FSSN4: 128\", \"APP2FSSN3: 128\", \"APP2FSSN2: 128\", \"APP2FSSN1: 128\", \"APP1FSSN5: 256\", \"APP1FSSN4: 256\", \"APP1FSSN3: 256\", \"APP1FSSN2: 256\", \"APP1FSSN1: 256\"], \"hoverinfo\": \"text\", \"type\": \"scatter\", \"x\": [0.30901699437494745, 0.30901699437494723, 1.0, -0.8090169943749473, -0.8090169943749476, 0.35901699437494744, 0.30901699437494723, 0.95, -0.8090169943749473, -0.8590169943749476, 0.25901699437494746, 0.3590169943749472, 1.0, -0.8090169943749473, -0.8090169943749476, 0.30901699437494745, 0.30901699437494723, 1.0, -0.7590169943749473, -0.7590169943749475]}], {\"showlegend\": false, \"margin\": {\"l\": 5, \"t\": 40, \"r\": 5, \"b\": 20}, \"titlefont\": {\"size\": 16}, \"hovermode\": \"closest\", \"title\": \"<br>App placement graph\", \"annotations\": [{\"y\": 0.47552825814757677, \"yref\": \"y\", \"x\": 0.6545084971874737, \"text\": 8, \"xref\": \"x\"}, {\"y\": 0.2938926261462366, \"yref\": \"y\", \"x\": 0.09549150281252633, \"text\": 5, \"xref\": \"x\"}, {\"y\": -0.2938926261462365, \"yref\": \"y\", \"x\": 0.09549150281252622, \"text\": 4, \"xref\": \"x\"}, {\"y\": -0.4755282581475768, \"yref\": \"y\", \"x\": 0.6545084971874736, \"text\": 7, \"xref\": \"x\"}, {\"y\": 0.7694208842938134, \"yref\": \"y\", \"x\": -0.24999999999999994, \"text\": 7, \"xref\": \"x\"}, {\"y\": 0.18163563200134025, \"yref\": \"y\", \"x\": -0.25000000000000006, \"text\": 6, \"xref\": \"x\"}, {\"y\": -5.551115123125783e-17, \"yref\": \"y\", \"x\": 0.30901699437494734, \"text\": 9, \"xref\": \"x\"}, {\"y\": -0.1816356320013402, \"yref\": \"y\", \"x\": -0.25000000000000006, \"text\": 6, \"xref\": \"x\"}, {\"y\": 1.1102230246251565e-16, \"yref\": \"y\", \"x\": -0.8090169943749475, \"text\": 3, \"xref\": \"x\"}, {\"y\": -0.7694208842938133, \"yref\": \"y\", \"x\": -0.25000000000000017, \"text\": 5, \"xref\": \"x\"}], \"xaxis\": {\"showticklabels\": false, \"zeroline\": false, \"showgrid\": false}, \"yaxis\": {\"showticklabels\": false, \"zeroline\": false, \"showgrid\": false}}, {\"linkText\": \"Export to plot.ly\", \"showLink\": true})});</script>"
      ],
      "text/vnd.plotly.v1+html": [
       "<div id=\"976e0fb2-a398-414c-b63f-075a9a3d3336\" style=\"height: 525px; width: 100%;\" class=\"plotly-graph-div\"></div><script type=\"text/javascript\">require([\"plotly\"], function(Plotly) { window.PLOTLYENV=window.PLOTLYENV || {};window.PLOTLYENV.BASE_URL=\"https://plot.ly\";Plotly.newPlot(\"976e0fb2-a398-414c-b63f-075a9a3d3336\", [{\"y\": [0.0, 0.9510565162951535], \"mode\": \"lines\", \"text\": [[\"FSSN3\", \"FSSN5\"]], \"hoverinfo\": \"text\", \"type\": \"scatter\", \"line\": {\"width\": 8, \"color\": \"#888\"}, \"x\": [1.0, 0.30901699437494745]}, {\"y\": [0.0, 0.5877852522924732], \"mode\": \"lines\", \"text\": [[\"FSSN3\", \"FSSN2\"]], \"hoverinfo\": \"text\", \"type\": \"scatter\", \"line\": {\"width\": 5, \"color\": \"#888\"}, \"x\": [1.0, -0.8090169943749473]}, {\"y\": [0.0, -0.587785252292473], \"mode\": \"lines\", \"text\": [[\"FSSN3\", \"FSSN1\"]], \"hoverinfo\": \"text\", \"type\": \"scatter\", \"line\": {\"width\": 4, \"color\": \"#888\"}, \"x\": [1.0, -0.8090169943749476]}, {\"y\": [0.0, -0.9510565162951536], \"mode\": \"lines\", \"text\": [[\"FSSN3\", \"FSSN4\"]], \"hoverinfo\": \"text\", \"type\": \"scatter\", \"line\": {\"width\": 7, \"color\": \"#888\"}, \"x\": [1.0, 0.30901699437494723]}, {\"y\": [0.9510565162951535, 0.5877852522924732], \"mode\": \"lines\", \"text\": [[\"FSSN5\", \"FSSN2\"]], \"hoverinfo\": \"text\", \"type\": \"scatter\", \"line\": {\"width\": 7, \"color\": \"#888\"}, \"x\": [0.30901699437494745, -0.8090169943749473]}, {\"y\": [0.9510565162951535, -0.587785252292473], \"mode\": \"lines\", \"text\": [[\"FSSN5\", \"FSSN1\"]], \"hoverinfo\": \"text\", \"type\": \"scatter\", \"line\": {\"width\": 6, \"color\": \"#888\"}, \"x\": [0.30901699437494745, -0.8090169943749476]}, {\"y\": [0.9510565162951535, -0.9510565162951536], \"mode\": \"lines\", \"text\": [[\"FSSN5\", \"FSSN4\"]], \"hoverinfo\": \"text\", \"type\": \"scatter\", \"line\": {\"width\": 9, \"color\": \"#888\"}, \"x\": [0.30901699437494745, 0.30901699437494723]}, {\"y\": [0.5877852522924732, -0.9510565162951536], \"mode\": \"lines\", \"text\": [[\"FSSN2\", \"FSSN4\"]], \"hoverinfo\": \"text\", \"type\": \"scatter\", \"line\": {\"width\": 6, \"color\": \"#888\"}, \"x\": [-0.8090169943749473, 0.30901699437494723]}, {\"y\": [0.5877852522924732, -0.587785252292473], \"mode\": \"lines\", \"text\": [[\"FSSN2\", \"FSSN1\"]], \"hoverinfo\": \"text\", \"type\": \"scatter\", \"line\": {\"width\": 3, \"color\": \"#888\"}, \"x\": [-0.8090169943749473, -0.8090169943749476]}, {\"y\": [-0.587785252292473, -0.9510565162951536], \"mode\": \"lines\", \"text\": [[\"FSSN1\", \"FSSN4\"]], \"hoverinfo\": \"text\", \"type\": \"scatter\", \"line\": {\"width\": 5, \"color\": \"#888\"}, \"x\": [-0.8090169943749476, 0.30901699437494723]}, {\"textposition\": \"bottom\", \"y\": [0.9510565162951535, -0.9510565162951536, 0.0, 0.5877852522924732, -0.587785252292473, 0.9510565162951535, -1.0010565162951537, 6.123233995736766e-18, 0.6377852522924733, -0.587785252292473, 0.9510565162951535, -0.9510565162951536, -0.05, 0.5377852522924732, -0.537785252292473, 1.0010565162951535, -0.9010565162951536, 0.05, 0.5877852522924732, -0.587785252292473], \"marker\": {\"colorscale\": \"RdBu\", \"reversescale\": true, \"showscale\": true, \"size\": [105, 105, 105, 105, 105, 15, 15, 15, 15, 15, 15, 15, 15, 15, 15, 15, 15, 15, 15, 15], \"color\": [65, 65, 65, 65, 65, 95, 95, 95, 95, 95, 85, 85, 85, 85, 85, 75, 75, 75, 75, 75]}, \"mode\": \"markers\", \"text\": [\"FSSN5: 512\", \"FSSN4: 512\", \"FSSN3: 512\", \"FSSN2: 512\", \"FSSN1: 1024\", \"APP3FSSN5: 128\", \"APP3FSSN4: 128\", \"APP3FSSN3: 128\", \"APP3FSSN2: 128\", \"APP3FSSN1: 128\", \"APP2FSSN5: 128\", \"APP2FSSN4: 128\", \"APP2FSSN3: 128\", \"APP2FSSN2: 128\", \"APP2FSSN1: 128\", \"APP1FSSN5: 256\", \"APP1FSSN4: 256\", \"APP1FSSN3: 256\", \"APP1FSSN2: 256\", \"APP1FSSN1: 256\"], \"hoverinfo\": \"text\", \"type\": \"scatter\", \"x\": [0.30901699437494745, 0.30901699437494723, 1.0, -0.8090169943749473, -0.8090169943749476, 0.35901699437494744, 0.30901699437494723, 0.95, -0.8090169943749473, -0.8590169943749476, 0.25901699437494746, 0.3590169943749472, 1.0, -0.8090169943749473, -0.8090169943749476, 0.30901699437494745, 0.30901699437494723, 1.0, -0.7590169943749473, -0.7590169943749475]}], {\"showlegend\": false, \"margin\": {\"l\": 5, \"t\": 40, \"r\": 5, \"b\": 20}, \"titlefont\": {\"size\": 16}, \"hovermode\": \"closest\", \"title\": \"<br>App placement graph\", \"annotations\": [{\"y\": 0.47552825814757677, \"yref\": \"y\", \"x\": 0.6545084971874737, \"text\": 8, \"xref\": \"x\"}, {\"y\": 0.2938926261462366, \"yref\": \"y\", \"x\": 0.09549150281252633, \"text\": 5, \"xref\": \"x\"}, {\"y\": -0.2938926261462365, \"yref\": \"y\", \"x\": 0.09549150281252622, \"text\": 4, \"xref\": \"x\"}, {\"y\": -0.4755282581475768, \"yref\": \"y\", \"x\": 0.6545084971874736, \"text\": 7, \"xref\": \"x\"}, {\"y\": 0.7694208842938134, \"yref\": \"y\", \"x\": -0.24999999999999994, \"text\": 7, \"xref\": \"x\"}, {\"y\": 0.18163563200134025, \"yref\": \"y\", \"x\": -0.25000000000000006, \"text\": 6, \"xref\": \"x\"}, {\"y\": -5.551115123125783e-17, \"yref\": \"y\", \"x\": 0.30901699437494734, \"text\": 9, \"xref\": \"x\"}, {\"y\": -0.1816356320013402, \"yref\": \"y\", \"x\": -0.25000000000000006, \"text\": 6, \"xref\": \"x\"}, {\"y\": 1.1102230246251565e-16, \"yref\": \"y\", \"x\": -0.8090169943749475, \"text\": 3, \"xref\": \"x\"}, {\"y\": -0.7694208842938133, \"yref\": \"y\", \"x\": -0.25000000000000017, \"text\": 5, \"xref\": \"x\"}], \"xaxis\": {\"showticklabels\": false, \"zeroline\": false, \"showgrid\": false}, \"yaxis\": {\"showticklabels\": false, \"zeroline\": false, \"showgrid\": false}}, {\"linkText\": \"Export to plot.ly\", \"showLink\": true})});</script>"
      ]
     },
     "metadata": {},
     "output_type": "display_data"
    }
   ],
   "source": [
    "class visualizeGraph():\n",
    "    def __init__(self, s):\n",
    "        self.G = nx.Graph()\n",
    "        self.G1 = self.placeStations(self.G)\n",
    "        self.edge_annotations = self.annotateEdges(self.G1)\n",
    "        self.G2 = self.placeApps(self.G1)\n",
    "        self.node_trace = self.nodeTrace(self.G2)\n",
    "        self.edge_traces = self.edgeTraces(self.G1)\n",
    "        \n",
    "    def placeStations(self, G):    \n",
    "        for node1 in s.a2n_df_r.keys():\n",
    "            #print(\"node1 is %s\" %node1)\n",
    "            G.add_node(node1, attr_dict=dict(s.rpn_df.loc[:, node1]))\n",
    "            #print(\"G.nodes: %s\" %G.nodes())\n",
    "            id1 = s.data[node1]['id']\n",
    "            for node2 in s.nodeList:\n",
    "                id2 = s.data[node2]['id']\n",
    "                if id1 != id2:            \n",
    "                    G.add_edge(node1, node2, latency=s.n2n_df.loc[node1,node2])  \n",
    "        #circular_layout(G, dim=2, scale=1, center=None)\n",
    "        pos = nx.circular_layout(G)\n",
    "        #https://networkx.github.io/documentation/networkx-1.10/reference/generated/networkx.classes.function.set_node_attributes.html\n",
    "        nx.set_node_attributes(G, 'pos', pos)\n",
    "        nx.set_node_attributes(G, 'color', 65)\n",
    "        #self.G1 = G\n",
    "        return G\n",
    "    \n",
    "    def annotateEdges(self, G):    \n",
    "        # The normal edge annotations are on one of the edge endpoints\n",
    "        # This is to place an annotation on the middle of the each edge\n",
    "        edge_annotations = go.Annotations()\n",
    "        for edge in G.edges():\n",
    "            x0, y0 = G.node[edge[0]]['pos']\n",
    "            x1, y1 = G.node[edge[1]]['pos']\n",
    "            mx, my = [(x1+x0)*.5,(y1+y0)*.5]\n",
    "            edge_annotations.append(go.Annotation(\n",
    "                x = mx,\n",
    "                y = my, \n",
    "                xref='x',\n",
    "                yref='y',\n",
    "                text = s.n2n_df.loc[edge]))\n",
    "            #print(\"edge: %s lat: %s\" %(edge, n2n_df.loc[edge]))\n",
    "            #print(\"mx: %s, my: %s\" %(mx, my))\n",
    "            #print(\"mx: %s, my: %s\" %(mx, my))  \n",
    "        #self.edge_annotations = edge_annotations\n",
    "        return(edge_annotations)\n",
    "    \n",
    "    def placeApps(self, G):\n",
    "        appColor = {}\n",
    "        for node in s.nodeList:\n",
    "            #print(\"\\n before app Graph Edges:\")\n",
    "            #pprint.pprint(G.edges())\n",
    "            appG = nx.Graph()\n",
    "            numApps = 1 #used to increment color when there is a new app\n",
    "\n",
    "            for app in s.appList:\n",
    "                #---- Check type of a2n matrix entries. If they are a z3 type convert to an int.----\n",
    "                if type(s.a2n_df_r.loc[app, node]) ==z3.RatNumRef:\n",
    "                    val = (s.a2n_df_r.loc[app, node]).as_fraction()\n",
    "                else:\n",
    "                    val = s.a2n_df_r.loc[app, node]\n",
    "                #---COLOR APPS UNIQUELY---\n",
    "                if val == 1:\n",
    "                    if app in appColor:\n",
    "                        color = appColor[app]\n",
    "                    else:\n",
    "                        color = 65+10*numApps\n",
    "                        appColor[app] = color\n",
    "                    #---Add appnodes their edges to the station node---\n",
    "                    appG.add_node(app+node, attr_dict=dict(s.rpa_df.loc[:, app]), color=color)\n",
    "                    appG.add_edge(node, app+node) #adding the edge also adds the node\n",
    "                numApps += 1\n",
    "            #---Place apps---            \n",
    "            app_pos = nx.circular_layout(appG, scale=.05, center=G.node[node]['pos'])\n",
    "            nx.set_node_attributes(appG, 'pos', app_pos)\n",
    "            #---combine app graph with station graph            \n",
    "            G = nx.compose(appG, G) # Attributes from H take precedent over attributes from G.             \n",
    "            #print(\"\\n node %s\" %node)\n",
    "            #pprint.pprint(G.nodes(data=True), width=120)\n",
    "        #self.G2 = G\n",
    "        return G    \n",
    "    \n",
    "    def nodeTrace(self, G):\n",
    "        node_trace = go.Scatter(\n",
    "                x=[],\n",
    "                y=[],\n",
    "                text=[],\n",
    "                mode='markers',\n",
    "                hoverinfo='text',\n",
    "                textposition='bottom',\n",
    "                marker=go.Marker(\n",
    "                    showscale=True,\n",
    "                    # colorscale options\n",
    "                    # 'Greys' | 'Greens' | 'Bluered' | 'Hot' | 'Picnic' | 'Portland' |\n",
    "                    # Jet' | 'RdBu' | 'Blackbody' | 'Earth' | 'Electric' | 'YIOrRd' | 'YIGnBu'\n",
    "                    colorscale='RdBu',\n",
    "                    reversescale=True,\n",
    "                    color=[],\n",
    "                    size=[],\n",
    "                    #colorbar=dict(\n",
    "                    #    thickness=15,\n",
    "                    #    title='Node Connections',\n",
    "                    #    xanchor='left',\n",
    "                    #    titleside='right'\n",
    "                    #),\n",
    "                    #line={'width':10}\n",
    "                )\n",
    "            )\n",
    "\n",
    "        #thickness = 1\n",
    "        for node in reversed(sorted(G.nodes())):\n",
    "            #print(node)\n",
    "            #print(G.node[node]['pos'])\n",
    "            x, y = G.node[node]['pos']\n",
    "            node_trace['x'].append(x)\n",
    "            node_trace['y'].append(y)\n",
    "            degree = nx.degree(G, node)\n",
    "            node_info = node + \": \" + str(G.node[node]['memory'])\n",
    "            node_trace['text'].append(node_info)\n",
    "            node_trace['marker']['size'].append(15*degree)\n",
    "            node_trace['marker']['color'].append(G.node[node]['color'])\n",
    "            #node_trace['marker']['line'].append(thickness)\n",
    "            #thickness = thickness + 1\n",
    "        #self.node_trace = node_trace\n",
    "        return node_trace  \n",
    "    \n",
    "    def edgeTrace(self, width):\n",
    "        edge_trace = go.Scatter(\n",
    "            x=[],\n",
    "            y=[],\n",
    "            line=go.Line(width=width,color='#888'),\n",
    "            hoverinfo='text',\n",
    "            mode='lines',\n",
    "            text=[],\n",
    "            #textposition='middleright'\n",
    "            )\n",
    "        return edge_trace  \n",
    "    \n",
    "    def edgeTraces(self, G):\n",
    "        edge_traces = []\n",
    "        #---Build edge traces to put in figure.--- \n",
    "        for edge in G.edges():\n",
    "            #print(edge)\n",
    "            if edge[0] in s.n2n_df and edge[1] in s.n2n_df:\n",
    "                #print(\"%s in n2n\" %str(edge))\n",
    "                latency = s.n2n_df.loc[edge]\n",
    "                edge_trace = self.edgeTrace(latency)\n",
    "            else:\n",
    "                edge_trace = edgeTrace(0)                \n",
    "\n",
    "            x0, y0 = G.node[edge[0]]['pos']\n",
    "            x1, y1 = G.node[edge[1]]['pos']\n",
    "            edge_info = edge\n",
    "            edge_trace['text'].append(edge_info)\n",
    "            edge_trace['x'] += [x0, x1]\n",
    "            edge_trace['y'] += [y0, y1]\n",
    "            edge_traces.append(edge_trace)\n",
    "        #self.edge_traces = edge_traces\n",
    "        return edge_traces    \n",
    "\n",
    "    def plot(self):\n",
    "        \n",
    "        self.edge_annotations = self.annotateEdges(self.G1)\n",
    "        self.G2 = self.placeApps(self.G1)\n",
    "        self.node_trace = self.nodeTrace(self.G2)\n",
    "        self.edge_traces = self.edgeTraces(self.G1)\n",
    "        \n",
    "        traces = self.edge_traces.copy() # For some reason this needs to be an explicit copy. Otherwise when I do traces.append it appends to self.edge_traces\n",
    "        traces.append(self.node_trace) \n",
    "        #pprint.pprint(traces)\n",
    "        \n",
    "        fig = go.Figure(data=go.Data(traces),\n",
    "                     layout=go.Layout(\n",
    "                         title='<br>App placement graph',\n",
    "                         titlefont=dict(size=16),\n",
    "                         showlegend=False,\n",
    "                         hovermode='closest',\n",
    "                         margin=dict(b=20,l=5,r=5,t=40),\n",
    "                         #annotations=[ dict(\n",
    "                         #    text=\"Python code: <a href='https://plot.ly/ipython-notebooks/network-graphs/'> https://plot.ly/ipython-notebooks/network-graphs/</a>\",\n",
    "                         #    showarrow=False,\n",
    "                         #    xref=\"paper\", yref=\"paper\",\n",
    "                         #    x=0.005, y=-0.002 ) ],\n",
    "                         annotations=self.edge_annotations,\n",
    "                         xaxis=go.XAxis(showgrid=False, zeroline=False, showticklabels=False),\n",
    "                         yaxis=go.YAxis(showgrid=False, zeroline=False, showticklabels=False),\n",
    "                         #sliders = sliders\n",
    "                     ))\n",
    "        py.iplot(fig, filename='networkx')    \n",
    "   \n",
    "        \n",
    "vg = visualizeGraph(s)  \n",
    "#vg.G1.nodes(data=True)\n",
    "#display(vg.G1.edges(data=True))\n",
    "#vg.edgeAnnotations\n",
    "#vg.G2.nodes(data=True)\n",
    "#vg.node_trace\n",
    "#vg.edge_traces\n",
    "\n",
    "vg.plot()"
   ]
  },
  {
   "cell_type": "code",
   "execution_count": 9,
   "metadata": {},
   "outputs": [
    {
     "data": {
      "text/html": [
       "<div>\n",
       "<style>\n",
       "    .dataframe thead tr:only-child th {\n",
       "        text-align: right;\n",
       "    }\n",
       "\n",
       "    .dataframe thead th {\n",
       "        text-align: left;\n",
       "    }\n",
       "\n",
       "    .dataframe tbody tr th {\n",
       "        vertical-align: top;\n",
       "    }\n",
       "</style>\n",
       "<table border=\"1\" class=\"dataframe\">\n",
       "  <thead>\n",
       "    <tr style=\"text-align: right;\">\n",
       "      <th></th>\n",
       "      <th>FSSN1</th>\n",
       "      <th>FSSN2</th>\n",
       "      <th>FSSN3</th>\n",
       "      <th>FSSN4</th>\n",
       "      <th>FSSN5</th>\n",
       "    </tr>\n",
       "  </thead>\n",
       "  <tbody>\n",
       "    <tr>\n",
       "      <th>APP1</th>\n",
       "      <td>1</td>\n",
       "      <td>1</td>\n",
       "      <td>1</td>\n",
       "      <td>1</td>\n",
       "      <td>1</td>\n",
       "    </tr>\n",
       "    <tr>\n",
       "      <th>APP2</th>\n",
       "      <td>1</td>\n",
       "      <td>1</td>\n",
       "      <td>1</td>\n",
       "      <td>1</td>\n",
       "      <td>1</td>\n",
       "    </tr>\n",
       "    <tr>\n",
       "      <th>APP3</th>\n",
       "      <td>1</td>\n",
       "      <td>1</td>\n",
       "      <td>1</td>\n",
       "      <td>1</td>\n",
       "      <td>1</td>\n",
       "    </tr>\n",
       "  </tbody>\n",
       "</table>\n",
       "</div>"
      ],
      "text/plain": [
       "     FSSN1 FSSN2 FSSN3 FSSN4 FSSN5\n",
       "APP1     1     1     1     1     1\n",
       "APP2     1     1     1     1     1\n",
       "APP3     1     1     1     1     1"
      ]
     },
     "metadata": {},
     "output_type": "display_data"
    },
    {
     "data": {
      "text/html": [
       "<div>\n",
       "<style>\n",
       "    .dataframe thead tr:only-child th {\n",
       "        text-align: right;\n",
       "    }\n",
       "\n",
       "    .dataframe thead th {\n",
       "        text-align: left;\n",
       "    }\n",
       "\n",
       "    .dataframe tbody tr th {\n",
       "        vertical-align: top;\n",
       "    }\n",
       "</style>\n",
       "<table border=\"1\" class=\"dataframe\">\n",
       "  <thead>\n",
       "    <tr style=\"text-align: right;\">\n",
       "      <th></th>\n",
       "      <th>FSSN1</th>\n",
       "      <th>FSSN2</th>\n",
       "      <th>FSSN3</th>\n",
       "      <th>FSSN4</th>\n",
       "      <th>FSSN5</th>\n",
       "    </tr>\n",
       "  </thead>\n",
       "  <tbody>\n",
       "    <tr>\n",
       "      <th>FSSN1</th>\n",
       "      <td>0</td>\n",
       "      <td>3</td>\n",
       "      <td>4</td>\n",
       "      <td>5</td>\n",
       "      <td>6</td>\n",
       "    </tr>\n",
       "    <tr>\n",
       "      <th>FSSN2</th>\n",
       "      <td>3</td>\n",
       "      <td>0</td>\n",
       "      <td>5</td>\n",
       "      <td>6</td>\n",
       "      <td>7</td>\n",
       "    </tr>\n",
       "    <tr>\n",
       "      <th>FSSN3</th>\n",
       "      <td>4</td>\n",
       "      <td>5</td>\n",
       "      <td>0</td>\n",
       "      <td>7</td>\n",
       "      <td>8</td>\n",
       "    </tr>\n",
       "    <tr>\n",
       "      <th>FSSN4</th>\n",
       "      <td>5</td>\n",
       "      <td>6</td>\n",
       "      <td>7</td>\n",
       "      <td>0</td>\n",
       "      <td>9</td>\n",
       "    </tr>\n",
       "    <tr>\n",
       "      <th>FSSN5</th>\n",
       "      <td>6</td>\n",
       "      <td>7</td>\n",
       "      <td>8</td>\n",
       "      <td>9</td>\n",
       "      <td>0</td>\n",
       "    </tr>\n",
       "  </tbody>\n",
       "</table>\n",
       "</div>"
      ],
      "text/plain": [
       "       FSSN1  FSSN2  FSSN3  FSSN4  FSSN5\n",
       "FSSN1      0      3      4      5      6\n",
       "FSSN2      3      0      5      6      7\n",
       "FSSN3      4      5      0      7      8\n",
       "FSSN4      5      6      7      0      9\n",
       "FSSN5      6      7      8      9      0"
      ]
     },
     "metadata": {},
     "output_type": "display_data"
    },
    {
     "data": {
      "text/plain": [
       "0.6"
      ]
     },
     "metadata": {},
     "output_type": "display_data"
    }
   ],
   "source": [
    "display(s.a2n_df_r)\n",
    "display(s.n2n_df)\n",
    "display(s.p)"
   ]
  },
  {
   "cell_type": "code",
   "execution_count": 10,
   "metadata": {},
   "outputs": [
    {
     "name": "stdout",
     "output_type": "stream",
     "text": [
      "rsrc cost: 2048 latency cost:14\n",
      "p*latency*scale_latency + (1-p)*resource*scale_rsrc\n"
     ]
    },
    {
     "data": {
      "text/plain": [
       "3/10*14*1/40 + 7/10*2048*1/2560"
      ]
     },
     "metadata": {},
     "output_type": "display_data"
    },
    {
     "name": "stdout",
     "output_type": "stream",
     "text": [
      "simplify: lat=0.105 + rsrc=0.56\n",
      "Result 0.665\n"
     ]
    },
    {
     "data": {
      "text/html": [
       "<div>\n",
       "<style>\n",
       "    .dataframe thead tr:only-child th {\n",
       "        text-align: right;\n",
       "    }\n",
       "\n",
       "    .dataframe thead th {\n",
       "        text-align: left;\n",
       "    }\n",
       "\n",
       "    .dataframe tbody tr th {\n",
       "        vertical-align: top;\n",
       "    }\n",
       "</style>\n",
       "<table border=\"1\" class=\"dataframe\">\n",
       "  <thead>\n",
       "    <tr style=\"text-align: right;\">\n",
       "      <th></th>\n",
       "      <th>FSSN1</th>\n",
       "      <th>FSSN2</th>\n",
       "      <th>FSSN3</th>\n",
       "      <th>FSSN4</th>\n",
       "      <th>FSSN5</th>\n",
       "    </tr>\n",
       "  </thead>\n",
       "  <tbody>\n",
       "    <tr>\n",
       "      <th>FSSN1</th>\n",
       "      <td>0</td>\n",
       "      <td>3</td>\n",
       "      <td>4</td>\n",
       "      <td>5</td>\n",
       "      <td>6</td>\n",
       "    </tr>\n",
       "    <tr>\n",
       "      <th>FSSN2</th>\n",
       "      <td>3</td>\n",
       "      <td>0</td>\n",
       "      <td>5</td>\n",
       "      <td>6</td>\n",
       "      <td>7</td>\n",
       "    </tr>\n",
       "    <tr>\n",
       "      <th>FSSN3</th>\n",
       "      <td>4</td>\n",
       "      <td>5</td>\n",
       "      <td>0</td>\n",
       "      <td>7</td>\n",
       "      <td>8</td>\n",
       "    </tr>\n",
       "    <tr>\n",
       "      <th>FSSN4</th>\n",
       "      <td>5</td>\n",
       "      <td>6</td>\n",
       "      <td>7</td>\n",
       "      <td>0</td>\n",
       "      <td>9</td>\n",
       "    </tr>\n",
       "    <tr>\n",
       "      <th>FSSN5</th>\n",
       "      <td>6</td>\n",
       "      <td>7</td>\n",
       "      <td>8</td>\n",
       "      <td>9</td>\n",
       "      <td>0</td>\n",
       "    </tr>\n",
       "  </tbody>\n",
       "</table>\n",
       "</div>"
      ],
      "text/plain": [
       "       FSSN1  FSSN2  FSSN3  FSSN4  FSSN5\n",
       "FSSN1      0      3      4      5      6\n",
       "FSSN2      3      0      5      6      7\n",
       "FSSN3      4      5      0      7      8\n",
       "FSSN4      5      6      7      0      9\n",
       "FSSN5      6      7      8      9      0"
      ]
     },
     "metadata": {},
     "output_type": "display_data"
    },
    {
     "data": {
      "text/html": [
       "<div>\n",
       "<style>\n",
       "    .dataframe thead tr:only-child th {\n",
       "        text-align: right;\n",
       "    }\n",
       "\n",
       "    .dataframe thead th {\n",
       "        text-align: left;\n",
       "    }\n",
       "\n",
       "    .dataframe tbody tr th {\n",
       "        vertical-align: top;\n",
       "    }\n",
       "</style>\n",
       "<table border=\"1\" class=\"dataframe\">\n",
       "  <thead>\n",
       "    <tr style=\"text-align: right;\">\n",
       "      <th></th>\n",
       "      <th>FSSN1</th>\n",
       "      <th>FSSN2</th>\n",
       "      <th>FSSN3</th>\n",
       "      <th>FSSN4</th>\n",
       "      <th>FSSN5</th>\n",
       "    </tr>\n",
       "  </thead>\n",
       "  <tbody>\n",
       "    <tr>\n",
       "      <th>APP1</th>\n",
       "      <td>1</td>\n",
       "      <td>1</td>\n",
       "      <td>1</td>\n",
       "      <td>1</td>\n",
       "      <td>1</td>\n",
       "    </tr>\n",
       "    <tr>\n",
       "      <th>APP2</th>\n",
       "      <td>1</td>\n",
       "      <td>0</td>\n",
       "      <td>0</td>\n",
       "      <td>1</td>\n",
       "      <td>1</td>\n",
       "    </tr>\n",
       "    <tr>\n",
       "      <th>APP3</th>\n",
       "      <td>1</td>\n",
       "      <td>0</td>\n",
       "      <td>0</td>\n",
       "      <td>1</td>\n",
       "      <td>1</td>\n",
       "    </tr>\n",
       "  </tbody>\n",
       "</table>\n",
       "</div>"
      ],
      "text/plain": [
       "     FSSN1 FSSN2 FSSN3 FSSN4 FSSN5\n",
       "APP1     1     1     1     1     1\n",
       "APP2     1     0     0     1     1\n",
       "APP3     1     0     0     1     1"
      ]
     },
     "metadata": {},
     "output_type": "display_data"
    },
    {
     "data": {
      "application/vnd.plotly.v1+json": {
       "data": [
        {
         "hoverinfo": "text",
         "line": {
          "color": "#888",
          "width": 8
         },
         "mode": "lines",
         "text": [
          [
           "FSSN3",
           "FSSN5"
          ]
         ],
         "type": "scatter",
         "x": [
          1,
          0.30901699437494745
         ],
         "y": [
          0,
          0.9510565162951535
         ]
        },
        {
         "hoverinfo": "text",
         "line": {
          "color": "#888",
          "width": 5
         },
         "mode": "lines",
         "text": [
          [
           "FSSN3",
           "FSSN2"
          ]
         ],
         "type": "scatter",
         "x": [
          1,
          -0.8090169943749473
         ],
         "y": [
          0,
          0.5877852522924732
         ]
        },
        {
         "hoverinfo": "text",
         "line": {
          "color": "#888",
          "width": 4
         },
         "mode": "lines",
         "text": [
          [
           "FSSN3",
           "FSSN1"
          ]
         ],
         "type": "scatter",
         "x": [
          1,
          -0.8090169943749476
         ],
         "y": [
          0,
          -0.587785252292473
         ]
        },
        {
         "hoverinfo": "text",
         "line": {
          "color": "#888",
          "width": 7
         },
         "mode": "lines",
         "text": [
          [
           "FSSN3",
           "FSSN4"
          ]
         ],
         "type": "scatter",
         "x": [
          1,
          0.30901699437494723
         ],
         "y": [
          0,
          -0.9510565162951536
         ]
        },
        {
         "hoverinfo": "text",
         "line": {
          "color": "#888",
          "width": 7
         },
         "mode": "lines",
         "text": [
          [
           "FSSN5",
           "FSSN2"
          ]
         ],
         "type": "scatter",
         "x": [
          0.30901699437494745,
          -0.8090169943749473
         ],
         "y": [
          0.9510565162951535,
          0.5877852522924732
         ]
        },
        {
         "hoverinfo": "text",
         "line": {
          "color": "#888",
          "width": 6
         },
         "mode": "lines",
         "text": [
          [
           "FSSN5",
           "FSSN1"
          ]
         ],
         "type": "scatter",
         "x": [
          0.30901699437494745,
          -0.8090169943749476
         ],
         "y": [
          0.9510565162951535,
          -0.587785252292473
         ]
        },
        {
         "hoverinfo": "text",
         "line": {
          "color": "#888",
          "width": 9
         },
         "mode": "lines",
         "text": [
          [
           "FSSN5",
           "FSSN4"
          ]
         ],
         "type": "scatter",
         "x": [
          0.30901699437494745,
          0.30901699437494723
         ],
         "y": [
          0.9510565162951535,
          -0.9510565162951536
         ]
        },
        {
         "hoverinfo": "text",
         "line": {
          "color": "#888",
          "width": 6
         },
         "mode": "lines",
         "text": [
          [
           "FSSN2",
           "FSSN4"
          ]
         ],
         "type": "scatter",
         "x": [
          -0.8090169943749473,
          0.30901699437494723
         ],
         "y": [
          0.5877852522924732,
          -0.9510565162951536
         ]
        },
        {
         "hoverinfo": "text",
         "line": {
          "color": "#888",
          "width": 3
         },
         "mode": "lines",
         "text": [
          [
           "FSSN2",
           "FSSN1"
          ]
         ],
         "type": "scatter",
         "x": [
          -0.8090169943749473,
          -0.8090169943749476
         ],
         "y": [
          0.5877852522924732,
          -0.587785252292473
         ]
        },
        {
         "hoverinfo": "text",
         "line": {
          "color": "#888",
          "width": 5
         },
         "mode": "lines",
         "text": [
          [
           "FSSN1",
           "FSSN4"
          ]
         ],
         "type": "scatter",
         "x": [
          -0.8090169943749476,
          0.30901699437494723
         ],
         "y": [
          -0.587785252292473,
          -0.9510565162951536
         ]
        },
        {
         "hoverinfo": "text",
         "marker": {
          "color": [
           65,
           65,
           65,
           65,
           65,
           95,
           95,
           95,
           85,
           85,
           85,
           75,
           75,
           75,
           75,
           75
          ],
          "colorscale": "RdBu",
          "reversescale": true,
          "showscale": true,
          "size": [
           105,
           105,
           75,
           75,
           105,
           15,
           15,
           15,
           15,
           15,
           15,
           15,
           15,
           15,
           15,
           15
          ]
         },
         "mode": "markers",
         "text": [
          "FSSN5: 512",
          "FSSN4: 512",
          "FSSN3: 512",
          "FSSN2: 512",
          "FSSN1: 1024",
          "APP3FSSN5: 128",
          "APP3FSSN4: 128",
          "APP3FSSN1: 128",
          "APP2FSSN5: 128",
          "APP2FSSN4: 128",
          "APP2FSSN1: 128",
          "APP1FSSN5: 256",
          "APP1FSSN4: 256",
          "APP1FSSN3: 256",
          "APP1FSSN2: 256",
          "APP1FSSN1: 256"
         ],
         "textposition": "bottom",
         "type": "scatter",
         "x": [
          0.30901699437494745,
          0.30901699437494723,
          1,
          -0.8090169943749473,
          -0.8090169943749476,
          0.35901699437494744,
          0.30901699437494723,
          -0.8590169943749476,
          0.25901699437494746,
          0.3590169943749472,
          -0.8090169943749476,
          0.30901699437494745,
          0.30901699437494723,
          0.95,
          -0.7590169943749473,
          -0.7590169943749475
         ],
         "y": [
          0.9510565162951535,
          -0.9510565162951536,
          0,
          0.5877852522924732,
          -0.587785252292473,
          0.9510565162951535,
          -1.0010565162951537,
          -0.587785252292473,
          0.9510565162951535,
          -0.9510565162951536,
          -0.537785252292473,
          1.0010565162951535,
          -0.9010565162951536,
          6.123233995736766e-18,
          0.5877852522924732,
          -0.587785252292473
         ]
        }
       ],
       "layout": {
        "annotations": [
         {
          "text": 8,
          "x": 0.6545084971874737,
          "xref": "x",
          "y": 0.47552825814757677,
          "yref": "y"
         },
         {
          "text": 5,
          "x": 0.09549150281252633,
          "xref": "x",
          "y": 0.2938926261462366,
          "yref": "y"
         },
         {
          "text": 4,
          "x": 0.09549150281252622,
          "xref": "x",
          "y": -0.2938926261462365,
          "yref": "y"
         },
         {
          "text": 7,
          "x": 0.6545084971874736,
          "xref": "x",
          "y": -0.4755282581475768,
          "yref": "y"
         },
         {
          "text": 7,
          "x": -0.24999999999999994,
          "xref": "x",
          "y": 0.7694208842938134,
          "yref": "y"
         },
         {
          "text": 6,
          "x": -0.25000000000000006,
          "xref": "x",
          "y": 0.18163563200134025,
          "yref": "y"
         },
         {
          "text": 9,
          "x": 0.30901699437494734,
          "xref": "x",
          "y": -5.551115123125783e-17,
          "yref": "y"
         },
         {
          "text": 6,
          "x": -0.25000000000000006,
          "xref": "x",
          "y": -0.1816356320013402,
          "yref": "y"
         },
         {
          "text": 3,
          "x": -0.8090169943749475,
          "xref": "x",
          "y": 1.1102230246251565e-16,
          "yref": "y"
         },
         {
          "text": 5,
          "x": -0.25000000000000017,
          "xref": "x",
          "y": -0.7694208842938133,
          "yref": "y"
         }
        ],
        "hovermode": "closest",
        "margin": {
         "b": 20,
         "l": 5,
         "r": 5,
         "t": 40
        },
        "showlegend": false,
        "title": "<br>App placement graph",
        "titlefont": {
         "size": 16
        },
        "xaxis": {
         "showgrid": false,
         "showticklabels": false,
         "zeroline": false
        },
        "yaxis": {
         "showgrid": false,
         "showticklabels": false,
         "zeroline": false
        }
       }
      },
      "text/html": [
       "<div id=\"7038ec10-3859-449f-993b-136a6f7b0c79\" style=\"height: 525px; width: 100%;\" class=\"plotly-graph-div\"></div><script type=\"text/javascript\">require([\"plotly\"], function(Plotly) { window.PLOTLYENV=window.PLOTLYENV || {};window.PLOTLYENV.BASE_URL=\"https://plot.ly\";Plotly.newPlot(\"7038ec10-3859-449f-993b-136a6f7b0c79\", [{\"y\": [0.0, 0.9510565162951535], \"mode\": \"lines\", \"text\": [[\"FSSN3\", \"FSSN5\"]], \"hoverinfo\": \"text\", \"type\": \"scatter\", \"line\": {\"width\": 8, \"color\": \"#888\"}, \"x\": [1.0, 0.30901699437494745]}, {\"y\": [0.0, 0.5877852522924732], \"mode\": \"lines\", \"text\": [[\"FSSN3\", \"FSSN2\"]], \"hoverinfo\": \"text\", \"type\": \"scatter\", \"line\": {\"width\": 5, \"color\": \"#888\"}, \"x\": [1.0, -0.8090169943749473]}, {\"y\": [0.0, -0.587785252292473], \"mode\": \"lines\", \"text\": [[\"FSSN3\", \"FSSN1\"]], \"hoverinfo\": \"text\", \"type\": \"scatter\", \"line\": {\"width\": 4, \"color\": \"#888\"}, \"x\": [1.0, -0.8090169943749476]}, {\"y\": [0.0, -0.9510565162951536], \"mode\": \"lines\", \"text\": [[\"FSSN3\", \"FSSN4\"]], \"hoverinfo\": \"text\", \"type\": \"scatter\", \"line\": {\"width\": 7, \"color\": \"#888\"}, \"x\": [1.0, 0.30901699437494723]}, {\"y\": [0.9510565162951535, 0.5877852522924732], \"mode\": \"lines\", \"text\": [[\"FSSN5\", \"FSSN2\"]], \"hoverinfo\": \"text\", \"type\": \"scatter\", \"line\": {\"width\": 7, \"color\": \"#888\"}, \"x\": [0.30901699437494745, -0.8090169943749473]}, {\"y\": [0.9510565162951535, -0.587785252292473], \"mode\": \"lines\", \"text\": [[\"FSSN5\", \"FSSN1\"]], \"hoverinfo\": \"text\", \"type\": \"scatter\", \"line\": {\"width\": 6, \"color\": \"#888\"}, \"x\": [0.30901699437494745, -0.8090169943749476]}, {\"y\": [0.9510565162951535, -0.9510565162951536], \"mode\": \"lines\", \"text\": [[\"FSSN5\", \"FSSN4\"]], \"hoverinfo\": \"text\", \"type\": \"scatter\", \"line\": {\"width\": 9, \"color\": \"#888\"}, \"x\": [0.30901699437494745, 0.30901699437494723]}, {\"y\": [0.5877852522924732, -0.9510565162951536], \"mode\": \"lines\", \"text\": [[\"FSSN2\", \"FSSN4\"]], \"hoverinfo\": \"text\", \"type\": \"scatter\", \"line\": {\"width\": 6, \"color\": \"#888\"}, \"x\": [-0.8090169943749473, 0.30901699437494723]}, {\"y\": [0.5877852522924732, -0.587785252292473], \"mode\": \"lines\", \"text\": [[\"FSSN2\", \"FSSN1\"]], \"hoverinfo\": \"text\", \"type\": \"scatter\", \"line\": {\"width\": 3, \"color\": \"#888\"}, \"x\": [-0.8090169943749473, -0.8090169943749476]}, {\"y\": [-0.587785252292473, -0.9510565162951536], \"mode\": \"lines\", \"text\": [[\"FSSN1\", \"FSSN4\"]], \"hoverinfo\": \"text\", \"type\": \"scatter\", \"line\": {\"width\": 5, \"color\": \"#888\"}, \"x\": [-0.8090169943749476, 0.30901699437494723]}, {\"textposition\": \"bottom\", \"y\": [0.9510565162951535, -0.9510565162951536, 0.0, 0.5877852522924732, -0.587785252292473, 0.9510565162951535, -1.0010565162951537, -0.587785252292473, 0.9510565162951535, -0.9510565162951536, -0.537785252292473, 1.0010565162951535, -0.9010565162951536, 6.123233995736766e-18, 0.5877852522924732, -0.587785252292473], \"marker\": {\"colorscale\": \"RdBu\", \"reversescale\": true, \"showscale\": true, \"size\": [105, 105, 75, 75, 105, 15, 15, 15, 15, 15, 15, 15, 15, 15, 15, 15], \"color\": [65, 65, 65, 65, 65, 95, 95, 95, 85, 85, 85, 75, 75, 75, 75, 75]}, \"mode\": \"markers\", \"text\": [\"FSSN5: 512\", \"FSSN4: 512\", \"FSSN3: 512\", \"FSSN2: 512\", \"FSSN1: 1024\", \"APP3FSSN5: 128\", \"APP3FSSN4: 128\", \"APP3FSSN1: 128\", \"APP2FSSN5: 128\", \"APP2FSSN4: 128\", \"APP2FSSN1: 128\", \"APP1FSSN5: 256\", \"APP1FSSN4: 256\", \"APP1FSSN3: 256\", \"APP1FSSN2: 256\", \"APP1FSSN1: 256\"], \"hoverinfo\": \"text\", \"type\": \"scatter\", \"x\": [0.30901699437494745, 0.30901699437494723, 1.0, -0.8090169943749473, -0.8090169943749476, 0.35901699437494744, 0.30901699437494723, -0.8590169943749476, 0.25901699437494746, 0.3590169943749472, -0.8090169943749476, 0.30901699437494745, 0.30901699437494723, 0.95, -0.7590169943749473, -0.7590169943749475]}], {\"showlegend\": false, \"margin\": {\"l\": 5, \"t\": 40, \"r\": 5, \"b\": 20}, \"titlefont\": {\"size\": 16}, \"hovermode\": \"closest\", \"title\": \"<br>App placement graph\", \"annotations\": [{\"y\": 0.47552825814757677, \"yref\": \"y\", \"x\": 0.6545084971874737, \"text\": 8, \"xref\": \"x\"}, {\"y\": 0.2938926261462366, \"yref\": \"y\", \"x\": 0.09549150281252633, \"text\": 5, \"xref\": \"x\"}, {\"y\": -0.2938926261462365, \"yref\": \"y\", \"x\": 0.09549150281252622, \"text\": 4, \"xref\": \"x\"}, {\"y\": -0.4755282581475768, \"yref\": \"y\", \"x\": 0.6545084971874736, \"text\": 7, \"xref\": \"x\"}, {\"y\": 0.7694208842938134, \"yref\": \"y\", \"x\": -0.24999999999999994, \"text\": 7, \"xref\": \"x\"}, {\"y\": 0.18163563200134025, \"yref\": \"y\", \"x\": -0.25000000000000006, \"text\": 6, \"xref\": \"x\"}, {\"y\": -5.551115123125783e-17, \"yref\": \"y\", \"x\": 0.30901699437494734, \"text\": 9, \"xref\": \"x\"}, {\"y\": -0.1816356320013402, \"yref\": \"y\", \"x\": -0.25000000000000006, \"text\": 6, \"xref\": \"x\"}, {\"y\": 1.1102230246251565e-16, \"yref\": \"y\", \"x\": -0.8090169943749475, \"text\": 3, \"xref\": \"x\"}, {\"y\": -0.7694208842938133, \"yref\": \"y\", \"x\": -0.25000000000000017, \"text\": 5, \"xref\": \"x\"}], \"xaxis\": {\"showticklabels\": false, \"zeroline\": false, \"showgrid\": false}, \"yaxis\": {\"showticklabels\": false, \"zeroline\": false, \"showgrid\": false}}, {\"linkText\": \"Export to plot.ly\", \"showLink\": true})});</script>"
      ],
      "text/vnd.plotly.v1+html": [
       "<div id=\"7038ec10-3859-449f-993b-136a6f7b0c79\" style=\"height: 525px; width: 100%;\" class=\"plotly-graph-div\"></div><script type=\"text/javascript\">require([\"plotly\"], function(Plotly) { window.PLOTLYENV=window.PLOTLYENV || {};window.PLOTLYENV.BASE_URL=\"https://plot.ly\";Plotly.newPlot(\"7038ec10-3859-449f-993b-136a6f7b0c79\", [{\"y\": [0.0, 0.9510565162951535], \"mode\": \"lines\", \"text\": [[\"FSSN3\", \"FSSN5\"]], \"hoverinfo\": \"text\", \"type\": \"scatter\", \"line\": {\"width\": 8, \"color\": \"#888\"}, \"x\": [1.0, 0.30901699437494745]}, {\"y\": [0.0, 0.5877852522924732], \"mode\": \"lines\", \"text\": [[\"FSSN3\", \"FSSN2\"]], \"hoverinfo\": \"text\", \"type\": \"scatter\", \"line\": {\"width\": 5, \"color\": \"#888\"}, \"x\": [1.0, -0.8090169943749473]}, {\"y\": [0.0, -0.587785252292473], \"mode\": \"lines\", \"text\": [[\"FSSN3\", \"FSSN1\"]], \"hoverinfo\": \"text\", \"type\": \"scatter\", \"line\": {\"width\": 4, \"color\": \"#888\"}, \"x\": [1.0, -0.8090169943749476]}, {\"y\": [0.0, -0.9510565162951536], \"mode\": \"lines\", \"text\": [[\"FSSN3\", \"FSSN4\"]], \"hoverinfo\": \"text\", \"type\": \"scatter\", \"line\": {\"width\": 7, \"color\": \"#888\"}, \"x\": [1.0, 0.30901699437494723]}, {\"y\": [0.9510565162951535, 0.5877852522924732], \"mode\": \"lines\", \"text\": [[\"FSSN5\", \"FSSN2\"]], \"hoverinfo\": \"text\", \"type\": \"scatter\", \"line\": {\"width\": 7, \"color\": \"#888\"}, \"x\": [0.30901699437494745, -0.8090169943749473]}, {\"y\": [0.9510565162951535, -0.587785252292473], \"mode\": \"lines\", \"text\": [[\"FSSN5\", \"FSSN1\"]], \"hoverinfo\": \"text\", \"type\": \"scatter\", \"line\": {\"width\": 6, \"color\": \"#888\"}, \"x\": [0.30901699437494745, -0.8090169943749476]}, {\"y\": [0.9510565162951535, -0.9510565162951536], \"mode\": \"lines\", \"text\": [[\"FSSN5\", \"FSSN4\"]], \"hoverinfo\": \"text\", \"type\": \"scatter\", \"line\": {\"width\": 9, \"color\": \"#888\"}, \"x\": [0.30901699437494745, 0.30901699437494723]}, {\"y\": [0.5877852522924732, -0.9510565162951536], \"mode\": \"lines\", \"text\": [[\"FSSN2\", \"FSSN4\"]], \"hoverinfo\": \"text\", \"type\": \"scatter\", \"line\": {\"width\": 6, \"color\": \"#888\"}, \"x\": [-0.8090169943749473, 0.30901699437494723]}, {\"y\": [0.5877852522924732, -0.587785252292473], \"mode\": \"lines\", \"text\": [[\"FSSN2\", \"FSSN1\"]], \"hoverinfo\": \"text\", \"type\": \"scatter\", \"line\": {\"width\": 3, \"color\": \"#888\"}, \"x\": [-0.8090169943749473, -0.8090169943749476]}, {\"y\": [-0.587785252292473, -0.9510565162951536], \"mode\": \"lines\", \"text\": [[\"FSSN1\", \"FSSN4\"]], \"hoverinfo\": \"text\", \"type\": \"scatter\", \"line\": {\"width\": 5, \"color\": \"#888\"}, \"x\": [-0.8090169943749476, 0.30901699437494723]}, {\"textposition\": \"bottom\", \"y\": [0.9510565162951535, -0.9510565162951536, 0.0, 0.5877852522924732, -0.587785252292473, 0.9510565162951535, -1.0010565162951537, -0.587785252292473, 0.9510565162951535, -0.9510565162951536, -0.537785252292473, 1.0010565162951535, -0.9010565162951536, 6.123233995736766e-18, 0.5877852522924732, -0.587785252292473], \"marker\": {\"colorscale\": \"RdBu\", \"reversescale\": true, \"showscale\": true, \"size\": [105, 105, 75, 75, 105, 15, 15, 15, 15, 15, 15, 15, 15, 15, 15, 15], \"color\": [65, 65, 65, 65, 65, 95, 95, 95, 85, 85, 85, 75, 75, 75, 75, 75]}, \"mode\": \"markers\", \"text\": [\"FSSN5: 512\", \"FSSN4: 512\", \"FSSN3: 512\", \"FSSN2: 512\", \"FSSN1: 1024\", \"APP3FSSN5: 128\", \"APP3FSSN4: 128\", \"APP3FSSN1: 128\", \"APP2FSSN5: 128\", \"APP2FSSN4: 128\", \"APP2FSSN1: 128\", \"APP1FSSN5: 256\", \"APP1FSSN4: 256\", \"APP1FSSN3: 256\", \"APP1FSSN2: 256\", \"APP1FSSN1: 256\"], \"hoverinfo\": \"text\", \"type\": \"scatter\", \"x\": [0.30901699437494745, 0.30901699437494723, 1.0, -0.8090169943749473, -0.8090169943749476, 0.35901699437494744, 0.30901699437494723, -0.8590169943749476, 0.25901699437494746, 0.3590169943749472, -0.8090169943749476, 0.30901699437494745, 0.30901699437494723, 0.95, -0.7590169943749473, -0.7590169943749475]}], {\"showlegend\": false, \"margin\": {\"l\": 5, \"t\": 40, \"r\": 5, \"b\": 20}, \"titlefont\": {\"size\": 16}, \"hovermode\": \"closest\", \"title\": \"<br>App placement graph\", \"annotations\": [{\"y\": 0.47552825814757677, \"yref\": \"y\", \"x\": 0.6545084971874737, \"text\": 8, \"xref\": \"x\"}, {\"y\": 0.2938926261462366, \"yref\": \"y\", \"x\": 0.09549150281252633, \"text\": 5, \"xref\": \"x\"}, {\"y\": -0.2938926261462365, \"yref\": \"y\", \"x\": 0.09549150281252622, \"text\": 4, \"xref\": \"x\"}, {\"y\": -0.4755282581475768, \"yref\": \"y\", \"x\": 0.6545084971874736, \"text\": 7, \"xref\": \"x\"}, {\"y\": 0.7694208842938134, \"yref\": \"y\", \"x\": -0.24999999999999994, \"text\": 7, \"xref\": \"x\"}, {\"y\": 0.18163563200134025, \"yref\": \"y\", \"x\": -0.25000000000000006, \"text\": 6, \"xref\": \"x\"}, {\"y\": -5.551115123125783e-17, \"yref\": \"y\", \"x\": 0.30901699437494734, \"text\": 9, \"xref\": \"x\"}, {\"y\": -0.1816356320013402, \"yref\": \"y\", \"x\": -0.25000000000000006, \"text\": 6, \"xref\": \"x\"}, {\"y\": 1.1102230246251565e-16, \"yref\": \"y\", \"x\": -0.8090169943749475, \"text\": 3, \"xref\": \"x\"}, {\"y\": -0.7694208842938133, \"yref\": \"y\", \"x\": -0.25000000000000017, \"text\": 5, \"xref\": \"x\"}], \"xaxis\": {\"showticklabels\": false, \"zeroline\": false, \"showgrid\": false}, \"yaxis\": {\"showticklabels\": false, \"zeroline\": false, \"showgrid\": false}}, {\"linkText\": \"Export to plot.ly\", \"showLink\": true})});</script>"
      ]
     },
     "metadata": {},
     "output_type": "display_data"
    }
   ],
   "source": [
    "import numpy as np\n",
    "from IPython.display import clear_output\n",
    "\n",
    "#https://stackoverflow.com/questions/37622023/how-to-sort-key-names-in-ipywidgets-interactive-widgets-slider\n",
    "s = a2n_solver('simple.json')\n",
    "vg = visualizeGraph(s)\n",
    "\n",
    "def myfct(change,list_widgets):\n",
    "    clear_output()\n",
    "    #display(s.a2n_df)\n",
    "    \n",
    "    if (change.owner.description == 'p'):\n",
    "        #print(\"p value: %s\"  %change.new)\n",
    "        s.optimize(change.new)      \n",
    "    else:\n",
    "        edge = json.loads(change.owner.description)\n",
    "        value = change.new\n",
    "        s.updateLatency(edge, value)\n",
    "    s.printCostFunction()\n",
    "       \n",
    "    display(s.n2n_df)\n",
    "    display(s.a2n_df_r)\n",
    "        \n",
    "    vg.plot()\n",
    "    \n",
    "        \n",
    "\n",
    "# -------- SLIDER WIDGETS -----------\n",
    "list_widgets=[]\n",
    "list_widgets.append(widgets.FloatSlider(min=0, max=1, step=0.1, value=s.p, continuous_update=False, description='p'))\n",
    "for edge in sorted(vg.G1.edges()):\n",
    "    #lat = vg.G1.edge[edge[0]][edge[1]]['latency']\n",
    "    lat = s.n2n_df.loc[edge]\n",
    "    list_widgets.append(widgets.IntSlider(min=0, max=s.max_edge_latency, step=1, value=lat, continuous_update=False, description= json.dumps(edge)))\n",
    "\n",
    "for widget in list_widgets:\n",
    "    widget.observe(lambda change:myfct(change,list_widgets),names='value',type='change')\n",
    "     \n",
    "\n",
    "w_left = []\n",
    "w_middle=[]\n",
    "w_right =[]\n",
    "\n",
    "for i, widget in enumerate(list_widgets):\n",
    "    if i%3==0:\n",
    "        w_left.append(widget)\n",
    "    if i%3==1:\n",
    "        w_middle.append(widget)\n",
    "    if i%3==2:\n",
    "        w_right.append(widget)\n",
    "\n",
    "left = widgets.VBox(w_left)\n",
    "middle = widgets.VBox(w_middle)\n",
    "right = widgets.VBox(w_right)\n",
    "        \n",
    "\n",
    "w = widgets.HBox([left, middle, right])\n",
    "\n",
    "\n",
    "# display the widgets\n",
    "display(w)        "
   ]
  },
  {
   "cell_type": "code",
   "execution_count": 11,
   "metadata": {},
   "outputs": [
    {
     "name": "stdout",
     "output_type": "stream",
     "text": [
      "<ipywidgets.widgets.widget_float.FloatSlider object at 0x7f325f70f1d0>\n",
      "p\n",
      "0.9\n"
     ]
    },
    {
     "data": {
      "text/plain": [
       "0.9"
      ]
     },
     "execution_count": 11,
     "metadata": {},
     "output_type": "execute_result"
    }
   ],
   "source": [
    "p = [p for p in list_widgets if p.description=='p']\n",
    "\n",
    "print(p[0])\n",
    "print(p[0].description)\n",
    "print(p[0].value)\n",
    "    \n",
    "w.children[0].children[0].value\n"
   ]
  },
  {
   "cell_type": "code",
   "execution_count": 12,
   "metadata": {},
   "outputs": [
    {
     "ename": "SyntaxError",
     "evalue": "invalid syntax (<ipython-input-12-bae64981ec44>, line 1)",
     "output_type": "error",
     "traceback": [
      "\u001b[0;36m  File \u001b[0;32m\"<ipython-input-12-bae64981ec44>\"\u001b[0;36m, line \u001b[0;32m1\u001b[0m\n\u001b[0;31m    def buttonFunc\u001b[0m\n\u001b[0m                  ^\u001b[0m\n\u001b[0;31mSyntaxError\u001b[0m\u001b[0;31m:\u001b[0m invalid syntax\n"
     ]
    }
   ],
   "source": [
    "def buttonFunc\n",
    "\n",
    "button = widgets.Button(\n",
    "    description='Click me',\n",
    "    disabled=False,\n",
    "    button_style='', # 'success', 'info', 'warning', 'danger' or ''\n",
    "    tooltip='Click me',\n",
    "    icon='check'\n",
    ")\n",
    "\n",
    "widget.observe(lambda change:buttonFunc(change, button),names='value',type='change')\n",
    "\n",
    "display(button)\n",
    "\n"
   ]
  },
  {
   "cell_type": "code",
   "execution_count": null,
   "metadata": {
    "collapsed": true
   },
   "outputs": [],
   "source": [
    "#http://ipnetwork.windstream.net"
   ]
  }
 ],
 "metadata": {
  "kernelspec": {
   "display_name": "Python 3",
   "language": "python",
   "name": "python3"
  },
  "language_info": {
   "codemirror_mode": {
    "name": "ipython",
    "version": 3
   },
   "file_extension": ".py",
   "mimetype": "text/x-python",
   "name": "python",
   "nbconvert_exporter": "python",
   "pygments_lexer": "ipython3",
   "version": "3.5.2"
  }
 },
 "nbformat": 4,
 "nbformat_minor": 2
}
